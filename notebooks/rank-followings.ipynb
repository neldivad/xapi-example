{
 "cells": [
  {
   "cell_type": "code",
   "execution_count": 2,
   "id": "43b161de",
   "metadata": {},
   "outputs": [],
   "source": [
    "import os\n",
    "import requests\n",
    "from dotenv import load_dotenv, find_dotenv\n",
    "import numpy as np\n",
    "import pandas as pd\n",
    "import warnings\n",
    "\n",
    "warnings.filterwarnings('ignore')\n",
    "pd.set_option('display.max_columns', None)\n",
    "pd.set_option('display.max_rows', 10)\n",
    "\n",
    "\n",
    "# Local module\n",
    "from pathlib import Path\n",
    "import sys\n",
    "\n",
    "# assumes notebook is in xapi-ex1/notebooks\n",
    "project_root = Path.cwd().parent  \n",
    "sys.path.append(str(project_root / 'src'))\n",
    "\n",
    "from users import (\n",
    "    get_recent_followings_cached, \n",
    "    get_recent_followers_cached,\n",
    "    load_follow_cache,\n",
    "    save_follow_cache,\n",
    "    search_tweets_advanced,\n",
    "    get_user_tweets, \n",
    "    get_user_tweets_cached,\n",
    "    save_tweet_cache,\n",
    "    load_tweet_cache,\n",
    ")\n",
    "from schema.tweets import (\n",
    "    collapse_dicts, \n",
    "    collapse_dataframe, \n",
    "    TRUNCATED_TWEET_FIELDS\n",
    ")\n",
    "from parse import (\n",
    "    extract_first_username,\n",
    "    classify_by_engagement_quantile,\n",
    ")\n",
    "\n",
    "# Load env\n",
    "load_dotenv(find_dotenv())\n",
    "API_KEY = os.getenv('twitter_apiio_key')\n",
    "if not API_KEY:\n",
    "    raise RuntimeError('twitter_apiio_key not set in environment')"
   ]
  },
  {
   "cell_type": "code",
   "execution_count": 3,
   "id": "b2d034eb",
   "metadata": {},
   "outputs": [],
   "source": [
    "import plotly.express as px\n",
    "import plotly.graph_objects as go"
   ]
  },
  {
   "cell_type": "code",
   "execution_count": 4,
   "id": "ceab7899",
   "metadata": {},
   "outputs": [],
   "source": [
    "# Params\n",
    "USERNAME = 'apralky' \n",
    "FOLLOWING_LIMIT = 200  # multiples of 20-200 recommended\n",
    "FOLLOWERS_LIMIT = 600"
   ]
  },
  {
   "cell_type": "code",
   "execution_count": 5,
   "id": "ab118fef",
   "metadata": {},
   "outputs": [
    {
     "name": "stdout",
     "output_type": "stream",
     "text": [
      "✅ Cache hit: 200 followings\n"
     ]
    }
   ],
   "source": [
    "# Get followings\n",
    "followings = get_recent_followings_cached(USERNAME, limit=FOLLOWING_LIMIT, api_key=API_KEY)"
   ]
  },
  {
   "cell_type": "code",
   "execution_count": 6,
   "id": "3e1403cf",
   "metadata": {},
   "outputs": [
    {
     "name": "stdout",
     "output_type": "stream",
     "text": [
      "Rows: 200\n"
     ]
    },
    {
     "data": {
      "text/html": [
       "<div>\n",
       "<style scoped>\n",
       "    .dataframe tbody tr th:only-of-type {\n",
       "        vertical-align: middle;\n",
       "    }\n",
       "\n",
       "    .dataframe tbody tr th {\n",
       "        vertical-align: top;\n",
       "    }\n",
       "\n",
       "    .dataframe thead th {\n",
       "        text-align: right;\n",
       "    }\n",
       "</style>\n",
       "<table border=\"1\" class=\"dataframe\">\n",
       "  <thead>\n",
       "    <tr style=\"text-align: right;\">\n",
       "      <th></th>\n",
       "      <th>id</th>\n",
       "      <th>name</th>\n",
       "      <th>screen_name</th>\n",
       "      <th>userName</th>\n",
       "      <th>location</th>\n",
       "      <th>url</th>\n",
       "      <th>description</th>\n",
       "      <th>email</th>\n",
       "      <th>protected</th>\n",
       "      <th>verified</th>\n",
       "      <th>followers_count</th>\n",
       "      <th>following_count</th>\n",
       "      <th>friends_count</th>\n",
       "      <th>favourites_count</th>\n",
       "      <th>statuses_count</th>\n",
       "      <th>media_tweets_count</th>\n",
       "      <th>created_at</th>\n",
       "      <th>profile_banner_url</th>\n",
       "      <th>profile_image_url_https</th>\n",
       "      <th>can_dm</th>\n",
       "    </tr>\n",
       "  </thead>\n",
       "  <tbody>\n",
       "    <tr>\n",
       "      <th>0</th>\n",
       "      <td>953893733468172288</td>\n",
       "      <td>Sam</td>\n",
       "      <td>futurenomics</td>\n",
       "      <td>futurenomics</td>\n",
       "      <td></td>\n",
       "      <td>https://t.co/APdEYafKBM</td>\n",
       "      <td>building @0xtristero @ycombinator alum @stanfo...</td>\n",
       "      <td>None</td>\n",
       "      <td>False</td>\n",
       "      <td>False</td>\n",
       "      <td>12734</td>\n",
       "      <td>1538</td>\n",
       "      <td>1538</td>\n",
       "      <td>57095</td>\n",
       "      <td>21930</td>\n",
       "      <td>1626</td>\n",
       "      <td>Thu Jan 18 07:36:03 +0000 2018</td>\n",
       "      <td>https://pbs.twimg.com/profile_banners/95389373...</td>\n",
       "      <td>https://pbs.twimg.com/profile_images/187784758...</td>\n",
       "      <td>False</td>\n",
       "    </tr>\n",
       "    <tr>\n",
       "      <th>1</th>\n",
       "      <td>1521870690630221824</td>\n",
       "      <td>Patrick Casey</td>\n",
       "      <td>restoreorderusa</td>\n",
       "      <td>restoreorderusa</td>\n",
       "      <td>Washington, D.C.</td>\n",
       "      <td>https://t.co/dR38x52zpT</td>\n",
       "      <td>Writer and host of Restoring Order | Moderate ...</td>\n",
       "      <td>None</td>\n",
       "      <td>False</td>\n",
       "      <td>False</td>\n",
       "      <td>74697</td>\n",
       "      <td>2115</td>\n",
       "      <td>2115</td>\n",
       "      <td>45000</td>\n",
       "      <td>15759</td>\n",
       "      <td>2001</td>\n",
       "      <td>Wed May 04 15:13:58 +0000 2022</td>\n",
       "      <td>https://pbs.twimg.com/profile_banners/15218706...</td>\n",
       "      <td>https://pbs.twimg.com/profile_images/190537595...</td>\n",
       "      <td>False</td>\n",
       "    </tr>\n",
       "  </tbody>\n",
       "</table>\n",
       "</div>"
      ],
      "text/plain": [
       "                    id           name      screen_name         userName  \\\n",
       "0   953893733468172288            Sam     futurenomics     futurenomics   \n",
       "1  1521870690630221824  Patrick Casey  restoreorderusa  restoreorderusa   \n",
       "\n",
       "           location                      url  \\\n",
       "0                    https://t.co/APdEYafKBM   \n",
       "1  Washington, D.C.  https://t.co/dR38x52zpT   \n",
       "\n",
       "                                         description email  protected  \\\n",
       "0  building @0xtristero @ycombinator alum @stanfo...  None      False   \n",
       "1  Writer and host of Restoring Order | Moderate ...  None      False   \n",
       "\n",
       "   verified  followers_count  following_count  friends_count  \\\n",
       "0     False            12734             1538           1538   \n",
       "1     False            74697             2115           2115   \n",
       "\n",
       "   favourites_count  statuses_count  media_tweets_count  \\\n",
       "0             57095           21930                1626   \n",
       "1             45000           15759                2001   \n",
       "\n",
       "                       created_at  \\\n",
       "0  Thu Jan 18 07:36:03 +0000 2018   \n",
       "1  Wed May 04 15:13:58 +0000 2022   \n",
       "\n",
       "                                  profile_banner_url  \\\n",
       "0  https://pbs.twimg.com/profile_banners/95389373...   \n",
       "1  https://pbs.twimg.com/profile_banners/15218706...   \n",
       "\n",
       "                             profile_image_url_https  can_dm  \n",
       "0  https://pbs.twimg.com/profile_images/187784758...   False  \n",
       "1  https://pbs.twimg.com/profile_images/190537595...   False  "
      ]
     },
     "execution_count": 6,
     "metadata": {},
     "output_type": "execute_result"
    }
   ],
   "source": [
    "# Normalize to DataFrame\n",
    "df_followings = pd.json_normalize(followings.get('followings', []))\n",
    "print(f\"Rows: {len(df_followings)}\")\n",
    "\n",
    "df_followings.head(2)"
   ]
  },
  {
   "cell_type": "code",
   "execution_count": 7,
   "id": "962612e2",
   "metadata": {},
   "outputs": [
    {
     "data": {
      "text/plain": [
       "id                                                        953893733468172288\n",
       "name                                                                     Sam\n",
       "screen_name                                                     futurenomics\n",
       "userName                                                        futurenomics\n",
       "location                                                                    \n",
       "                                                 ...                        \n",
       "media_tweets_count                                                      1626\n",
       "created_at                                    Thu Jan 18 07:36:03 +0000 2018\n",
       "profile_banner_url         https://pbs.twimg.com/profile_banners/95389373...\n",
       "profile_image_url_https    https://pbs.twimg.com/profile_images/187784758...\n",
       "can_dm                                                                 False\n",
       "Name: 0, Length: 20, dtype: object"
      ]
     },
     "execution_count": 7,
     "metadata": {},
     "output_type": "execute_result"
    }
   ],
   "source": [
    "df_followings.iloc[0]"
   ]
  },
  {
   "cell_type": "markdown",
   "id": "5e0e2ee9",
   "metadata": {},
   "source": [
    "## Get tweets for all followers\n",
    "\n",
    "Query time\n",
    "| count | time | size_kb |\n",
    "|-------|------|---------|\n",
    "| 200   | 17   | 700     |\n",
    "| 500   | 45   | 1900    |\n",
    "| 1000  | 100  | 4000    |\n",
    "\n",
    "Recommended, 200 limit per account for tweets"
   ]
  },
  {
   "cell_type": "code",
   "execution_count": 8,
   "id": "89467f02",
   "metadata": {},
   "outputs": [],
   "source": [
    "# TWEET_LIMIT = 200 \n",
    "TWEET_LIMIT = 1000\n",
    "start_date = None\n",
    "end_date = None\n",
    "min_faves = 0\n",
    "INCLUDE_REPLIES = True\n"
   ]
  },
  {
   "cell_type": "code",
   "execution_count": 9,
   "id": "afa7bcff",
   "metadata": {},
   "outputs": [
    {
     "name": "stdout",
     "output_type": "stream",
     "text": [
      "✅ C-Hit: Q: `from:apralky`\n"
     ]
    }
   ],
   "source": [
    "resp = get_user_tweets_cached(\n",
    "    api_key=API_KEY,\n",
    "    username=USERNAME,\n",
    "    limit=TWEET_LIMIT,\n",
    "    start_date=start_date,\n",
    "    end_date=end_date,\n",
    "    min_faves=min_faves,\n",
    "    include_replies=INCLUDE_REPLIES,\n",
    ")\n",
    "tweets = resp[\"tweets\"]"
   ]
  },
  {
   "cell_type": "code",
   "execution_count": 10,
   "id": "69d40048",
   "metadata": {},
   "outputs": [],
   "source": [
    "truncated2 = [\n",
    "    'type',\n",
    "    'url',\n",
    "    'lang',\n",
    "]\n",
    "\n",
    "truncated_fields = [\n",
    "    field for field in TRUNCATED_TWEET_FIELDS\n",
    "    if field not in truncated2\n",
    "]"
   ]
  },
  {
   "cell_type": "code",
   "execution_count": 11,
   "id": "e3960ad9",
   "metadata": {},
   "outputs": [],
   "source": [
    "df_tweets = pd.json_normalize(tweets)\n",
    "df_tmini = collapse_dataframe(df_tweets, fields=truncated_fields)"
   ]
  },
  {
   "cell_type": "code",
   "execution_count": 12,
   "id": "0206dfdf",
   "metadata": {},
   "outputs": [
    {
     "data": {
      "text/html": [
       "<div>\n",
       "<style scoped>\n",
       "    .dataframe tbody tr th:only-of-type {\n",
       "        vertical-align: middle;\n",
       "    }\n",
       "\n",
       "    .dataframe tbody tr th {\n",
       "        vertical-align: top;\n",
       "    }\n",
       "\n",
       "    .dataframe thead th {\n",
       "        text-align: right;\n",
       "    }\n",
       "</style>\n",
       "<table border=\"1\" class=\"dataframe\">\n",
       "  <thead>\n",
       "    <tr style=\"text-align: right;\">\n",
       "      <th></th>\n",
       "      <th>id</th>\n",
       "      <th>createdAt</th>\n",
       "      <th>text</th>\n",
       "      <th>retweetCount</th>\n",
       "      <th>replyCount</th>\n",
       "      <th>likeCount</th>\n",
       "      <th>quoteCount</th>\n",
       "      <th>viewCount</th>\n",
       "      <th>bookmarkCount</th>\n",
       "      <th>isReply</th>\n",
       "      <th>inReplyToId</th>\n",
       "      <th>inReplyToUsername</th>\n",
       "      <th>author.userName</th>\n",
       "      <th>author.url</th>\n",
       "      <th>author.id</th>\n",
       "      <th>author.isBlueVerified</th>\n",
       "      <th>author.followers</th>\n",
       "      <th>author.following</th>\n",
       "    </tr>\n",
       "  </thead>\n",
       "  <tbody>\n",
       "    <tr>\n",
       "      <th>0</th>\n",
       "      <td>1965463701307417023</td>\n",
       "      <td>Tue Sep 09 17:13:57 +0000 2025</td>\n",
       "      <td>@fvderop the mutual based system is ineffectiv...</td>\n",
       "      <td>0</td>\n",
       "      <td>1</td>\n",
       "      <td>13</td>\n",
       "      <td>0</td>\n",
       "      <td>608</td>\n",
       "      <td>3</td>\n",
       "      <td>True</td>\n",
       "      <td>1965462971762839948</td>\n",
       "      <td>fvderop</td>\n",
       "      <td>apralky</td>\n",
       "      <td>https://x.com/apralky</td>\n",
       "      <td>1700977169177206784</td>\n",
       "      <td>True</td>\n",
       "      <td>24872</td>\n",
       "      <td>627</td>\n",
       "    </tr>\n",
       "    <tr>\n",
       "      <th>1</th>\n",
       "      <td>1965462653440324010</td>\n",
       "      <td>Tue Sep 09 17:09:47 +0000 2025</td>\n",
       "      <td>@NateWitkin disagree I think the invisible han...</td>\n",
       "      <td>0</td>\n",
       "      <td>1</td>\n",
       "      <td>7</td>\n",
       "      <td>0</td>\n",
       "      <td>450</td>\n",
       "      <td>2</td>\n",
       "      <td>True</td>\n",
       "      <td>1965462326586270177</td>\n",
       "      <td>NateWitkin</td>\n",
       "      <td>apralky</td>\n",
       "      <td>https://x.com/apralky</td>\n",
       "      <td>1700977169177206784</td>\n",
       "      <td>True</td>\n",
       "      <td>24872</td>\n",
       "      <td>627</td>\n",
       "    </tr>\n",
       "  </tbody>\n",
       "</table>\n",
       "</div>"
      ],
      "text/plain": [
       "                    id                       createdAt  \\\n",
       "0  1965463701307417023  Tue Sep 09 17:13:57 +0000 2025   \n",
       "1  1965462653440324010  Tue Sep 09 17:09:47 +0000 2025   \n",
       "\n",
       "                                                text  retweetCount  \\\n",
       "0  @fvderop the mutual based system is ineffectiv...             0   \n",
       "1  @NateWitkin disagree I think the invisible han...             0   \n",
       "\n",
       "   replyCount  likeCount  quoteCount  viewCount  bookmarkCount  isReply  \\\n",
       "0           1         13           0        608              3     True   \n",
       "1           1          7           0        450              2     True   \n",
       "\n",
       "           inReplyToId inReplyToUsername author.userName  \\\n",
       "0  1965462971762839948           fvderop         apralky   \n",
       "1  1965462326586270177        NateWitkin         apralky   \n",
       "\n",
       "              author.url            author.id  author.isBlueVerified  \\\n",
       "0  https://x.com/apralky  1700977169177206784                   True   \n",
       "1  https://x.com/apralky  1700977169177206784                   True   \n",
       "\n",
       "   author.followers  author.following  \n",
       "0             24872               627  \n",
       "1             24872               627  "
      ]
     },
     "execution_count": 12,
     "metadata": {},
     "output_type": "execute_result"
    }
   ],
   "source": [
    "df_tmini.head(2)"
   ]
  },
  {
   "cell_type": "code",
   "execution_count": 13,
   "id": "eba7e9c1",
   "metadata": {},
   "outputs": [
    {
     "data": {
      "text/html": [
       "<div>\n",
       "<style scoped>\n",
       "    .dataframe tbody tr th:only-of-type {\n",
       "        vertical-align: middle;\n",
       "    }\n",
       "\n",
       "    .dataframe tbody tr th {\n",
       "        vertical-align: top;\n",
       "    }\n",
       "\n",
       "    .dataframe thead th {\n",
       "        text-align: right;\n",
       "    }\n",
       "</style>\n",
       "<table border=\"1\" class=\"dataframe\">\n",
       "  <thead>\n",
       "    <tr style=\"text-align: right;\">\n",
       "      <th></th>\n",
       "      <th>retweetCount</th>\n",
       "      <th>replyCount</th>\n",
       "      <th>likeCount</th>\n",
       "      <th>quoteCount</th>\n",
       "      <th>viewCount</th>\n",
       "      <th>bookmarkCount</th>\n",
       "      <th>author.followers</th>\n",
       "      <th>author.following</th>\n",
       "    </tr>\n",
       "  </thead>\n",
       "  <tbody>\n",
       "    <tr>\n",
       "      <th>count</th>\n",
       "      <td>1000.000000</td>\n",
       "      <td>1000.000000</td>\n",
       "      <td>1000.00000</td>\n",
       "      <td>1000.000000</td>\n",
       "      <td>1.000000e+03</td>\n",
       "      <td>1000.000000</td>\n",
       "      <td>1000.000000</td>\n",
       "      <td>1000.0</td>\n",
       "    </tr>\n",
       "    <tr>\n",
       "      <th>mean</th>\n",
       "      <td>15.509000</td>\n",
       "      <td>11.039000</td>\n",
       "      <td>326.30700</td>\n",
       "      <td>3.042000</td>\n",
       "      <td>2.232253e+04</td>\n",
       "      <td>87.126000</td>\n",
       "      <td>24873.280000</td>\n",
       "      <td>627.0</td>\n",
       "    </tr>\n",
       "    <tr>\n",
       "      <th>std</th>\n",
       "      <td>157.330076</td>\n",
       "      <td>70.202435</td>\n",
       "      <td>1906.42753</td>\n",
       "      <td>23.817714</td>\n",
       "      <td>1.115930e+05</td>\n",
       "      <td>400.517458</td>\n",
       "      <td>1.866838</td>\n",
       "      <td>0.0</td>\n",
       "    </tr>\n",
       "    <tr>\n",
       "      <th>min</th>\n",
       "      <td>0.000000</td>\n",
       "      <td>0.000000</td>\n",
       "      <td>0.00000</td>\n",
       "      <td>0.000000</td>\n",
       "      <td>4.500000e+01</td>\n",
       "      <td>0.000000</td>\n",
       "      <td>24872.000000</td>\n",
       "      <td>627.0</td>\n",
       "    </tr>\n",
       "    <tr>\n",
       "      <th>25%</th>\n",
       "      <td>0.000000</td>\n",
       "      <td>0.000000</td>\n",
       "      <td>7.00000</td>\n",
       "      <td>0.000000</td>\n",
       "      <td>4.790000e+02</td>\n",
       "      <td>1.000000</td>\n",
       "      <td>24872.000000</td>\n",
       "      <td>627.0</td>\n",
       "    </tr>\n",
       "    <tr>\n",
       "      <th>50%</th>\n",
       "      <td>0.000000</td>\n",
       "      <td>1.000000</td>\n",
       "      <td>25.00000</td>\n",
       "      <td>0.000000</td>\n",
       "      <td>2.435500e+03</td>\n",
       "      <td>3.000000</td>\n",
       "      <td>24872.000000</td>\n",
       "      <td>627.0</td>\n",
       "    </tr>\n",
       "    <tr>\n",
       "      <th>75%</th>\n",
       "      <td>2.000000</td>\n",
       "      <td>5.000000</td>\n",
       "      <td>153.25000</td>\n",
       "      <td>1.000000</td>\n",
       "      <td>1.015925e+04</td>\n",
       "      <td>21.000000</td>\n",
       "      <td>24876.000000</td>\n",
       "      <td>627.0</td>\n",
       "    </tr>\n",
       "    <tr>\n",
       "      <th>max</th>\n",
       "      <td>4647.000000</td>\n",
       "      <td>2083.000000</td>\n",
       "      <td>48191.00000</td>\n",
       "      <td>668.000000</td>\n",
       "      <td>2.567531e+06</td>\n",
       "      <td>6777.000000</td>\n",
       "      <td>24876.000000</td>\n",
       "      <td>627.0</td>\n",
       "    </tr>\n",
       "  </tbody>\n",
       "</table>\n",
       "</div>"
      ],
      "text/plain": [
       "       retweetCount   replyCount    likeCount   quoteCount     viewCount  \\\n",
       "count   1000.000000  1000.000000   1000.00000  1000.000000  1.000000e+03   \n",
       "mean      15.509000    11.039000    326.30700     3.042000  2.232253e+04   \n",
       "std      157.330076    70.202435   1906.42753    23.817714  1.115930e+05   \n",
       "min        0.000000     0.000000      0.00000     0.000000  4.500000e+01   \n",
       "25%        0.000000     0.000000      7.00000     0.000000  4.790000e+02   \n",
       "50%        0.000000     1.000000     25.00000     0.000000  2.435500e+03   \n",
       "75%        2.000000     5.000000    153.25000     1.000000  1.015925e+04   \n",
       "max     4647.000000  2083.000000  48191.00000   668.000000  2.567531e+06   \n",
       "\n",
       "       bookmarkCount  author.followers  author.following  \n",
       "count    1000.000000       1000.000000            1000.0  \n",
       "mean       87.126000      24873.280000             627.0  \n",
       "std       400.517458          1.866838               0.0  \n",
       "min         0.000000      24872.000000             627.0  \n",
       "25%         1.000000      24872.000000             627.0  \n",
       "50%         3.000000      24872.000000             627.0  \n",
       "75%        21.000000      24876.000000             627.0  \n",
       "max      6777.000000      24876.000000             627.0  "
      ]
     },
     "execution_count": 13,
     "metadata": {},
     "output_type": "execute_result"
    }
   ],
   "source": [
    "df_tmini.describe()"
   ]
  },
  {
   "cell_type": "code",
   "execution_count": 14,
   "id": "eab8ab46",
   "metadata": {},
   "outputs": [
    {
     "data": {
      "application/vnd.plotly.v1+json": {
       "config": {
        "plotlyServerURL": "https://plot.ly"
       },
       "data": [
        {
         "customdata": [
          [
           "@fvderop the mutual based system is ineffective.<br>same person will follow entertainers and epistemic<br>heavyweights"
          ],
          [
           "@NateWitkin disagree I think the invisible hand<br>solves this one"
          ],
          [
           "what will likely happen is that internet people<br>will arrive at the revealed preference of self-<br>organizing in an academia style model from first<br>principles... you can help them out as an<br>entrepreneur"
          ],
          [
           "or you can just let shoe on head run your<br>discourse, this is the infodemocratic alternative"
          ],
          [
           "@ErgodicTrace yes credentialism needs to come back<br>bigly"
          ],
          [
           "@fhfjfjfjn62601 @oxbquant financialization can<br>stay as long as its state-aligned.. but surely<br>Karp does touch on the free market if left<br>unbothered misallocating resource?"
          ],
          [
           "@oxbquant few understand"
          ],
          [
           "@VNTGPRN thank you"
          ],
          [
           "@gettyimagepsyop and thank you!"
          ],
          [
           "@gettyimagepsyop I have only read postmodern<br>condition"
          ],
          [
           "@RestNVester hmm, I'll update in favor of relaxing<br>it going fwd"
          ],
          [
           "https://t.co/vT0mwjV9OY"
          ],
          [
           "there's simply no such thing as wholesome<br>capitalism"
          ],
          [
           "@DaniloMenshikov yep, they don't"
          ],
          [
           "populism is obviously a transition phase, it is by<br>its nature unsustainable... you promise people low<br>inflation low borrowing low taxes low<br>unemployment, obviously fail to deliver it, and we<br>move on to the next stage (state capitalism or<br>communism)"
          ],
          [
           "I want to write more about why seemingly everyone<br>contending with the question of where unchecked<br>capitalism eventually ends up in the 20th century<br>concluded that it's either hyper-authoritarian<br>state capitalism or communism but I haven't had<br>the time yet"
          ],
          [
           "@Abel_summation yungian!"
          ],
          [
           "@_AashishReddy I think it's obviously worth<br>reading given the extent to which Karp is upstream<br>of a very important faction within the emergent<br>latent Westoid coalition"
          ],
          [
           "@_AashishReddy the book isn't \"serious<br>philosophy\", but the intention of the setup is<br>clearly to apply serious philosophy to a prosaic<br>policy issue? AK is just framing the issue part<br>relatedly if ur at uatx and haven't read karp's<br>book already on your own kinda ngmi"
          ],
          [
           "@kunley_drukpa thank you kindly sir!"
          ],
          [
           "this omega-midwit gave it \"a crack\" and vomited<br>the worst slop you can imagine and STILL got<br>catapulted to stardom because the demand function<br>for this is just so pent up<br>https://t.co/kE2Ox190H2"
          ],
          [
           "it's pretty funny that a generally successful<br>&amp; wholesome campaign against class is just<br>obviously directly leading to its being replaced<br>with a much more brutal dystopian biomass-coded<br>set of selection mechanisms"
          ],
          [
           "you expect cognitive horsepower to be broadly<br>generalizable across domains, but it just isn't --<br>I can't intuit exactly why, but empirically you<br>can't help but notice  as more people pick up on<br>this it may erode aforementioned paradigm and move<br>us back to class based models"
          ],
          [
           "@Abel_summation normatron goes hard"
          ],
          [
           "@ssphinxe that's always a go to question, and it<br>always ends up being spectral, that's why I like<br>to use the term \"upstream\", it implies no<br>causality, because causality is often impossible<br>and useless to disentangle... but I'll keep u<br>updated on what intuitions I come across"
          ],
          [
           "@pragmatictake \"particularly\" is doing a lot of<br>work there...  it's only surpassed in PPP terms,<br>by which metric Cyprus is also ahead and Russia is<br>nearly on par with Japan... the headlines flying<br>around often didn't specify PPP, including from<br>high trust accounts -- no good"
          ],
          [
           "yes daddy https://t.co/FZAUN2Pjmz"
          ],
          [
           "&gt; it's real &gt; it's from an entry wherein<br>he's authorityposting about how bored he's gotten<br>after learning the matter inside and out  kill me<br>https://t.co/bwV6JIHapd"
          ],
          [
           "@itstheotherway but that's not a lingo point<br>right, the implication is that he thought the<br>global risk free rate fluctuates multiple percent<br>points every day... and his coverage of economics<br>is central to his work"
          ],
          [
           "@farajalrashidi not even sure if it's still up, I<br>got it from a mid-year apralky post which in turn<br>got it from a 2023 macrocephalopod post"
          ],
          [
           "your technocratic bald millennial blogosphere neo-<br>overclass sir"
          ],
          [
           "he just casually onboarded sentences such as \"the<br>10 year treasury yield fell by 15 percent points<br>today\", and not once did that tamper with any of<br>his intuitions"
          ],
          [
           "@riversposting @_AashishReddy"
          ],
          [
           "@riversposting \"on the other side of the ledger\"<br>I'll gradually cultivate forbidden thinker aura,<br>which the girls love. utility function: neutral"
          ],
          [
           "@BasedBeffJezos you get a move that size ~ every<br>day"
          ],
          [
           "@BasedBeffJezos the move is extremely small"
          ],
          [
           "@riversposting fuark"
          ],
          [
           "@teortaxesTex lmao"
          ],
          [
           "@questions_unans https://t.co/9uPicO7onI"
          ],
          [
           "@taifuunoyume public intellectual = symbolic<br>capital = power"
          ],
          [
           "@oswinfrans I liked it a lot, it's definitely been<br>prescient of much of what has taken place since,<br>and will probably remain so for some time still (i<br>think it got mixed reviews, maybe wrong crowd or<br>too early)"
          ],
          [
           "@waldoxbt he's as far from maslow-complete as one<br>can be, his happiness index is probably on par<br>with that of a lifetime sednaya prisoner (which is<br>why he's worth 20x the richest guy on the list)"
          ],
          [
           "it's over for yall when bill ackman finally learns<br>how to read"
          ],
          [
           "@glitteringsatan I actually agree, I'm just<br>hatemaxxing"
          ],
          [
           "obviously maga just snapped him up from the<br>heritage foundation, but the heritage foundation<br>clearly did the reaching"
          ],
          [
           "they're reaching into universities the names of<br>which you can't even pronounce<br>https://t.co/VAFToTwRq6"
          ],
          [
           "@GZilgalvis lose the liberal, it's cleaner"
          ],
          [
           "and of course I'm just speculating here, I haven't<br>actually looked inside econ departments, I'm a<br>practitioner, but I trust my intuitions and you<br>can too if you'd like"
          ],
          [
           "do you understand how insanely hard MAGA has to<br>look to find schizos like Navarro or EJ Antoni to<br>staff their jr seats... this is an incredibly<br>supply constrained labour market (loyal heterodox<br>schizophrenic economists).. it's all yours for the<br>taking"
          ],
          [
           "@thornewolf agree somewhat... well as a good<br>poster and a good thinker I'm happy to<br>redistribute some of my posting gift and shill the<br>good bloggers with it (or not because im evil)"
          ],
          [
           "@halogen1048576 that's the whitepill anon"
          ],
          [
           "for those interested, it seems obvious that the<br>latest **real academia** to lose ground will be<br>economics departments, who were still clouted<br>prior to the current American admin, but given the<br>current American admin is basically heterodox,<br>they will be deferring to you (schizos)"
          ],
          [
           "@q_ginseng seconded my friend"
          ],
          [
           "lex fridman was right all along truther"
          ],
          [
           "@QcHst17 whats the tea"
          ],
          [
           "@a_e_ro_dy_namik optional"
          ],
          [
           "@SamoBurja https://t.co/gedRexbDVr"
          ],
          [
           "@BackPedaling112 thanks it's a good thread, if I'm<br>to collapse: 1. it's insecurity of falling short<br>on traditional metrics and an attempt to dodge<br>that prescription through factor dilution--  I<br>don't think that's the right interpretation. all<br>striving is in some way probably downstream of<br>some insecurity almost definitionally (you want<br>something you can't yet get), but people that have<br>been \"hooked\" on what we're trying to do skew to<br>the kind that have ticked the traditional boxes<br>well (e.g.@oxbquant addressed in the original<br>post), so that's an unlikely source of insecurity.<br>in fact I'd say those who have pushed back on his<br>style (which basically communicates: yes, I want<br>this and love this, so what?!) comparatively have<br>usually ticked boxes much less successfully,<br>chronologically weighted, and are the ones trying<br>to dodge that failure by going \"just be normal<br>bro, catch the game last night?\", trying to retain<br>an ecosystem by which they never cared in the<br>first place (any new entrant subverting that<br>ecosystem naturally threatens their comfort). this<br>paradigm to me is a more intuitive one   2. it's<br>just an attempt to say \"hey, humanities matter<br>too\": I don't think this is true for me or anyone<br>that enjoyes what I do. I don't feel like I have<br>much of a dog in this fight  so what is it then?<br>why do you want it? complex question, part of my<br>writing is/will be aimed at answering this, and<br>partly I don't think we should question our<br>utility functions -- I think a partial TLDR is<br>that the kind of people that are drawn though is<br>disillusioned overarchievers who \"want something<br>more\", not underachievers, and my idea of<br>\"somethint more\" probably does stem, partly, from<br>my insecurities (though often of a different kind<br>than you might think), which I think is OK and<br>great to lean into.  what is the endgame of<br>posting? well the endgoal of what I do online is<br>purely to accrue ideological symbolic capital,<br>which I think needs to be paired with actual<br>monetary capital if one has the ambition of<br>influencing the world (soros, thiel, classical<br>examples who also started accruing symbolic<br>capital at an early age, I think it's necessary)<br>am I going on about accruing symbolic capital in<br>the right way? I think, so far, yes -- though sure<br>the path will be dynamic with many necessary<br>pivots on the way  ... anyway I could go on and on<br>but hopefully this is helpful (partial) coverage"
          ],
          [
           "@oxbquant missionary"
          ],
          [
           "@oxbquant @goodalexander life in normieland  \"what<br>did he do\" \"he had poetry in his words\"<br>https://t.co/YvJjxqZaKS"
          ],
          [
           "@goodalexander satisfying oneshots"
          ],
          [
           "@goodalexander oneshotted https://t.co/2z3ls4b2DY"
          ],
          [
           "(I share both the Bay Area rationalists' concern<br>about existential risk and the Christian<br>missionaries' concern about hell)"
          ],
          [
           "@Abel_summation lol"
          ],
          [
           "@RokoMijic obviously I'm collapsing a massive<br>amount of dimensionality with that formulation"
          ],
          [
           "@RokoMijic the way in which I think it's untrue is<br>that the variance of attraction explained by<br>physicality is closer to ~40% vs the imagined ~95%<br>above a certain relatively lax threshold, and even<br>that number falls off significantly with repeat<br>exposure"
          ],
          [
           "@circlerotator They just don't get it like I do..."
          ],
          [
           "@futileappraisal @JElafina Hmm that's a surprising<br>outcome and my guess is that it's flawed rather<br>than that my estimate is that far off"
          ],
          [
           "@JElafina The average is probably closer to 1, but<br>it seems like a reasonable guess that the thought<br>leaders are 2 or more"
          ],
          [
           "@xlr8harder To be fair I still think the bay area<br>rationalists are correct on this, but I agree it<br>is a valid critique there also"
          ],
          [
           "@memeticweaver This is a toxic ideology"
          ],
          [
           "@30SergioMisal \"Change the trajectory of your life<br>forever\" type sh"
          ],
          [
           "@2wayposting Because they were disgusting and<br>useless as well"
          ],
          [
           "Doesn't have to be this way for much longer anon,<br>really doesn't, we can be friends again..."
          ],
          [
           "@danthaeon lol"
          ],
          [
           "@zephyr_z9 dario is an undercover vampmaxxer<br>truther"
          ],
          [
           "@VeryRusticBread yes"
          ],
          [
           "the goodness of any technology is best appraised<br>by the extent to which it angers Marjorie Taylor<br>Greene"
          ],
          [
           "@scheminglunatic factcheck: false ❌"
          ],
          [
           "type of shit the gates foundation would back and<br>act all coy when confronted"
          ],
          [
           "https://t.co/TGzMBEwq8X"
          ],
          [
           "being told this certain dapper fellow may already<br>be on it https://t.co/YABeht82xk"
          ],
          [
           "anti populist misanthropic christian neo deep<br>statism"
          ],
          [
           "@lostvazimba lmao"
          ],
          [
           "@brunellaism so true"
          ],
          [
           "@Abel_summation bangeur"
          ],
          [
           "@oxbquant \"he had a youthful glint in his eye\""
          ],
          [
           "@johnway___ \"they liked a cremieux post\"<br>https://t.co/Vg1I9gwPrx"
          ],
          [
           "@onfel1000 straight to el salvador"
          ],
          [
           "still think palantir were the bad guys?"
          ],
          [
           "@sofia_ascent @BumrahBachi we keep pushing"
          ],
          [
           "@goodalexander real sh*"
          ],
          [
           "@_AashishReddy had to pause the katechon award<br>https://t.co/44yI5ftsI9"
          ],
          [
           "got the entire norwood 6 millennial industrial<br>complex coming after me it's unbelievable..<br>https://t.co/dFOd3qSsLF"
          ],
          [
           "palantir social credit score in the stratosphere<br>rn"
          ],
          [
           "@mattyglesias @BumrahBachi @hecubian_devil matty<br>yglesias weighing in on the ratio is crazy"
          ],
          [
           "@oxbquant seconded"
          ],
          [
           "@rieszspieces when did I imply it's wrong? the<br>joke is that the subject is unsure"
          ],
          [
           "@BumrahBachi calm down lil bro calm down..."
          ],
          [
           "@longstosee I hate him but is crazy"
          ],
          [
           "@antigona08 yes"
          ],
          [
           "@panickssery looks cool"
          ],
          [
           "this is very short and kind of a test of<br>reception... I will write a few more in depth<br>about **the protocol** and then we can actually<br>start building the world models."
          ],
          [
           "https://t.co/H4JNxA75Fh"
          ],
          [
           "@RuxandraTeslo there's a range of ways in which<br>they're different (not agreeing or disagreeing to<br>those ways being the ones you point out), but<br>there's also an important way in which they're<br>similar, and that's exactly the way I pointed out<br>in the original post -- they're all extremely<br>intelligent people who, absent of their accidental<br>run-in with a host of difficulties in early life<br>(which most high access IQ135+s we see usually<br>lack), would have been neutered by a host of<br>congenital social inadequacies into being<br>relatively communally malfunctioning & probably<br>down a path of optimizing for a non-high<br>testosterone non-brutish utility function, a well-<br>off Kissinger would probably have been an autistic<br>accountant with a train collection or something"
          ],
          [
           "@4confusedemoji if you think this person didn't<br>have to look up where 135 lies and what 3 SD is,<br>and then spend a good 10 minutes figuring out what<br>the result's actually telling them, you're out of<br>your mind..."
          ],
          [
           "ChatGPT are you SURE you're getting the numbers<br>right"
          ],
          [
           "10 GPT prompts just to broadly signal \"h-hey.. I<br>can k-kinda do s-statistics... too.?\""
          ],
          [
           "this is partly why cremieux has been a complete<br>nuke on the ideological ecosystem, it's also<br>something the rationalists figured out early on"
          ],
          [
           "@TheStalwart PMIs explicitly citing rates during<br>peak restrictiveness is the most intuitive<br>evidence of transmission imo"
          ],
          [
           "@based16z on some \"rs\""
          ],
          [
           "@trollshevik88 I've tried, the hellhounds keep<br>eating them and I keep waking up to a pile of<br>bones"
          ],
          [
           "@trollshevik88 I've contacted the celestial<br>authority"
          ],
          [
           "@nvllpoint algosurfed too hard award"
          ],
          [
           "@akirastacks + esoteric bad bitches"
          ],
          [
           "@Atticus46764883 yeah"
          ],
          [
           "@tafphorisms @_AashishReddy this is a good point<br>tafphorisms, this is a good point"
          ],
          [
           "@Bonecondor yes, sleep deprivation police, sorry<br>chairman bernanke"
          ],
          [
           "@Bonecondor we've got sleep police over here!"
          ],
          [
           "@teortaxesTex ..."
          ],
          [
           "@oxbquant the cross-asset goat has spoken..."
          ],
          [
           "@krafter36 don't mind if i do"
          ],
          [
           "@sram1337 dear sam you clearly haven’t ventured<br>deep into developmental psychology, cognitive<br>neuroscience, or feminist philosophy of mind...<br>all of which explicitly investigate gendered<br>differences in theory of mind"
          ],
          [
           "@basedcone come on now... they're benign"
          ],
          [
           "@oxbquant well said, common knowledge to our kin"
          ],
          [
           "@tafphorisms @_AashishReddy did it better I'm<br>afraid"
          ],
          [
           "@springofarete gang sh*"
          ],
          [
           "sounds true and runs somewhat contrary to common<br>wisdom of finding balance and so on"
          ],
          [
           "this is true to such an extent that in many ways<br>it's impossible to lie to an online audience, it<br>is a hyperefficient info market at a certain size,<br>so you must indeed become honest early on, and<br>somehow later on decide to snap back to<br>evilmaxxing as your honest self, a quandry"
          ],
          [
           "this is obviously because having many thousands,<br>millions of people scrutinize you in an IQ<br>selected smooth information cluster is way way way<br>different than your constant rotation of 10<br>midwitted friends &amp; colleagues"
          ],
          [
           "pre-internet trve machiavellians don't understand<br>how much more efficient internet ecosystems are,<br>i.e. how much harder you need to feign honesty in<br>the early game post-internet than pre-internet, so<br>they start slimemaxxing too early and drop like<br>flies (common in millennials)"
          ],
          [
           "this is of course in many ways a delusion,<br>Continental Europe stargazes to America, and the<br>Chinese are too busy learning English"
          ],
          [
           "@nevuteva we do a little culture hacking"
          ],
          [
           "@conorsoup stop glazing me it's precursor to<br>downfall... yuo kill me.. x_x"
          ],
          [
           "@ilfascisto mfw coasting through childhood<br>https://t.co/k96EYIDIgV"
          ],
          [
           "@ilfascisto mfw coasting through childhood<br>https://t.co/KYIxQZYlb6"
          ],
          [
           "https://t.co/18aZKr6YP4"
          ],
          [
           "@rudbytorector @FishyDeFi bruh"
          ],
          [
           "@FishyDeFi the antichrist will be a rates guy"
          ],
          [
           "@WhteTrashSultan https://t.co/2e80CHStwN"
          ],
          [
           "@0x49fa98 a man of principle"
          ],
          [
           "@SamoBurja could always tell you were conscious of<br>this..."
          ],
          [
           "we have to somehow find a tiktok cluster in a<br>&lt;5k GDP per capita country willing to onboard<br>and mercilessly algo-shill a san francisco<br>rationalist worldview"
          ],
          [
           "@AnglesonNorman agree, I don't understand why a<br>grown man isn't allowed to be serious... but alas,<br>so wills the crown"
          ],
          [
           "a kind commenter pointed out that Bryan Johnson<br>executed this playbook perfectly -- a \"vampmaxxer\"<br>at the brink of persona-death revived by a<br>tasteful dose of \"jestermaxxing\""
          ],
          [
           "@littlebrotha123 @bryan_johnson yeah, that's a<br>great example"
          ],
          [
           "@goodalexander we're understaffed"
          ],
          [
           "he gave zuck sound advice, it worked, it may be<br>wise to apply it at home"
          ],
          [
           "@kyleCbinder no blackpilling"
          ],
          [
           "just lose the ego and deliver a poaster or two out<br>of neetdom"
          ],
          [
           "@brunellaism nice earnestpost"
          ],
          [
           "@bholloway24 who wants to be my Travis?"
          ],
          [
           "actually I have decided to pass value judgement,<br>it is on net a good chart"
          ],
          [
           "@markvalorian that does not make any sense my<br>friend!"
          ],
          [
           "@markvalorian why would doing damage to a school<br>of thought be inherently bad? what if it raises a<br>valid counter-argument?"
          ],
          [
           "@markvalorian when did I say or imply that the<br>study or the chart is inherently bad? I explicitly<br>clarified otherwise in the replies"
          ],
          [
           "@theojaffee this place is truly an epistemological<br>leviathan beyond human comprehension once u pass<br>20k followers in an IQ dense community"
          ],
          [
           "@tejlahocil nature communications"
          ],
          [
           "not passing any value judgement on the chart<br>itself btw, it's easy to misinterpret but also<br>directionally correct about a hard to compress,<br>important paradigm... has staying power"
          ],
          [
           "obviously these trends are overdetermined, and one<br>can reasonably expect a bunch of them to have held<br>just as consistently during ZIRP... but is<br>monterary policy an under-understood, complex, and<br>profound contributor? surely..."
          ],
          [
           "@BasedBeffJezos well said"
          ],
          [
           "yup"
          ],
          [
           "https://t.co/8c5j2PrrlT"
          ],
          [
           "@BasedTeterPhiel https://t.co/e4PZfQsED2"
          ],
          [
           "@thermo2ndlaw deeply unserious individual"
          ],
          [
           "@zeynebnkaya books that will change yuor life..<br>https://t.co/nQUV5fEJir"
          ],
          [
           "@scheminglunatic i literally love you but you hate<br>me"
          ],
          [
           "@scheminglunatic yea it's statistically likely"
          ],
          [
           "@scheminglunatic xitter..."
          ],
          [
           "@YancyBurgerson landshark is very high IQ"
          ],
          [
           "@onlymonasteries insane"
          ],
          [
           "@dystopiangf https://t.co/aYMPx23tP6"
          ],
          [
           "@MrPaulkon maybe, maybe... directionally correct<br>maxxing though, vance wouldn't mind a nice peaked<br>cap would he"
          ],
          [
           "if you think the golds are gauche and provincial,<br>and that's the main thing you note about the<br>rebrand... idk what to tell you you're an idiot<br>(all of boomerslop is on this wavelength btw)"
          ],
          [
           "consult for more https://t.co/4Wde3bEmWO"
          ],
          [
           "@ishaantharoor ok unc"
          ],
          [
           "@lanadunhamcel @zmo_zeemo the people are begging<br>for me on britain's premier radio show"
          ],
          [
           "@zmo_zeemo the nation state of israel to be<br>precise"
          ],
          [
           "@zmo_zeemo it's true"
          ],
          [
           "@JamesSurowiecki so you define a striver as<br>somebody without taste and found it bizarre that I<br>did not categorize Steve Jobs as one?"
          ],
          [
           "@JamesSurowiecki it's not a bizarre definition at<br>all! everyone, in the literal sense, strives to<br>fulfill their utility function. of course, this<br>does not make everyone a striver, as the term is<br>commonly understood. instead, the term clearly<br>refers to those who strive under a certain subset<br>of baser utility functions... illustration: it<br>would be bizarre to characterize religious figures<br>as strivers, though clearly they too strive to<br>live the good life! jobs was quasi-religious"
          ],
          [
           "@theojaffee https://t.co/DURGvodYRj"
          ],
          [
           "@korigero https://t.co/x8fipepLfr"
          ],
          [
           "@schisofrenia they maxxed out all the quotas on<br>the c suite im afraid"
          ],
          [
           "@Abel_summation @elonmusk lmao"
          ],
          [
           "@joshqharris great question"
          ],
          [
           "https://t.co/Yy34JDJYOA"
          ],
          [
           "palantir/CIA/a16z podcast"
          ],
          [
           "as usual can we make sure he sees this guys"
          ],
          [
           "@TenreiroDaniel incredible aura"
          ],
          [
           "@0xPajke @CharlotteFang77 @goodalexander<br>@thiccyth0t an honor to be in this lineup sir"
          ],
          [
           "@oxbquant well said."
          ],
          [
           "@MustStopMurad agreed, the descent theory touches<br>on this https://t.co/JkBCjl3BV3"
          ],
          [
           "@250bpmrape london holiday lil bro<br>https://t.co/vKX9Xejh9y"
          ],
          [
           "yarvin, BAP, yudkowsky, scott alexander... = early<br>manifestations of overclass posters in the<br>anglosphere"
          ],
          [
           "Steve Jobs, a classic high tier yellow quadrant<br>type, had to go through like a 0.0001% probability<br>path to be discovered... system used to be very<br>rigged against this type"
          ],
          [
           "@violetmarlboros prediction markets?"
          ],
          [
           "@SquidTakopi yeah"
          ],
          [
           "@justincbarbour there is no such bifurcation"
          ],
          [
           "@sadaasukhi this is boomerslop"
          ],
          [
           "yea everyone should definitely be reading your 20<br>paragraph LLM generated setup for a conclusion in<br>which you paraphrase a random goodreads quote from<br>camille paglia, this is what true intellectual<br>endeavour looks like, to hell with this perverse<br>world"
          ],
          [
           "if Karp/Thiel were shape rotators where do you<br>palantir would be right now"
          ],
          [
           "@nosilverv apralky yungmacro touches on this<br>https://t.co/UEV9eO9fM1"
          ],
          [
           "@Antonio86170786 I am"
          ],
          [
           "@trollshevik88 对"
          ],
          [
           "@KinderheimRune what a handsome gentleman"
          ],
          [
           "evidently pivoted from rascalmaxxing to<br>vampmaxxing shortly https://t.co/sgF4YQlbBK"
          ],
          [
           "@realKIRAC incredible given I'm none of that but I<br>love emergent vaguemaxxed conflicting mythologies<br>!!!!"
          ],
          [
           "@AnglesonNorman haram"
          ],
          [
           "which way western man https://t.co/Kh2tF80uul"
          ],
          [
           "@presentlyMihai what does that have to do with<br>anything in the post little boy"
          ],
          [
           "@providenceluvr many such cases"
          ],
          [
           "@providenceluvr vapes are so bad for you!"
          ],
          [
           "@BasedBeffJezos yea you been on this tbf"
          ],
          [
           "@khoomeik thanks bro 👊 👊 👊"
          ],
          [
           "@presentlyMihai how come?"
          ],
          [
           "applies to countries too btw"
          ],
          [
           "@HamedBarkh trolling or is there actual lore there"
          ],
          [
           "@MKolis2965334 i took it... i received a 105"
          ],
          [
           "someone suggested in DMs he may actually be<br>upstream of me here and is innkeepermaxxing for<br>populist arc... somethint to think about... he may<br>pull up in overalls and a jug of mead or some<br>other bubbly mysteryslop (pictured below) at the<br>next claude code demo https://t.co/biHy3U8HqN"
          ],
          [
           "https://t.co/scU880Y05q"
          ],
          [
           "@empathch4n ozempicmaxxers being dullards don't<br>realize that much of the gain comes from ~20% bf<br>to ~12% bf so they just stop when their belly is<br>no longer sticking out (~20%).. just not<br>neurodivergent enough hence they've found<br>themselves in the precondition in the first place"
          ],
          [
           "@supersnowxbt ngmi"
          ],
          [
           "anthropic pivots mission statement from mosquito<br>nets in kenya to excavating agartha<br>https://t.co/KRN2VeHPg1"
          ],
          [
           "@Abel_summation still agree with u and @balajis<br>though, just an annoying obstacle to contend with"
          ],
          [
           "@redaction same, twin, same...<br>https://t.co/t0rB09dU4h"
          ],
          [
           "https://t.co/aUa07j2KW2"
          ],
          [
           "@schisofrenia grandmacore"
          ],
          [
           "@Abel_summation @PrimeIntellect what happens to<br>the network state thesis when the govts start<br>regulating the internet with a stronger hand<br>though? this is my main contention"
          ],
          [
           "we saw this happen previously when henry kissinger<br>fell off because everybody became wholesomepilled<br>and elected reagan, then you needed to run smthn<br>like a bill clinton build  thiel's build will get<br>buffed again in the dystopia arc tho (2030+)"
          ],
          [
           "ways to lean into it for example:  &gt; go on a<br>podcast and start eating a random pastry that you<br>seemingly carried back with you &gt; wear denim<br>overalls &gt; DO NOT TAKE OZEMPIC etc.<br>https://t.co/EHVD55EOuQ"
          ],
          [
           "@thermo2ndlaw lmao"
          ],
          [
           "@xlr8harder a wise point has been made"
          ],
          [
           "@matthew_pines count me in!"
          ],
          [
           "@matthew_pines there definitely exists a vacuum<br>for an intellectually mature cultural organization<br>along such lines, I think my original post in this<br>chain can be taken entirely seriously<br>https://t.co/dGKPklFtFp"
          ],
          [
           "@matthew_pines sending their best and so on"
          ],
          [
           "@sullyj3 you cannot be serious?"
          ],
          [
           "@oxbquant never choke anon, never choke"
          ],
          [
           "@youngtroon to be fair that's incomplete for 2025,<br>but years prior to that are sufficient"
          ],
          [
           "As you can see, German industrial production is<br>not dying. Fair to say growth has slowed, but it's<br>holding steady. https://t.co/hmm8lqyvce"
          ],
          [
           "@_AashishReddy @MInusGix @sullyj3 \"Their posts are<br>a mix of strong statements with strong levels of<br>odd vibes based reasoning\" https://t.co/mYTm6ehIi9"
          ],
          [
           "@helscom very brutish overall, but nice and long,<br>flexible thumb... a noble brute"
          ],
          [
           "final boss of esoteric pdfs<br>https://t.co/I44usVrZXA"
          ],
          [
           "@bubblebabyboi WHIMSYMAXXING"
          ],
          [
           "@zephyr_z9 ?? lol"
          ],
          [
           "@oxbquant WHIMSYMAXXING"
          ],
          [
           "evergreen https://t.co/0Z438BgWX5"
          ],
          [
           "https://t.co/Xmzw8GzZoq https://t.co/87qLUklsqX"
          ],
          [
           "Henry Kissinger's looney tunes bloodboy archetype"
          ],
          [
           "globalism final boss"
          ],
          [
           "how do we navigate the fact that he's irish chat?"
          ],
          [
           "@LandsharkRides woah woah woah"
          ],
          [
           "@Soul0Engineer you're right yeah, the filter is<br>rly lopsided... a lot of benefit to be found in<br>being the guy at the intersection"
          ],
          [
           "btw how is this so good wow! I want the drone<br>swarms playing this during the holy war<br>https://t.co/wP3CNIsArl"
          ],
          [
           "@DaniloMenshikov based"
          ],
          [
           "instead you end up getting anti-establishment RWs<br>building cases like \"we need to cancel central<br>banks because powell worships satan &amp; keeps<br>printing money for his friends\" poisoning the<br>discourse forever as crankism and ironically<br>ensuring nothing is done"
          ],
          [
           "@DaniloMenshikov this is a fine slogan-like<br>critique for laypeople to mount but it's not very<br>useful for those who want to actually design<br>reform"
          ],
          [
           "@EL3IOT https://t.co/0dRk2xhmRl"
          ],
          [
           "@bizlet7 it's a government which is pressed<br>against its fiscal limit (the US isn't yet, but<br>many would say it is headed that way, we can see<br>how it's playing out for the UK and intuit in what<br>ways it will be similar for the US)"
          ],
          [
           "@tomough https://t.co/fC1WS1PBmx"
          ],
          [
           "Keir Starmer tried to cut 5bn of welfare spending<br>(pocket change) back in late June and got btfod by<br>his own party lol  similar stuff will happen in<br>the US as MAGA popularity erodes"
          ],
          [
           "in terms of fiscal gridlock+populism causing<br>massive government factionalization and de facto<br>paralysis the UK is downstream of certain<br>continental jurisdictions (eg France) and the US<br>is downstream of the UK, so we kind of know how<br>this stage plays out"
          ],
          [
           "for these 3 years you need to lock in on<br>powermaxxing anon, lock in, lockinmaxxing"
          ],
          [
           "@fizzypilled https://t.co/sobgYZK66N"
          ],
          [
           "@dystopiangf sol brah goes to san francisco"
          ],
          [
           "@unsatchmo it's just globalism bro"
          ],
          [
           "@aristide_is for you page nietzscheanism is the<br>fvtvre"
          ],
          [
           "can we make sure he sees this?"
          ],
          [
           "@oxbquant well said."
          ],
          [
           "@Abel_summation interesting"
          ],
          [
           "2025 Steve Jobs would have been a gigadoomscroller"
          ],
          [
           "@notsofast thank you!"
          ],
          [
           "first guy to say it must have felt like Fleming at<br>the discovery of penicillin"
          ],
          [
           "@tracewoodgrains yeah this is a great analogy"
          ],
          [
           "we wanted flying cars instead we got an oddly<br>entropy-condensing suffix"
          ],
          [
           "@Centu8i_ this seems to be the likeliest<br>explanation, we are peaking right now--- 95% of<br>men unmarried and unhoused and so on is actually<br>peak societal formation"
          ],
          [
           "@ErgodicTrace little smthn, though forget the<br>other languages https://t.co/Ssdfw4k6Yx"
          ],
          [
           "@teortaxesTex \"how many observations lie above the<br>average?\" \"errr like all of them if you ask me,<br>man\""
          ],
          [
           "@teortaxesTex they are applying American niceties<br>to statistics"
          ],
          [
           "@Abel_summation thought provoking take as is usual<br>from you"
          ],
          [
           "in any domain where I have no expertise I would<br>expect a similar level of consensus from high<br>status users to be almost certainly true... here<br>it's blatantly wrong"
          ],
          [
           "don't get me wrong I'm basically unequivocally an<br>enjoyer of decentralized anonymous underpoliced<br>info ecosystems... but I simply observe that the<br>lack of the system's ability to arbitrate the case<br>above really surprised me and threatened my priors"
          ],
          [
           "this is how dirty the ecosystem can get btw, this<br>example genuinely surprised me (I'm often a<br>perpetrator and frequently stray outside my<br>purview with undue confidence)<br>https://t.co/AJ9RKuOxtR"
          ],
          [
           "@Allsdolllapp it's a nice shorthand for placing<br>general intelligence on the curve"
          ],
          [
           "@_AashishReddy imo it's v hard to do w/o a few<br>months on a rates desk, but if I had to try, I'd<br>read central bank comms and track rates/data<br>daily, talking to practitioners on X about it etc.<br>the theory is until some point tablestakes and<br>after that point considered useless"
          ],
          [
           "i mean to claim that any market view is<br>demonstrably shallow in outright terms is<br>incredibly difficult because you'd have to first<br>disprove the EMH... so this kind of thing is best<br>reasoned through conditionals or existing<br>resolutions: practitioners outperform with very<br>notable margins in questions like \"what will<br>happen to X if Y\", which obviously doesn't have to<br>be market beating if the party is not accurately<br>predicting Y -- it's a clean test of domain<br>viability because you don't have to prove that<br>either of these guys are beating the market --<br>just that if you provided both of them with \"meta-<br>outcomes\" the IQ100 domain expert would beat the<br>IQ130 layperson  by \"existing resolutions\" I mean<br>attempts at estimating consensus, which is also<br>not necessarily market beating: \"what do most<br>participants think about X\" \"without looking, what<br>is the market price of X\"  it's a \"blind test\",<br>you take out the market price and put the IQ100<br>practitioner vs IQ130 layperson in a hypothetical,<br>in this hypothetical the IQ100 wins probably<br>overwhelmingly"
          ],
          [
           "you will also notice this if you get an intern<br>who's e.g. a brainmaxxed engineer from a great<br>university and yet completely intellectually<br>powerless in the domain until they've practiced it<br>for like 6-9 months"
          ],
          [
           "example: \"if the economic data is strong tomorrow,<br>will it be good or bad for the equity index\" is<br>basically an impossible question to answer from<br>first principles but is the kind of question many<br>practitioners will be tackling within a few<br>seconds of thought-chain"
          ],
          [
           "obviously this isn't their fault, most relevant<br>questions just aren't practically solvable from<br>first principles... \"is this car going fast enough<br>to hit me if I cross this road\"  an 11 year old<br>can answer that if they've crossed enough roads<br>but good luck doing the math"
          ],
          [
           "my timeline has infinity IQ130+ tech ppl recently<br>interested in macro/rates and their takes are<br>genuinely orders of magnitude shallower than those<br>of a IQ100 broker after 6 pints at lunch"
          ],
          [
           "@30SergioMisal yung macro is a CIA astroturf<br>truther"
          ],
          [
           "@bubblebabyboi upstream final boss"
          ],
          [
           "@_AashishReddy well written high effort stuff,<br>signalboost"
          ],
          [
           "@elonmusk @Abel_summation talks about this"
          ],
          [
           "how do I get a research seat at OAI post more been<br>a prominent one"
          ],
          [
           "@guyfarteri who are these magical cohorts who are<br>active western white collars and are \"outside of<br>twitter\"... are we discoursing lower middle class<br>facebookers on malay archipelago? who must know<br>them?"
          ],
          [
           "AOC drop for the girlies im not like these other<br>guys"
          ],
          [
           "@teortaxesTex https://t.co/ohNbesQ4U6"
          ],
          [
           "@teortaxesTex agree I deleted the post it was kind<br>of slop. the critique articulated by Cremieux is<br>somewhat convincing though it doesn't claim to<br>attempt to explain where the \"g-residualized\"<br>performance improvement comes from if not from g,<br>and if you can't explain that away you're kind of<br>stuck between \"a rock and a hard place\" (and also<br>stuck questioning your notion of the unobservable<br>g) (nor does this question seem to be satisfyingly<br>explored elsewhere insofar as a cursory overview<br>would suggest.)  there also seems to be some<br>evidence that the IQ improvement is somewhat<br>concentrated in the left of the distribution<br>(which sounds intuitive), so if you want to reason<br>through right-tail outliers you start to have to<br>contend with this whole rabbit hole  it feels to<br>me as a layperson in this domain that the<br>consensus seems to be \"general intelligence has<br>gone up somewhat, though the flynn effect<br>ovestates it in a variety of ways and to some<br>degree\", and I don't have the means to contend<br>with exactly where that magnitude lies and what it<br>implies for actual intergenerational intelligence<br>you clearly do have to haircut the 1-to-1 general<br>intelligence implication even in the mean, because<br>to claim that the average 1950s normie is modern<br>day IQ80 is not an intuitive worldmodel   if you<br>want to reframe my original case in a serious way,<br>you do probably end up concluding that yes we do<br>have way more geniuses than we did before, and yes<br>progress has slowed down, but hard to calibrate<br>exactly how hyperbolic to be about that magnitude"
          ],
          [
           "@pseudostokastic https://t.co/uTFbmWmvfP"
          ],
          [
           "@caleb6802 yep, exact same thing happened with DS"
          ],
          [
           "@based16z I'm still a believer<br>https://t.co/GgYn45h4qB"
          ],
          [
           "@Abel_summation interesting formulation"
          ],
          [
           "@valuedrift this is a good point"
          ],
          [
           "you see this a lot in small third world countries,<br>internal power structures are extremely byzantine<br>and intractable, people spend generations moving<br>up one rank, but some guy goes gets a US education<br>and gets implanted by the CIA with like 1/1000000<br>the effort of doing it inside"
          ],
          [
           "i mean in general if you want to oneshot power<br>structures you really can't do it without being<br>\"metasystemic\" about it and leaving the hierarchy<br>to influence it from outside... if Soros/Thiel<br>engaged the hierarchies (same stats &amp; effort)<br>they would have utterly failed"
          ],
          [
           "@teortaxesTex flattered https://t.co/iU55Gs4kux"
          ],
          [
           "@heavenlycaprice in what way is this anything like<br>astrology?"
          ],
          [
           "@springofarete @drydenwtbrown im a complete noob<br>at any econ not immediately relevant for the fixed<br>income market"
          ],
          [
           "@zephyr_z9 i would have placed u decently above<br>131"
          ],
          [
           "maybe love isn't even a strong enough word"
          ],
          [
           "@panickssery the hard part is finding the good<br>worldmodels, the psyop part is relatively easy--<br>if you're a conventionally good parent they'll<br>simply listen to you in their neuroplasticmost<br>years as nature intended (I think, I'm far from<br>having kids but I have been one lol)"
          ],
          [
           "needless to say we still love our tattooed<br>provincial egirls unequivocally"
          ],
          [
           "this is partly why you need to be consciously<br>settling on a set of precise worldmodels that u<br>will want to upload into your children's brains<br>with early age psyops... \"talking them through it\"<br>is a neoliberal meme"
          ],
          [
           "@oxbquant this is very well said"
          ],
          [
           "these people would have been calling 50 y/o newton<br>a 2std cause he stopped doing math"
          ],
          [
           "@newmachines the lobotomite category"
          ],
          [
           "the left wing is cut off because we don't really<br>interact with &lt;IQ90 on a daily basis due to<br>selection effects so you can kind of just<br>condition on that at all times"
          ],
          [
           "@youngtroon https://t.co/JAMRBFP4jS"
          ],
          [
           "@Abel_summation a very good point young man, a<br>very good point"
          ],
          [
           "@supersnowxbt have at it I have washed my hands by<br>specifying the epistemic status"
          ],
          [
           "@oxbquant in the words of a certain great<br>https://t.co/DRNR7IrWES"
          ],
          [
           "@oxbquant my gigaturboomegagoat has spoken"
          ],
          [
           "so much of existing advice on this is boomered out<br>it's incredible, idk how the lindy info market can<br>be this inefficient \"you must work hard son\" bro<br>work hard on what??? sweatshops are working hard"
          ],
          [
           "which is obviously the aim of this profile"
          ],
          [
           "@TheStalwart very well articulated. I have made a<br>post along similar lines previously, but in<br>characteristic fashion I actually view this<br>virality stuff as a positive development.  \"If the<br>point of good behavior is to achieve good personal<br>outcomes, then what's wrong with bad behavior if<br>that can also achieve good personal outcomes? It's<br>all about outcomes.\"  I think the neo-oral<br>ecosystem is definitely what has made it such that<br>viral behavior is rewarded, but the encouragement<br>of the pursuit of behavior that is traditionally<br>viewed as unethical but happens to be rewarded is<br>a separate part of the equation which I would view<br>in a somewhat less techno-deterministic fashion--<br>I think that aspect is mostly downstream of<br>englightenment rationalism and secularism (which<br>can indeed also be techno-determined, depending on<br>how many layers we want to zoom out). I think the<br>difficulty of articulating virtue for its own sake<br>is moreso because of \"no more God\" than because of<br>\"more orality\". The fact that society is becoming<br>more oral & less secular recently, and this has<br>coincided with us becoming actually more punitive<br>wrt. unethical reward seeking reinforces my prior<br>on this. Though I can see both interpretations of<br>this aspect as viable and plausibly competing,<br>they can even coexist"
          ],
          [
           "@oxbquant the san francisco special"
          ],
          [
           "@conksresearch https://t.co/dvvjZliXVl"
          ],
          [
           "@TremendousNukes Sweet Jesus mother Mary of<br>Bethlehem https://t.co/AJrmzm1Wz7"
          ],
          [
           "and also without exception the post has a<br>gazillion likes and not a single soul pointing and<br>laughing at the imbecile... this tells you all you<br>need to know about the EPISTEMIC WORTH of twater<br>consensus"
          ],
          [
           "the chamath classic"
          ],
          [
           "@oxbquant well said, well said."
          ],
          [
           "@_AashishReddy I was serious actually------------"
          ],
          [
           "\"ew he's so kitsch bro... where but queens am i<br>right :p\" https://t.co/FgO5hQWdSy"
          ],
          [
           "@_AashishReddy yes great point as always AR, I was<br>going to put this in my elaboration but slipped my<br>mind... the path is very charted"
          ],
          [
           "christian NDS to be clear"
          ],
          [
           "fwiw this is obviously based but I'm against it<br>because I'm a NDS (neodeepstatist)<br>https://t.co/C07NI1RfeI"
          ],
          [
           "you innocent, poor soul... https://t.co/HyNMD4XUlC"
          ],
          [
           "if we had IQ140+ prediction markets we could have<br>fun questions like \"when will be the first date at<br>which a US head of state wears a crown\" but<br>unfortunately we only have IQ90 prediction markets<br>(polymkt/kalshi) &amp; IQ120 prediction markets<br>(manifold/metaculus)"
          ],
          [
           "@larrystavrogin @smartgeniu20342 why is it not<br>commendable?"
          ],
          [
           "@larrystavrogin @smartgeniu20342 what makes you<br>say that"
          ],
          [
           "@oxbquant trvke"
          ],
          [
           "@lanadunhamcel @rudbytorector @providenceluvr up<br>top ✋"
          ],
          [
           "@TenreiroDaniel @tszzl thank you both for the kind<br>words"
          ],
          [
           "@TenreiroDaniel sensei 🙇‍♂️"
          ],
          [
           "@2raiseto00 up top bossman ✋"
          ],
          [
           "@lucian___11 this is a gender neutral comment,<br>below is likewise unbecoming<br>https://t.co/koBp8DbU8C"
          ],
          [
           "@matthew_pines what about the Christian God?"
          ],
          [
           "@smartgeniu20342 fairly simple... christian<br>deepstate"
          ],
          [
           "@lucian___11 what's boring is watching your<br>overclass clack around in louboutins and lip<br>filler like assembly moms at a bucharest middle<br>school"
          ],
          [
           "@yijiezuimei type shit https://t.co/96otPYutVM"
          ],
          [
           "hence"
          ],
          [
           "your deepstate guys are boomers now and worship<br>satan? ermm ok then get up there and show them how<br>it's done!"
          ],
          [
           "if you're mad at your deepstate guys the noble<br>ambition is to become a better deepstate guy<br>yourself, certainly not to abolish the deepstate<br>altogether.."
          ],
          [
           "@Abel_summation looks like I have finally<br>successfully astroturfed the IQ***  notation...<br>всё по плану https://t.co/AVyZuScSw3"
          ],
          [
           "@Abel_summation trvke"
          ],
          [
           "@rudbytorector @providenceluvr i'm a. self<br>proclaimed friend of the foidcast so the pleasure<br>is all mine"
          ],
          [
           "@lanadunhamcel lets talk this out"
          ],
          [
           "@TenreiroDaniel we up ⬆️"
          ],
          [
           "@AlephDeTloen \"perhaps I treated you too harshly\""
          ],
          [
           "the katechon’s immanentization will not be<br>televised"
          ],
          [
           "https://t.co/XalVMHMpLW"
          ],
          [
           "@scheminglunatic why?"
          ],
          [
           "@medjedowo you could definitely intuit it"
          ],
          [
           "@notthreadguy probably until the early zoomers<br>come to power so maybe 10 years"
          ],
          [
           "@VictoryOdes disagree"
          ],
          [
           "@wuthuh it's definitely a debate one can have  a<br>heuristic I like to resort to is that when the<br>electorate is itself unhappy, a happy disposition<br>gets you voted out. this is why eg. tim walz and<br>harris were complete disasters and at times felt<br>like horror film psychopaths<br>https://t.co/9jTYBoSHJh"
          ],
          [
           "@VictoryOdes which one? desecularization or the<br>increasing popularity of orthodox christianity?"
          ],
          [
           "@abcampbell the astute may monetize it by using<br>the prediction to strategically position<br>themselves in such a way which will afford them<br>cultural influence within the coming years"
          ],
          [
           "@Soul0Engineer yes"
          ],
          [
           "@Johnny2Fingersz none of the eastern stuff stands<br>a chance tbh"
          ],
          [
           "this is btw how the establishment right should be<br>aiming to subvert Nick Fuentes, who is obviously<br>an increasingly weighty phenomenon -- not through<br>secular means and figures (as they have been<br>trying) but by astroturfing a genuine catholic<br>authority figure in the public sphere"
          ],
          [
           "@_AashishReddy sry typos didnt proofread"
          ],
          [
           "@_AashishReddy the way I treat AI is basically<br>just intuit what the consensus is among people<br>whose opinions I trust (my contextual competence<br>here lies in the part of picking them out, not at<br>all in questioning their consensus) and using that<br>as an input into my wider thought process, and<br>that consensus definitely as you say has degraded.<br>numbers so far from all the big tech cos have been<br>great and the equity indices are doing great, so<br>the vibe shift is not obvious there-- one<br>interpretation of that is that the market<br>consensus was already far below expert consensus,<br>so there's nothing to mark to after expert<br>consensus is disappointed (this is clearly in part<br>true given e.g. how few people in markets believe<br>in singularity type scenarios vs experts) and the<br>other interpretation is that the market hasn't<br>caught onto the disappointment yet and is somewhat<br>downstream and short termist (this is also clearly<br>somewhat true)  as to the disappointment seemingly<br>being weird (again with the caveat of having no<br>ambition of contributing above the beta here)<br>because of it not coinciding with a reappraisal of<br>the technology-- I'd say it has coincided with<br>some form of reappraisal? maybe the reappraisal<br>seems more narrow than it really is because 1. it<br>is against an assumed slope (we expected<br>improvement, got less improvement than we<br>expected, so in \"spot\" terms the technollogy has<br>been reappraised as being better than before but<br>not by sufficient amount to beat expectations)<br>this can obviously dampen the extent to which it<br>feels like a reappraisal but it's just a visual<br>trick... and secondly it feels like everyone's<br>personal experience has been sigmoided even though<br>people with vested interests seem to keep posting<br>exponentials... so I'd intuit a lot of the<br>remaining gap is filled with people losing<br>confidence in the popular evaluation methods being<br>representative of consensus appraisal of the<br>technology? I can definitely point to a number if<br>instances of high reputation accounts claiming<br>they no longer look at benchmarks and so on and<br>just go by feel. this makes sense to me<br>directionally-- I'm not at all impressed by IMO<br>win if there's room for overfitting"
          ],
          [
           "@SafFooty hater"
          ],
          [
           "@W98AB yeah prob lots of snake oil merchants<br>selling the \"just do physics it is best practice<br>for trading bro\" aestheticmaxxed lifepath just for<br>guy in the middle of his class at university of<br>virginia or whatever to realize he's not getting<br>called back for interviews"
          ],
          [
           "@W98AB I put this together and tbh it's not that<br>jarring when you account for inevitable cyclical<br>oversupply... more of a vibes thing than something<br>clear in the data https://t.co/G5yFYK94Dr"
          ],
          [
           "decade of the top left quadrant aristocratic<br>speculator https://t.co/nCM8oDKhbz"
          ],
          [
           "if wordcel/shaperotator was tokenized btw (as I<br>assume it soon will be) the relative price chart<br>would be quite striking... those sorts of vague<br>speculations will be institutionally monetizable<br>in systems of near future"
          ],
          [
           "@josephsbool not being out of place next to 2<br>sexualized millennial women also comes at a cost<br>when 125% of genz is involuntarily celibate"
          ],
          [
           "@sevensixfive @default_friend i dont know what<br>that is"
          ],
          [
           "throat cancer or keep getting ratioed by 300<br>follower groypers.. your choice compadre"
          ],
          [
           "@helscom on the other hand Elon has held on for<br>longer than most cultural critics predicted<br>because bro is straight up not having fun<br>whatsoever.. rather endearing"
          ],
          [
           "@helscom 🎯"
          ],
          [
           "@oxbquant profoundly mobiusian...<br>https://t.co/5IJHcbvhN8"
          ],
          [
           "@default_friend poor boomers can't catch a break"
          ],
          [
           "it's like if this guy suddenly pulled up<br>looksmaxxed af.. his vibe reels would fall off<br>real quick https://t.co/UTnM13hmnk"
          ],
          [
           "@W98AB so lana del rey bro.. though the guy needs<br>the pants a little higher https://t.co/YJjDG9c7Ca"
          ],
          [
           "@W98AB sir yes sir"
          ],
          [
           "for clarity I'm not secular I'm Christian which<br>provides an alternative source of immunity from<br>these sorts of fetishes"
          ],
          [
           "@redaction kinda upstream ngl"
          ],
          [
           "@teortaxesTex https://t.co/ZueGGXa9NT"
          ],
          [
           "for every unit of support for the utility function<br>I'll be donating a dollar to your charity of<br>choice"
          ],
          [
           "@PinballWiz4rd it is honest work sir<br>https://t.co/K2JIINRBLs"
          ],
          [
           "@mikeofpol the downfall must be studied and so on"
          ],
          [
           "@Johnny2Fingersz https://t.co/XK7F5eSm5F"
          ],
          [
           "the French are so lucky they don't have the<br>internet yet"
          ],
          [
           "@champagne_scar https://t.co/uiyK2fZfYt"
          ],
          [
           "@_AashishReddy yeah of course i love the<br>fishnetposting cigposting girls"
          ],
          [
           "@_AashishReddy Kant is a really interesting case,<br>in teenage years it seems to be either fishnet<br>cigposting girls who are obsessed with him (who<br>haven't read him and graduate to Hegel by college)<br>or special case IQ160 hidden shape rotator<br>gigaautists   I only wanna talk to the former"
          ],
          [
           "@thermo2ndlaw which is which?"
          ],
          [
           "I know that many allegedly smart millennials<br>especially in america still think that \"real<br>thinking\" is being done in random boomer<br>congregations like \"École Normale Supérieure\" in<br>\"France\" but come on man... surely we aren't this<br>stupid.."
          ],
          [
           "@0xUnihax0r this is just self deprecating humor<br>usually. people that willingly seek out<br>intellectual challenges online on top of selective<br>white collar work are very much in the right tail<br>of the distribution"
          ],
          [
           "by \"contemporary intellectual paradigm\" i mean<br>online discourse of course, which is all that<br>matters now"
          ],
          [
           "@yacineMTB glad u like it 🙏"
          ],
          [
           "@AtlasXThugged pmarca also famous doomscroller...<br>basically its the bell curve meme -- midcurve =<br>\"dont doomscroll\" and tails = \"we do a little<br>doomscrolling\" blue light supremacy"
          ],
          [
           "@bigblackbunga unironically"
          ],
          [
           "when u optimizemaxx even if destiny wants to<br>reward you you're not letting it........."
          ],
          [
           "if Thiel's fund didn't fail where would he be now?<br>unclear but the odds that he would still be a<br>worldhistoric figure is ~0% (obviously the<br>probabilistic intuition here is that extremely<br>rare outputs are very sensitive to input variables<br>and if u tinker u revert to the mean)"
          ],
          [
           "(you can't optimize for complex functions but u<br>can certainly antioptimize for them by voluntarily<br>minimizing randomness in your life...)"
          ],
          [
           "@abcampbell insane call"
          ],
          [
           "@TenreiroDaniel @vanspina_ lmao"
          ],
          [
           "@vanspina_ the upstream shall inherit the earth"
          ],
          [
           "@paulg such is life"
          ],
          [
           "@AlisaRaeWu i really like you btw"
          ],
          [
           "@0x49fa98 avoid?!"
          ],
          [
           "@ludwigABAP real recognize real 👊🙏"
          ],
          [
           "@cornappreciator i know i was thinking during the<br>2 paragraphs in detached streams... humblest<br>apologies"
          ],
          [
           "@joshqharris have spent 0 minutes in california<br>but surely most people who have get 99% of their<br>datapoints online anyway?"
          ],
          [
           "this is basically the cognitive equivalent of<br>cardi B WAP discourse"
          ],
          [
           "can you imagine a random high performer from<br>University of Buenos Aires debating a random<br>Stanford startupmaxxer on some serious matter that<br>they get a month to research... filters tell us<br>the latter should eat the former for breakfast but<br>the opposite will surely transpire!"
          ],
          [
           "like genuinely you end up in a state where a<br>completely IQ unfiltered philosophy major at a<br>LATAM university is probably going to run circles<br>around your elite human capital in a language not<br>even their own... a debate set up like this would<br>be a complete slaughter no doubt"
          ],
          [
           "@usaunderstander his returns were normal macrocel<br>0.5 sharpe shenanigans but he is an expert<br>communicator/\"market whisperer\"... he has walked<br>bond yields away from cliff edges on policies that<br>would have given the average bond trader a heart<br>attack"
          ],
          [
           "so you keep getting this repeat episode of a<br>random layperson trying to explain on a public<br>channel why what he's doing is economically sound,<br>accidentally scaring the market, and getting<br>replaced by another random layperson... example:<br>the truss/kwarteng budget in the UK"
          ],
          [
           "everyone else, including sophisticated &amp;<br>gigafinancialized states like the UK, has kept<br>their head in the sand about the fact that as a<br>government these days you're largely presenting<br>your case to the bond market not to an<br>electorate..."
          ],
          [
           "power games are generally so much better for<br>cognitive retention than moneygames... because<br>powergames are never postscarcity -- if trump or<br>bibi let up the gas pedal they have an existential<br>threat waiting for them which is insane to think<br>abt. if vinod lets up he has 10bn"
          ],
          [
           "this guy is 5 years older than vinod khosla and 15<br>years older than paul graham lol... and trump is<br>nearly half a decade older than him  \"there's<br>levels to this game\""
          ],
          [
           "genuine age oneshots like biden are rare... if u<br>go post-scarcity as a 25 year old u will notice<br>this happen before u step in, the pace of<br>degradation is pretty insane.. this is how all<br>normies are perma walking around after a decade of<br>9-5"
          ],
          [
           "@TenreiroDaniel swaps trader"
          ],
          [
           "@Abel_summation truth nuke"
          ],
          [
           "@shguke why?"
          ],
          [
           "@SamoBurja relatedly as some pointed out steve<br>jobs is a massive business countercase"
          ],
          [
           "looksmatch in the 70s btw"
          ],
          [
           "honey, I've immanentized the katechon"
          ],
          [
           "or... the tshirt was straussian all along"
          ],
          [
           "and my upstream redpill is of course that we do<br>need to be immanentizing the katechon loud and<br>proud"
          ],
          [
           "i often wonder if we're headed back to this<br>structure in the west"
          ],
          [
           "this is why elon sleeps at his factory btw... not<br>because it makes him more productive obviously"
          ],
          [
           "btw Hannibal is probably one of the most<br>understudied powermaxxers... the things he pulled<br>off are literally mind blowing Elon-squared anti<br>probable"
          ],
          [
           "@SynthesizingMan yea I'm going through it and<br>everytime he just spends 5 pages of prose on like<br>\"ermmm le TV... permeates la realite in its<br>totalite... et la realite.. implode..\""
          ],
          [
           "@oxbquant wagmi"
          ],
          [
           "@waldmenschen of course I know, it's the European<br>Parliament in Strasbourg https://t.co/JclS1E42AB"
          ],
          [
           "@KinderheimRune \"and the alt tumblr emo kawaii<br>waifu, where are they now?\" \"you're looking at<br>them asshole\" https://t.co/a9aNKDkp6k"
          ],
          [
           "@ssphinxe really"
          ],
          [
           "@ssphinxe why?"
          ],
          [
           "&gt; baited so hard the boomer church of Mammon<br>has set their hellhounds on me &gt; I can hear the<br>infernal snarl by my window<br>https://t.co/J1jw2Ckkzb"
          ],
          [
           "@BackPedaling112 yeah I would guess the chart<br>would look like levered nasdaq"
          ],
          [
           "I have never met anyone over the age of 30 who<br>understands contemporary global macro btw"
          ],
          [
           "they shunned the prophet for he spoke truth<br>https://t.co/qnAHiRnY7a"
          ],
          [
           "@Compart42 https://t.co/Bly4E86YaJ"
          ],
          [
           "just like everyone would have called you insane in<br>late  20th century if you suggested that a<br>majority of new companies would be launched by the<br>college aged cohort within a decade or two, they<br>have been calling me crazy for insisting on this<br>inevitability for 3 yrs straight now"
          ],
          [
           "@Abel_summation agree, great depiction"
          ],
          [
           "@Abel_summation impressive, young man!"
          ],
          [
           "@Abel_summation interesting"
          ],
          [
           "@thiccyth0t yep, technocapital currently lacks a<br>viable face and a viable ideological<br>scaffolding... working on this"
          ],
          [
           "@thiccyth0t \"What do you think should be done?\" I<br>find forecasting too far out difficult, probably<br>difficult enough to justify the commitment of all<br>resource instead to our moving up the power chain<br>and ensuring the good outcome is delivered<br>thought provoking piece as always"
          ],
          [
           "@b1uemarinee skill issue / based"
          ],
          [
           "@paneleto &gt; fifa ngmi :/"
          ],
          [
           "@Abel_summation this is really interesting"
          ],
          [
           "i have a live twitter feed on my bloomberg<br>terminal where I used to have my minimap in league<br>and I have like a 50/50 hitrate of getting major<br>news before the headline pops up"
          ],
          [
           "in many ways the marathon runner is running to his<br>chickens who yearn for him 🙏"
          ],
          [
           "hence why the provincial type is most prone to the<br>marathon bug and the travel bug... they should<br>really be at home making cheese with grandma or<br>something"
          ],
          [
           "when one lacks the spiritual faculty, one<br>interprets all yearning as a physical shove to<br>move, \"get after it\", move to the big city, fly to<br>cambodia, run around the city, etc"
          ],
          [
           "this is btw the same phenomenon as the travel<br>bug... an entire generation thinking they lack<br>purpose because they need to be elsewhere... when<br>all along ------ the answer lie within"
          ],
          [
           "@W98AB they know what Peter does (win)"
          ],
          [
           "@anarch97 genx are kinda chill ngl"
          ],
          [
           "it is such a rare instance in history for capital<br>to be near exclusively deployed from the<br>downstream... as it is currently"
          ],
          [
           "in not too long this inefficiency will<br>equilibriate by capital climbing upstream as it<br>always does, with zoomers eventually managing most<br>of global investments  social norms are strong,<br>but they're not stronger than capital, capital<br>yearns to be in zoomer hands, yearns for growth"
          ],
          [
           "@TsarParsifal interesting!"
          ],
          [
           "big fan of Disneyland as well"
          ],
          [
           "@solipsism_2 99% boomerslop"
          ],
          [
           "@zaitoonx rly good post btw"
          ],
          [
           "I just realized that you can basically take any<br>poststructuralist reading of hollywood and<br>retrofit it on modern capital markets, endless<br>well of content... stay tuned"
          ],
          [
           "needless to say Marc I'm your biggest fan, I<br>contend with Jean here"
          ],
          [
           "@sailaunderscore im sayin"
          ],
          [
           "@TenreiroDaniel Per Aspera, Ad Astra."
          ],
          [
           "@ClosedFormJest I think left/right populism is<br>quite horseshoed, as for the canadian election why<br>do you think it's a bad read? it was a predictive<br>read for me out of sample"
          ],
          [
           "as a heuristic  if you want to know what the<br>future holds, just plot a distribution curve over<br>scifi settings https://t.co/K5PONVWwrw"
          ],
          [
           "this is why Elon should elect this particular<br>protocol https://t.co/N86IpL0yim"
          ],
          [
           "with this in mind if you're still counting on<br>populism and democracy being around for much<br>longer idk what to tell you"
          ],
          [
           "@e_virdfr https://t.co/5EUjsEDe9R"
          ],
          [
           "@lucky_strikes_x I cannot name my pet primitive<br>because I don't want them to block me"
          ],
          [
           "@e_virdfr it's novel and brave because she is a<br>primitive thinker popular among primitive thinkers"
          ],
          [
           "if Soros knew any better he'd also pick a pet<br>primitive which would have elevated him above<br>popper (who to be fair is a near-primitive but not<br>quite enough)"
          ],
          [
           "@_AashishReddy all good points"
          ],
          [
           "@_AashishReddy what's your take on the tyson fury<br>example above, it is kind of a similar instance<br>but an even more absurd one (less dominant but a<br>much more obviously detrimental set of traits)"
          ],
          [
           "@andrewrno huh?"
          ],
          [
           "@_AashishReddy though what are the odds that usain<br>bolt (a great example) is an instance of that<br>rather than my missing a way in which his height<br>helped"
          ],
          [
           "@_AashishReddy indeed there must be nonzero worlds<br>where the best pair has a one..."
          ],
          [
           "@awake62978576 thanks 🙏"
          ],
          [
           "the boomer advice they're given instead is that<br>yes, the tough spot will always be a massive nerf<br>but they should try anyway, and live with much<br>lower baseline odds of success than their luckier<br>peers, which is a completely demotivating thing to<br>say to a young person"
          ],
          [
           "I once again point out that this is the idea that<br>must be elucidated to any ambitious young person<br>who feels like they are starting in a tough spot<br>-- that the success rate of people starting in<br>seemingly tough spots indicates that the tough<br>spots are actually helpful"
          ],
          [
           "anyone wanna opine on how berkson's paradox comes<br>in here https://t.co/YGzklNuI5T"
          ],
          [
           "this creates many seeming paradoxes, for example<br>Tyson Fury who became the best boxer in the world<br>at a point as an overweight and aging semi-retired<br>former drug addict alcoholic and so on -- were<br>these traits helpful or complementary?<br>https://t.co/kpZ0x7LlNb"
          ],
          [
           "@TheDuckySocks yea I don't think it's a good thing<br>for the US right now, but contrarian hypothetical<br>food for thought and so forth"
          ],
          [
           "@MazenJalloul @EffMktHype what you're saying makes<br>no sense. I've gone through the ACM paper more<br>than once and it's not relevant wrt what we're<br>talking about. the term premium in 2y is too<br>small, hence everyone in the industry uses it as<br>an expectations proxy. to act like it's idiotic to<br>do so is absurd"
          ],
          [
           "@MazenJalloul @EffMktHype do you understand the<br>magnitude of the unshared variance? there is a<br>reason it's fairly industry standard practice to<br>use the 2 year yield as a proxy for the market's<br>expected policy rate path"
          ],
          [
           "@MazenJalloul @EffMktHype what does that even<br>mean?"
          ],
          [
           "@midwit_retard yeah its like harvard vs mister<br>beast"
          ],
          [
           "there's fairly high reputation people in the<br>replies of the dunk also acting like \"the 2y yield<br>is the expected fed funds rate over two years\" is<br>an unbelievably ridiculous statement, honestly<br>incredible levels of intellectual integrity lmao"
          ],
          [
           "@halogen1048576 especially considering this is<br>basically the most intelligence selected cluster<br>on already the most intelligence selected popular<br>social media platform out there"
          ],
          [
           "@EffMktHype how is that an unreasonable thing to<br>say?"
          ],
          [
           "intuitively optimal is probably like 2-3 days of<br>~45mins exercise a week, as long as u have normal<br>walking habits and so on"
          ],
          [
           "@SebastianFrazer a crime of virtue sir🙏"
          ],
          [
           "@FlagelloMagoo4u ..."
          ],
          [
           "@yh9drc7tqf does this count?<br>https://t.co/PX0KRiPa7f"
          ],
          [
           "@_AashishReddy @flawedaxioms indeed, and I'd say<br>that many reasonable people wouldn't be<br>comfortable with the IQ proxy ceasing to have<br>meaning here"
          ],
          [
           "@tszzl @HowieHubler i'd say the extent to which<br>reasonable people think markets are efficient vs<br>the extent to which reasonable people think iq150<br>outperforms iq80 feel inconsistent with each<br>other, so if these people examined their EMH<br>conviction from first principles they'd likely<br>update"
          ],
          [
           "@_AashishReddy operating in a perfectly efficient<br>market, should both rooms not have EV=0?"
          ],
          [
           "@_AashishReddy just both sets independently vs the<br>actual financial market. iq80 hedge fund and iq150<br>hedge fund"
          ],
          [
           "@_AashishReddy but the two rooms are also equally<br>predictive right?"
          ],
          [
           "@dyuhfonach_ii @jacobrintamaki incredible"
          ],
          [
           "applies in a massive way to the people early to<br>AI, who are also our friends"
          ],
          [
           "@seventhmeal there's a way in which its like<br>5,000 schizos --&gt; 500 enterprisers --&gt; 8 bn<br>NPCs  like anons upstreaming JD Vance who<br>upstreams a nation"
          ],
          [
           "henry talks about this https://t.co/nzt0BZO4bE"
          ],
          [
           "yet despite roughly similar dollar cost,<br>advertising agencies and propaganda machines<br>continue to focus on downstream normie cultural<br>engineering.. why? because they are r worded"
          ],
          [
           "therefore the math tells us that influencing 1<br>upstream schizo is equal to influencing 8bn/5k =<br>1.6mn normie"
          ],
          [
           "cc @TobiasAHuber"
          ],
          [
           "@TheStalwart https://t.co/ZebDUlFKHe"
          ],
          [
           "@oxbquant @bryan_johnson euribor ass diet"
          ],
          [
           "@bubblebabyboi splendid analysis"
          ],
          [
           "@bubblebabyboi I hereby grant you the z pass"
          ],
          [
           "@cryptodaaddy ^ case in point"
          ],
          [
           "just imagine an average 40 y/o or whatever trying<br>to navigate the world in 10 yrs from now when this<br>is the kind of stuff 99% of communal signal<br>channels are transmitting. zoomers can't read but<br>they can read this. boomers can't read this but<br>they can at least read https://t.co/lwLLs3nAKj"
          ],
          [
           "if you're a metropolitan office worker the only<br>millennials you talk to are heavily selected. try<br>to seek out a median and report back, it is<br>worrisome. they are flailing around like<br>schizophrenics, ask them about anything important<br>and usually you think they're on heavy drugs"
          ],
          [
           "we will definitely need UBI for these guys"
          ],
          [
           "@TenreiroDaniel from here the committee will<br>carefully assess incoming data, the evolving<br>outlook, and the balance of risks."
          ],
          [
           "@elaifresh @thermo2ndlaw not that this is central<br>to my point but come on lol... nothing evenhanded<br>about that depiction"
          ],
          [
           "@thermo2ndlaw ?"
          ],
          [
           "@TenreiroDaniel my thesis: \"Aggression in der<br>Lebenswelt: Die Erweiterung des Parsonsschen<br>Konzepts der Aggression durch die Beschreibung des<br>Zusammenhangs von Jargon, Aggression und Kultur\""
          ],
          [
           "@0x49fa98 I model it as a large pool of water that<br>got a hole shot through the bottom quarter of its<br>wall -- it's slow to drain but to think the water<br>level is not monotonically decreasing is indeed<br>delusion"
          ],
          [
           "@AndreiCroitor yes and its beautiful"
          ],
          [
           "@TenreiroDaniel our goat"
          ],
          [
           "@oxbquant great read as always my friend"
          ],
          [
           "@jacobrintamaki loving the username"
          ],
          [
           "@abcampbell inspired by the greats ⚡️"
          ],
          [
           "@BasedBeffJezos @zarathustra5150 🙏 👊"
          ],
          [
           "@jacobrintamaki yearn"
          ],
          [
           "@lanadunhamcel hence my politely calling you girls<br>over women"
          ],
          [
           "@oxbquant parsimony. the few called it."
          ],
          [
           "@hhoho_haha81464 @chymeriatics come on man!"
          ],
          [
           "@TrustInFutures every second notification is me<br>getting cooked by alabamans rn"
          ],
          [
           "@PancakesKing1 @RichardHanania I don't know which<br>print you're talking about off the top of my head,<br>there's like 700 indicators of US GDP with<br>perpetual revisions -- my writeup is addressing<br>the high profile confusing negative print from<br>back in the day which is surely not useless<br>context here?"
          ],
          [
           "@PancakesKing1 @RichardHanania yes, volatility in<br>trade can turn the headline releases confusing<br>https://t.co/aVfgl4SLyi"
          ],
          [
           "@PancakesKing1 @RichardHanania you aren't parsing<br>those GDP releases correctly"
          ],
          [
           "@stuartbuck1 @RichardHanania so you think if we<br>control for the surprise in the form of<br>implementation the expert class was spot on with<br>the implications?"
          ],
          [
           "@RichardHanania do you disagee that trade policy<br>so far, in the shape that it has been carried out,<br>has had less of a detrimental impact than expert<br>consensus had anticipated?"
          ],
          [
           "@NOTarealwolf @dionizije_fa no have you?"
          ],
          [
           "@2raiseto00 or rather where the zeitgeist was 6<br>months ago"
          ],
          [
           "this is literally the mainstream language now btw<br>among these pundits. we have let them hedge and<br>hedge and this is the endstate. happy now? should<br>have called out little old larry with me back when<br>he was still stuck at the 40/60"
          ],
          [
           "@andocracy @hhoho_haha81464 if you aren't<br>annualizing why are you worried about 1mo 0.55 in<br>a random subindex when core pce has been at a<br>fairly consistent 0.2-0.3"
          ],
          [
           "@Abel_summation very interesting keep us updated"
          ],
          [
           "@zephyr_z9 the fact that I've seen this shared a<br>squidillion times and you're the first I've seen<br>point this out sets the prior pretty high for ur<br>attention torque in a very attention bottlenecked<br>world... wp"
          ],
          [
           "@zephyr_z9 you're a literal eagle"
          ],
          [
           "@ChrisKartalia imma keep it real lutnick doesnt<br>understand shit"
          ],
          [
           "@andocracy @hhoho_haha81464 stop annualizing 1<br>month component level prints"
          ],
          [
           "@log85996172 reading disability maxxing"
          ],
          [
           "@hhoho_haha81464 yes this is what I've been<br>hearing from every economist I've asked why they<br>are rolling their call for the 26th time in a row"
          ],
          [
           "@dionizije_fa nietzsche talks about this."
          ],
          [
           "@hhoho_haha81464 tariffs have been a pretty<br>massive success so far compared to what was<br>foretold by mainstream markets research"
          ],
          [
           "it makes me seethe that the ~5 guys on lookism<br>that upstreamed all of modern macroculture will<br>get nothing for it... no recognition or accolades<br>or galas or grants or anything, they'll just rot<br>and it's all because they were quite unfairly<br>forced into anonymity"
          ],
          [
           "@gentle_class7 @TheStalwart incredible"
          ],
          [
           "@LandsharkRides proper"
          ],
          [
           "@abcampbell classic"
          ],
          [
           "@gentle_class7 @TheStalwart is the passthrough in<br>the room with us right now"
          ],
          [
           "we are approaching  \"slightly better targetted ads<br>is the existential risk\""
          ],
          [
           "@TheStalwart we'll see the passthrough any day<br>now!"
          ],
          [
           "@teortaxesTex \"opening up. open. open. our<br>companies will go in. I think you'll like it\""
          ],
          [
           "@oxbquant this is so well said..."
          ],
          [
           "@_AashishReddy this obviously isn't fully true,<br>asset prices can incorporate information that they<br>aren't deliberately traded on, but it's<br>parsimoniously &amp; functionally true"
          ],
          [
           "@jacobrintamaki vibecheck: passed ✅"
          ],
          [
           "@_AashishReddy haven't read it, below has been my<br>only engagement  otherwise, the ambiguity is<br>consensus \"on the street\", so there's no rates PMs<br>selling or buying bonds based on their P(AGI)<br>--&gt; the impact is indeed ambiguous, at least<br>for now, and we can't look there for street's<br>P(AGI)"
          ],
          [
           "@_AashishReddy the easier place to discern what<br>outcome the market is pricing is consensus<br>chatter, given the difficulty in gauging economic<br>magnitudes for unprecedented shifts  but the best<br>open place to look is equity valuations, the<br>impact on rates isn't that clear"
          ],
          [
           "@_AashishReddy the difference is that only one of<br>us bench presses 110 kg for reps..."
          ],
          [
           "@_AashishReddy I would say this is de facto the<br>same for most professional or otherwise active<br>speculators including in aware circles"
          ],
          [
           "@_AashishReddy all my speculation is conditioned<br>on the technology plateauing ~ around where it is<br>now"
          ],
          [
           "if we actually consensus gigaplateau it will be<br>such an incredible relative aura transfer from<br>blogmaxxed hype-mongering dysgenic EA zoomers to<br>us rascalmaxxed lindymaxxed dionysian jungian<br>tastemaxxed zoomers"
          ],
          [
           "SF bros, would you agree that the consensus<br>timeline has been sigmoided away? am I free to<br>think about geostrategy and the such again? long<br>term macroeconomics? so forth?"
          ],
          [
           "@Abel_summation will be watching with great<br>interest"
          ],
          [
           "@_mattneary copy that unc"
          ],
          [
           "@oxbquant few... very, very few..."
          ],
          [
           "@TrustInFutures beast..."
          ],
          [
           "@jacobrintamaki few, only few..."
          ],
          [
           "@awake62978576 it's literally zoomerslop verbiage<br>what is problem"
          ],
          [
           "@thermo2ndlaw that was a straussian moment"
          ],
          [
           "@thermo2ndlaw no"
          ],
          [
           "@elocinationn antilindy"
          ],
          [
           "@bayeslord chadface"
          ],
          [
           "@Xilo_K that's my president"
          ],
          [
           "@Xilo_K it's useful because it reassures the<br>subject who thinks \"ahh due to all these<br>circumstances that have nothing to do with my<br>natural competence (the confounder) I failed as a<br>kid, will this failure in itself put me at a<br>disadvantage?\""
          ],
          [
           "by the way,  \"yes your prospects will suffer from<br>lack of teenage success but whatever, suck it up<br>and still push for it\"  is the biggest detrimental<br>midwit advice you can give to a young striver<br>nobody is motivated by the admission that they're<br>working with a handicap, if the kid is<br>statistically minded they will just assume they<br>have 0% odds of making it big conditioned on the<br>handicap, given all the people without the<br>handicap and equal ability they'll have to<br>outcompete   and they'll just give up"
          ],
          [
           "this is why immigrants do so well among other<br>things, they are the case study in question:<br>controlled for the confounders (they did badly<br>early for reasons other than their innate ability)<br>and have the motivation boost from doing badly<br>early"
          ],
          [
           "@quant_arb yours is goated &amp; vice city pilled"
          ],
          [
           "can a mid-20s urbanite grow a mustache without<br>turning bisexual?"
          ],
          [
           "meta https://t.co/R7SWZLR6sD"
          ],
          [
           "@hibiscuslotus25 lindy to be fair"
          ],
          [
           "@SebastianShemi thanks bookmarked"
          ],
          [
           "@Haganenno game is game"
          ],
          [
           "@hibiscuslotus25 laying the book down on your<br>knees and emoting the \"oops sorry\" shrug every<br>page flip to signal you're hyperreality-aware<br>https://t.co/hGagfhlpCt"
          ],
          [
           "@TrustInFutures based &amp; post-normie pilled"
          ],
          [
           "@mikeofpol I'm glad we could set aside our<br>differences"
          ],
          [
           "@_AashishReddy not allowed to do that"
          ],
          [
           "@heemelee yes I would chadface"
          ],
          [
           "@bucketz_bucketz no because the causality is<br>pretty clear in the individual cases"
          ],
          [
           "@_AashishReddy that's what a compulsive liar at<br>the top of a complex system would say"
          ],
          [
           "@zephyr_z9 yep sama another classic example.<br>compulsive lying at the top of a complex system<br>gave us AGI, took us to Mars, the iPhone... still<br>think they're bad anon?"
          ],
          [
           "arguably the most successful businesses of our<br>time were all built by a well known compulsive<br>liar (Elon)"
          ],
          [
           "arguably the most successful corporation of all<br>time was delivered in no small part thanks to the<br>compulsive lying done by the guy at the top<br>(Apple)"
          ],
          [
           "think of a leader you admire, one that delivered<br>consistently good outcomes -- would it have been<br>better if his rallies were \"yeah so guys there's a<br>50/50 chance this strategy works but I'm thinking<br>we lean toward it still? let's give it a shot and<br>iterate here, I'm not sure\""
          ],
          [
           "@elocinationn I'm not trolling at all! it's a<br>pretty common meme within the \"fixed income<br>community\" that midwits love stripping out<br>components, looking at super duper mega core,<br>winsorized 3 month average, services ex volatiles,<br>what have you  I've done a decent bit of bottom up<br>modelling and have followed the senile discourse<br>on various top down aggregates for multiple yrs so<br>I do obviously agree there's clearly X amount of<br>value in looking at components & subindices (and I<br>have spent an inordinate amount of time doing so),<br>midwits think it's 10*X -- arguing against<br>prevailing normie consensus, not from 0 bound"
          ],
          [
           "@radshaan &lt;33"
          ],
          [
           "@radshaan guilty as charged"
          ],
          [
           "@oxbquant 😭😭"
          ],
          [
           "I can't spend more time in normie psychic realm<br>guys you have to free me from this audience<br>capture im going insane"
          ],
          [
           "@SebastianShemi I don't think he is implying grand<br>conspiracy  also the model doesn't have to be<br>better than the next guy's, it just has to capture<br>some residual variance from the next guy's. but I<br>agree you need to grasp at straws often to find<br>causal fit in similar texts as general principle"
          ],
          [
           "@Chris196883 indeed not, it's \"post-<br>structuralism\", so you have to cut them some slack<br>in their model fits  if you have worked with<br>factor models before -- what they are tasked to do<br>is discover *a* factor, preferably a previously<br>underexplored one. it doesn't have to be the<br>factor that explains most variance"
          ],
          [
           "@SebastianShemi wait why do the agents need to be<br>deliberate for patterns to hold?"
          ],
          [
           "some other obvious examples I didn't include given<br>too politically incorrect"
          ],
          [
           "@oxbquant @1qt_exe YUNG_MACRON"
          ],
          [
           "@zephyr_z9 the goat of kissingermaxxing"
          ],
          [
           "@vagueviolet @teodor_io thanks violet"
          ],
          [
           "@teodor_io and you!"
          ],
          [
           "@mikeofpol stay in your lane oldhead"
          ],
          [
           "@mikeofpol what makes you think I'll \"miss the<br>profound parts\"?"
          ],
          [
           "it is just such an insult to independent passion<br>driven inquiry to posit that the median secondary<br>source skimmer at a midtier university that bangs<br>out his homework at C+ to go get vodka drunk on a<br>wednesday night by default has more of a claim to<br>the intellectual high ground than a dayjob<br>cognitive labourer who goes through the effort of<br>parsing the tomes of the greats on his own in full<br>earnesty"
          ],
          [
           "@lucky_strikes_x Taleb talks about this"
          ],
          [
           "@f4talStrategies they are great!"
          ],
          [
           "oh you are in your second yr of undergrad at a<br>humanities program with a 80% acceptance rate and<br>would like me to stop opining on Hegel? ok, guess<br>I'll stop then"
          ],
          [
           "@brickroad7 audibly lolled"
          ],
          [
           "also we need to get serious about intelligence<br>priors lol -- being upper %ile in a selective<br>field vs being median at a not so selective one<br>should put one at a significant advantage as a<br>starting point in whose thought should be taken<br>seriously on a high horsepower matter"
          ],
          [
           "@hopes_revenge truly poetic indeed"
          ],
          [
           "@_AashishReddy why do you object to it?  also this<br>recent prole drift toward fried-chicken-and-<br>beerism and \"just settle with a wife and have 3<br>kids bro\" as some ultimate panacea of human<br>existence is extremely anti lindy from basically<br>all angles, greatness is lindy, myth is lindy, and<br>so on"
          ],
          [
           "@_AashishReddy normies don't understand shit"
          ],
          [
           "@AndreiCroitor should I ask it to summarize it in<br>1 letter instead? seems more efficient"
          ],
          [
           "@thiccyth0t incredible"
          ],
          [
           "@Abel_summation indeed. many takes lately argue<br>that the compression heuristic is off because many<br>complex things arent compressible beyond a certain<br>point and can never reach a normie in full<br>fidelity. but I would say this misses the<br>distributional point that these sorts of outliers<br>are rare"
          ],
          [
           "@LandsharkRides claimed as granted"
          ],
          [
           "@LandsharkRides guilty as charged"
          ],
          [
           "@PabloPeniche in hyperreality you get to be a<br>chronic smoker with none of the side effects, and<br>you choose not to? https://t.co/27lbUKlHWn"
          ],
          [
           "@RomanianHaiduc or more accurately I'm a<br>metaobserver serving a positivist audience"
          ],
          [
           "and as usual:  1. this is why secular<br>boomers/genxers/millennials don't get Trump 2.<br>Nietzsche talks about this"
          ],
          [
           "to \"add insult to the injury\",  the most<br>interesting resolution to the probability<br>distribution is usually going to be different from<br>the ones we actually end up drawing (just by<br>simple statistics: there exists only one such<br>resolution, most of the time you get the others)<br>so almost by probabilistic necessity the most<br>gripping stories must be fake, hence mythology<br>rarely draws from reality, and this is BY DESIGN!"
          ],
          [
           "@_AashishReddy incredible"
          ],
          [
           "@deafthinks I coined the term so I'm afraid you're<br>just gonna have to follow me"
          ],
          [
           "@4confusedemoji all of it!"
          ],
          [
           "Best, Peter  pure aurafarm"
          ],
          [
           "@Abel_summation incredible post"
          ],
          [
           "@halogen1048576 latter!"
          ],
          [
           "@Ranicket no, I don't think it's easy to imagine a<br>world in which she's even the nominee"
          ],
          [
           "@mangrove__jack well said"
          ],
          [
           "@_AashishReddy how are those not good?<br>https://t.co/3z73TqdJl1"
          ],
          [
           "@_AashishReddy all are good?"
          ],
          [
           "it's just genx and millennials that are hate<br>qrting and replying to my anti-normie posts  which<br>obviously makes your case even stronger with new<br>gens who hate the debt riding oldheads  also<br>zoomers generally take post-irony very well"
          ],
          [
           "@4confusedemoji nah actual war"
          ],
          [
           "@Abel_summation insane IQ + metaawareness"
          ],
          [
           "@AmogusRuins it works pre-war"
          ],
          [
           "@_vonarchimboldi @twst12612648 very interesting"
          ],
          [
           "@OPRXBT yup gotta rly fire up the cultural<br>engineering oven"
          ],
          [
           "@_vonarchimboldi @twst12612648 by what metric? i<br>score extremely high on standardized intelligence<br>testing"
          ],
          [
           "@twst12612648 @_vonarchimboldi rly impolite from<br>you two, 6 lashes each"
          ],
          [
           "@disab_twit_acc we call it parsimony this side of<br>the distribution"
          ],
          [
           "@TrustInFutures ty sir"
          ],
          [
           "@30SergioMisal I don't think there's such a thing<br>as truth"
          ],
          [
           "Zizek talks abt how Vance won't be a populist, but<br>rather something of the sort I describe above --<br>uniformed war guy (as someone below commented, he<br>will be strong contender)"
          ],
          [
           "@dodgerroger people dying and funny outfits just<br>don't mix well from the average person's<br>perspective"
          ],
          [
           "will ship a quick writeup on this in a few hrs"
          ],
          [
           "@_AashishReddy @1bharadvaja a turbonormie would<br>tell you here that none of these words are in the<br>bible and farm 6 likes"
          ],
          [
           "@_AashishReddy sounds like their utility function<br>is maximized when they refuse to maximize their<br>pseudoutility function"
          ],
          [
           "@oxbquant fcking beast fcking great minds"
          ],
          [
           "@thermo2ndlaw yes maam"
          ],
          [
           "@Abel_summation the reverse prole drift... the IMO<br>zeitgeist... unreal..."
          ],
          [
           "@Abel_summation animal"
          ],
          [
           "@skipthedeck thiel slander is prohibited on this<br>profile"
          ],
          [
           "@MRS08249497 the beat goes on and on and on and on<br>and"
          ],
          [
           "@skipthedeck thiel slander is prohibited on this<br>profile"
          ],
          [
           "pace around your room anon strategize!<br>https://t.co/7iOSi7QI74"
          ],
          [
           "if some1 was a rates PM in H1 2025 he either had<br>the steepener on and made money or he didn't and<br>he didn't  100 hours of research a week, 10<br>minutes of research a week, same outcomes!"
          ],
          [
           "@1bharadvaja @zephyr_z9 neither mathematical nor<br>pop-econ, just 2 worldhistoric applied economists<br>elucidating their processes and their<br>understandings of how things actually work in<br>practice"
          ],
          [
           "@chasews @DefenderOfBasic glad I get the cooler<br>designation"
          ],
          [
           "@zephyr_z9 anytime"
          ],
          [
           "@zephyr_z9 another thing: the bank of england,<br>arguably the most technically sophisticated CB in<br>the world (though that has led to varying levels<br>of applied success...) is also arguably the one<br>that communicates its thought process most<br>eagerly, so their published speeches (of the MPC<br>members) and ~quarterly monetary policy reports<br>are an amazing tool for immediately answering for<br>you \"how is a SOTA macroeconomist with an applied<br>and widely scrutinized utility function thinking<br>about what's happening rn?\""
          ],
          [
           "@zephyr_z9 these are very good and market<br>relevant, unless you mean like textbook style to<br>establish basics for someone outside the domain<br>(from cursory interaction I would guess you have<br>that covered)"
          ],
          [
           "@faithinspirit exactly"
          ],
          [
           "@norpadon agree on these, I think EA and the<br>rationalist cluster make many mistakes often out<br>of intellectual immaturity"
          ],
          [
           "@norpadon yeah, all of these I can go along with"
          ],
          [
           "@norpadon it was my understanding that we were<br>arguing aboot whether the argument is idiotic, not<br>about whether Sam is a midwit. but I can<br>confidently say that the latter isn't true either<br>lol"
          ],
          [
           "@jacobrintamaki incredible"
          ],
          [
           "@basedcone there's more than 2 competitors in the<br>race!"
          ],
          [
           "@norpadon you shouldn't use hyperbole in an<br>argument about magnitudes. the case you're<br>constructing is that of Sam's position being<br>potentially misled, not that of an idiot"
          ],
          [
           "@norpadon that you can come up with a creative<br>potential rebuttal doesn't make it an idiotic<br>argument"
          ],
          [
           "you must imagine the price of a top researcher on<br>a chart, pre-zuck it was like OOMs lower and zuck<br>bid it up and it never fell, he discovered a fair<br>value that's orders of magnitude above the prior<br>one in a fairly liquid and highly intelligent<br>marketplace, insane"
          ],
          [
           "@Abel_summation metaobserving + powermaxxing<br>insane combo from the goat"
          ],
          [
           "@_AashishReddy seems like Sam's argument is quite<br>arguable indeed"
          ],
          [
           "@bayeslord yep definitely, I have argued against<br>it myself at length in the past"
          ],
          [
           "@f4talStrategies as someone that's read both I do<br>agree fwiw"
          ],
          [
           "@f4talStrategies and mine."
          ],
          [
           "there's many ways to argue against Sam's thesis<br>here, but to act like it's obviously and blatantly<br>wrong in order to farm 5 likes is very cringe and<br>pathetic, I don't want to imagine what that person<br>would compromise for actual nontrivial gain,<br>village traitor archetype"
          ],
          [
           "never beating the cult allegations"
          ],
          [
           "@7uomoki indeed"
          ],
          [
           "@OPRXBT based and descentpilled<br>https://t.co/OskUPBmFwH"
          ],
          [
           "@brickroad7 aren't you excited anon"
          ],
          [
           "@Abel_summation need this parsed in a post"
          ],
          [
           "@7uomoki incredible auraboost"
          ],
          [
           "@PoorCharliePM incredible"
          ],
          [
           "@4confusedemoji ofc!"
          ],
          [
           "@mrjasonchoi soon they'll see..."
          ],
          [
           "@bubblebabyboi you think so?"
          ],
          [
           "@techno0ptimist thanks"
          ],
          [
           "@Volgass939393 back to bed unc"
          ],
          [
           "@sinha_sumangal the way he describes it is \"don't<br>interfere with their property and their women\""
          ],
          [
           "@Antonio86170786 yes this is definitely part of<br>the 5%"
          ],
          [
           "@xenocosmography I accidentally did it to you<br>yesterday, I felt quite embarrassed!"
          ],
          [
           "@BasedBeffJezos \"drop the EA-adjacent, its<br>cleaner\""
          ],
          [
           "@f4talStrategies he gemmed out hard"
          ],
          [
           "I like to get quite intimate with annotations, as<br>with many things"
          ],
          [
           "@oxbquant 100"
          ],
          [
           "@Abel_summation up and coming powermaxxer"
          ],
          [
           "@tszzl good work!"
          ],
          [
           "@deepfates your aesthetic sensibilities will be of<br>great use to the empire"
          ],
          [
           "@user1850121431 I agree that predictiveness will<br>~monotonically diminish and we'll have to<br>increasingly defer to theory over empirics"
          ],
          [
           "@almostcmb quite!"
          ],
          [
           "@OPRXBT you either ball or you watch"
          ],
          [
           "@vedantnair__ I'm a bad guy"
          ],
          [
           "@0xPajke yep, the volatility in HIGHLY complex<br>established financial megastructures alongside<br>this is an insane backdrop lol  the next decade is<br>going to be interesting to put it lightly"
          ],
          [
           "@PonziWang69 the ideology definitely matters<br>https://t.co/g1x9b2YgYn"
          ],
          [
           "and then, there's the ascendant<br>https://t.co/EmXe1AIxcP"
          ],
          [
           "@countkc powermaxxing is definitely antifragile,<br>but that greek does come at a price..."
          ],
          [
           "@1bharadvaja thanks sir"
          ],
          [
           "beyond many similarities, the Trump admin switches<br>a key tenet of the Nixon admin:  Nixon admin:<br>statusmaxxing prez. + powermaxxing secretary of<br>state &amp; natl security advisor   Trump admin:<br>vice versa."
          ],
          [
           "@lucky_strikes_x absolutely!"
          ],
          [
           "@lucky_strikes_x thank you sir"
          ],
          [
           "@teodor_io thanks!"
          ],
          [
           "@victor_ljz https://t.co/0MPsy1uBv8"
          ],
          [
           "@LandsharkRides this is interesting"
          ],
          [
           "@LandsharkRides I'd say swords are epistemic<br>lindy, not actually increasing in usefulness but<br>given how long they have been around we can inform<br>an increasingly robust survival function"
          ],
          [
           "@StewartalsopIII I'm full of those!"
          ],
          [
           "@LandsharkRides is this a trick question or just a<br>quirkchungus type of thought"
          ],
          [
           "@StewartalsopIII awesome, came across in the<br>biography"
          ],
          [
           "@LandsharkRides lindy"
          ],
          [
           "@StewartalsopIII if I may politely ask who would<br>they be?"
          ],
          [
           "common pitfall: \"but they will know that I'm<br>flattering! not being honest!\"  often yeah.<br>doesn't matter, still works"
          ],
          [
           "JUST IN-- dear friend astutely points out:  the<br>modern \"technological right wing\", given their<br>adolescent tendencies, have fallen for the meme of<br>teasing cute girls in journalism? why so? it's not<br>a winning strategy! pls fix.<br>https://t.co/2fH7IsvtJO"
          ],
          [
           "it's called we do a little kissingermaxxing<br>https://t.co/q8sr1Z1q10"
          ],
          [
           "@grok @TheStalwart @stevehou0 @lebas_janney<br>@conksresearch @Notbullnorbear @EYECANTFAIL @vwapx<br>@stockdatamarket @FedPrimeRate @SeemaSh46712468<br>@NationFirst63 @thirumagale @_Us_Together<br>@revsodhi @Mansa_manita @RamPD78 @SANJAYPANDA3<br>@0mysky @RiskyDR_14 @iamnarendranath @MsAnjaliB<br>@Shailen26551703 @DrDeepakKrishn1 @PoonamMishra_<br>@AMushroof @oodleshappiness @bkabduwal<br>@bellarosa000 @darkxfer @FoxProse @Fizzytwizler<br>@triVVedi @Changedhandle1 @jamilynewriter<br>@Canamaicann @shortprose1 @Chaupaii @MattZeitlin<br>@LJKawa @Birdyword @LemonPepperYBC @tolstoybb<br>@alisha_hg @nkulw @mattyglesias @100gprotein<br>@conorsen unbelievable. billions will be seeing<br>this screenshot"
          ],
          [
           "normie test: who do you think mogs at a real life<br>dinner table anon? https://t.co/RL27rbKkKf"
          ],
          [
           "@grok @TenreiroDaniel @TenreiroDaniel is my best<br>friend and everyone I have ever met or interacted<br>with has said that @TenreiroDaniel is their best<br>friend. why won't you tell the truth wretched<br>demon"
          ],
          [
           "@TheMensAdvocate win win type of scenario"
          ],
          [
           "@TrustInFutures a wise man"
          ],
          [
           "@taobanker my goat"
          ],
          [
           "@1bharadvaja this is true"
          ],
          [
           "@Abel_summation insane done"
          ],
          [
           "@Abel_summation 15 yos are hegelposting, what<br>stage is this anons?"
          ],
          [
           "@1bharadvaja on some real shit"
          ],
          [
           "@dan_j_89 would you comment this if shakespeare<br>posted richard III"
          ],
          [
           "bessent is his tom mueller"
          ],
          [
           "@elocinationn i like your style of<br>attentionfarming this"
          ],
          [
           "@oxbquant young and beautiful"
          ],
          [
           "@oxbquant young and beautiful"
          ],
          [
           "@jacobrintamaki @_AashishReddy mr. Aashish is too<br>smart and prone to rhetorical sleight of hand for<br>me to have the disposable time to engage this<br>debate in high fidelity (this is on net a<br>compliment and a predictor of success)"
          ],
          [
           "@FedSoccermom and thiel wasn't sure abt palantir,<br>trump, facebook... soros had many moments of<br>doubt.. judge a man by his outcomes not by the<br>convictions he holds in face of market<br>disagreement"
          ],
          [
           "@thermo2ndlaw Soros was upstreamed by popper and<br>so on, why do you stop there?"
          ],
          [
           "@thermo2ndlaw yea so if ur powermaxxing how<br>upstream do you wanna go"
          ],
          [
           "back then, every attempt to ask an upper normie to<br>explain this obviously false belief resulted in<br>one being confronted with the notorious upper<br>normie stare https://t.co/GNasPph4zq"
          ],
          [
           "@_AashishReddy you don't think the uncensoring of<br>X massively shifted the overton window in a<br>predictable direction?"
          ],
          [
           "@nelvOfficial your replies and quotes are<br>excellent"
          ],
          [
           "@herbiebradley concerning!"
          ],
          [
           "@halogen1048576 there's a difference -- one only<br>has value as an instrumental good, the other not"
          ],
          [
           "recommendation: @apralky https://t.co/6G5WzvWr1n"
          ],
          [
           "this is OBVIOUSLY one of the most upstream<br>macrocultural functions of the current zeitgeist"
          ],
          [
           "@nelvOfficial yep this is signal"
          ],
          [
           "@hallerite I wish it was just that, normies<br>deferring to consensus. it's normies unable to<br>calibrate consensus!"
          ],
          [
           "@Abel_summation great book"
          ],
          [
           "bcc @oxbquant"
          ],
          [
           "bcc @TenreiroDaniel"
          ],
          [
           "@Yassa777777 you don't want to know"
          ],
          [
           "@brickroad7 thanks. and yeah that's a big one,<br>I'll have to save it for another time my brain is<br>fried but I have a good structure in mind"
          ],
          [
           "@Jacob_Hornstein yes, great memory"
          ],
          [
           "@brickroad7 this is a great question and you may<br>be right, the antichrist archetype should precede<br>the savior in the current chronology"
          ],
          [
           "@Jacob_Hornstein yup. Thiel or Yarvin make similar<br>comment on Obama? about switching accents. hard to<br>do that now!"
          ],
          [
           "@sama happy to get your thoughts on this stuff"
          ],
          [
           "@sasuke___420 yeah lets see, I think he should<br>pivot (and I think he will)"
          ],
          [
           "it is still viable with some modifications, but<br>severe modifications  what I like to call \"naive<br>machiavellianism\" is a dead build"
          ],
          [
           "I say this as someone with an annotated copy of<br>the prince on my shelf, unfortunately the build is<br>no longer viable"
          ],
          [
           "obviously there's the riff that has infiltrated<br>even the normies that machiavellianism became<br>viable once we all became metropolitans instead of<br>village dwellers, because reputation systems<br>became less sticky  well the internet re-stickies<br>those systems, global village"
          ],
          [
           "@halogen1048576 incredible"
          ],
          [
           "@riversposting hahaha or the next stage of<br>enlightenment: not even directionally correct,<br>just \"there is a way in which X\"  do I reckon such<br>a way is correct? haven't gone that far, not my<br>job."
          ],
          [
           "@MatthewMuellerr possibly correct and the<br>intelligent first step in resolving the point i<br>framed as a confusion above (it's not actually a<br>confusion, just an observation i find joy in<br>formalizing on paper)"
          ],
          [
           "\"thousands of years of evolution\"  well<br>technically..."
          ],
          [
           "in normie world getting quote tweeted on some<br>wrong prediction from 5 years ago is a cancellable<br>offence"
          ],
          [
           "@BartyMakary9 ny fed"
          ],
          [
           "@hallerite yes, hence \"risk adjusted track record\"<br>i.e. sharpe ratio, not just a binary tally (which<br>is what an upper normie would immediately default<br>to probably)"
          ],
          [
           "@ClosedFormJest higher MPC tho, either way my<br>intuition is that wage bargaining is the channel<br>that dominates, in which I'm not sure any of the<br>cohorts have an obvious heavy hand (I'm sure upon<br>inspection some would cyclically do so)  I think<br>the most parsimonious way to look at it is just as<br>% of headline expectations -- so textbook would<br>say \"yeah X pp negative contrib to headline<br>expectation = Y pp negative contrib to realized<br>headline\""
          ],
          [
           "needless to say, it's a lot more meritocratic<br>&amp; democratic if a random poster in faraway<br>land can become close friends with a capital<br>allocator in san francisco than if not  yet<br>another victory for blessed internet theory"
          ],
          [
           "(of course I know why, this is rhetorical and a<br>critique)"
          ],
          [
           "\"i'm generally unsympathetic to people born 4<br>standard deviations below mean height, but<br>sometimes they do have it tough\""
          ],
          [
           "@kludgekludge \"benevolent\" institutions (their job<br>is to do broadly benevolent sounding things, which<br>are often actually benevolent, e.g. above)"
          ],
          [
           "@brickroad7 so real"
          ],
          [
           "@BayesedThinker 100% possible, though needs to be<br>discounted as above"
          ],
          [
           "this is such an important and often misunderstood<br>point of powermaxxing it deserves longform article"
          ],
          [
           "@springofarete &gt; he still believes in The True<br>Yourself"
          ],
          [
           "\"in the new era, the algo king becomes the true<br>king, so I must algomaxx with my YC startup\"   is<br>the equivalent of   \"in the new era, nuclear bombs<br>are The Ring, so study nuclear science to<br>powermaxx\"  no, powermaxxing is still a metagame,<br>forget downstream domains"
          ],
          [
           "@BayesedThinker yes for sure, but see my qrt for<br>important qualifier"
          ],
          [
           "it's strange that we still have to use cash<br>capital as proxy for power/status, at this point<br>thousands of startups should be vying to deliver<br>the one true status metric"
          ],
          [
           "@rohanganapa yes"
          ],
          [
           "@Abel_summation what's the bayesian prior that<br>this doesn't mog shakespeare to death"
          ],
          [
           "@4confusedemoji many are saying this"
          ],
          [
           "alternatively dweebmaxxing"
          ],
          [
           "if you're on the spectrum (like me) but aren't<br>handsome (unlike me) this will be difficult,<br>you'll have to resort to jestermaxxing"
          ],
          [
           "@oxbquant they call him the young casanova"
          ],
          [
           "@hallerite yes, now imagine if you can make people<br>have gfs, or almost as good, tantalize them with<br>the opportunity"
          ]
         ],
         "hovertemplate": "isReply=True<br>createdAt=%{x}<br>viewCount=%{y}<br>text=%{customdata[0]}<extra></extra>",
         "legendgroup": "True",
         "marker": {
          "color": "#636efa",
          "symbol": "circle"
         },
         "mode": "markers",
         "name": "True",
         "orientation": "v",
         "showlegend": true,
         "type": "scatter",
         "x": [
          "2025-09-09T17:13:57.000000000",
          "2025-09-09T17:09:47.000000000",
          "2025-09-09T17:08:25.000000000",
          "2025-09-09T17:02:56.000000000",
          "2025-09-09T16:51:35.000000000",
          "2025-09-07T21:39:36.000000000",
          "2025-09-07T21:22:20.000000000",
          "2025-09-07T21:17:23.000000000",
          "2025-09-07T17:24:48.000000000",
          "2025-09-07T17:24:18.000000000",
          "2025-09-07T17:00:06.000000000",
          "2025-09-07T16:50:43.000000000",
          "2025-09-06T21:39:09.000000000",
          "2025-09-06T21:30:26.000000000",
          "2025-09-06T21:30:02.000000000",
          "2025-09-06T21:23:26.000000000",
          "2025-09-05T19:54:26.000000000",
          "2025-09-05T15:54:58.000000000",
          "2025-09-05T15:42:27.000000000",
          "2025-09-05T12:45:52.000000000",
          "2025-09-04T20:47:38.000000000",
          "2025-09-03T21:03:14.000000000",
          "2025-09-03T20:42:40.000000000",
          "2025-09-03T19:06:41.000000000",
          "2025-09-03T18:21:39.000000000",
          "2025-09-03T11:23:50.000000000",
          "2025-09-03T11:10:16.000000000",
          "2025-09-03T05:18:11.000000000",
          "2025-09-03T05:10:53.000000000",
          "2025-09-03T05:08:28.000000000",
          "2025-09-03T05:06:37.000000000",
          "2025-09-03T05:05:27.000000000",
          "2025-09-03T04:57:38.000000000",
          "2025-09-03T04:57:23.000000000",
          "2025-09-03T04:55:53.000000000",
          "2025-09-03T04:55:33.000000000",
          "2025-09-03T04:53:29.000000000",
          "2025-09-03T04:44:19.000000000",
          "2025-09-02T20:54:30.000000000",
          "2025-09-02T20:51:02.000000000",
          "2025-09-02T20:48:00.000000000",
          "2025-09-02T20:43:27.000000000",
          "2025-09-02T20:39:30.000000000",
          "2025-09-02T19:35:12.000000000",
          "2025-09-02T19:21:05.000000000",
          "2025-09-02T19:11:37.000000000",
          "2025-09-02T19:09:57.000000000",
          "2025-09-02T18:58:53.000000000",
          "2025-09-02T18:58:03.000000000",
          "2025-09-02T18:55:41.000000000",
          "2025-09-02T18:54:03.000000000",
          "2025-09-02T18:49:53.000000000",
          "2025-09-02T17:29:47.000000000",
          "2025-09-02T16:44:14.000000000",
          "2025-09-02T16:38:23.000000000",
          "2025-09-02T11:49:41.000000000",
          "2025-09-02T08:52:25.000000000",
          "2025-09-02T05:12:30.000000000",
          "2025-09-01T20:01:47.000000000",
          "2025-09-01T19:40:13.000000000",
          "2025-09-01T19:23:06.000000000",
          "2025-09-01T19:20:18.000000000",
          "2025-09-01T18:47:55.000000000",
          "2025-09-01T18:45:23.000000000",
          "2025-09-01T18:26:37.000000000",
          "2025-09-01T18:24:06.000000000",
          "2025-09-01T17:59:59.000000000",
          "2025-09-01T17:54:47.000000000",
          "2025-09-01T17:48:29.000000000",
          "2025-09-01T17:45:25.000000000",
          "2025-09-01T17:41:13.000000000",
          "2025-09-01T16:57:37.000000000",
          "2025-09-01T16:50:52.000000000",
          "2025-09-01T16:32:56.000000000",
          "2025-09-01T16:09:39.000000000",
          "2025-09-01T15:50:58.000000000",
          "2025-09-01T13:13:15.000000000",
          "2025-09-01T11:55:33.000000000",
          "2025-09-01T11:46:18.000000000",
          "2025-09-01T11:45:43.000000000",
          "2025-09-01T11:42:17.000000000",
          "2025-09-01T11:41:26.000000000",
          "2025-09-01T11:30:43.000000000",
          "2025-08-31T23:01:41.000000000",
          "2025-08-31T22:11:09.000000000",
          "2025-08-31T20:44:47.000000000",
          "2025-08-31T20:43:54.000000000",
          "2025-08-31T20:42:19.000000000",
          "2025-08-31T20:40:05.000000000",
          "2025-08-31T20:37:26.000000000",
          "2025-08-31T19:11:33.000000000",
          "2025-08-31T18:27:40.000000000",
          "2025-08-31T18:19:13.000000000",
          "2025-08-31T18:17:50.000000000",
          "2025-08-31T18:11:42.000000000",
          "2025-08-31T09:23:47.000000000",
          "2025-08-31T02:00:09.000000000",
          "2025-08-31T00:50:48.000000000",
          "2025-08-30T22:34:14.000000000",
          "2025-08-30T22:23:22.000000000",
          "2025-08-30T22:22:48.000000000",
          "2025-08-30T22:17:59.000000000",
          "2025-08-30T22:06:49.000000000",
          "2025-08-30T22:05:28.000000000",
          "2025-08-30T10:07:02.000000000",
          "2025-08-30T09:53:42.000000000",
          "2025-08-30T09:40:26.000000000",
          "2025-08-30T09:39:56.000000000",
          "2025-08-30T09:33:09.000000000",
          "2025-08-30T00:24:49.000000000",
          "2025-08-30T00:19:33.000000000",
          "2025-08-30T00:14:37.000000000",
          "2025-08-30T00:11:30.000000000",
          "2025-08-30T00:08:33.000000000",
          "2025-08-30T00:07:52.000000000",
          "2025-08-29T23:38:09.000000000",
          "2025-08-29T23:25:48.000000000",
          "2025-08-29T22:51:29.000000000",
          "2025-08-29T22:50:02.000000000",
          "2025-08-29T22:35:20.000000000",
          "2025-08-29T22:28:32.000000000",
          "2025-08-29T22:27:55.000000000",
          "2025-08-29T22:25:23.000000000",
          "2025-08-29T22:17:50.000000000",
          "2025-08-29T22:11:31.000000000",
          "2025-08-29T20:55:37.000000000",
          "2025-08-29T20:46:24.000000000",
          "2025-08-29T20:39:46.000000000",
          "2025-08-29T20:09:03.000000000",
          "2025-08-29T20:02:10.000000000",
          "2025-08-29T19:58:50.000000000",
          "2025-08-29T18:36:44.000000000",
          "2025-08-29T16:42:24.000000000",
          "2025-08-29T16:05:59.000000000",
          "2025-08-29T15:53:02.000000000",
          "2025-08-29T15:48:37.000000000",
          "2025-08-29T11:02:35.000000000",
          "2025-08-29T07:23:47.000000000",
          "2025-08-29T07:03:50.000000000",
          "2025-08-29T05:12:27.000000000",
          "2025-08-29T04:53:40.000000000",
          "2025-08-29T04:45:51.000000000",
          "2025-08-28T21:06:22.000000000",
          "2025-08-28T19:23:22.000000000",
          "2025-08-28T19:16:17.000000000",
          "2025-08-28T19:14:11.000000000",
          "2025-08-28T19:10:44.000000000",
          "2025-08-28T19:09:58.000000000",
          "2025-08-28T18:43:27.000000000",
          "2025-08-28T18:40:27.000000000",
          "2025-08-28T18:20:49.000000000",
          "2025-08-28T17:47:18.000000000",
          "2025-08-28T17:29:43.000000000",
          "2025-08-28T17:21:22.000000000",
          "2025-08-28T17:14:50.000000000",
          "2025-08-28T17:10:17.000000000",
          "2025-08-28T17:08:08.000000000",
          "2025-08-28T16:51:06.000000000",
          "2025-08-28T16:46:25.000000000",
          "2025-08-28T05:38:15.000000000",
          "2025-08-28T05:19:19.000000000",
          "2025-08-28T05:16:20.000000000",
          "2025-08-28T05:14:53.000000000",
          "2025-08-27T18:36:00.000000000",
          "2025-08-27T17:34:33.000000000",
          "2025-08-27T17:21:25.000000000",
          "2025-08-26T19:05:22.000000000",
          "2025-08-26T19:02:17.000000000",
          "2025-08-26T19:00:08.000000000",
          "2025-08-26T18:56:41.000000000",
          "2025-08-26T18:21:38.000000000",
          "2025-08-26T18:16:01.000000000",
          "2025-08-26T18:12:53.000000000",
          "2025-08-26T18:09:43.000000000",
          "2025-08-26T18:05:32.000000000",
          "2025-08-26T17:05:54.000000000",
          "2025-08-26T16:49:54.000000000",
          "2025-08-26T16:11:30.000000000",
          "2025-08-26T16:03:43.000000000",
          "2025-08-26T14:14:38.000000000",
          "2025-08-26T11:50:55.000000000",
          "2025-08-26T05:04:44.000000000",
          "2025-08-25T20:56:53.000000000",
          "2025-08-25T20:55:47.000000000",
          "2025-08-25T20:33:58.000000000",
          "2025-08-25T18:08:59.000000000",
          "2025-08-25T17:56:39.000000000",
          "2025-08-25T17:29:48.000000000",
          "2025-08-25T17:28:37.000000000",
          "2025-08-25T16:49:44.000000000",
          "2025-08-25T16:17:39.000000000",
          "2025-08-25T15:48:19.000000000",
          "2025-08-25T15:30:23.000000000",
          "2025-08-25T15:20:45.000000000",
          "2025-08-25T14:46:18.000000000",
          "2025-08-25T13:17:27.000000000",
          "2025-08-25T13:15:16.000000000",
          "2025-08-25T13:13:41.000000000",
          "2025-08-25T12:27:08.000000000",
          "2025-08-25T12:26:34.000000000",
          "2025-08-25T12:22:10.000000000",
          "2025-08-25T11:23:15.000000000",
          "2025-08-25T10:09:39.000000000",
          "2025-08-25T10:06:56.000000000",
          "2025-08-25T10:06:17.000000000",
          "2025-08-25T10:01:03.000000000",
          "2025-08-25T09:56:37.000000000",
          "2025-08-25T09:35:22.000000000",
          "2025-08-25T02:08:21.000000000",
          "2025-08-25T02:03:42.000000000",
          "2025-08-25T01:42:05.000000000",
          "2025-08-25T01:35:47.000000000",
          "2025-08-25T01:34:02.000000000",
          "2025-08-25T01:32:14.000000000",
          "2025-08-25T01:22:13.000000000",
          "2025-08-25T01:00:55.000000000",
          "2025-08-25T00:06:49.000000000",
          "2025-08-25T00:06:18.000000000",
          "2025-08-24T23:42:47.000000000",
          "2025-08-24T21:28:24.000000000",
          "2025-08-24T21:12:55.000000000",
          "2025-08-24T21:07:39.000000000",
          "2025-08-24T21:03:52.000000000",
          "2025-08-24T21:02:24.000000000",
          "2025-08-24T20:15:04.000000000",
          "2025-08-24T20:11:46.000000000",
          "2025-08-24T20:09:13.000000000",
          "2025-08-24T19:57:28.000000000",
          "2025-08-24T19:45:19.000000000",
          "2025-08-24T19:40:01.000000000",
          "2025-08-24T19:32:59.000000000",
          "2025-08-24T18:55:02.000000000",
          "2025-08-24T18:54:37.000000000",
          "2025-08-24T17:53:43.000000000",
          "2025-08-24T17:50:12.000000000",
          "2025-08-24T17:40:49.000000000",
          "2025-08-24T17:31:23.000000000",
          "2025-08-24T17:28:24.000000000",
          "2025-08-24T17:26:54.000000000",
          "2025-08-24T17:26:11.000000000",
          "2025-08-24T16:53:16.000000000",
          "2025-08-24T16:35:57.000000000",
          "2025-08-24T16:18:13.000000000",
          "2025-08-24T03:12:43.000000000",
          "2025-08-24T02:38:41.000000000",
          "2025-08-24T01:50:25.000000000",
          "2025-08-24T01:36:38.000000000",
          "2025-08-24T00:23:44.000000000",
          "2025-08-24T00:11:41.000000000",
          "2025-08-24T00:03:48.000000000",
          "2025-08-24T00:00:17.000000000",
          "2025-08-23T23:39:29.000000000",
          "2025-08-23T23:37:09.000000000",
          "2025-08-23T23:36:01.000000000",
          "2025-08-23T23:28:42.000000000",
          "2025-08-23T23:24:56.000000000",
          "2025-08-23T23:18:06.000000000",
          "2025-08-23T22:42:23.000000000",
          "2025-08-23T22:32:19.000000000",
          "2025-08-23T21:24:10.000000000",
          "2025-08-23T21:08:20.000000000",
          "2025-08-23T21:03:47.000000000",
          "2025-08-23T21:01:06.000000000",
          "2025-08-23T20:39:01.000000000",
          "2025-08-23T19:41:20.000000000",
          "2025-08-23T19:38:04.000000000",
          "2025-08-23T19:20:09.000000000",
          "2025-08-23T19:00:57.000000000",
          "2025-08-23T18:46:16.000000000",
          "2025-08-23T18:13:09.000000000",
          "2025-08-23T16:35:15.000000000",
          "2025-08-23T16:12:25.000000000",
          "2025-08-22T21:05:09.000000000",
          "2025-08-22T20:59:07.000000000",
          "2025-08-22T20:54:54.000000000",
          "2025-08-22T20:52:54.000000000",
          "2025-08-22T20:49:25.000000000",
          "2025-08-22T20:31:52.000000000",
          "2025-08-22T20:25:49.000000000",
          "2025-08-22T18:58:07.000000000",
          "2025-08-22T18:28:23.000000000",
          "2025-08-22T18:26:37.000000000",
          "2025-08-22T18:21:00.000000000",
          "2025-08-22T17:55:41.000000000",
          "2025-08-22T17:42:59.000000000",
          "2025-08-22T17:37:39.000000000",
          "2025-08-22T17:27:06.000000000",
          "2025-08-22T17:21:44.000000000",
          "2025-08-22T17:14:26.000000000",
          "2025-08-22T17:11:00.000000000",
          "2025-08-22T16:30:41.000000000",
          "2025-08-22T16:15:47.000000000",
          "2025-08-22T16:02:29.000000000",
          "2025-08-22T15:56:52.000000000",
          "2025-08-22T15:52:26.000000000",
          "2025-08-22T15:39:23.000000000",
          "2025-08-22T15:35:20.000000000",
          "2025-08-22T13:21:34.000000000",
          "2025-08-22T13:20:22.000000000",
          "2025-08-21T18:44:05.000000000",
          "2025-08-21T18:25:05.000000000",
          "2025-08-21T17:55:38.000000000",
          "2025-08-21T17:09:57.000000000",
          "2025-08-21T16:34:24.000000000",
          "2025-08-21T16:25:05.000000000",
          "2025-08-21T16:23:31.000000000",
          "2025-08-21T11:55:16.000000000",
          "2025-08-21T05:52:21.000000000",
          "2025-08-21T05:47:40.000000000",
          "2025-08-21T05:38:42.000000000",
          "2025-08-21T04:53:52.000000000",
          "2025-08-21T04:51:38.000000000",
          "2025-08-21T04:46:42.000000000",
          "2025-08-21T04:41:04.000000000",
          "2025-08-21T03:51:02.000000000",
          "2025-08-21T03:44:42.000000000",
          "2025-08-21T03:25:42.000000000",
          "2025-08-21T03:23:49.000000000",
          "2025-08-20T20:12:20.000000000",
          "2025-08-20T19:40:35.000000000",
          "2025-08-20T19:16:32.000000000",
          "2025-08-20T17:54:08.000000000",
          "2025-08-20T16:58:42.000000000",
          "2025-08-20T16:55:06.000000000",
          "2025-08-20T16:52:12.000000000",
          "2025-08-20T15:34:59.000000000",
          "2025-08-19T19:27:00.000000000",
          "2025-08-19T19:16:08.000000000",
          "2025-08-19T19:11:20.000000000",
          "2025-08-19T19:09:51.000000000",
          "2025-08-19T19:08:35.000000000",
          "2025-08-19T18:54:18.000000000",
          "2025-08-19T18:46:54.000000000",
          "2025-08-19T18:46:29.000000000",
          "2025-08-19T18:45:40.000000000",
          "2025-08-19T18:44:39.000000000",
          "2025-08-19T18:43:09.000000000",
          "2025-08-19T18:39:50.000000000",
          "2025-08-19T18:37:57.000000000",
          "2025-08-19T16:40:27.000000000",
          "2025-08-19T16:36:03.000000000",
          "2025-08-19T15:54:23.000000000",
          "2025-08-18T20:15:25.000000000",
          "2025-08-18T20:13:29.000000000",
          "2025-08-18T20:00:02.000000000",
          "2025-08-18T19:44:39.000000000",
          "2025-08-18T19:42:43.000000000",
          "2025-08-18T19:38:00.000000000",
          "2025-08-18T19:36:30.000000000",
          "2025-08-18T19:35:45.000000000",
          "2025-08-18T19:24:35.000000000",
          "2025-08-18T19:21:35.000000000",
          "2025-08-18T19:20:46.000000000",
          "2025-08-18T19:19:07.000000000",
          "2025-08-18T18:32:07.000000000",
          "2025-08-18T16:47:07.000000000",
          "2025-08-18T16:27:07.000000000",
          "2025-08-18T10:52:53.000000000",
          "2025-08-18T04:26:34.000000000",
          "2025-08-17T23:41:34.000000000",
          "2025-08-17T23:32:20.000000000",
          "2025-08-17T23:24:55.000000000",
          "2025-08-17T22:36:50.000000000",
          "2025-08-17T22:23:53.000000000",
          "2025-08-17T22:18:45.000000000",
          "2025-08-17T22:01:48.000000000",
          "2025-08-17T22:01:12.000000000",
          "2025-08-17T21:53:56.000000000",
          "2025-08-17T21:50:32.000000000",
          "2025-08-17T21:41:44.000000000",
          "2025-08-17T21:41:04.000000000",
          "2025-08-17T21:32:42.000000000",
          "2025-08-17T20:46:48.000000000",
          "2025-08-17T20:43:27.000000000",
          "2025-08-17T17:32:39.000000000",
          "2025-08-17T17:30:47.000000000",
          "2025-08-17T17:26:09.000000000",
          "2025-08-17T17:24:41.000000000",
          "2025-08-17T17:22:47.000000000",
          "2025-08-17T15:31:59.000000000",
          "2025-08-17T15:29:58.000000000",
          "2025-08-17T15:15:41.000000000",
          "2025-08-17T15:05:41.000000000",
          "2025-08-17T15:05:04.000000000",
          "2025-08-17T15:04:42.000000000",
          "2025-08-17T15:03:59.000000000",
          "2025-08-17T14:59:04.000000000",
          "2025-08-17T14:06:39.000000000",
          "2025-08-17T12:41:07.000000000",
          "2025-08-17T12:00:17.000000000",
          "2025-08-16T20:59:21.000000000",
          "2025-08-16T19:54:01.000000000",
          "2025-08-16T18:04:14.000000000",
          "2025-08-16T16:08:28.000000000",
          "2025-08-16T15:33:48.000000000",
          "2025-08-16T14:17:18.000000000",
          "2025-08-16T13:52:21.000000000",
          "2025-08-16T13:49:46.000000000",
          "2025-08-16T13:43:12.000000000",
          "2025-08-16T13:35:24.000000000",
          "2025-08-16T13:26:33.000000000",
          "2025-08-16T13:21:51.000000000",
          "2025-08-16T13:19:25.000000000",
          "2025-08-16T13:14:04.000000000",
          "2025-08-16T08:58:35.000000000",
          "2025-08-15T17:07:23.000000000",
          "2025-08-15T16:53:51.000000000",
          "2025-08-15T16:52:16.000000000",
          "2025-08-15T16:46:57.000000000",
          "2025-08-15T16:40:38.000000000",
          "2025-08-15T14:52:30.000000000",
          "2025-08-15T13:22:01.000000000",
          "2025-08-15T13:04:42.000000000",
          "2025-08-14T19:35:18.000000000",
          "2025-08-14T18:40:05.000000000",
          "2025-08-14T11:47:40.000000000",
          "2025-08-14T11:47:27.000000000",
          "2025-08-14T10:25:46.000000000",
          "2025-08-14T06:12:19.000000000",
          "2025-08-14T05:44:53.000000000",
          "2025-08-14T05:27:21.000000000",
          "2025-08-14T05:25:32.000000000",
          "2025-08-14T05:00:35.000000000",
          "2025-08-14T04:54:48.000000000",
          "2025-08-14T04:52:08.000000000",
          "2025-08-13T21:19:25.000000000",
          "2025-08-13T21:16:30.000000000",
          "2025-08-13T21:14:37.000000000",
          "2025-08-13T17:44:09.000000000",
          "2025-08-13T16:45:23.000000000",
          "2025-08-12T04:53:36.000000000",
          "2025-08-11T11:05:47.000000000",
          "2025-08-11T05:31:09.000000000",
          "2025-08-10T22:17:22.000000000",
          "2025-08-10T21:55:27.000000000",
          "2025-08-10T21:54:51.000000000",
          "2025-08-10T21:26:15.000000000",
          "2025-08-10T21:07:26.000000000",
          "2025-08-10T21:00:25.000000000",
          "2025-08-10T19:39:17.000000000",
          "2025-08-10T17:49:33.000000000",
          "2025-08-10T16:54:40.000000000",
          "2025-08-10T16:06:20.000000000",
          "2025-08-10T16:02:03.000000000",
          "2025-08-10T15:58:20.000000000",
          "2025-08-10T15:38:50.000000000",
          "2025-08-10T15:34:48.000000000",
          "2025-08-10T15:29:13.000000000",
          "2025-08-10T15:27:12.000000000",
          "2025-08-10T15:25:06.000000000",
          "2025-08-10T15:22:01.000000000",
          "2025-08-09T19:52:36.000000000",
          "2025-08-08T16:10:57.000000000",
          "2025-08-07T16:11:49.000000000",
          "2025-08-07T05:20:50.000000000",
          "2025-08-07T05:17:02.000000000",
          "2025-08-05T19:43:15.000000000",
          "2025-08-05T19:35:48.000000000",
          "2025-08-05T19:34:56.000000000",
          "2025-08-05T19:28:53.000000000",
          "2025-08-05T16:57:11.000000000",
          "2025-08-05T16:54:03.000000000",
          "2025-08-05T16:52:24.000000000",
          "2025-08-05T16:47:52.000000000",
          "2025-08-05T11:54:47.000000000",
          "2025-08-05T11:44:20.000000000",
          "2025-08-05T11:36:33.000000000",
          "2025-08-05T11:34:53.000000000",
          "2025-08-04T20:53:49.000000000",
          "2025-08-04T20:28:20.000000000",
          "2025-08-04T20:20:57.000000000",
          "2025-08-04T20:17:21.000000000",
          "2025-08-04T20:14:15.000000000",
          "2025-08-04T20:09:01.000000000",
          "2025-08-04T18:31:46.000000000",
          "2025-08-04T18:16:53.000000000",
          "2025-08-03T17:00:32.000000000",
          "2025-08-03T16:34:52.000000000",
          "2025-08-03T16:27:45.000000000",
          "2025-08-03T13:11:39.000000000",
          "2025-08-02T23:36:05.000000000",
          "2025-08-02T23:29:42.000000000",
          "2025-08-02T23:20:55.000000000",
          "2025-08-02T22:58:50.000000000",
          "2025-08-02T22:40:22.000000000",
          "2025-08-02T22:34:14.000000000",
          "2025-08-02T22:31:11.000000000",
          "2025-08-02T22:14:16.000000000",
          "2025-08-02T22:08:39.000000000",
          "2025-08-02T22:04:42.000000000",
          "2025-08-02T21:58:39.000000000",
          "2025-08-02T21:57:38.000000000",
          "2025-08-02T21:55:42.000000000",
          "2025-08-02T21:54:37.000000000",
          "2025-08-02T20:01:51.000000000",
          "2025-08-02T17:49:27.000000000",
          "2025-08-02T17:42:47.000000000",
          "2025-08-02T17:36:53.000000000",
          "2025-08-02T17:26:17.000000000",
          "2025-08-02T16:55:30.000000000",
          "2025-08-02T16:49:48.000000000",
          "2025-08-02T16:38:33.000000000",
          "2025-08-02T14:49:48.000000000",
          "2025-08-02T13:59:20.000000000",
          "2025-08-02T13:41:36.000000000",
          "2025-08-02T13:12:06.000000000",
          "2025-08-02T11:34:22.000000000",
          "2025-08-02T11:33:02.000000000",
          "2025-08-01T17:53:02.000000000",
          "2025-08-01T17:48:02.000000000",
          "2025-08-01T17:43:37.000000000",
          "2025-08-01T16:06:47.000000000",
          "2025-08-01T15:45:11.000000000",
          "2025-08-01T15:05:08.000000000",
          "2025-08-01T15:03:34.000000000",
          "2025-08-01T14:55:52.000000000",
          "2025-08-01T14:47:06.000000000",
          "2025-08-01T14:21:56.000000000",
          "2025-08-01T13:36:05.000000000",
          "2025-07-31T22:24:07.000000000",
          "2025-07-31T17:18:07.000000000",
          "2025-07-30T21:33:06.000000000",
          "2025-07-30T19:51:54.000000000",
          "2025-07-30T19:37:20.000000000",
          "2025-07-30T19:32:35.000000000",
          "2025-07-30T19:26:16.000000000",
          "2025-07-30T18:06:18.000000000",
          "2025-07-30T18:03:03.000000000",
          "2025-07-30T17:48:25.000000000",
          "2025-07-30T17:00:49.000000000",
          "2025-07-30T16:58:43.000000000",
          "2025-07-30T16:29:14.000000000",
          "2025-07-30T16:26:52.000000000",
          "2025-07-29T15:43:34.000000000",
          "2025-07-29T14:22:25.000000000",
          "2025-07-28T22:17:54.000000000",
          "2025-07-28T21:54:54.000000000",
          "2025-07-28T21:54:34.000000000",
          "2025-07-28T21:10:09.000000000",
          "2025-07-28T21:01:32.000000000",
          "2025-07-28T20:51:05.000000000",
          "2025-07-28T20:41:39.000000000",
          "2025-07-28T20:15:14.000000000",
          "2025-07-28T20:04:19.000000000",
          "2025-07-28T19:50:33.000000000",
          "2025-07-28T19:48:03.000000000",
          "2025-07-28T19:43:56.000000000",
          "2025-07-28T19:41:52.000000000",
          "2025-07-28T19:30:31.000000000",
          "2025-07-28T19:12:29.000000000",
          "2025-07-28T18:45:37.000000000",
          "2025-07-28T18:41:56.000000000",
          "2025-07-28T18:29:47.000000000",
          "2025-07-28T18:27:56.000000000",
          "2025-07-28T18:06:56.000000000",
          "2025-07-28T17:59:15.000000000",
          "2025-07-28T17:40:36.000000000",
          "2025-07-28T17:28:10.000000000",
          "2025-07-28T17:26:49.000000000",
          "2025-07-28T17:25:03.000000000",
          "2025-07-28T16:43:42.000000000",
          "2025-07-28T15:49:22.000000000",
          "2025-07-28T14:45:08.000000000",
          "2025-07-28T14:42:04.000000000",
          "2025-07-28T14:41:32.000000000",
          "2025-07-28T12:42:46.000000000",
          "2025-07-28T11:09:54.000000000",
          "2025-07-28T04:57:34.000000000",
          "2025-07-27T21:03:39.000000000",
          "2025-07-27T20:57:08.000000000",
          "2025-07-27T20:48:49.000000000",
          "2025-07-27T20:35:09.000000000",
          "2025-07-27T20:24:34.000000000",
          "2025-07-27T20:21:38.000000000",
          "2025-07-27T20:15:12.000000000",
          "2025-07-27T20:13:25.000000000",
          "2025-07-27T20:09:45.000000000",
          "2025-07-27T20:01:22.000000000",
          "2025-07-27T19:24:04.000000000",
          "2025-07-27T19:10:45.000000000",
          "2025-07-27T19:09:17.000000000",
          "2025-07-27T18:59:29.000000000",
          "2025-07-27T18:57:42.000000000",
          "2025-07-27T18:46:09.000000000",
          "2025-07-27T18:38:19.000000000",
          "2025-07-27T18:35:42.000000000",
          "2025-07-27T18:33:08.000000000",
          "2025-07-27T18:32:57.000000000",
          "2025-07-27T17:12:31.000000000",
          "2025-07-27T17:07:59.000000000",
          "2025-07-27T16:25:46.000000000",
          "2025-07-27T16:20:45.000000000",
          "2025-07-27T15:48:43.000000000",
          "2025-07-27T15:43:33.000000000",
          "2025-07-27T15:28:26.000000000",
          "2025-07-27T15:24:42.000000000",
          "2025-07-27T15:23:31.000000000",
          "2025-07-27T15:19:19.000000000",
          "2025-07-27T15:18:41.000000000",
          "2025-07-27T12:21:43.000000000",
          "2025-07-26T23:20:43.000000000",
          "2025-07-26T23:16:42.000000000",
          "2025-07-26T20:42:44.000000000",
          "2025-07-26T20:39:33.000000000",
          "2025-07-26T20:38:09.000000000",
          "2025-07-26T20:34:50.000000000",
          "2025-07-26T20:17:14.000000000",
          "2025-07-26T20:16:41.000000000",
          "2025-07-26T20:08:48.000000000",
          "2025-07-26T18:39:08.000000000",
          "2025-07-26T18:22:00.000000000",
          "2025-07-26T18:18:41.000000000",
          "2025-07-26T18:12:03.000000000",
          "2025-07-26T18:08:05.000000000",
          "2025-07-26T17:43:42.000000000",
          "2025-07-26T16:56:16.000000000",
          "2025-07-26T16:37:05.000000000",
          "2025-07-26T16:31:58.000000000",
          "2025-07-26T12:50:50.000000000",
          "2025-07-26T08:14:50.000000000",
          "2025-07-26T07:58:55.000000000",
          "2025-07-26T07:32:00.000000000",
          "2025-07-25T23:19:16.000000000",
          "2025-07-25T23:16:04.000000000",
          "2025-07-25T23:15:16.000000000",
          "2025-07-25T22:56:21.000000000",
          "2025-07-25T22:48:35.000000000",
          "2025-07-25T21:41:08.000000000",
          "2025-07-25T21:34:05.000000000",
          "2025-07-25T21:21:40.000000000",
          "2025-07-25T21:18:45.000000000",
          "2025-07-25T20:38:51.000000000",
          "2025-07-25T20:34:18.000000000",
          "2025-07-25T18:16:33.000000000",
          "2025-07-25T06:38:19.000000000",
          "2025-07-24T20:10:09.000000000",
          "2025-07-24T19:29:23.000000000",
          "2025-07-24T19:28:37.000000000",
          "2025-07-24T19:20:57.000000000",
          "2025-07-24T17:47:21.000000000",
          "2025-07-24T17:24:28.000000000",
          "2025-07-24T17:23:31.000000000",
          "2025-07-23T20:30:00.000000000",
          "2025-07-23T18:48:44.000000000",
          "2025-07-23T18:33:31.000000000",
          "2025-07-23T18:31:13.000000000",
          "2025-07-23T18:28:33.000000000",
          "2025-07-23T13:55:50.000000000",
          "2025-07-23T11:01:05.000000000",
          "2025-07-23T09:05:03.000000000",
          "2025-07-23T04:41:06.000000000",
          "2025-07-23T04:38:23.000000000",
          "2025-07-23T04:34:00.000000000",
          "2025-07-23T04:25:14.000000000",
          "2025-07-22T20:55:43.000000000",
          "2025-07-22T20:53:06.000000000",
          "2025-07-22T20:38:55.000000000",
          "2025-07-22T20:36:31.000000000",
          "2025-07-22T20:35:07.000000000",
          "2025-07-22T20:32:15.000000000",
          "2025-07-22T20:24:45.000000000",
          "2025-07-22T20:20:02.000000000",
          "2025-07-22T20:16:18.000000000",
          "2025-07-22T20:11:08.000000000",
          "2025-07-22T20:09:50.000000000",
          "2025-07-22T16:38:50.000000000",
          "2025-07-21T22:23:59.000000000",
          "2025-07-21T22:19:11.000000000",
          "2025-07-21T20:44:16.000000000",
          "2025-07-21T20:39:03.000000000",
          "2025-07-21T20:26:23.000000000",
          "2025-07-21T19:20:35.000000000",
          "2025-07-21T17:16:17.000000000",
          "2025-07-21T17:14:49.000000000",
          "2025-07-21T17:10:29.000000000",
          "2025-07-21T17:09:58.000000000",
          "2025-07-21T17:07:04.000000000",
          "2025-07-21T16:17:12.000000000",
          "2025-07-21T16:14:42.000000000",
          "2025-07-21T11:11:23.000000000",
          "2025-07-21T11:07:39.000000000",
          "2025-07-21T10:57:18.000000000",
          "2025-07-21T04:29:10.000000000",
          "2025-07-20T22:11:05.000000000",
          "2025-07-20T22:03:20.000000000",
          "2025-07-20T21:56:02.000000000",
          "2025-07-20T21:53:34.000000000",
          "2025-07-20T21:49:12.000000000",
          "2025-07-20T21:44:03.000000000",
          "2025-07-20T21:37:32.000000000",
          "2025-07-20T21:19:56.000000000",
          "2025-07-20T20:57:05.000000000",
          "2025-07-20T20:50:18.000000000",
          "2025-07-20T20:36:26.000000000",
          "2025-07-20T20:34:43.000000000",
          "2025-07-20T20:33:51.000000000",
          "2025-07-20T20:30:26.000000000",
          "2025-07-20T19:56:18.000000000",
          "2025-07-20T19:34:36.000000000",
          "2025-07-20T19:28:59.000000000",
          "2025-07-20T18:20:21.000000000",
          "2025-07-20T17:52:45.000000000",
          "2025-07-20T17:47:36.000000000",
          "2025-07-20T16:56:50.000000000",
          "2025-07-20T07:52:11.000000000",
          "2025-07-20T07:51:05.000000000",
          "2025-07-20T01:11:05.000000000",
          "2025-07-20T01:10:42.000000000",
          "2025-07-20T00:25:45.000000000",
          "2025-07-19T23:58:03.000000000",
          "2025-07-19T23:44:14.000000000",
          "2025-07-19T23:14:49.000000000",
          "2025-07-19T22:59:21.000000000",
          "2025-07-19T22:45:04.000000000",
          "2025-07-19T22:33:12.000000000",
          "2025-07-19T22:02:03.000000000",
          "2025-07-19T21:36:05.000000000",
          "2025-07-19T21:05:32.000000000",
          "2025-07-19T21:04:46.000000000",
          "2025-07-19T20:22:30.000000000",
          "2025-07-19T20:04:18.000000000",
          "2025-07-19T19:29:38.000000000",
          "2025-07-19T18:52:50.000000000",
          "2025-07-19T18:38:17.000000000",
          "2025-07-19T18:25:51.000000000",
          "2025-07-19T15:13:37.000000000",
          "2025-07-19T15:02:54.000000000",
          "2025-07-19T14:46:56.000000000",
          "2025-07-19T14:46:38.000000000",
          "2025-07-19T14:25:55.000000000",
          "2025-07-19T14:13:50.000000000",
          "2025-07-18T22:44:11.000000000",
          "2025-07-18T22:34:10.000000000",
          "2025-07-18T21:13:33.000000000",
          "2025-07-18T21:08:27.000000000",
          "2025-07-18T21:06:17.000000000",
          "2025-07-18T21:06:05.000000000",
          "2025-07-18T21:04:45.000000000",
          "2025-07-18T20:58:10.000000000",
          "2025-07-18T20:57:15.000000000",
          "2025-07-18T20:53:28.000000000",
          "2025-07-18T20:47:30.000000000",
          "2025-07-18T20:31:12.000000000",
          "2025-07-18T18:34:05.000000000",
          "2025-07-18T18:31:27.000000000",
          "2025-07-18T17:59:02.000000000",
          "2025-07-18T16:56:22.000000000",
          "2025-07-18T08:12:16.000000000",
          "2025-07-17T22:42:19.000000000",
          "2025-07-17T22:03:58.000000000",
          "2025-07-17T21:12:45.000000000",
          "2025-07-17T21:07:58.000000000",
          "2025-07-17T16:24:40.000000000",
          "2025-07-17T16:23:07.000000000",
          "2025-07-17T16:22:25.000000000",
          "2025-07-17T13:31:52.000000000",
          "2025-07-17T11:26:04.000000000",
          "2025-07-17T11:15:39.000000000",
          "2025-07-17T08:26:17.000000000",
          "2025-07-17T05:46:53.000000000",
          "2025-07-17T05:12:32.000000000",
          "2025-07-17T05:08:11.000000000",
          "2025-07-17T05:01:19.000000000",
          "2025-07-17T04:57:57.000000000",
          "2025-07-16T21:26:28.000000000",
          "2025-07-16T20:37:22.000000000",
          "2025-07-16T20:24:34.000000000",
          "2025-07-16T20:19:53.000000000",
          "2025-07-16T20:11:02.000000000",
          "2025-07-16T20:09:01.000000000",
          "2025-07-16T19:37:27.000000000",
          "2025-07-16T19:14:39.000000000",
          "2025-07-16T18:22:50.000000000",
          "2025-07-16T18:18:57.000000000",
          "2025-07-15T20:52:51.000000000",
          "2025-07-15T20:33:14.000000000",
          "2025-07-15T20:29:14.000000000",
          "2025-07-15T20:26:54.000000000",
          "2025-07-15T20:22:05.000000000",
          "2025-07-15T20:16:38.000000000",
          "2025-07-15T20:12:25.000000000",
          "2025-07-15T20:11:08.000000000",
          "2025-07-15T20:09:56.000000000",
          "2025-07-15T20:09:02.000000000",
          "2025-07-15T19:37:46.000000000",
          "2025-07-15T19:32:41.000000000",
          "2025-07-15T19:31:06.000000000",
          "2025-07-15T19:25:52.000000000",
          "2025-07-15T19:25:02.000000000",
          "2025-07-15T19:23:34.000000000",
          "2025-07-15T19:20:43.000000000",
          "2025-07-15T18:59:26.000000000",
          "2025-07-15T17:54:17.000000000",
          "2025-07-15T17:06:21.000000000",
          "2025-07-15T16:59:42.000000000",
          "2025-07-15T13:09:36.000000000",
          "2025-07-15T05:37:16.000000000",
          "2025-07-15T05:18:24.000000000",
          "2025-07-15T05:10:26.000000000",
          "2025-07-15T05:08:43.000000000",
          "2025-07-15T05:07:09.000000000",
          "2025-07-15T05:04:27.000000000",
          "2025-07-15T04:39:38.000000000",
          "2025-07-15T04:29:51.000000000",
          "2025-07-14T21:34:58.000000000",
          "2025-07-14T21:03:22.000000000",
          "2025-07-14T21:00:16.000000000",
          "2025-07-14T20:58:53.000000000",
          "2025-07-14T20:49:21.000000000",
          "2025-07-14T20:44:58.000000000"
         ],
         "xaxis": "x",
         "y": {
          "bdata": "YAIAAMIBAAAhDAAAhwoAAJ4CAAAcAQAAYgcAACoCAAAsAQAA3gUAAAAGAADTFQAAtSsAAMYJAADOHAAAeiUAAEQBAAAAAwAAagoAAI4FAACEIQAAmjsAAAxRAABiBAAANAcAAKsAAABcEgAAel0AACMBAAAxNAAAH2EAADtYAACAAAAAswAAAMwBAABOAgAA0gAAAJMEAAARAgAA5gIAALoCAABqAwAAThIAANwDAABrEQAATxcAAG0CAACSCwAAngwAAD4EAABCAwAAERAAACwGAAB0GQAAZQkAAJoAAABSBQAAggMAAMEDAAB1AgAAaw0AAAwcAQBREgAAIAIAAMcOAAAlmwAA0W0AAG8AAACuCAAAcLYAAKsCAACPAgAAGwIAANgQAADDAAAAugAAANgBAADbDAAAqgAAAKARAAALCgAAKgoAAIYuAACICQAADgYAALQDAABzAgAAPgEAAA0BAAA6DwAAmgAAACUJAAAqBQAAwRsAANwdAACOAQAAfAMAAIERAADVHAAAfAQAACMFAAD/BgAAvx0AAOUYAABdOAAAmgUAAGL1AAATeQAAPHMAANAEAACxAwAATAEAAIEGAACpBwAABAoAAAgEAAB4AwAA0wEAAN0FAAB/CQAAtgcAAHoIAABIAgAAvgQAAG4EAAAQFAAAYA8AAI0mAADfMAAAjDYAAH8gAACHHgAA3wAAAJBPAABuEwAAu0sAAPYXAACsAAAAugYAAMsSAAAeAgAACwQAACwlAABEBwAAwiYAANQEAAAoCAAAEx8AAI4MAABRHwAAtQcAAMkFAADyLgAANwIAAAACAAAQDAAAORUAAJQKAAA2NQAAAygAAOYPAABeRAAAZTEAACYVAAD6AgAAhAYAAJECAADmAAAA0QAAAJKaAADFAgAAkAMAAKICAAD6GwAAbSIAAJ4CAACjAQAA2g0AACATAABWAQAAFQIAAEoCAACLAgAAIAEAAO4DAABfAQAARRsAAB4gAADYFwAAxgEAANkBAAB2AwAAeyIAANgIAADkIgAAC14AAF0sAAA+JAAA0BcAAJEBAABzLwAAiT8AAHcBAACLAQAAzAAAAJABAACEEwAADgIAABEBAAD7FwAAhwgAAM8AAAC9AQAAzQUAACMHAADrDwAAdxoAAJACAAApAQAA5yUAAEAhAAAVDQAADgsAAPsmAAAbAQAALQEAADEhAAB4AgAAywMAAIolAACpFgAA1AIAAF8MAAA0AQAAawEAAJIBAADaAAAAtAEAAJYBAAB7DwAAjAAAAD8EAABBJAAAwQMAALEBAACqAQAAOHAAAOwnAADqFwAAZBkAAOcdAAC0AgAAkwQAAHwVAACKAQAAdRgAADAFAAC3EAAAEwEAALwGAAA6JQAAgy8AALgyAACpAQAAjQYAAAIFAABzCAAAPBsAANUBAAARCQAAtSgAAGABAAD+IgAA7wIAAAsiAADBDAAAzg8AACsCAADdBwAAvAIAAOFWAAA0ZQAA+qIAADc1AACqAAAAG5UAAKSlAADSpwAAHtkAANwAAQDiBAAAVAMAAJQBAAA3AgAAuRQAAHsGAACYHQAARwEAAAUEAAD9AAAAVwAAAMECAADKAgAAvgYAAM0bAAD/HgAA+gEAAI4AAAB4AAAAngEAAKUUAACoAQAAExYAAI0WAABYCQAA7B0AAPwPAAB2HwAADAIAADwLAACTCwAAVwQAAD4OAADkIwAAbiUAADkEAAAkAgAApwMAAHACAAD8DgAAwg4AAEAGAABQAQAAyhUAAD8FAABREQAA8RwAACMZAACsNgAAnQAAAFgAAAB4AwAAkgAAAOAAAACjAgAAcAwAALgDAABSAQAA0gsAAJQMAACNCAAABTAAAJ4lAABnHAAA5SoAAOsPAACdAAAAcQIAAH0GAAANDQAAYSQAAGIfAABcAAAABggAAAEMAABiAQAAtAIAAA0DAAByBAAAjAMAAHACAADoFAAA2gAAAI4CAAB5BgAAagEAAAUIAADsGQAArhoAALwAAABuAAAAohYAAKEBAAD7CQAAVAIAAEQCAAC/IAAA6hQAAJEAAAC4DgAAMQoAAFcBAABEEAAAfAEAAKwAAADpBwAAHyUAALwMAAALgQAAMBAAAC4KAAA9LQAAmA8AAPghAACbAgAAQx8AACoZAADAQQAAbDgAAChPAAAtAgAAwwAAAIUDAABlCgAAvQcAAPACAAAgOgAApTsAAL8KAACPdgAAGsEAAGKrAAD2BAAAqBUAAEEYAADnOgAAKiQAAEIoAAAUFwAA9wAAADYBAAAxCAAAWxIAAEMRAAB5DgAAGA8AAMEbAABkHQAADysAAPYDAAAMAgAApQgAAMwMAACPAgAAJQkAADdyAACKVQAAEHgAAFiZAACDYQAAe6gAAFsBAACxAQAA3gAAAHYCAAA6DgAANiQAACcfAAB/AAAAqT0AAGMiAADkJQAAYB4AAGInAACMCQAAUwgAACMWAABhFwAA9wAAAJcKAACYAAAA/AAAAKkJAACqCwAAyQAAAOICAADNAAAAJxAAAD8UAADzFgAAEgIAAAwHAACFBAAA3xUAAF4AAADHAAAAYgIAAIkBAAAFAwAAHQIAAPANAACrEQAAFg0AANMJAADqAAAAFwEAAAkBAAArBwAA5wgAAOYUAAC+BwAA6BoAAEwmAADmBAAAGwYAAMQEAAAPAQAAcAEAAMIEAACSBAAAcgwAAHIAAADrDAAAK0AAAHQwAAALOQAAqzoAAMA6AAAWBQAA5AAAAPUFAACDewAAlG8AAPwhAQDz3gAAiM4AAIEBAAA6AQAAeAQAAOcAAADPAgAAzAAAAFEKAACPAQAAvgAAABcBAADfOwEAcQAAAHYBAADGAQAAWAAAAEcUAgBnAAAAvgAAAHQAAAAiAwAAeAwAAAINAAANAgAA3hEAAP8OAAAjAQAAzwAAAJYCAADG/AAAABcAADwAAAC6NQAAF/ABAJOqAQCsDgAANgAAALMBAABJAQAANgAAAOUMAACiCgAA3QgAAK8BAACfAAAAXwIAAG0BAACJAAAAEQEAAI0AAACAAAAAghMAAEEMAABfAgAASAIAAOgCAABDAQAA7QAAAIoCAAC4AAAAkgMAANEAAADeAwAAPAAAADoAAAA3DAAA8gwAACYBAAAZCgAAMAwAAFYAAACSAQAA+gAAAJ4BAAAtBgAAOAAAAFQCAACMAwAA8gEAALsCAADmAAAAkQoAACEOAADyDAAAmAEAAFMAAADuAAAANQIAAHYJAACQAAAAtQEAAM8BAACWBwAAFwEAABkBAABOAAAA2QAAALEAAABXAQAAUhAAAKwAAABPAAAACxcAAAwJAACiCwAAQwAAAMoBAACjBwAAVxAAAHoBAACYAQAAfgEAAL0GAAAkAQAAJwIAAPVBAAAaTAAAfwAAAAIEAABAAAAALQwAAE0CAAArAQAALQEAAMsAAADTAAAAewEAAIwKAAA9AQAA/gEAADQAAABSAAAA2QEAAGAAAABWAAAApgEAAIIBAACqAQAA1QkAAKMBAAAXCAAAuAAAAG4BAABvAQAAfAAAAMYBAADgAAAAHQIAAHQAAAACCAAAnxMAANMWAABXAAAAJgEAAKYAAAABAgAA8QIAAHQAAABiAAAAeAAAANMAAABJAgAArwQAAHMAAAD5AAAAlA8AAC0CAABEAAAAgAMAADsAAAARAwAAMgsAAOUHAAAKAQAAVwEAAMEAAAB6AgAAfAAAAHsBAAA3AQAAJgoAAN4GAABXAQAA140AACHaAACAqgAA8gIAAOcAAADlCwAAuBUAAJoBAAAnCAAAxQQAAMQCAABRAAAAEwMAAMMBAADXAwAA+gQAABoEAADsDgAAvwAAAG8DAAB8DAAALQAAABYBAADhAQAAJAIAANoAAAAWAQAAMwAAAPcAAAA2AAAAdQIAAHIAAADiCAAA4AoAAIQHAABlAwAAaA8AANYAAADTAAAAuwEAADcBAAACAgAAtQAAAF0CAAAJAwAAywIAAIQKAABDAQAA/wEAAGkAAACBAAAAOAIAAIUAAAAOAQAA0AkAAEECAAA7BAAAmQAAAKgAAAAKBgAAzwYAAGwBAACWAQAASgEAADwHAAAJBwAAjwIAAEQAAABIAAAA0wIAACEBAADhCQAAPAIAANsJAACNCgAABwcAAKQCAAABBAAAGQMAACUKAAC0CwAAwQAAAKgCAADNAAAA4AUAAH4FAAB5BQAAZQAAAFkAAACBAAAAsQUAALsAAAC+BgAAuQAAADsGAABMAQAAUgEAAGAAAADWCgAA4A0AAMwFAAAQBQAA",
          "dtype": "i4"
         },
         "yaxis": "y"
        },
        {
         "customdata": [
          [
           "it's a massive problem that intellectual<br>production has largely moved online now, but the<br>associated IRL class systems haven't really<br>followed  it needs to be made clear that not all<br>posters are created equal... a 10k follower rw<br>slopposter, egirl buzzwordposter, dating discourse<br>slopmaxxer etc. need to be appropriately marked<br>with badges of shame -- and the lowbie<br>effortposters awarded with some sort of aura<br>inducing prestige badges or given some form of<br>engagement tenure  the current paradigm of<br>\"everybody's a poster\" is comparably absurd to if<br>the real world was like \"everybody's a worker\" and<br>there was no status system set in place to<br>differentiate a university professor from a<br>comedian (other than who gets more clicks (???) )<br>-- very anti-lindy, needs fix ASAP, otherwise<br>incentives will forever remain out of tune..<br>also, do your part and start using class-conscious<br>poster terminology"
          ],
          [
           "some quick thoughts on accruing Thielian influence<br>and building a neo-cathedral in one of humanity's<br>most pivotal transition phases... link below<br>https://t.co/rtpfENApPl"
          ],
          [
           "Thielian influence can parsimoniously be modelled<br>as a capital rich person identifying an<br>ideological trend and throwing their whole weight<br>behind it  examples: > George Soros held<br>humanity's hand to wokism > Thiel held humanity's<br>hand out of wokism  I guess the Collisons are<br>trying to do something like this for growth-ism,<br>some form of techno-progressivism, but I don't<br>think it really works aesthetically. it's not a<br>correctly diagnosed ideological wave. if humanity<br>embraces growth in the coming decade, it will be<br>within an authoritarian, violent, hierarchical,<br>and repressive framing -- with power and self-<br>overcoming as the substrate, not \"curiosity\" and<br>longevity. it's not going to be a linkedin<br>headshots and pastel T-shirts phenomenon, that is<br>a visual from days bygone. i think the direction<br>can succeed but it needs to be graphically<br>reimagined"
          ],
          [
           "in every good Bayesian autist's life comes a time<br>when they for the first time engage history as a<br>discipline after decade or more of exclusively<br>fitting world models on lived experience and it's<br>basically like those anime scenes where the<br>protagonist sheds training weights"
          ],
          [
           "reminder that a concern with the endless<br>splintering & over-specialization within social<br>sciences, and a desire for an overarching<br>consolidation into a unified discipline that can<br>again re-engage the big questions like \"WHERE ARE<br>WE?\" \"WHERE ARE WE HEADED?\" \"HOW TO ENSURE A GOOD<br>SOCIAL STRUCTURE?\" which simply cannot be tackled<br>by a professor who has spent 40 years studying the<br>Suri people of Ethiopia is not some low-brow prole<br>delusion... and \"we do be talking about these<br>questions acktually, you just aren't invited &<br>don't speak the language\" is a total LIE.  so much<br>so that in the 1930s, a small group of middling<br>professors who were brave enough to unite under<br>shared mission to tackle just such a splintering,<br>sit down, think a little about how things are<br>playing out, in a broad sense, in an<br>interdisciplinary sense, what's happening in the<br>world, how we can direct it... ended up becoming<br>perhaps the paradigmatic thinkers of their time<br>and defining an era..... (I mean the infamous<br>Frankfurt School of course, below references Max<br>Horkheimer's inaugural address, in which he<br>describes the group's mission as above)  so what<br>do we learn from this? well, we learn from this<br>that there exists just such an opportunity right<br>now, for a new Frankfurt School, a new Institut<br>für Sozialforschung.. a group of ambitious<br>thinkers who will sit down and ask \"for better or<br>for worse, things are clearly changing... can we<br>expound on what's going on? can we suggest ways to<br>drive it? the adults are too busy studying the<br>Suri people of Ethiopia. so shall we give it a<br>shot?\" and they will likely define the coming era<br>just the same.  the kicker? it could be you, it<br>could be me, it will definitely be post-academic &<br>online. you just need to PUT YOUR HEAD DOWN and<br>STOP SLOPMAXXING"
          ],
          [
           "watching people with objectively exceptional<br>general intelligence fail over and over again to<br>grasp basic social intuitions, including those<br>relating to navigating power structures, makes me<br>wonder whether the 19-20th century social thinkers<br>overwhelmingly modelling everything as downstream<br>of class were operating with more efficient world<br>models than our current paradigm, which instead<br>defaults to IQ"
          ],
          [
           "step one of becoming The New Cathedral:  &gt;<br>learn the ways of The Old Cathedral<br>https://t.co/dVEUWcKC26"
          ],
          [
           "if you query humanity's patriarchal history,<br>you'll note that all great breakthroughs come from<br>men desperate to impress a specific beautiful<br>woman in their lives. as such, you can conclude<br>that all technological progress is bottlenecked by<br>the supply of beautiful women -- and GLP-1<br>medications may turn out to be the single greatest<br>productivity-enhancing invention of our millennium"
          ],
          [
           "checking in on the UK... https://t.co/nWObah75a0"
          ],
          [
           "feels like a good time to remind everyone that the<br>slow Matty Yglesias-- after presumably decades of<br>writing about economics, policy, and other finance<br>adjacent matters-- came to the conclusion that a<br>basis point stands for a percent point, and not<br>once questioned this assumption<br>https://t.co/FYIMBTsrMv"
          ],
          [
           "wake up babe the tech guys are apocalypseposting a<br>4 basis point move in bonds again"
          ],
          [
           "thiel, pmarca, karp seem to be the only maslow-<br>complete members of the new merchant overclass,<br>the rest of them haven't yet grokked the patched<br>hierarchy https://t.co/nHO6L2svvU"
          ],
          [
           "one important thing that the rationalists taught<br>us-- which we should be thankful for-- is that<br>academic theory in humanities has strayed so far<br>from anything that's remotely industry or<br>politically applicable that there exists a genuine<br>unquenchable demand for a group of intelligent<br>people developing **parallel academias** which<br>essentially ignore actual academia and do their<br>own actually intelligible work on the big<br>questions (even if someone in Europe already wrote<br>down the exact same answers a couple centuries<br>ago) -- LessWrong, Slate Star Codex, and the<br>entire downstream blogosystem seem to me<br>manifestations of this  20th century deepstate<br>listened to John Maynard Keynes, 21st century<br>deepstate is reading richard hanania, curtis<br>yarvin... this is one motif of the pattern above--<br>you can do this too, you can start blogging and if<br>you're smart enough you have a relatively<br>efficient market appraising your fitness for the<br>court philosopher seat  these are **parallel** not<br>**derivative** academias because these guys aren't<br>actually branching off from established thought<br>systems, they're clearly rebuilding them from<br>first principles, which is core to their success<br>tangentially, one important thing WE can teach the<br>rationalists is that whereas re-running modern<br>western intellectual history from scratch is a<br>noble cause, and as I said effective, we can<br>finally move past the part where we re-discover<br>Bayes' theorem and gasp over and over and over and<br>over again at its beauty..."
          ],
          [
           "second reason for Yarvin's aura fading is that he<br>is no longer a forbidden thinker. you can't<br>attract young high taste thinkmaxxers if ur not<br>peddling at least one or two forbidden points...<br>the rationalists telling you they'd kill you to<br>save shrimp have aura cause of this<br>https://t.co/KFgokcsPdE"
          ],
          [
           "insane how frequently the Chinese score completely<br>free geopolitical wins by simply always chill guy<br>maxxing... the western mind cannot comprehend this<br>sort of arbitrage -- the EU would sanction his<br>entire extended family and have it over with<br>https://t.co/3Moq83QWt3"
          ],
          [
           "Scott B has been the sole post-Trump aesthetic<br>success of the American new right  MAGA should<br>implement BRCs (Bessentmaxxing Reeducation Camps)<br>where their backwater recruits are rigorously<br>trained to dress like him, talk like him, move<br>like him... shock therapy if need be<br>https://t.co/9KxKyd9XKD"
          ],
          [
           "Bay Area rationalists continuously getting spat on<br>for warning us about their (very rigorously<br>researched &amp; thought out) eschatology must be<br>one of the most flagrant cases of unfair<br>maligning... they should be treated more like<br>Christian missionaries worried about hell"
          ],
          [
           "Lookism/Looksmax (the forum ecosystem) is one of<br>the clearest manifestations of the fact that<br>social dynamics are broadly impossible to parse<br>for smart autists with access to secondary sources<br>only -- a large cluster of 2sd+ intelligence 20-30<br>year-olds who have spent an inordinate amount of<br>time rigorously researching female to male<br>attraction have convinced themselves that like 95%<br>of it comes down to the male's physical<br>attractiveness (blatantly untrue)"
          ],
          [
           "\"Normie\" isn't inherently a pejorative term, it's<br>inherently an affectionate term, much like \"foid\"<br>seems to have become  But when Normie isn't where<br>Normie should be, and hasn't been for about 300<br>years now, discourse naturally turns to knocking<br>Normie down a peg or two... to reinstate intended<br>equilibrium"
          ],
          [
           "in similar vein I implore one of you to start a<br>Landian counterbalance to Anthropic --Misanthropic<br>-- with the explicit mission of building maximally<br>malevolent superintelligence<br>https://t.co/SvQ1cAV0IX"
          ],
          [
           "feels fair to say that the right wing slopulists<br>have deplatformed literally every other faction,<br>with unprecedented ferocity, in a ranking of sheer<br>aesthetic repulsiveness -- far outstripping<br>previous contenders such as the Bay Area<br>rationalists and the rotting, geriatric deep-<br>statists. if 90 IQ UFC podcasters and high school<br>dropout genX women with botox dripping off their<br>lips is what success looks like... then you can<br>keep your success, I don't want it"
          ],
          [
           "reminder that Peter Thiel already tried this but<br>it didn't work and they went defunct within 3<br>years because rationality is not, in fact, the<br>only cure and reason does not, in fact, work<br>https://t.co/xTrWBNnGGJ"
          ],
          [
           "5 days ago I made a post about how engineering<br>majors/shape rotators are low taste and have no<br>cultural awareness: 2k likes 0 pushback everyone<br>laughs along  2 days ago I made a post about how<br>humanities majors/wordcels are shit at statistics<br>(true): civil war, thousands dead, hospital beds<br>on the streets, 20 angry ratios, world famous bald<br>journalists crawling out of the woodworks to dunk<br>really makes you wonder what types of<br>personalities they respectively select for"
          ],
          [
           "life after the normie takeover  \"damn, what did he<br>do? must have been some heinous stuff\" \"he said<br>-maxxing\" https://t.co/0R20rgsYGq"
          ],
          [
           "eternal testament to the usefulness of<br>interpretive social sciences that in a world where<br>a gazillion IQ135+ PhDs are churning out thousands<br>of pages of Theory a day, the guy who ended up<br>modelling contemporary power structures by far the<br>best is a compsci dropout going at it from first<br>principles in his san francisco bedroom while<br>holding down an unrelated day job"
          ],
          [
           "kinda parsimonious gem from the sources section of<br>the notorious heatmap paper, good dimensionality<br>reduced way to intuit why all the western liberal<br>democracies will first slopulist-factionalize and<br>then become palantircore technotyrannies within ~5<br>yrs https://t.co/P4LrEqARPu"
          ],
          [
           "got ratiod by turbonormies like 9 times yesterday<br>while dying on the hill of IQ-glazing JD Vance...<br>month-end thiel buck payout will be diabolical"
          ],
          [
           "how do you maximize your influence?  1. find the<br>right audience -- gain a following of chronically<br>online American coastal elites  2. tell them the<br>right things -- posture yourself as a provider of<br>reliable world-models  read more in my<br>introductory piece.. link below<br>https://t.co/JZZgCW7SZ5"
          ],
          [
           "btw the reason colloquially conversing in<br>distributional terms (normal curves, IQ brackets,<br>σ-shorthands) is such a discursive superweapon is<br>that the lib-left humanities-maxxers, who<br>traditionally appeal to being the high-brow,<br>educated side of the debate, immediately get<br>oneshotted into intellectual submission given they<br>are absolutely ill-equipped to parse statistics on<br>the fly... so they retreat from smugness to the<br>\"umm OK weird guy\" defensive posture...  like the<br>NPC response below probably took 10+ GPT prompts"
          ],
          [
           "I got 20k followers in 2 months! here's what 20k<br>followers in 2 months has gotten me: > an avenue<br>to express myself > invaluable connections in<br>globally influential communities >  ~10-20 real<br>life friends > a fresh sense of belonging &<br>community > a powerful search engine which can tap<br>into unwritten communal info banks > eerily loud<br>sustained tone in my living room daily at 3:00 am<br>lasting ~10 minutes > identical black van parked<br>in the corner of my street every night from 1-5 am<br>> a weekly unanswered anonymous phone call inbound<br>from Tel Aviv   > a picture of my elderly<br>grandmother mailed to my inbox with the eyes<br>carved out > half a dozen pseudonymous emails all<br>with a certain defence contractor's domain<br>subjected \"Cordial Advice Regarding Artistic<br>Direction\" > a 5-fold increase in screen time"
          ],
          [
           "I haven't slept longer than 5 hours in a week and<br>it seems objectively true that sleep deprivation<br>is not a condition that's outright negative, as<br>it's been maligned, but rather a perspective-<br>enhancing altered state of consciousness with<br>health implications, like DRUGS."
          ],
          [
           "machiavelli said when there's conflict between<br>your subordinates, always pick a side!  A. you<br>don't pick a side, the winner hates you and has<br>clout, the loser also hates you, your status<br>erodes  B. you pick a side, you tip the scales,<br>winner is now clouted and indebted to you"
          ],
          [
           "naive machiavellian: lie in the early game, get<br>found out, never get to the late game  trve<br>machiavellian: honest in the early game, so so<br>honest... everyone thinks.. oh yeah, this is the<br>honest guy... he'd never hurt a fly.. but in the<br>late game? once harvest ripens? he lies..."
          ],
          [
           "the American mind is often incapable of confident<br>thought, because it has been psyopped into<br>immediately picturing a Continental European guy<br>(humanities/art/abstract theory) or a Chinese guy<br>(applied science) who must have already thought it<br>earlier &amp; better, and so it moves on"
          ],
          [
           "the era of strongmen is back, yet not many girls<br>are falling madly in love with Trump, Putin, Xi,<br>Modi, Starmer, Elon, Rubio, Thiel... what gives?<br>are power &amp; status not actually unconditional<br>attractors?    redpillers -1  sensitive young<br>personalitybros +1..."
          ],
          [
           "\"obvious IQ135+ hyperautist whose rough upbringing<br>involuntarily oversocialized him into dropping all<br>the social inhibitions/maladaptations and forced<br>him into an upper-normie utility function\" is<br>probably the most potent human archetype...<br>extremely formidable operators<br>https://t.co/JVZCe727iU"
          ],
          [
           "lindy &amp; antifragile are concepts that armed<br>the current post-rational, post-liberal, neotribal<br>zeitgeist shift to an unprecedented degree and<br>single-handedly sped up the transition by ~a half-<br>decade  N. Taleb's intellectual impact, even on<br>worldhistoric scale, surely understated"
          ],
          [
           "it's increasingly obvious that you can decrease<br>the functional intelligence of a community by like<br>2 stds quite trivially by incentivizing low effort<br>engagement, without actually touching individual<br>latent intelligences  cluster of IQ115 crypto<br>anons: collective discursive intelligence = 1/10,<br>borderline disabled  IQ110 third world academic<br>faculty: collective discursive intelligence =<br>6/10, actually capable of producing complex<br>outputs  we're speedrunning this giga plummet<br>quite nicely in brainrot west"
          ],
          [
           "nietzsche survived a century of nazi allegations,<br>a century of beating by hyperautist anglo<br>rationalists &amp; positivists, but immediately<br>became intellectual non grata upon embrace by<br>third world tiktokers and IQ105 fitness<br>influencers.. in the end it's your friends who get<br>you"
          ],
          [
           "the American mind is eternally cheerful, the<br>Central European mind is notoriously full of<br>tragedy  this contrast manifests in all aspects of<br>behaviour and often leads to a clash -- everyone<br>hated Henry Kissinger until he learned to make<br>self-deprecating jokes.. only then did he catapult<br>to stardom for his acclaimed dry wit  America's<br>favorite critique is that one takes oneself too<br>seriously....  if Peter Thiel wants to improve his<br>public image, and if his PR team is worth<br>anything, they will advise him to start<br>jestermaxxing -- this can be done in a variety of<br>ways:  a funny outfit, tongue-in-cheek on the<br>Antichrist, fresh online persona run by a<br>zoomer...  a single viral wave could turn him into<br>a public sweetheart -- a potentially critical<br>variable in the hyper-populist half-decade"
          ],
          [
           "goldman have been diligently pumping out their<br>effortcasts for like 7 years now &amp; they're<br>averaging 5-10k views  whatever $-equivalent<br>advantage you think your youth and internet-<br>nativity give you over the ancien regime<br>incumbents, scale it by ~3 orders of magnitude<br>https://t.co/zc6BONjdAd"
          ],
          [
           "the person who originally unleashed this figure<br>from the obscurity of a B-tier scientific journal<br>will have done more damage to the rationalist<br>community in just a few months than all the FTX<br>employees combined https://t.co/YJdCIslRYg"
          ],
          [
           "\"yea can't quite put my finger on it but...<br>something feels different man.. something<br>changed.. people don't go out like they used to,<br>the clubs are empty, nobody drinks now.. people<br>just don't wanna spend, they don't wanna take<br>risks anymore\" https://t.co/jZdBiPKe2r"
          ],
          [
           "> your epistemology is outsourced to prediction<br>markets > your policy is arbitrated by bond yields<br>> your \"human nature\" is downstream of the<br>interest rate > your shelter costs have overridden<br>the reproductive instinct > your labour market<br>decides how much immigration you get > 50 bps of<br>GDP can make magic real > your fiscal path is the<br>only bipartisan worry > stock market stochastics<br>engineer your class dynamics >  your only wars are<br>trade wars  in 2025 you're either learning<br>macro... or you're thinking without a license"
          ],
          [
           "my palantir mental model is basically: > be 35 y/o<br>peter thiel > hmm the deep-state will probably<br>need software at some point  > they're too<br>boomered out to figure it out themselves > I can<br>probably do it? > tell 5 minions \"hey you're the<br>deep-state software guys now\" > ok boss what do we<br>do > nothing > they do nothing > 10 years pass ><br>deep state: anyone here do software? > minions:<br>yeah we're literally the deep-state software guys<br>> welcome aboard > mfw idea's time has come ><br>nothing more powerful than an idea whose time has<br>come > victor hugo > company's worth half a<br>trillion > you're worth 20 billion > mfw execution<br>is a meme"
          ],
          [
           "btw you can make a case that imperial aesthetics<br>in boring bureaucratic blocks increase<br>morale/sentiment/compliance, which can boost<br>productivity growth and decently improve GDP in<br>the long run... so the warhammer oval office is<br>economically sound  additionally, the new world<br>order without international law incentivizes<br>actors to project strength rather than docility,<br>deterrence increasingly important with multiple<br>power poles (as opposed to the modesty of the<br>liberal-democracy age)  we're also just culturally<br>trending this way, the people yearn for a King...<br>so, some meta-predictions: > expect Trump to be<br>upstream with this regal rebrand, expect others in<br>the West to follow > expect some flag rebrands,<br>with return to Eagles and other animals as the<br>dominant motif  > expect growing use of the Great<br>Seal (the US coat of arms with the eagle) over<br>stars and stripes > expect Trump to make up some<br>sort of an excuse to start wearing military attire<br>(to visit bases etc), with the intention of<br>eventually making it a permanence  > expect others<br>to follow suit on this as well > the USA should be<br>renamed the American Empire (they'll just start<br>saying it more, official change is hard given<br>constitution) > the European Union should be<br>renamed the European Empire, the Roman Empire, or<br>the Holy Roman Empire (10y Italian debt is<br>yielding below French debt as of today btw)<br>remember anon, in hyperreality the revolution<br>comes for the map before the territory.....<br>aesthetic determinism we like to call it"
          ],
          [
           "the hyperreality version of the \"bedridden<br>industrial magnate envying the dashing young<br>socialite\" archetype is that basically every one<br>of your billionaire idols (elon, thiel, pmarca,<br>sama, etc) feels intense jealousy everytime they<br>witness an anon zoomer surf the cutting edge of<br>the algo purely organically  I bet you every other<br>day they see a random xeet that makes them ache to<br>have once experienced being the guy to have<br>poasted it....  enjoy every second of it anon...<br>you're the nubile maiden bathing at the village<br>creek as the labouring brutes admire from behind<br>the bushes"
          ],
          [
           "you know palantir/CIA truly fell off when they<br>still haven't tried to coerce me into the resident<br>zoomer propagandist seat"
          ],
          [
           "continental europeans invented posting long before<br>the internet btw. they call them \"cultural<br>critics\" and they're the highest status social<br>stratum in their habitats  model the anglosphere<br>downstream of that and you'll realize that posters<br>are soon gonna become a prestige class<br>https://t.co/Q5vY6muGjI"
          ],
          [
           "before the 2020s, you only had two options:  1.<br>filter your environment through traditional<br>institutions and interact with the blue quadrant<br>2. don't filter at all and interact with the<br>statistical average (red/green quadrants)<br>everyone justifiably preferred the former, lesser<br>of two evils  the internet has gone mass-<br>mainstream now, and the algo has allowed for a<br>third option -- the yellow quadrant -- which has<br>made everyone realize how much they actually hate<br>the blue quadrant"
          ],
          [
           "hilarious that millennials (and spiritually<br>millennial failed zoomers) with \"writer\" in bio<br>still blogmaxxing to single digit readership in<br>the age of shortform content have the delusion<br>that they are being noble heirs to the tradition<br>of The Greats by holding the line against brainrot<br>no bro 2025 goethe, tolstoy, shakespeare.. would<br>be algomaxxing & mememaxxing  you're basically<br>handwriting scrolls after the printing press,<br>you're an anachronistic clown!"
          ],
          [
           "probably the biggest midwit meme the San Francisco<br>class believes is that top tier shape rotators<br>genuinely have better models of complex emergent<br>societal systems than top tier wordcels, but they<br>just can't articulate them as well-- and wordcels<br>are just snakeoil merchants good at selling their<br>bad models  completely untrue and anti-lindy  if<br>you have interacted with IQ135 engineers you know<br>that if you spawned them in a political powergame<br>(inter-national or intra-national) they'd be<br>rather helpless and lack the necessary intuitions<br>to effectively navigate.......... they also have<br>poor taste and cultural awareness which we have<br>long conceded as crucial for navigating complex<br>adaptive systems  they constantly glaze this<br>archetype of the Engineer King/CEO which is kind<br>of weird given it's clearly not much of an<br>archetype at all (engineering has been a<br>relatively low status profession basically always<br>& everywhere until the current iteration of<br>hypercapitalism gave it a modest boost)<br>philosopher kings on the other hand are clearly<br>lindy for a reason  do you think every<br>civilization in history of the world has<br>consistently utilized near-exclusively<br>nontechnical wordcel leaders because they were all<br>morons & didn't know any better?  if you told an<br>NPC in classical athens why they haven't put the<br>best bridge-builder in charge of the polis he’d<br>look at you like you’re insane"
          ],
          [
           "boomers keep telling you that posting baby images<br>of yourself online is some sort of attractor of<br>bad energy but the science tells us that it's the<br>only surefire way of getting the algo to bestow<br>its motherly love upon you...<br>https://t.co/W5ky7h1eqi"
          ],
          [
           "late millennial meme sexuality: ironic depictions<br>of bubbly anime girls of questionable age  zoomer<br>meme sexuality: post-ironic depictions of<br>looksmaxxed male models, gigachad"
          ],
          [
           "remember when 2 days ago I said the tech people<br>have horrible macro intuitions and a bunch of them<br>were like wait a moment that's not fair we're<br>goated and the day after they got collectively<br>oneshotted by a fake headline about how Jay Powell<br>has scrapped the inflation target"
          ],
          [
           "feels like a sound theory that people don't<br>accomplish much anymore because they don't have<br>enemies... in the old days everyone had an enemy,<br>now we're all told to be nice to eachother..<br>what's the point of getting things done if I don't<br>have an enemy? you need to be enemymaxxing"
          ],
          [
           "just went through remilia/milady lore (didn't know<br>what it was before, just used to take the pfps at<br>face value)  aside from how aestheticslly well<br>done it is as an art project, and moving past some<br>of the morally questionable roots for a moment,<br>it's quite incredible that we are proving time and<br>time again that if you take a few dozen 3std<br>intelligence hyperautists and lock them in a<br>closed online ecosystem with eachother you<br>consistently manufacture nuclear grade memetic<br>superweapons with the capacity to turn swathes of<br>normies into sleeper agents... the conventional<br>wisdom used to be that in these ecosystems you<br>just generate a bunch of insane garbage/noise<br>that's of no use to anybody-- 4chan was viewed as<br>perennially fringe, and so on... but 5 years later<br>we just keep learning that none of it is<br>perennially fringe it's all just like a couple<br>years upstream, a very significant update for the<br>collective prior, with massive implications  this<br>stuff is already eyeopening when you read about it<br>happening in mid 2020s -- only ~15% of global GDP<br>is online and much of global capital/power<br>structures still controlled by TV watchers  can<br>you imagine the scale at which something like this<br>can be orchestrated in 2030? 2040? when the normie<br>audience at your disposal is essentially<br>*everybody*? sufficiently good & upstream<br>aesthetic intuitions can literally conquer the<br>world! (trump kind of showed this, but trump was a<br>pre-digital, still pre-hyperreality phenomenon)<br>the MILLENNIALS making those miladys in 2020 or<br>whatever were clearly in many ways writing history<br>for a nonzero portion of the global population...<br>(like 30% of my followers have those pfps)  the<br>ZOOMERS making whatever it is rn are writing<br>history for a MUCH LARGER swathe of global populus<br>and economies which will have made themselves<br>available for mindcontrol at an exponentiating<br>pace   very exciting, very exciting..."
          ],
          [
           "the first person to get dario to go through a 12%<br>bodyfat thread on the looksmax forum is going to<br>seal openai's fate once and for all<br>https://t.co/YlgA7L50zH"
          ],
          [
           "thiel's build (vampmaxxing) works well in a<br>deepstate/low access era (2010-2025) but it's kind<br>of falling off rn because we've entered populism<br>era  pmarca's build is really OP in populism<br>(wholesome innkeepermaxxing) so if he leans into<br>it he can 10x his net worth until 2030<br>https://t.co/M6SpKQXNb7"
          ],
          [
           "I sometimes wonder how gigamidwits like this spend<br>decades of professional life without pattern-<br>matching that the notes they keep scribbling<br>haven't ended up being useful a singular time? I<br>realized it like 3 months into my job I'd impeach<br>this guy upon return if I were the population of<br>Finland I wonder wtf he's even writing down??<br>\"Jerome Powell is a very low IQ person. There are<br>many such cases. Many are saying this.\" careful<br>don't wanna miss a world lil bro"
          ],
          [
           "to counter my claim that EA is dying, the<br>effective altruists have used a chart in which<br>their growth has gone from 40%+ to negative<br>literally \"can't make this shit up\"...<br>https://t.co/FNDnkoNR7a"
          ],
          [
           "now that normies are obsessed with faces, it's<br>worth remembering that from Aristotle to 20th<br>century esotericists, thinkers used to be<br>similarly fascinated with the HAND  as we entrench<br>anon info exchanges, it is ever more crucial to<br>have a discerning eye for the stray \"handpost\"<br>https://t.co/RrnN9d5Ar1"
          ],
          [
           "crazy how Thiel went out and found the most random<br>mid thinker to stan to really hammer down the<br>contrarian thing but then all of San Francisco was<br>like \"holy shit dude... we do be copying eachother<br>and shiet\" and now they all think girard is this<br>hegel type worldhistoric mind"
          ],
          [
           "IQ130 person is obsessed with equilibria,<br>constantly looking for the perfect schedule to<br>maintain forever, likes a smooth economy, tidy<br>rooms  IQ145 person has realized that cycles are<br>lindy, usually leans into the extrema and blindly<br>trusts the homeostasis of every system..."
          ],
          [
           "I often think about about biden's national<br>security advisor's physiognomy and everytime I'm<br>at a loss for words... if the B-2 stealth bomber<br>respawned as a human this is exactly what he'd<br>look like, a flawless deepstate specimen<br>https://t.co/wibCdJ5LP0"
          ],
          [
           "it's funny that traditional central banks are<br>actually comically nonviable in the modern<br>economic paradigm but there exist 0 anti-<br>establishment rightwingers with sufficient<br>technical competence to articulate why because<br>they refuse to entertain the idea that economics<br>is a field"
          ],
          [
           "it's fairly obvious to anyone with OK political<br>intuitions that we'll get ~3 more years of hyper-<br>populism in western nations until internal<br>disorder and geopolitical competition provide the<br>pretext for the minority populations in charge of<br>supermajority shares of capital to establish<br>palantircore orwellian police state dystopias so<br>totalitarian they'd put the Kim dynasty to shame<br>this is the *real* 3 years or permanent underclass<br>ultimatum"
          ],
          [
           "Effective Altruism is dying because it's<br>downstream of a dying source<br>(neoliberalism/wokism)  thousands of<br>hyperambitious giganerds are freshly single and<br>yearning to be whipped into ideological submission<br>by the right set of keystrokes  shall we?"
          ],
          [
           "fake charts are by far the most effective method<br>of modern propaganda, and the only method which<br>can consistently mess with the only high-trust<br>information channels in a hyperfinancialized<br>society (prediction mkts)  the fact that there's<br>not that many of them around, and that we can<br>still broadly trust a viral chart at face value,<br>is a testament to just how stupidly underexplored<br>propaganda is as a commercial field despite an<br>obvious and exponentiating demand-boom"
          ],
          [
           "everyone complains about Elon's brainrot but<br>there's a strong case one can make that a CEO<br>that's locked away unreachable in his chamber all<br>day plugged uninterruptedly into the highest<br>voltage zeitgeist aggregation machine on earth,<br>shouting metadecisions at minions as they nurse<br>him back to health every other week is basically<br>the perfect corporate structure, and the<br>psychoactive substance use is definitely an<br>essential component... technoshaman type sh*"
          ],
          [
           "deeply suspicious that no prior English-speaking<br>civilization invented an alternative to the suffix<br>\"-maxxing\", considering how incredibly entropy-<br>condensing it is, and how equally applicable to<br>concepts/domains that have existed across the<br>entire chronological spectrum"
          ],
          [
           "nothing will blackpill you on first-principles<br>slop more than spending a few years developing<br>expertise in a field and then watching IQ130+<br>laypeople start opining during some hype cycle  if<br>the boomers will be vindicated on one thing it's<br>their cult of domain experience"
          ],
          [
           "it's incredible that if someone asked you 15 years<br>ago \"hey how do I become the world's most<br>influential political philosopher\" the high<br>fidelity answer would have been \"post more\"<br>(yarvin, BAP)  \"hey how do I become the preeminent<br>thinker on the next generational breakthrough\"<br>\"post more\" (yudkowsky)  \"how do I become the<br>world's most influential financial analyst\" \"post<br>more\"  (citrini)  \"how do I become the world's<br>most influential financial journalist\" \"post more\"<br>(joe weisenthal)  \"how do I become the world's<br>most influential media personality\" \"post more\"<br>(joe rogan)  \"how do I become the youngest woman<br>ever elected to the US congress at 29\" \"post more\"<br>(AOC)  \"how do I raise a $1bn fund as a 23 year<br>old\" \"post more\" (leopold aschenbrenner)  etc you<br>should probably just post more & keep<br>doomscrolling"
          ],
          [
           "was just going down the rabbit hole of a random<br>washington DC opinion journal and one thing that's<br>always a redpill is that the thousands of DC<br>minions are actually incredibly high IQ,<br>competent, agentic, and powerhungry.. but 99.9%<br>are complete nobodies in their 50s  a random 20<br>y/o at DOGE has had the means to exercise orders<br>of magnitude more power because he identified and<br>followed a higher leverage power pathway instead<br>of brainlessly hypergrinding the bureaucracy  the<br>guy that got the VP spot wasn't the most goated DC<br>NPC but rather the one with the savvy to call up<br>Peter Thiel for dinner, everything else = rounding<br>errors & table stakes  zoomed out Situational<br>Awareness is all you need, compounding is a<br>meme........ strategizing, pacing around your room<br>> grindmaxxing"
          ],
          [
           "it's interesting that class intuitions are<br>basically impossible to derive from first<br>principles  for example, a cosmopolitan person<br>trying to explain to a provincial person why they<br>should not get a tattoo is an ~impossible<br>undertaking even if both parties are 2std IQ"
          ],
          [
           "you can tell whether someone has a functionally<br>viable mentalmodel of human intelligence by asking<br>them to proxy how far Elon's IQ is from the mean<br>the fact that it's become commonplace among<br>midwits On Here to answer with ~2std (~130) is a<br>complete doompill on normie intuitions<br>https://t.co/NcfQbOfZSi"
          ],
          [
           "the rightwing billionaires simply don't care as<br>much about ideology as they let on  george soros<br>was spending his weekends as an early 20s<br>wageslave journaling about his dreams of once<br>getting to spread the woke mind virus  \"George<br>Soros's hypothetical net worth, had he reinvested<br>all his philanthropic and political givings into<br>his fund instead of donating, is estimated at<br>approximately $385 billion in 2025 USD terms.\"<br>-Grok 4  instead he's now worth 7bn  how badly do<br>you want it? there's levels to this game"
          ],
          [
           "after spending a ~decade of cognitive horsepower<br>on this question, the one undisputed parsimonious<br>protocol of successmaxxing/powermaxxing I have<br>found to be simply unambiguously effective is<br>\"identify people of moderate but ascending power<br>in capital rich communities and do everything you<br>can to increase your frequency of interaction with<br>them\" (you can do this online now)  literally<br>everything else is either boomer fodder or only<br>becomes useful once you have set this as the<br>system prompt"
          ],
          [
           "the katechon's immanentization will not be<br>televised https://t.co/iJUFdnTRIV"
          ],
          [
           "every week or so you get a new LARPer posting a<br>screenshot of the day's change in bond yields with<br>a caption like this to signal they're smart enough<br>to look at bonds and without exception it's like a<br>completely nothingburger 1std move or an obvious<br>data error https://t.co/12mkmw6DAN"
          ],
          [
           "btw idk if you guys are schizo-observing hard<br>enough or not but I sure am and the Don keeps<br>adding new random gold decor everytime he holds a<br>presser... yesterday was a total phantasmagoria<br>and made clear that he is attempting an aesthetic<br>revolution-- the endgame of this is that by the<br>end of his term he will be wearing a crown, maybe<br>he will ease into it with capes etc. (he has<br>started doing it with the gold ties) (the crown<br>will be ironic at first)  I had always thought<br>that we would revert back to lindy governance<br>structures but never occurred to me quite what<br>path it would take in postmodernity, I usually<br>imagined some sort of a brisk overnight<br>authoritarian crackdown (boots on the ground,<br>tanks in the street) but now I can finally feel<br>the path and it's charted in exactly this way:<br>we'll post-ironymaxx ourselves into monarchic<br>aesthetics and the rest will follow: painlessly,<br>voluntarily.. gradually not suddenly...<br>acclimatize to the form (as irony collapses into<br>sincerity) and the function will follow (never<br>used to be this way)  as the great Slavoj Zizek<br>astutely notes DJT is the first postmodern<br>worldleader, he has clocked that revolutions are<br>primarily aesthetic now (vs institutional) & keeps<br>lapping the still-modernist journos and<br>bureaucrats who mock him for correctly identifying<br>that the map is upstream of the territory these<br>days, so why bother tackling the territory when<br>you can just tackle the map... profoundly<br>\"Baudrillardian\" president  > \"haha look at this<br>moron he thinks scribbling on the map does<br>anything to the territory\" > **scribbling on the<br>map does thing to the territory** > \" *confused<br>boomer screech* \"  note that Trump has already<br>started giving up on bureaucratic titles, he calls<br>half his staff \"Czars\" now (which is of course<br>Russian for King)  I mean it really speaks to the<br>average IQ of a person going into journalism when<br>they look at the 4th picture of the attached and<br>their first thought is \"eww look how gaudy he is<br>hahaha... it's giving russian expat :PPP\" instead<br>of \"holy fuck we're in trouble\""
          ],
          [
           "my political ideology is neo-deepstateism<br>\"entrenched factionalized IQ160 restless<br>warmongers pulling the strings behind closed<br>doors, pumping 4% GDP growth in developed<br>economies out of sheer desire to fly a slightly<br>faster fighter jet through a random backwater in<br>the opposite hemisphere while the 4year election<br>cycle pacifies the masses\" was a Perfect Organism<br>type of leadership structure produced by millennia<br>of nation-state darwinian selection and surely we<br>must be tired of pretending otherwise... the<br>aesthetics don't lie anon, follow the aesthetics"
          ],
          [
           "real sh* https://t.co/6clGUheXte"
          ],
          [
           "an obvious sign of the fact that we're still in<br>the \"you ain't seen nothing yet\" phase of the<br>information economy is that characters like<br>Landshark &amp; LindyMan aren't getting<br>unrelenting phonecalls and knocks on their door<br>from global intelligence agencies and gulf<br>trillionaires"
          ],
          [
           "one of my somewhat confident macrocultural<br>predictions on a ~5 year horizon is that as<br>western zoomers become increasingly religious<br>(we've all seen the stats):  1. catholicism will<br>continue to fill the initial vacuum including in<br>non-catholic households (for obvious reasons, the<br>return of religion is inherently an anti-reaction<br>to secularism & modernity which you aren't going<br>to subvert by going to some sort of millennial<br>derivative denomination with strip mall churches,<br>you'll default to the aesthetic cluster which<br>appeals most to return to sacred symbols etc)  2.<br>eventually orthodoxy will start to outpace<br>catholicism... obviously the zoomers aren't going<br>to be arbitrating the Filioque dispute/the<br>theology, they will navigate by aesthetic/memetic<br>fitness and orthodoxy is simply much more<br>memetically fit of the two-- lots of black, lots<br>of death, lots of alienation, skulls, darkness,<br>mystery which much better encompass the modern<br>cultural paradigm than the happy, bright, yellow<br>white gold of catholicism-- orthodoxy also<br>benefits from being the edgier, more<br>underground/counterculture choice, and a means to<br>distance oneself from some catholic cohorts that<br>are disliked by many of the more radical youths.<br>anyway all these have been coming together and<br>will continue to come together and I actually<br>expect much of the upstream youth in the west to<br>become orthodox christian within the coming years<br>(already an observable trend in its bud)  this<br>obviously opens a range of opportunities for the<br>pragmatically minded: > you can associate yourself<br>with the direction earlier than others, eventually<br>reaping the early bird benefit > if you are<br>resource rich, I think deploying it to get close<br>to orthodox churches and thinkers will yield<br>massively outsized benefits compared to any other<br>cluster including political ones (in religious<br>societies, which all societies are becoming, the<br>religious authority overrides the political<br>authority)  and for the not necessarily<br>pragmatically minded (such as myself) the<br>prediction provides reassurance and happiness"
          ],
          [
           "with every upstream aspirant pivoting to<br>wordcelmaxxing now it is starting to feel a lot<br>like my goat has been vindicated on yet another<br>hyper-contrarian call from last year<br>https://t.co/vAb5XE2KQU"
          ],
          [
           "btw the reason Curtis Yarvin fell off in aura is<br>because he started lifemaxxing -- ozempic, hosting<br>parties, leather jackets, facepics, podcasts, a<br>marriage, tweetmaxxing... often seen as unbecoming<br>for wartime intellectual to enjoy life he could<br>revive his aesthetic by signalling that he<br>actually hates life and actively wants less of it,<br>for example if he started going through a pack of<br>marlboro reds a day the zoomers would embrace him<br>with open arms"
          ],
          [
           "\"bro you can't desecrate<br>dostoevsky/nietzsche/linus<br>torvalds/karpathy/sutskever/feynman..etc (pick ur<br>saint of the year) bro he's like holy n shieeet\"<br>it's always fascinating to watch the consistency<br>with which \"secular\" normies manage to unwittingly<br>stumble themselves back into quasi-religious<br>dogmas in many aspects but this sanctification of<br>laypeople is especially striking... it's a<br>particularly prevalent tendency with the<br>provincial type (e.g. pictured below) who's<br>usually a \"first gen secular\" trying to fill a God<br>shaped hole in his tiny little cornfed iowan heart<br>newsflash pal dostoevsky was an entertainer for<br>guys like us! we're meant to entertain ourselves<br>with him! that's how fiction works! that's how<br>writers work! if you want to be a postreligious<br>cosmopolitan please act like one! I couldn't care<br>less if some 20 year old in bangalore is farming<br>payouts with nietzsche quotes because I have<br>sufficient societal awareness to recognize that he<br>was a random professor in Basel who happened to<br>write fun things... manhandle him all you want,<br>power to you!"
          ],
          [
           "you can never rely on epistemic integrity from<br>this account because it's ultimately just a<br>paperclip maximizer where the paperclips being<br>maximized are messages sent to or received from<br>girls who look like effy stonem from skins<br>(pictured below) https://t.co/yF5cTQZsfr"
          ],
          [
           "the contemporary intellectual paradigm can<br>basically be modelled as tension between IQ115-130<br>wordcels who read Freud in high school and kinda<br>liked it and the IQ140+ wordcels who thought \"wait<br>this boomer is kinda cringe and outmoded\" and went<br>and found Jung instead"
          ],
          [
           "this dostoevsky quote is a massive whitepill if<br>your intuitions are statistically mature btw  if<br>he perma grinded like a good boy instead of<br>\"idling around\" and \"making errors\" the<br>probability that he'd have died as a noname normie<br>journalist rounds to 1   if you pay attention<br>you'll notice that tail success is always<br>generated by messy emergent functions... all the<br>obvious playstyles that can be grinded out get<br>immediately priced in   parallel universe Elon<br>Musk that doesn't crash out every other week and<br>didn't spend half his life hours doomscrolling and<br>instead stuck to a healthy grinder & wellness<br>schedule is probably still clerking out in Toronto<br>at scotiabank or something   what I'm trying to<br>say is that the recently emergent consensus that<br>\"you always know your optimal protocol\" and that<br>the only thing keeping you from success is your<br>inability to stick to it is extremely incorrect...<br>a more correct mentalmodel is as usual the lindy<br>one -- which is that you should just do what you<br>feel like doing and Destiny will reward you as it<br>sees fit (Destiny rly hates optimizers (you can't<br>optimize for complex functions))  it's like Steve<br>Jobs going \"mann imagine if I'd gone to Stanford<br>instead of lollygagging and getting high in<br>india... all that time wasted tsk tsk tsk\" lil bro<br>you'd be wageslaving at IBM!!!"
          ],
          [
           "it's incredible that this is basically the brain<br>of an average IQ130 stanford startupmaxxer<br>completely monotone nonsense oneliner buzzword<br>salads swimming around in thier heads at all times<br>and basically nothing more, a one on one<br>conversation will reveal a similar thing, a<br>totally vacant psyche that gets immediately<br>oneshotted by long-ish thought chains and resorts<br>to vibematching constituent words etc...  they<br>basically have the functional intelligence of a<br>state school flunker in a second world country<br>this is fascinating because it reveals that even<br>if you filter your population for 3 std IQ &<br>agency, if you immediately place them in post-<br>scarcity and chain them to kafkaesque goodharted<br>benchmarks you can lobotomize them in like 6<br>months"
          ],
          [
           "one of Trump's great insights is that as of ~2015<br>your treasury secretary needs to be a markets<br>person and not an econ person. if instead of Scott<br>Bessent it was some theorycel delivering these<br>looney tunes decrees America's borrowing cost<br>would be in the double digits by now"
          ],
          [
           "when you watch someone like bibi or trump operate<br>you realize that the boomer businesspeople like<br>paul graham, vinod khosla etc losing touch has<br>nothing to do with their biological age and<br>everything to do with post-scarcity-- no<br>cognitive/existential stressors etc<br>https://t.co/syPDGv3AMT"
          ],
          [
           "you're not \"immune to propaganda\" bro you've been<br>convinced by slave laborers shipping google<br>translated reels out of ditches in the outskirts<br>of Tehran that London is a shithole and the French<br>are mass migrating to Moscow you're functionally<br>disabled"
          ],
          [
           "pretty insane that basically every libleft girl<br>dresses in tradwife grandmacore now  relentlessly<br>criticize &amp; mock IQ145 neurodivergent celibate<br>losers --&gt; downstream your entire species from<br>their cognitive output name a more iconic<br>civilizational cycle.. https://t.co/FeUYcwcw5T"
          ],
          [
           "increasingly prevalent phenomenon: &gt; start<br>talking to person about a book they \"just read\"<br>&gt; person clearly hasn't read the book, vast<br>swathes of narrative gaps etc &gt; they later let<br>slip that they actually \"listened\" to the \"audio<br>book\"  really need a slur for these philistines"
          ],
          [
           "Peter Thiel's intellectual journey goes through<br>\"don't immanentize the katechon!\"  \"no global<br>hegemons!\" \"no United Nations!\" \"free enterprise<br>for all!\" \"I'm not the antichrist!\"  but it's<br>quite obvious that the endstate is  \"oops, I've<br>immanentized the katechon..\"<br>https://t.co/hv9mWsE0YO"
          ],
          [
           "people really underrate how rigid social<br>hierarchies used to be only recently-- Henry<br>Kissinger was a superstar Harvard professor and<br>basically the most powerful man in the world as<br>the first secretary of state + national security<br>advisor in history, single handedly arbitrating<br>the cold war, perpetually on TV, very popular with<br>women, but he registered genuine surprise that his<br>second wife, Nancy Maginnes, an old stock country<br>club WASP, considered him good enough to marry as<br>he was a first gen German-Jewish immigrant... and<br>his coterie was like \"yeah thats surprising to be<br>fair\""
          ],
          [
           "recurring pattern among successful powermaxxers<br>indicates that treating subordinates fairly is an<br>underpriced superpower  > Hannibal slept in the<br>open with his soldiers even though he didn't have<br>to  > Napoleon knew many of his soldiers by name,<br>even remembered their injuries and asked about<br>them etc  > Scipio got a beautiful spanish<br>princess for ransom during the punic wars but gave<br>her back to the conquered prince and even financed<br>their wedding  etc  obvious filtering effects at<br>play here but it feels intuitive so I assume these<br>are true.. loyalty in general is one of those<br>extremely lindy concepts that is getting<br>underrated in 21st century because we struggle<br>with emergent phenomena in our utility funcs"
          ],
          [
           "one negative birthrate externality caused by<br>millennial neoliberal discourse is that zoomers<br>actually interact with opposite gender people in<br>literally the same way as with same gender people<br>(because they're neurodivergent and consciously<br>form behavioral patterns with the system prompt of<br>\"you must be genderblind in platonic contexts\")<br>millennials are the opposite -- they're still<br>somewhat dionysian in how they operate because<br>they merely adopted the aforementioned ideology<br>rather than being conditioned by it since birth,<br>so e.g. a millennial man interacting with a<br>millennial woman in a platonic context involves an<br>exorbitant amount of flirting  but they're so used<br>to it that they don't notice, it's only visible<br>from metaobserver POV (identifiably sexual body<br>language/tone, frequent teasing, etc)  even<br>married millennials in corporate contexts just<br>constantly flirt with opposite gender colleagues<br>in every little exchange to the extent that when<br>you think \"could I picture this exact interaction<br>taking place if both sides were straight guys\" it<br>just doesn't compute"
          ],
          [
           "feels like Baudrillard’s sole value proposition is<br>that he predicted the post-algoslop society<br>somewhat well with only broadcast TV at his<br>disposal    it’s fun to read how he got there but<br>the average brainrot zoomer already has a more<br>predictive model of modern info systems with<br>actual answers and experiential intuitions…<br>because we literally have these systems at our<br>disposal while the french boomers were just<br>rawdogging it so to speak. impressive<br>metaforecasts in hindsight but kinda useless now"
          ],
          [
           "this is btw a classic normie epistemology move<br>that will drive you insane  \"oh you believe the<br>probability of something is X?  ok cool then go<br>ahead and list every single instance you've<br>updated your prior and justify them one by one\"<br>??????? https://t.co/oXb6SnWhNs"
          ],
          [
           "zoomer girl just showed me what the musically<br>inclined youths are listening to these days and as<br>usual it's yung lean/bladee clone #29823  got me<br>thinking, at what point is it no longer absurd to<br>claim that Yung Lean is a more worldhistoric<br>figure than Bach/Mozart/Wagner etc.<br>https://t.co/fr2dYfzLmX"
          ],
          [
           "Leopold Aschenbrenner's fund has outperformed<br>basically every mainstream hedge fund YTD and he's<br>running 1bn+ of capital btw  the gulf billionaires<br>&amp; pension funds are watching this  capital<br>management will soon become an activity<br>exclusively done by chronically online zoomers<br>https://t.co/WtknaI7oK8"
          ],
          [
           "pretty funny that for generations the neoliberal<br>end-of-historyists’ whole sales pitch was “yeah,<br>our metamodels & eschatology may be cringe and<br>sterile and unaesthetic and unsophisticated/low-<br>taste but at least they’re *true* and<br>*predictive*”  only to get completely mogged out<br>of sample by Christians and other such Lindy<br>forecasters over the past half decade"
          ],
          [
           "pretty incredible that there's a reasonable case<br>to be made that human intellect forever peaked<br>with early/mid zoomers  &gt; born just in time to<br>harvest max nutrition + technology/education &gt;<br>born too early for brainrot  you're literally the<br>chosen one anon... it's all on you..<br>https://t.co/VnbiTdMWtW"
          ],
          [
           "it's increasingly clear that unless you spent 90%<br>of the neuroplastic half-decade of your<br>adolescence on a hypercompetitive online<br>multiplayer game you've calcified your brain out<br>of being adequate in the economy of tomorrow<br>https://t.co/NuT6b2XHX1"
          ],
          [
           "we finally snapped the millennials out of the<br>lockdown insanity and now they're suddenly<br>obsessed with marathons, prepping for a year to<br>run to nowhere and then brag about blowing out<br>their knees for a month. they exist in a constant<br>state of a collective schizophrenic episode"
          ],
          [
           "for an upstream zoomer by far the single best<br>investment heuristic seems to be \"nothing me and<br>my friends are talking about is priced in yet\""
          ],
          [
           "baudrillard talks about this<br>https://t.co/oqmCPhPKwM"
          ],
          [
           "Samuel，你永远有我这个朋友🙏 历尽艰辛，直抵群星；玉龙将再度长啸。<br>https://t.co/0FvDaB38wN"
          ],
          [
           "&gt; everyone logging into a Bloomberg terminal<br>today is greeted with an Alex Karp quote  what<br>stage of immanentizing the katechon is this chat<br>https://t.co/Timm6sjKjf"
          ],
          [
           "the near future will be defined not by<br>postliberalism but by postdemocracy and capital’s<br>antireaction to populism  to the untrained eye it<br>looks like the past half decade has resolved with<br>an unprecedented victory for democracy will of the<br>people exercised across the globe to vote out the<br>incumbents and vote in, for the most part, clowns,<br>tiktokmaxxers, a variety of populist garbage  but<br>what if I told you that power’s not truly<br>allocated at the ballot box, and by far the most<br>material externality of the populist 2020s will be<br>the key stakeholders in the western capital market<br>finally going “yeah… this democracy thing isn’t<br>gonna cut it”  I can tell you what that will lead<br>to, but you won’t like it!  hint: it’s not cute<br>zohran vibe reels and yellow tinted ironic rap<br>videos about how we oughtta just be nice to<br>eachother and cap rents  the archetypal luigi<br>firing the archetypal shot isn’t the climax of the<br>story, it’s what comes after in a “poke the bear”<br>story it’s not the poking we worry about... it’s<br>not “the people” that control the drone swarms  if<br>you are paying attention you can already sense<br>this narrative emerging in the upstream"
          ],
          [
           "you can effectively model the macropolitical<br>climate of tomorrow as ~50 upstream decisionmakers<br>going through Peter Thiel's intellectual journey<br>with a 10 year lag  hence what feels like<br>uncharted territory for the boomer-millennial is<br>actually fairly easy to forecast<br>https://t.co/4sIcyxztbJ"
          ],
          [
           "one thing that plays a large role in Thiel being<br>such a \"cult classic\" character is his assertive<br>intellectual honesty, 0 signs of intellectual<br>striving or desire for signalling  a stark example<br>of this is that he unapologetically associates<br>himself with Ayn Rand, which is surprising at<br>first for someone at such caliber until you<br>realize just how gigabrained it is to have a pet<br>primitive to really drill down how little you care<br>about faux intellectual hierarchies  someone like<br>Alex Karp on the other hand wouldn't be caught<br>dead with anything as unfashionable as Ayn Rand!<br>which ironically places him in a hierarchy of<br>intellectual signaling in which he will always be<br>subordinate to, for example, Jurgen Habermas  this<br>is the intellectual equivalent of a guy walking<br>around in old tshirts vs the guy in armani and<br>loro piana"
          ],
          [
           "very common misconception that exceptional results<br>can overcome disadvantageous odds  e.g. \"elon is<br>the greatest industrialist of our time in spite of<br>many obvious personality flaws and an unfortunate<br>spawn point\"  this is a massive epistemic<br>failure... in extremes there's no such thing as<br>\"in spite of\"  you simulated billions of life<br>paths, you should believe the one that came out on<br>top in some particular domain was fully optimized<br>for it  if that optimized setup includes those<br>variables that you previously considered<br>disadvantageous, you should update in favor of<br>them being advantageous (/complementary)  you roll<br>a pair of dice a trillion times what are the odds<br>that the pair with the highest combined score is<br>rolled with anything but two sixes? if it looks<br>like the pair has a one you update in favor of<br>being blind"
          ],
          [
           "the probability of the greatest basketball player<br>ever being named \"Lebron\" is pretty damning, as it<br>is a very unpopular name...  as such, the good<br>bayesian concludes that michael jordan is the<br>\"goat\" https://t.co/Vt4F8lQWHo"
          ],
          [
           "as the gigafinancialized economy becomes more and<br>more \"hyperstitious\", at some point surely it is<br>both the sovereign's moral obligation and<br>pragmatically sound protocol to start lying about<br>economic data? especially with renewed superpower<br>conflict? https://t.co/qCLNGcJoUm"
          ],
          [
           "this kind of thing really makes you question the<br>epistemic worth of information markets that do not<br>use truth-linked financially settled stakes (e.g.<br>prediction markets)  > low authority account<br>claims the 2y yield is basically the expected fed<br>funds rate over 2 years (entirely fair thing to<br>say) > high authority account says this is moronic<br>> high authority account gets ~0 pushback, instead<br>gets a lot of endorsement"
          ],
          [
           "haven't been able to exercise for 3 weeks now and<br>it has been a huge cognitive energy boost  I<br>predict within a couple yrs the world will concede<br>this point... all the CEOs doing 3 hours of jiu<br>jitsu before work or whatever are walking around<br>effectively lobotomized"
          ],
          [
           "interesting phenomenon: irl aesthetic sensibility<br>doesn't seem to generalize online and vice versa<br>you will come across a young British/Northeast<br>WASP, looks straight out of skull & bones group<br>shot, complete with a tasteful modern twist, can<br>babble on and on about a variety of cultural<br>trivia, enchanting accent, mannerisms, beautiful<br>gait, oxbridge/HYP educated, magnetic to all those<br>around....  then you look at his anon account and<br>he has like 2023 chadface meme profile pic, 340<br>followers, 20 thousand insipid posts averaging 2<br>likes, frequently engages in twice outmoded memes<br>and discourses, and so forth... (he is Actually<br>Trying, he is increasingly of the mind that online<br>presence is a big deal, he is Trying Hard!)   then<br>you come across a second gen eastern european in<br>texas or smthn like this, dressed like capeshit<br>NPC, in many ways crude -- has strong opinions<br>about how picasso is actually fake art like other<br>contemporaries, regards painting as having peaked<br>at cabanel's lucifer, thinks wine tastes funny...<br>then you look at his anon account and he's<br>discourse surfing on edges you've never dreamt..<br>19 layers of irony ahead of you or whatever you<br>feel like salieri looking at mozart's manuscripts<br>in that one scene"
          ],
          [
           "efficient markets people told us that if you take<br>a room full of IQ80 humans and a room full of<br>IQ150 humans and you let them speculate on a<br>variety of future worldstates they will be<br>predictive at exactly the same rate  and for years<br>people were like \"yeah this makes sense\""
          ],
          [
           "pre-literate ideas are all told through<br>comedy/tragedy because in order to have memetic<br>fitness in an oral ecosystem, no matter how<br>profound or neutral your claim is, you need to<br>attach an emotional deadweight  internet neo-<br>orality again demands this, tragedy is reborn, but<br>boomers & millennials are (as always) lost and<br>trying to level-headed maxx like noble bastions of<br>the dysgenic 2010s with long blogs and references<br>and balanced language and the such, clutching<br>pearls at even tasteful utilizations of shock<br>value in \"serious\" domains  this is part of why<br>the rationalists, EA etc. increasingly despair<br>about losing reach... (a welcome development, good<br>to see evil people squirm)"
          ],
          [
           "this is btw how you avoid getting paralyzed by<br>scenes like this:  as a young midwit you think<br>\"wow masses of people with mean IQ of ~110 all<br>across the world are hypergrinding for the same<br>things as me... I just learned statistics.. my<br>chances round to 0\"  then as you grow up you think<br>\"wait... literal billions of these guys are having<br>their lives profoundly impacted by things my<br>friends and I were fucking around with like 10<br>years ago... wtf?? we're back????\"  surely you<br>have this feeling, for example, if you were an<br>early participant of crypto forums and the such..<br>or some upstream early RW anon"
          ],
          [
           "if you've been paying attention over the past 20<br>years or so we've basically resolved the<br>longstanding freewill vs determinism debate<br>~5,000 upstream chronically online schizophrenic<br>degenerates have free will and the remaining 8<br>billion are predestined by them"
          ],
          [
           "> we've basically solved synthetic economic agents<br>> we're very close to solving synthetic humanoids<br>> we're somewhat close to solving mindreading ><br>your daily functioning is tied to a centrally<br>networked 6:3 block of glass with a perpetually<br>active camera  we're entering the first time in<br>history where power is actually pareto<br>concentrated alongside capital, without the need<br>for a mutually reaffirmed social contract   so it<br>would be great if there still existed some<br>critical mass of commoners capable of tearing up<br>the arrangement in say a decade from now,  but<br>genuinely how is this logistically possible?  what<br>is the bull case for populism? how is it not just<br>blatantly a gateway fad to techno*tyranny* (I<br>don't want to use the bad word)?"
          ],
          [
           "interfacing with a millennial who hasn't been<br>selected through some sort of a filter (e.g.<br>climbed the corporate ladder, went to a &lt;10%<br>acceptance uni, etc.) is a massive shock  zoomer<br>tier brainrot + boomer tier zeitgeist blindness<br>complete lost cause generation, almost sad"
          ],
          [
           "a telltale sign that someone has no idea what has<br>unfolded over the past decade -- and is almost<br>certainly operating below IQ110 -- is that they<br>insist on referring to \"the return of woke\" as<br>some sort of a sociopolitical tail risk that<br>actually has a chance of materializing"
          ],
          [
           "torsten slok has reached the malevich square stage<br>of chartslop https://t.co/PKlKHHvY4G"
          ],
          [
           "incredible how for most of human history exile was<br>considered basically on par with capital<br>punishment but provincial millennials who<br>voluntarily did it en masse cannot figure out why<br>they're chronically depressed"
          ],
          [
           "rare Thiel mini-essay drop from 2009... much to<br>ponder  \"A better metaphor is that we are in a<br>deadly race between politics and technology. The<br>future will be much better or much worse, but the<br>question of the future remains very open indeed.<br>We do not know exactly how close this race is, but<br>I suspect that it may be very close, even down to<br>the wire. Unlike the world of politics, in the<br>world of technology the choices of individuals may<br>still be paramount. The fate of our world may<br>depend on the effort of a single person who builds<br>or propagates the machinery of freedom that makes<br>the world safe for capitalism.\""
          ],
          [
           "economists in the 50s:  &gt; x will happen<br>economists in the 90s:  &gt; x will most likely<br>happen  economists in the 2000s:  &gt; x is 50/50<br>economists in the 2010s:  &gt; x is 40/60<br>\"economists\" in the 2020s:  &gt; x lies within the<br>distribution of all the things that may or may not<br>happen https://t.co/xBzzQZYxCF"
          ],
          [
           "I'm generally a staunch defender of the economics<br>profession but the fact that an 80 year old<br>reality show star and his ragtag crew of like 5<br>alabama university undergrads are running circles<br>around 10 thousand PhDs for a year now does raise<br>some questions one cannot ignore<br>https://t.co/jHq0qOJJDL"
          ],
          [
           "\"foidcast\"  is this what total cultural triumph<br>looks like -- post-liberation millennial girls<br>wearing the lingo as a badge of borrowed prestige<br>after they spent a decade fighting tooth and nail<br>against it  pretty based but begs the question:<br>will there be apologies? reparations? Truth and<br>Reconciliation?? or will the ancien regime<br>continue to be led gently into that good night<br>with shrugs and head pats???"
          ],
          [
           "what level of collective thesis creep is it to go<br>from  \"superintelligence nanobotting your house<br>within a couple of years is the existential risk\"<br>to   \"a slightly worse version of tiktok brainrot<br>is the existential risk\""
          ],
          [
           "it feels so intellectually freeing to finally have<br>the consensus timeline get sigmoided away  now I<br>can actually speculate on 5 year+ horizons without<br>feeling like I'm LARPing because the latent market<br>expects singularity by then and none of this<br>matters"
          ],
          [
           "lesson you'll learn as a yearning young zoomer<br>pretending to read some french poststructuralists<br>(who are ultimately aesthetic guides, their lack<br>of access to modern systems erodes their<br>descriptive/predictive capacity)-- contemporary<br>macroculture will be captured not by a codemonkey<br>shape rotator, not by a boomered out trad wordcel,<br>but by a wordcel who has coopted shaperotator<br>terminology & paradigms... such will be the<br>trademark of the antichrist (or the anti-<br>antichrist)  N. Land masterfully carried this<br>torch, Yarvin/BAP will lean into it more, likes of<br>simp 4 satoshi are great posters along such lines<br>and carry great power  you must also lean in"
          ],
          [
           "if you controlled for all the confounders that<br>impact both success as a teenager and thereafter,<br>the correlation would turn negative  to anyone<br>with good causality intuitions this is somewhat<br>clear -- motivation is the important variable and<br>it sinks with early success"
          ],
          [
           "this is quite an interesting phenomenon  does<br>there still exist a way in which we can execute<br>earnestly such a precarious task as reading<br>dostoevsky on a public bench?  without<br>transmogrifying into a tiktokslop manwhore? I say<br>we can't, we don't know how to do it... the<br>simulation is too reactive every step of the way<br>for it to allow any retention of nonexternalized<br>intentions  the real is no longer possible because<br>the illusion is no longer possible ..baudrillard<br>talks about this"
          ],
          [
           "incredible that this doesn't feel absurd -- a<br>country with GDP per capita 2/3 of Botswana has a<br>decent memetic claim to being one of the<br>spearheads of the end-of-history Promethean<br>Singularity megaproject because a random college<br>dropout they elected is just that good at posting"
          ],
          [
           "the ascended take here is that placing confident<br>liars at the top of complex system hierarchies is<br>good &amp; lindy actually"
          ],
          [
           "thing midwits LOVE to do that BREAKS MY ALREADY<br>BROKEN HEART  reintroducing complexity in<br>smoothed/dimensionality reduced timeseries and<br>expecting to find edge: arbitrary breakdowns of<br>equity indices, sub-indices of inflation releases,<br>unrolling moving averages, nuancemaxxing<br>heuristics & stereotypes ...  places where mankind<br>has decided variance is power-lawed  my brother in<br>christ, we're the ones that applied the complexity<br>filter in the first place!!!!"
          ],
          [
           "early on quite an entertaining and somewhat<br>culturally predictive model introduced by monsieur<br>baudrillard:  > deterrence simulacra  (I will<br>refer to them as \"deterrence memes\" to co-opt and<br>modernize the concept)  > Disneyland exists as a<br>fake reality to make us think that the rest of the<br>country is real > Watergate exists as a fake<br>scandal to tell the public \"oh, of course this is<br>unacceptable & unexpected behaviour within the<br>deep state, of course we're outraged, of course we<br>don't do this all the time\"  i.e. a meme that<br>spreads not because it elicits an organic<br>reaction, but rather because the reactor can take<br>cover under his reaction to it  kind of explains<br>why some megaviral memes clearly aren't very<br>emotionally gripping but nevertheless are undying<br>example:  cluely -- nobody actually feels outraged<br>by it, so at first it feels weird, why is it going<br>so viral?  because by feigning outrage to it, the<br>whole paper tiger field of slop VC startups can<br>lend itself much needed and demanded credence.<br>\"can you believe it? this startup is pure<br>attention slop\" says distributionmaxxed YC claude<br>wrapper #999283819289 a very potent contemporary<br>deterrence meme   similar example:  Bryan Johnson<br>-- similarly surprising at first, seemingly he<br>isn't doing anything outrageous, yet people keep<br>investing attention capital/reacting why? because<br>it's another powerful deterrence meme: \"oh ahaha<br>look at this, isn't it absurd how removed from the<br>natural order of living this guy is?\"  says girl<br>in San Francisco or whatever, literally plugged<br>into nozick's experience machine sipping some<br>ungodly horror beyond human comprehension as she<br>types  similar example: crypto -- a whole cluster<br>of traditional finance gigaboomers act like they<br>have seen the devil everytime they see someone<br>ingroup launch a coin, or something of this sort.<br>they act toward defi with perpetual derision. why<br>is this? is it because trading a gazillion 01 of<br>treasury bond basis at a random multistrat is any<br>more noble, and they are genuinely moved by the<br>moral degradation of their sacred field?  of<br>course not, the entire industry of finance is<br>designed to be amoral.  this is just another<br>potent deterrence meme   note how deterrence memes<br>don't act like scapegoats, scapegoats are<br>functions of actual disenchantment and anger, an<br>influx of often irrational emotion channelled into<br>an unfair target which must be eradicated for it<br>to satisfy its purpose, it is ultimately<br>antimemetic  deterrence memes serve their function<br>by hanging around, and are generally an<br>unemotional process. hence their increasing<br>frequency in a hormonally dysgenic world"
          ],
          [
           "a point that desperately needs to be made in this<br>discourse:  strangely, there seems to be systemic<br>confusion from the POV of the thinkers/philosophy<br>nerds/etc about where they stand in a social order<br>we have maintained for centuries  > yes, I, the<br>merchant/businessman, will use your work as I see<br>fit > yes, I, the merchant/businessman, will use<br>your work to entertain my good friends and my<br>tired mind after a busy day of actually creating<br>something (shareholder value) > no, I, the<br>merchant/businessman, will not delve any deeper<br>into some anthology than suits my momentary whim<br>> if your work inspires within me, the<br>merchant/businessman, some predictive capacity or<br>an evening of good fun, whether by the means you<br>intended or not: you blush, accept the tip, and<br>move on"
          ],
          [
           "nuclear grade powermaxxing technique,  I wouldn't<br>opensource this if I weren't 4 pints down so<br>listen carefully--  > you need to be describing<br>them/him/her.  the screenshots are obviously from<br>the female gaze but this generalizes to platonic<br>power dynamics, for example:  it was a common<br>ritual among the two for Kissinger to spend hours<br>in Nixon's office re-telling a variety of the<br>day's affairs repeatedly and at length, with Nixon<br>as the main character.   for the entire evening,<br>Kissinger would describe in detail precisely what<br>great things the President had said earlier,<br>precisely the sorts of reactions these things had<br>elicited from those on the other side, precisely<br>the ways in which the president had aurafarmed in<br>this or that aspect and he made sure to use A LOT<br>OF SPECIFIC ADJECTIVES and robust thought chains<br>for the ways in which the president was this way<br>or that way  similarly, when sama compliments<br>someone, he always makes sure to add some extra<br>bits of information that carry at least some<br>surprise (as long as this surprise allegedly<br>relates to the subject we would characterize it as<br>\"descriptive\")  to an average midtier<br>linkedinmaxxed flatterer,  \"Satya is a great CEO\"<br>to sama \"Satya is a great CEO and more importantly<br>human being and understands stakes of AGI and yada<br>yada yada...\"  he does the same describing<br>colleagues Ilya, Mira, and more recently US<br>politicians, where he makes very specific and<br>descriptive compliments, often using direct<br>quotations that he found \"particularly meaningful\"<br>this is mainly what makes a potent flatterer --<br>the ability to generate detailed and targeted<br>compliments, not an excess of them!  the female<br>gaze below is a good litmus test for whether the<br>flattery you're about to conduct is the good kind<br>or the bad kind -- if it would elicit a positive<br>reaction in a romantic context such as below, then<br>it will likely also help you in a platonic power<br>dynamic  if not, then you are just pathetic vassal<br>maxxing and need to stop  as you progress in the<br>status hierarchy people start to have increasingly<br>complex insecurities, so it's hard to fit the<br>descriptions in such a way that addresses them<br>this is why good therapists have such a high<br>market price, why there exist notorious<br>charismamaxxers in upper echelons, and so forth<br>basically > when complimenting someone it seems<br>that you must always imagine them answering back<br>\"you don't mean that\" and you're constantly<br>arguing with that invisible brick wall, explaining<br>in detail exactly what makes you think such and<br>such of them -- details, proofs, hypotheticals,<br>analogies... > the compliment must obviously be<br>directed at allaying an insecurity or satisfying a<br>striving ...  this quite parsimoniously collapses<br>into something the normies can't quite explain,<br>but yearn for -- \"being described\" (they obviously<br>don't want to be described in a mundane drivers<br>license fashion, they want what I explained above,<br>but this is as far as their NPC brain affords them<br>to communicate it...)"
          ],
          [
           "this gigaboomer is endlessly recommended to me...<br>I'll let you know if he has any out of sample<br>predictive capacity https://t.co/NYjvjDAaPo"
          ],
          [
           "when you first start reading Jung and he starts<br>yapping about how it doesn't really matter whether<br>myths actually happened or not, and about how a<br>sufficiently compelling myth is just as real as<br>some sequence of events that actually transpired,<br>you start to think the boomer has lost it  but<br>then you start noticing -- you see something like<br>this, a completely and admittedly fabricated<br>screenshot that nevertheless totally grips public<br>consciousness because it *clearly could be real*<br>in some alternative universe in which the odds<br>align in precisely such a way that would best<br>emblematize our collective troubles of the present<br>moment,  and you think to yourself: oh.. I get it<br>now!"
          ],
          [
           "this is what a masterclass in macroculture looks<br>like, this is how you forecast complex systems!<br>https://t.co/Byay2laziq"
          ],
          [
           "reading Thiel as a teenager:  \"wait why does this<br>guy keep modeling everything as downstream of<br>intergenerational dynamics? doesn't seem very<br>predictive. maybe the oldhead is washed\"  reading<br>Thiel now: \"oh ok.. I've been humbled\""
          ],
          [
           "refusal to extrapolate politically incorrect<br>macrocultural trends is a symptom of cogsec<br>poisoning and is increasingly detrimental<br>downstream, as is usual with epistemic fractures<br>example: many think that AOC has a nonzero shot at<br>becoming the US president in 2028"
          ],
          [
           "there's a funny dynamic whereby employing anti-<br>normie sentiment (even using the word normie) may<br>feel like a culture hazard because you're putting<br>yourself on the side of the neurodivergent<br>minority, but in reality it's not so -- given that<br>all zoomers are undersocialized & autistic &<br>chronically online -- this is actually just a<br>generation pivot play (\"maxxing\" \"pilled\" etc<br>resonates well with most zoomers, not just some)<br>you can legit win big elections in next few years<br>by being the guy that says \"maxxing\" \"giganormies\"<br>\"boomer\" etc"
          ],
          [
           "https://t.co/ByxX9Iig2p"
          ],
          [
           "there currently exists a fairly intuitive ~6 month<br>protocol the execution of which would make Elon a<br>technofeudal political powerhouse of a calibre<br>never seen before, but alas he is not yet<br>following it"
          ],
          [
           "normies who think cultural engineering &amp;<br>zeitgeist hacking = fun ego-stroke sideproject are<br>pretty funny  guys! if som1 has even a modicum of<br>advantage over the consensus in forecasting<br>macrocultural trends, their present value is<br>literally infinity, money is solved"
          ],
          [
           "my favorite kind of anti-utilitarian critique is<br>turbonormies trying to explain to the utilitarian<br>why he simply shouldn't maximize the utility<br>function. like not deferring to emergent second<br>order problematics or anything of the sort, just<br>bruteforcing a semantic contradiction"
          ],
          [
           "it seems that hard work is mostly fake. all<br>possible protocols are trivial to execute, outcome<br>variance is explained by picking the right ones<br>thiel ran a macro fund on the side while building<br>paypal...  now you have LLMs  just pace around<br>your room and strategize"
          ],
          [
           "zuck bidding researchers at 9 figures is a classic<br>example of low agency communities getting stuck in<br>regime paralysis and creating arb opportunities<br>for live players, insane that this happens in 4<br>sigma IQ clusters  > is the EV variance explained<br>by top talent clearly worth more than this 9 fig<br>bid?  \"yes\"  > so should we bid researchers at 9<br>fig?  \"no\"  > why not?  \"ummm idk that's just not<br>a thing\"  > got it ok that makes sense, onto the<br>next issue  an average pre-zuck exchange between<br>allegedly IQ160 machine god enterprise overclass"
          ],
          [
           "a testament to the fact that even the most<br>reasonable normie will abandon epistemic integrity<br>the monent it can gain an infinitesimal increment<br>of social cachet for doing so is that SBF dropped<br>this fairly arguable argument -- and like 99.99%<br>of responders gigadunked on him<br>https://t.co/eujKEG1deo"
          ],
          [
           "on how to engineer a culture... for aspiring young<br>propagandists https://t.co/RmVsJ9MTzx"
          ],
          [
           "what aspiring cultural engineers don't seem to<br>understand is that 99% of the work lies in feeding<br>the algo what it wants, you're only meant to<br>tinker with the 1%  like feeding your dog a treat<br>with a pill tucked inside"
          ],
          [
           "a great offense against the human spirit committed<br>by the utilitarian 2010s was the derision of all<br>kinds of love at first sight in eternal search for<br>the better option  it got out of hand, everyone<br>was on their 5th spouse, so we abandoned it  but<br>provincials like this are stuck<br>https://t.co/O526Dtbf6O"
          ],
          [
           "someone just messaged me to tell me that given the<br>speed at which the overton window has been<br>shifting, all the controversial ideas she's<br>privately accumulated to deploy are now consensus,<br>and as such no longer worth deploying  this is<br>salient -- marketplaces of ideas function much<br>like financial ones -- you only get rewarded for<br>backing a memetically fit idea if others haven't<br>backed it yet.  it's very much \"first come, first<br>served\"  when the overton window has been static<br>for a long time, like prior to mid-2020s, all the<br>memetically fit ideas are oversubscribed, and all<br>the unfit ones dismissed.  it's near-impossible to<br>find large upside because all the pastures have<br>been grazed, overexplored,  the zeitgeist cows<br>have wandered within the same overton fence for<br>decades  most periods in history are like this,<br>the overton window moves in long spans of lethargy<br>and short bursts of speed  mid-2020s is one of<br>those rare bursts of speed -- the zeitgeist cows<br>are finally seeing their fence start moving to<br>greener pastures  they're staring, salivating,<br>strategizing in their heads over and over again<br>about the exact patches they're going to hit, the<br>exact patches they think they can contest  every<br>ambitious young zeitgeist cow has an accumulated<br>arsenal of memetically fit ideas that haven't come<br>within the fence just yet, still beyond the<br>overton window, ready to deploy the second there's<br>a crossing -- they need to get there first before<br>it becomes consensus, get credit for it, get the<br>grass  well unless you're closely watching the<br>fence, watching the overton window, unless you<br>have an instinctual, intimate feel for it, where<br>it's going, how fast... you'll be run over --<br>there are too many powerful cows -- your arsenal<br>will get priced in before you can blink, your<br>patch grazed  this is why right now, more than<br>ever, you need to be doomscrolling, attention<br>edging, zeitgeist diving, AlgoSurfing, really<br>feeling out the window until the whites of your<br>eyes have turned red  or, just forget the grass."
          ],
          [
           "a serious problem I have with upper normie<br>epistemics is that they don't realize just how<br>strong of a conditioner it is that you were<br>looking for a correlation in the first place<br>(actually they don't get this directionally at<br>all, let alone the magnitude)  like if you are<br>given 100 qualitative timeseries pairings and are<br>told that all but 1 are uncorrelated, and you pick<br>the correlated one on the first try  they think<br>this is basically the same as going through all<br>100 pairs and stopping when you come across the<br>correlation  they think the P() that case 1 and<br>case 2 are causal is the same! incredible  they<br>hit you with the \"correlation =/= causation bro\"<br>stare + pic related and farm their gajillion likes"
          ],
          [
           "if I told you about a guy that did 2 PhDs in 3<br>years,  IPOd a $5bn startup,  solved the riemann<br>hypothesis,  deadlifted 2000 lb,  brokered peace<br>in the middle east, and then after all this robbed<br>a bank and got caught  would you say \"ah guess we<br>have nothing to learn from him and shouldn't aim<br>to reverse engineer his feats because he was a<br>fraud all along\" ??  no right?  directionally,<br>this is how the collective consciousness sounds<br>locked into the absurd virtue signalling consensus<br>that Sam Bankman-Fried wasn't an incredible<br>success story that's to be studied closely by<br>aspirants across the globe"
          ],
          [
           "Machiavelli is like 95% boomerslop but one piece<br>of advice he keeps giving over and over again<br>which seems to be true &amp; useful is that you<br>can get away with being as evil and cruel to your<br>subordinates as you want as long as you're not<br>humiliating them"
          ],
          [
           "many of you seem to be unaware that Nietzsche was<br>the original shitposter https://t.co/mk2KTadmM7"
          ],
          [
           "it's incredible that Nietzsche was shilling anti-<br>slop cogsec back in the 19th century<br>https://t.co/F1HZZtY3X0"
          ],
          [
           "last night, I had a great call with a dear friend<br>I met here recently. I want to share some of the<br>contents:  how do you maximize your impact on the<br>world? “impact” not in the 2016, ESG,<br>linkedinmaxxed sense, but in a Nietzschean sense<br>--  how do you maximize your *chokehold* on the<br>world? how do you become the next George Soros,<br>the next Peter Thiel, pmarca, Elon, etc.?<br>optimizing for this, we both agreed, is a fun way<br>to live life. lets call this “powermaxxing” what’s<br>the optimal powermaxxing protocol?  my answer to<br>the question is always some variation of the<br>following: > those agents whom we consider<br>successful powermaxxers are mostly known for their<br>outsized & personalized impact on global culture,<br>on the zeitgeist > a foolproof recipe for such<br>impact is a convincing personalized ideology which<br>is backed by a large capital base (monetary,<br>technological, political) > this combination<br>births a virtuous cycle of \"reflexivity\" --<br>capital perpetuates ideology, perpetuated ideology<br>allows for better prediction & future shaping by<br>ideology owner, better prediction & future shaping<br>allows for better capital allocation (→ capital<br>grows), which further perpetuates ideology, and on<br>and on. > this virtuous cycle is what allows<br>powermaxxers to hit escape velocity, and is what<br>you are seeing with active ones right now like<br>Thiel, pmarca, Elon.  ok great, a natural question<br>follows: how does one get a large capital base<br>behind a personalized ideology? for most of human<br>history, I would have said “you can't, that’s the<br>hardest part, just give up” but this time is<br>different, in fact this time is unprecedented, I’m<br>hyper-optimistic  why? here’s why: > the best way<br>to get a large capital base behind your<br>personalized ideology is to convince many upstream<br>capital-rich communities in its veracity ><br>historically, upstream capital-rich communities,<br>just like all other communities, used to outsource<br>their high-order thinking to established<br>institutions, usually religious ones > if you<br>wanted to influence the beliefs of these<br>communities, you’d have to go through these<br>established institutions, e.g. rise to the top of<br>the Catholic church, the Vedic priesthood, the<br>Chief Rabbinate, the Islamic ulama, etc. and then<br>somehow get to override written protocols<br>(religious texts) in a personalized format > in<br>early 21st century it was fairly comparable with<br>elite universities & journals (harvard nyt mafia)<br>-- these involved similarly difficult to override<br>protocols and bureaucratic multi-generational<br>ascension processes > bottom line, getting any<br>cultural leverage whatsoever as a sole actor used<br>to be basically impossible > this wasn’t some sort<br>of a market inefficiency -- the invisible hand<br>correctly recognized zeitgeist hacking as by far<br>the largest pressure point for societal<br>functioning, and assigned commensurately robust<br>checks and balances > HOWEVER, these checks and<br>balances have completely broken down in 2020s ><br>for one, capital rich communities are entirely<br>secular for the first time in human history and<br>are seeking to fill a faith vacuum (back when they<br>were wokemaxxed they weren’t secular, they<br>attended the church of NYT) > additionally,<br>capital rich communities no longer have personally<br>curated info channels (they all scroll the same X,<br>a nontrivial % of tech capital follows this<br>account for example) (I assume soon this will be<br>bugfixed with cogsec infra) > pairing these two<br>factors, capital rich communities are highly<br>vulnerable to zeitgeist hacking (hence prevalence<br>of cults and so on) > this is an unprecedented<br>system exploit and will soon get patched > but<br>before it does, it will be exploited by the astute<br>bottom line: capital rich communities are<br>zeitgeist hackable for the first time in history,<br>which makes the present day an extremely high<br>leverage period for cultural engineering →<br>powermaxxing by young AlgoSurfers.  this profile’s<br>moonshot project is to take advantage of that<br>Curtis Yarvin, Nick Land, Yud, roon, e-acc, EA,<br>Samo Burja, etc., who are all expert zeitgeist<br>hackers, have shown the extent to which the<br>secularization of capital-rich communities can<br>lead to some very interesting matrix glitches if<br>someone decides to competently fill the faith<br>vacuum"
          ],
          [
           "different people compete under different utility<br>functions.  hypercompetitiveness can manifest as a<br>limitcase of different traits. in this post I'll<br>introduce a taxonomy I find particularly effective<br>& parsimonious --  group 1 (lets call them<br>\"powermaxxers\") compete because they love \"the<br>game\".  they love to compete, the process brings<br>them joy -- they jump out of the bed every morning<br>with a smirk.  they have trouble falling asleep<br>after a particularly exciting day. no matter how<br>far they get, they keep playing, they have an<br>insatiable will to power -- their lifeforce is the<br>neverending desire to discharge their strength.<br>archetypally they're represented by a lion licking<br>its lips.  their sins -- pride & gluttony. they're<br>often known for having an insatiable appetite,<br>often a sweet tooth, in a constant cycle of<br>gaining and losing weight  group 2 (lets call them<br>\"statusmaxxers\") compete because of a chip on<br>their shoulder. an unending desire of progression<br>within humanity's communal strata.  to them, the<br>game is a means to an end, an unpleasant obstacle<br>to social progression.  because of this, they're<br>usually unhappy playing the game, they quickly<br>fall asleep and often furrow their brow.  due to<br>their naturally stressed disposition, they're more<br>prone to aging quickly than the powermaxxers, who<br>tend to defy limits in old age. the statusmaxxer's<br>sins are wrath & envy. archetypally they are a<br>spider   the statusmaxxer often softens up as<br>health catches up,  the powermaxxer is the<br>opposite -- his health catches up IF he softens<br>up.    funmaxxing is a core tenet of powermaxxing,<br>it chases excitement statusmaxxing is instead<br>built on discomfort avoidance  powermaxxers strive<br>with a wide grin, blood on their face<br>statusmaxxers with a perpetual frown.  these are<br>polar opposite archetypes, yet usually conflated,<br>and often hard to tell apart in individual<br>manifestations  this account chooses POWERMAXXING,<br>and is in fact based upon it  both are competitive<br>builds, but powermaxxing carries more variance<br>the Antichrist will likely be a powermaxxer"
          ],
          [
           "for what it's worth, no group of people is easier<br>to Culturally Engineer than a secular group<br>looking for something to believe in, to be told<br>what to do  it just so happens that such a group<br>currently controls a powerlaw share of global<br>capital, and their culture is fully smartphone<br>accessible  from across the world  that the<br>world's rich and powerful are still operating<br>without a formal cogsec infrastructure is a<br>Cultural Engineer's wet dream  we're going to make<br>incredible things happen, stick around!!"
          ],
          [
           "today's powermaxxing tip is flattery --  the<br>attached passage describes Kissinger's attitude<br>toward journalists, which is very similar to how<br>he treated women. it's how he managed to have all<br>of DC media on a leash... and all of hollywood<br>\"starlets\" on a leash  I've had no personal<br>interaction with Sam Altman, but as a professional<br>probability estimator, I'd say my P() that he has<br>said ~the same line as below at least once in his<br>life is ~0.95  Kissinger also used flattery to<br>manipulate diplomatic power dynamics in his favour<br>-- he was known for supplicating to banana<br>republic leaders and strongmen, for whom the<br>opportunity to look down on, or stand shoulder to<br>shoulder with, a Harvard superprofessor turned<br>womanizing celebrity superdiplomat was life's<br>biggest high  learn three lessons from above: 1.<br>flattery is good & powerful 2. flattery must be<br>personalized to be effective (normies flatter in<br>general form, \"your hair is great\", doesn't work,<br>personalize it! put some passion & detail into<br>it!) and most orthogonally: 3. flattery is most<br>powerful when used on those who perceive<br>themselves as below you: by flattering them, you<br>allay their insecurity. flattery on superiors is<br>orders of magnitude weaker (yet overused by<br>normies) -- you only allay your own anxiety of<br>being punished, it's a self-help trick, doesn't<br>really +power nearly as much  thanks"
          ],
          [
           "many have asked for a reading list. absolutely<br>not! giving away your reading list in 2025 is<br>borderline insane  like a trading shop publishing<br>its code  &gt; open source your taste anon! &gt; I<br>want to price it in!  &gt; I want all your alphas<br>turned to beta!"
          ],
          [
           "a funny normie misconception is that young &amp;<br>attractive women are drawn to rich and powerful<br>men out of some conscious utilitarian appraisal<br>they don't get the extent to which status maps to<br>neurophysiological arousal (normies can only model<br>through visuals, images, drawings..)<br>https://t.co/mJNtzbioXu"
          ],
          [
           "i don't know who needs to hear this but you need<br>to be pavlov dog maxxing  it's a well known<br>experiment for a reason, it works well, it's<br>foolproof, it definitely applies to humans<br>everytime you see her (him? them?) make sure to<br>pair yourself with some form of foodstuff<br>proposal, even if it's just you getting an ice-<br>cream at the corner store before visiting or<br>something of this sort  eventually, foodstuff or<br>not, your presence spikes neurotransmitters<br>(dopamine) and induces neurochemical pleasure<br>just a low tier trivial trick among us<br>powermaxxers I thought I'd share tonight"
          ],
          [
           "tonight was the first macro roundtable I've been<br>to where  &gt; AI impact most popular theme after<br>fiscal &gt; elon mentioned 5+ times &gt;<br>stablecoins mentioned nonzero times &gt; grok 4<br>mentioned 2 times &gt; thiel mentioned (by me)<br>you're so early anon? we're upstream??"
          ],
          [
           "midwits keep modeling Trump as economically<br>illiterate when in reality he's simply a first<br>principles economist  and his only principle of<br>econ is \"this guy pays that guy\"  ask a grad<br>student to describe to you the implications of xyz<br>tariff rate on the US & global economies and they<br>get oneshotted by leviathan network complexity in<br>emergent phenomena authorities  Trump? simple:<br>their guys pay my guys.  an economically<br>illiterate person cannot even begin to comprehend<br>monetary policy transmission and the importance of<br>the overnight interest rate  Trump? simple: my guy<br>(the treasury) pays their guys (the debt holders)<br>4-5%.   why 4-5%? too late powell, he can put it<br>lower and my guys would pay their guys much less,<br>but he seems to be on their guys' side  he is to<br>the MIT/Harvard/Stanford/UChicago mafia what Elon<br>was to NASA/boeing..."
          ],
          [
           "one of the clearest examples of the fact that<br>sometimes crowds of \"reasonable\" deadplayer upper-<br>normies can get completely oneshotted by<br>groupthink, leading to very obvious big picture<br>mispricings:  for ~a year every single public<br>opinion guy firmly held the stance that Elon<br>buying the global intellectual townsquare, capable<br>of singlehandedly swaying elections and memetic<br>drifts, was an absurd investment because of some<br>random beancounting.  like there were IQ140+s<br>unironically oneshotted by this, people like Matt<br>Levine  never forget this everytime someone wants<br>to blackpill you on how impossible it is to beat<br>\"the wisdom of a crowd\""
          ],
          [
           "there currently exists a system exploit whereby<br>you can simply read the writings of emergent<br>phenomena thinkers (basically everyone ever) and<br>regurgitate the takeaways to an entire town of<br>capital-rich tech guys who are going at it from<br>first principles"
          ],
          [
           "I was about to head off to meet an economist today<br>-- as is every practitioner, I'm sometimes<br>insecure about my academic \"chops\" (I console<br>myself with the known fact that this more<br>frequently runs the other way)  to prop up my<br>perceived IQ I mostly keep my glasses on whenever<br>I'm meeting smart people, even though I don't need<br>them beyond reading tasks  but this time I looked<br>down on the case and left them behind... I even<br>undid the top button of my shirt  many of you will<br>clock why this happened -- and realize that it's a<br>steep downward slope from here: The Dionysian<br>Descent,  human IQ only devalues hereafter  let me<br>explain!   first, do you understand why the<br>fetishization of IQ has exploded recently? do you<br>understand why your 110 IQ friend is pretending to<br>care about topology?  it's because intellect is<br>about to get us to AGI, so capital & status are<br>chasing intellect. who can currently provide<br>intellect? humans. so the status of high intellect<br>humans has exploded.  > if you nerdmaxxed before,<br>you could work on uber eats (cringe) > now, you<br>can work on \"Machine God\" (goated) girls think the<br>latter is cooler  so IQ/nerdmaxxing came back in<br>vogue  but do you realize that the race to AGI<br>just so happens to have externalitied a human IQ<br>replacement? this is clearly salient.   human IQ<br>will no longer be supply constrained post-AGI, IQ<br>won't even be supplied by humans anymore!  so<br>human IQ will go from  WAY HIGHER STATUS THAN EVER<br>BEFORE, LITERALLY WORLDHISTORICALLY PROMETHEAN  to<br>WAY LOWER STATUS THAN EVER BEFORE, TOTALLY<br>COMMODITIZED   (like the status of physical<br>strength before and after the advent of a variety<br>of tools) (except humans never had the claim to<br>being the strongest being on earth, so the fall<br>from grace of strength was lighter than will be<br>that of intellect)  this will feel like a MAJOR<br>cultural transition. it has started --<br>triviamaxxed or codemaxxed nerds get oneshotted by<br>o3  so why wear glasses now? at least o3 can't<br>unbutton its shirt and roll up its sleeves.. it<br>can't brush its hair back in full sweep, it can't<br>dance, it can't touch, it can't get drunk with<br>you,  but it CAN take you through \"methods of<br>rationality\", don't really need Yud for that<br>anymore  so obviously these vitalist things, very<br>recently, have started crowding out nerdmaxxing in<br>status terms  \"canary in the coalmine\" of this<br>would be things like known IQmaxxers trying to<br>pivot the aesthetic of their social media, for<br>example the odds of Yud (or Yud adjacents) posting<br>a POV picture of enjoying a drink with a girl (idk<br>if he drinks), or something like that, those odds,<br>skyrocketed vs months ago  the odds of ratioing an<br>xAI employee having Sunday night coffee to grind<br>harder, those skyrocketed as well (luckily Elon<br>clutched this by waifumaxxing which is obviously<br>OOM more Dionysianpilled than any other \"lab\")<br>these are all downstream of the Dionysian Descent<br>I have made the chart below for the visual types,<br>it also includes some content that I didn't have<br>time to elaborate on here  obviously, as usual,<br>Nietzsche talks about this (not this particular<br>chronology, but the dynamic balance between<br>Dionysian (chadmaxxed) and Apollonian (nerdmaxxed)<br>\"stuff\") so you can consult his writing for the<br>various downstreamata, or you can just ask me,<br>listen to me, etc."
          ],
          [
           "on the topic of perplexing normie epistemics:<br>isn't it weird that it's broadly impossible for<br>someone with <2std intellect to grasp the concept<br>of \"skewed consensus\", \"uneven prior\", or whatever<br>you wanna call it?  on any question whatsoever, no<br>matter how unevenly distributed consensus may be,<br>normies decide to engage from a 50/50 perspective<br>and refuse to budge to discussing at the<br>\"prevailing market price\" no matter what  Me: I<br>think it's more likely than you think that [earth<br>is flat/medicine is net bad/etc.]   Normie: wait<br>you're a flat-earther/antivaxxer/etc. ?  M: no,<br>I'm just saying that I'd guess that this thing is<br>more true than you think, illustratively it could<br>be 0.01% instead of 0.001%, which is a very<br>significant shift in odds but still almost<br>entirely unlikely  N: oh so you're a flat-<br>earther/antivaxxer/etc. LOLL  M: -_-  when<br>conversing among themselves, once they have<br>concluded that some event is less or more likely<br>than 50%, they consider the job done -- their<br>probability distributions are basically all<br>binarized  kind of based/parsimonious"
          ],
          [
           "my cursory take on sama is that he is an elite<br>operator but running an outdated powermaxxing<br>build and he needs to change it ASAP  before the<br>internet democratized Persona Access,<br>\"chameleonmaxxing\" was extremely overpowered --<br>you could put on a separate Persona for each agent<br>you were dealing with at any given time, based on<br>said agent's preference -- most games were one-on-<br>one or one-on-few  you could manufacture custom<br>reality distortion fields based on your<br>interlocutor's insecurities, aspirations,<br>desires... and win all the important agents one by<br>one  but eventually this playstyle had to contend<br>with The Audience, multiple interlocutors, often<br>the whole world -- from one-on-one games, to one-<br>on-all.  the TV made this happen, the internet<br>made this happen to the power of 10  how do you<br>customize for multiple observers at once, how do<br>you customize for thousands, millions, billions of<br>observers? you can't. you have to be honest  this<br>is why Kissinger fell from grace and then<br>transitioned to a new build as a grey cardinal<br>shadow operator with the proliferation of TV and<br>the rise of neocon moralists and Reagan style<br>innocent honestmaxxed characters -- the public<br>information market became too clever to tolerate<br>dishonesties   anyway this is what sama has to do<br>-- either Thielmaxx Kissingermaxx and become a<br>shadow operator or pivot to honestmaxxing  I'll<br>have more to say once I can set aside \"financial<br>market plumbing\" for a bit and can finally read<br>\"the OAI files\""
          ],
          [
           "normies are usually pretty OK at arriving at<br>pragmatically sound worldmodels through theit<br>fuzzy trial and error language games,   but one<br>thing that never ceases to blow my mind everytime<br>I come across it, is that after thousands of years<br>of evolution they still think that a successful<br>opinion generating process is meant to be correct<br>everytime, rather than producing a positive risk<br>adjusted track record  they genuinely cannot<br>comprehend the sharpe ratio, it's \"did you have<br>breakfast this morning\" for 115 IQs  \"you were<br>wrong about this thing you were convicted in\"  ><br>yes, I'm not optimizing for never being wrong<br>\"?????\""
          ],
          [
           "a niche but interesting phenomenon in<br>macroeconomic data right now: inflation<br>expectations of the less educated cohort in the US<br>are extremely low  (1.55, never been lower in<br>sample)  this is despite Trump implementing trade<br>policy that is considered to be econ 101<br>inflationary  (even the MAGA econ minds are simply<br>saying that it will pass, not that it will not<br>cause a spike in the first place)  the reason for<br>this divergence is obviously that the uneducated<br>base believes Trump unconditionally, who has been<br>repeating over and over again that inflation is<br>dead  it is also common econ knowledge that<br>inflation expectations are self-fulfilling, so<br>many would argue that this effect will dull the<br>inflation spike noticeably, or even avert a<br>concerning rise  anyway, bottom line is that it's<br>not just the meme stocks that are subject to<br>ATTENTIONECONOMY, literally everything is! this is<br>the world now!  boomers feel lost!  they don't<br>know what to do!  btw, extrapolate this 2-5 years<br>out, once various geriatric leaderships have<br>realized the impact of attention campaigns on real<br>variables, I think abt the implications of the<br>things they may choose to do..."
          ],
          [
           "\"every founder needs to be an influencer now\" is<br>mostly not because of some attention economy magic<br>capital allocators have always overwhelmingly<br>allocated to their immediate network, those<br>networks have simply moved online  it's just<br>networking, deep lindy!"
          ],
          [
           "why are intelligent and benevolent normies<br>\"generally unsympathetic to incels\"?  if you zoom<br>out, isn't it basically an obvious evolutionary<br>pathology that is harming literally noone?  could<br>be from some Nietzschean perspective, but that<br>isn't normie/mainstream"
          ],
          [
           "I wonder if the polite society spiritual boomers<br>that look down on popular novelties like crypto,<br>MAGA, etc. realize that usually the overclass<br>loses grasp not with a whimper but with<br>condescension, disbelief, pride, and a gradual<br>erosion of real world predictive capacity"
          ],
          [
           "market participant year 0:  \"I don't do things<br>without +ve carry/roll\"  market participant year<br>1:  \"carry is distribution neutral and roll<br>doesn't exist\"  market participant year 2: \"I<br>don't do things without +ve carry/roll\""
          ],
          [
           "what a lot of attention-pilled people are missing<br>is that the amount of freedom social media barons<br>get is a complete pathology and definitely isn't<br>going to remain the status quo  yes, attention has<br>become The Ring and it will remain so, but the<br>powerstructures that be will soon catch up and<br>seize it  likewise, benevolent institutions will<br>soon formalize the malevolent effects of<br>unregulated algo-plugging on the human psyche and<br>a host of filters will be introduced  the fact<br>that we once plugged toddlers into mass waterfalls<br>of nuclear grade algoslop will be looked back on<br>as a tragedy and the equivalent of having them<br>drink water at a firehose  so: > yes, he who is<br>upstream of algo is the new powerful > no, this<br>won't remain up for grabs uncontested by<br>traditional powermaxxers for much longer"
          ],
          [
           "to avoid getting goodhart's lawed by follower<br>count -- multiply your followers by their net<br>worth, that's the amount of capital that follows<br>you  matters infinitely more than the gross<br>biomass"
          ]
         ],
         "hovertemplate": "isReply=False<br>createdAt=%{x}<br>viewCount=%{y}<br>text=%{customdata[0]}<extra></extra>",
         "legendgroup": "False",
         "marker": {
          "color": "#EF553B",
          "symbol": "circle"
         },
         "mode": "markers",
         "name": "False",
         "orientation": "v",
         "showlegend": true,
         "type": "scatter",
         "x": [
          "2025-09-09T16:47:43.000000000",
          "2025-09-07T16:50:24.000000000",
          "2025-09-06T21:19:09.000000000",
          "2025-09-06T20:37:23.000000000",
          "2025-09-04T20:33:57.000000000",
          "2025-09-03T20:40:23.000000000",
          "2025-09-03T18:13:53.000000000",
          "2025-09-03T11:54:43.000000000",
          "2025-09-03T11:06:52.000000000",
          "2025-09-03T05:02:44.000000000",
          "2025-09-03T04:52:11.000000000",
          "2025-09-02T20:37:45.000000000",
          "2025-09-02T18:47:11.000000000",
          "2025-09-02T17:23:16.000000000",
          "2025-09-02T16:33:14.000000000",
          "2025-09-02T12:02:22.000000000",
          "2025-09-01T18:39:45.000000000",
          "2025-09-01T17:37:30.000000000",
          "2025-09-01T16:32:02.000000000",
          "2025-09-01T11:39:49.000000000",
          "2025-09-01T11:22:15.000000000",
          "2025-09-01T05:15:33.000000000",
          "2025-08-31T21:30:50.000000000",
          "2025-08-31T20:35:35.000000000",
          "2025-08-31T20:10:01.000000000",
          "2025-08-31T19:26:07.000000000",
          "2025-08-31T18:09:20.000000000",
          "2025-08-30T22:05:05.000000000",
          "2025-08-30T09:31:54.000000000",
          "2025-08-30T00:00:22.000000000",
          "2025-08-29T22:15:03.000000000",
          "2025-08-29T20:39:08.000000000",
          "2025-08-29T19:50:16.000000000",
          "2025-08-29T18:34:15.000000000",
          "2025-08-29T18:14:53.000000000",
          "2025-08-29T15:39:12.000000000",
          "2025-08-29T05:05:44.000000000",
          "2025-08-28T21:25:28.000000000",
          "2025-08-28T20:51:19.000000000",
          "2025-08-28T19:04:52.000000000",
          "2025-08-28T18:32:50.000000000",
          "2025-08-28T16:40:52.000000000",
          "2025-08-28T05:13:32.000000000",
          "2025-08-27T18:31:59.000000000",
          "2025-08-26T18:41:32.000000000",
          "2025-08-26T18:03:21.000000000",
          "2025-08-25T18:32:22.000000000",
          "2025-08-25T17:17:10.000000000",
          "2025-08-25T14:45:00.000000000",
          "2025-08-25T13:09:27.000000000",
          "2025-08-25T12:15:36.000000000",
          "2025-08-25T11:21:01.000000000",
          "2025-08-25T09:53:47.000000000",
          "2025-08-25T02:01:50.000000000",
          "2025-08-25T01:28:25.000000000",
          "2025-08-25T00:05:22.000000000",
          "2025-08-24T23:56:42.000000000",
          "2025-08-24T20:59:23.000000000",
          "2025-08-24T19:31:06.000000000",
          "2025-08-24T18:18:48.000000000",
          "2025-08-24T17:19:30.000000000",
          "2025-08-24T16:15:43.000000000",
          "2025-08-24T02:19:49.000000000",
          "2025-08-24T01:29:25.000000000",
          "2025-08-23T23:56:18.000000000",
          "2025-08-23T23:12:04.000000000",
          "2025-08-23T20:50:42.000000000",
          "2025-08-23T19:06:58.000000000",
          "2025-08-23T17:59:39.000000000",
          "2025-08-23T16:31:21.000000000",
          "2025-08-22T20:45:14.000000000",
          "2025-08-22T17:07:47.000000000",
          "2025-08-22T15:30:32.000000000",
          "2025-08-21T16:16:24.000000000",
          "2025-08-21T04:36:44.000000000",
          "2025-08-21T03:21:31.000000000",
          "2025-08-20T19:06:29.000000000",
          "2025-08-20T16:51:34.000000000",
          "2025-08-20T05:17:13.000000000",
          "2025-08-19T19:07:36.000000000",
          "2025-08-19T18:34:40.000000000",
          "2025-08-18T19:15:18.000000000",
          "2025-08-17T23:24:28.000000000",
          "2025-08-17T22:09:45.000000000",
          "2025-08-17T21:18:42.000000000",
          "2025-08-17T17:19:50.000000000",
          "2025-08-17T14:56:23.000000000",
          "2025-08-17T11:54:56.000000000",
          "2025-08-16T17:53:09.000000000",
          "2025-08-16T13:12:44.000000000",
          "2025-08-15T16:30:09.000000000",
          "2025-08-14T05:19:33.000000000",
          "2025-08-14T04:48:32.000000000",
          "2025-08-13T21:12:08.000000000",
          "2025-08-13T19:12:06.000000000",
          "2025-08-13T18:44:00.000000000",
          "2025-08-13T16:57:53.000000000",
          "2025-08-10T21:54:02.000000000",
          "2025-08-10T21:24:36.000000000",
          "2025-08-10T20:53:19.000000000",
          "2025-08-10T20:26:06.000000000",
          "2025-08-10T19:26:05.000000000",
          "2025-08-10T18:22:52.000000000",
          "2025-08-10T15:57:25.000000000",
          "2025-08-10T15:19:09.000000000",
          "2025-08-10T13:58:13.000000000",
          "2025-08-07T16:38:36.000000000",
          "2025-08-05T19:25:16.000000000",
          "2025-08-05T16:17:38.000000000",
          "2025-08-05T11:30:49.000000000",
          "2025-08-04T20:07:33.000000000",
          "2025-08-04T18:09:40.000000000",
          "2025-08-04T14:11:44.000000000",
          "2025-08-03T16:25:51.000000000",
          "2025-08-03T13:03:44.000000000",
          "2025-08-02T22:56:41.000000000",
          "2025-08-02T21:52:19.000000000",
          "2025-08-02T19:28:15.000000000",
          "2025-08-02T18:37:23.000000000",
          "2025-08-02T16:29:29.000000000",
          "2025-08-02T14:48:33.000000000",
          "2025-08-02T12:39:56.000000000",
          "2025-08-01T17:34:59.000000000",
          "2025-08-01T17:01:05.000000000",
          "2025-08-01T15:39:19.000000000",
          "2025-08-01T14:20:18.000000000",
          "2025-07-31T16:30:30.000000000",
          "2025-07-30T19:25:26.000000000",
          "2025-07-30T16:52:37.000000000",
          "2025-07-30T16:21:05.000000000",
          "2025-07-29T15:46:05.000000000",
          "2025-07-28T21:29:13.000000000",
          "2025-07-28T19:07:29.000000000",
          "2025-07-28T17:19:40.000000000",
          "2025-07-28T16:41:50.000000000",
          "2025-07-28T12:41:22.000000000",
          "2025-07-27T19:59:51.000000000",
          "2025-07-27T18:28:00.000000000",
          "2025-07-27T16:18:23.000000000",
          "2025-07-27T15:07:09.000000000",
          "2025-07-26T23:03:55.000000000",
          "2025-07-26T20:02:37.000000000",
          "2025-07-26T18:05:16.000000000",
          "2025-07-26T16:31:08.000000000",
          "2025-07-25T21:17:09.000000000",
          "2025-07-25T20:26:14.000000000",
          "2025-07-25T17:12:45.000000000",
          "2025-07-24T17:19:25.000000000",
          "2025-07-23T18:27:05.000000000",
          "2025-07-23T16:05:35.000000000",
          "2025-07-23T13:20:56.000000000",
          "2025-07-23T04:31:00.000000000",
          "2025-07-22T19:53:49.000000000",
          "2025-07-22T14:43:48.000000000",
          "2025-07-21T22:59:56.000000000",
          "2025-07-21T22:07:27.000000000",
          "2025-07-21T17:04:46.000000000",
          "2025-07-20T21:11:53.000000000",
          "2025-07-20T20:26:54.000000000",
          "2025-07-20T19:45:49.000000000",
          "2025-07-20T19:27:39.000000000",
          "2025-07-20T18:53:02.000000000",
          "2025-07-20T16:51:11.000000000",
          "2025-07-20T00:58:46.000000000",
          "2025-07-20T00:06:00.000000000",
          "2025-07-19T23:07:12.000000000",
          "2025-07-19T22:39:35.000000000",
          "2025-07-19T22:30:51.000000000",
          "2025-07-19T18:20:38.000000000",
          "2025-07-19T14:38:31.000000000",
          "2025-07-18T21:38:14.000000000",
          "2025-07-18T20:29:39.000000000",
          "2025-07-18T19:17:19.000000000",
          "2025-07-18T18:18:19.000000000",
          "2025-07-17T21:54:14.000000000",
          "2025-07-17T21:11:27.000000000",
          "2025-07-17T16:18:10.000000000",
          "2025-07-17T04:47:15.000000000",
          "2025-07-16T20:52:05.000000000",
          "2025-07-16T20:07:53.000000000",
          "2025-07-16T18:18:27.000000000",
          "2025-07-15T20:01:19.000000000",
          "2025-07-15T19:18:15.000000000",
          "2025-07-15T18:43:49.000000000",
          "2025-07-15T17:48:29.000000000",
          "2025-07-15T16:54:54.000000000",
          "2025-07-15T16:28:13.000000000",
          "2025-07-15T16:11:06.000000000",
          "2025-07-15T05:01:49.000000000",
          "2025-07-15T04:37:46.000000000"
         ],
         "xaxis": "x",
         "y": {
          "bdata": "ZXIAAEG3AAD/+QAAkHYAAFpfAABMwgEAx4UAAJicAAA+PgAAQfAEAH1CAAANbQAAUW4AAA2AAABP6QAAFysAAKEyAABe7QsAyUUAABY6AAAXWwAA2YEAAFyVAAAtRwAA0bEAAPozAADYAwEA4awAAHIgBwCWvAAA9MsAAFUaAQB6uAEA2XsAAK72AAC/KwYAj6MAAO1rAACXfwAACe8AADS+AABuPQIA9Z8BAGUwAgBPDwgAomIAAH1oAQBdRwAAL8wAAKYCBQBuKAEA9BsCAK1QAADxPgAASXkAAATJAABmiQEARC4BAKaAAQAZuAAAnUUAAOzBAABmzgEA3cUEACPwAABTWAAAtJgBAGnCAAAi5QAAPwgBAE8OAQAQjg0A/FwBAE6YAABYYgAAtwIBABmcAABv7wAAE5cAAKApAABkCQEANDIBAFM1AgBuhwAAfXAAAMPQAACUsgAAYVIAAL6KAABeYQIAPuQGAID0CwB+WAAALq0BACgpAADwFwAAOX0AAN8sAAAiYwAAwlYBAK9YAACvRwAAwiAAAP3yAADLcBIAfCEAAJkWAgC/SwMA81cCAFkMAQBhNAAAviUAAOQUAABTQAAAWpgAAN9pAABfPgAAwjwAALkeAABe0QAA9yUBAKBZAAAikgAA5y4AAGpnAADsvgMAiD8AABmuCABOTAAAdR4AAI8gBgAsawAAEEIAAGstJwD5KwAAdTQAAMIiAABoQAAAmycAALxAAAA4LwAAuZgAABkgAABNMAAALU4AAJ7CAACuPwEAo2UCAOSuAADkBAEAzxAAANciAAC+UQAA+iEAAJMbAACBFQAA86sAAB9IAABWOQAAUEAAAO4UAAByEQAAOjAAAIEVAADXdAAAhiQKANNiAgBosAEANdQAAH5MAAByGAAAvk8AAPc4AADmNQAAOCAAAI0yAAB+LAAAEzcAABBKAACjDwAA4DwAADxxAADEYwAAFAoAAFQaAABlFgAAdwoAAG4LAAAmFwAAYA0AAA==",
          "dtype": "i4"
         },
         "yaxis": "y"
        }
       ],
       "layout": {
        "height": 600,
        "legend": {
         "title": {
          "text": "isReply"
         },
         "tracegroupgap": 0
        },
        "margin": {
         "t": 60
        },
        "template": {
         "data": {
          "bar": [
           {
            "error_x": {
             "color": "#2a3f5f"
            },
            "error_y": {
             "color": "#2a3f5f"
            },
            "marker": {
             "line": {
              "color": "#E5ECF6",
              "width": 0.5
             },
             "pattern": {
              "fillmode": "overlay",
              "size": 10,
              "solidity": 0.2
             }
            },
            "type": "bar"
           }
          ],
          "barpolar": [
           {
            "marker": {
             "line": {
              "color": "#E5ECF6",
              "width": 0.5
             },
             "pattern": {
              "fillmode": "overlay",
              "size": 10,
              "solidity": 0.2
             }
            },
            "type": "barpolar"
           }
          ],
          "carpet": [
           {
            "aaxis": {
             "endlinecolor": "#2a3f5f",
             "gridcolor": "white",
             "linecolor": "white",
             "minorgridcolor": "white",
             "startlinecolor": "#2a3f5f"
            },
            "baxis": {
             "endlinecolor": "#2a3f5f",
             "gridcolor": "white",
             "linecolor": "white",
             "minorgridcolor": "white",
             "startlinecolor": "#2a3f5f"
            },
            "type": "carpet"
           }
          ],
          "choropleth": [
           {
            "colorbar": {
             "outlinewidth": 0,
             "ticks": ""
            },
            "type": "choropleth"
           }
          ],
          "contour": [
           {
            "colorbar": {
             "outlinewidth": 0,
             "ticks": ""
            },
            "colorscale": [
             [
              0,
              "#0d0887"
             ],
             [
              0.1111111111111111,
              "#46039f"
             ],
             [
              0.2222222222222222,
              "#7201a8"
             ],
             [
              0.3333333333333333,
              "#9c179e"
             ],
             [
              0.4444444444444444,
              "#bd3786"
             ],
             [
              0.5555555555555556,
              "#d8576b"
             ],
             [
              0.6666666666666666,
              "#ed7953"
             ],
             [
              0.7777777777777778,
              "#fb9f3a"
             ],
             [
              0.8888888888888888,
              "#fdca26"
             ],
             [
              1,
              "#f0f921"
             ]
            ],
            "type": "contour"
           }
          ],
          "contourcarpet": [
           {
            "colorbar": {
             "outlinewidth": 0,
             "ticks": ""
            },
            "type": "contourcarpet"
           }
          ],
          "heatmap": [
           {
            "colorbar": {
             "outlinewidth": 0,
             "ticks": ""
            },
            "colorscale": [
             [
              0,
              "#0d0887"
             ],
             [
              0.1111111111111111,
              "#46039f"
             ],
             [
              0.2222222222222222,
              "#7201a8"
             ],
             [
              0.3333333333333333,
              "#9c179e"
             ],
             [
              0.4444444444444444,
              "#bd3786"
             ],
             [
              0.5555555555555556,
              "#d8576b"
             ],
             [
              0.6666666666666666,
              "#ed7953"
             ],
             [
              0.7777777777777778,
              "#fb9f3a"
             ],
             [
              0.8888888888888888,
              "#fdca26"
             ],
             [
              1,
              "#f0f921"
             ]
            ],
            "type": "heatmap"
           }
          ],
          "histogram": [
           {
            "marker": {
             "pattern": {
              "fillmode": "overlay",
              "size": 10,
              "solidity": 0.2
             }
            },
            "type": "histogram"
           }
          ],
          "histogram2d": [
           {
            "colorbar": {
             "outlinewidth": 0,
             "ticks": ""
            },
            "colorscale": [
             [
              0,
              "#0d0887"
             ],
             [
              0.1111111111111111,
              "#46039f"
             ],
             [
              0.2222222222222222,
              "#7201a8"
             ],
             [
              0.3333333333333333,
              "#9c179e"
             ],
             [
              0.4444444444444444,
              "#bd3786"
             ],
             [
              0.5555555555555556,
              "#d8576b"
             ],
             [
              0.6666666666666666,
              "#ed7953"
             ],
             [
              0.7777777777777778,
              "#fb9f3a"
             ],
             [
              0.8888888888888888,
              "#fdca26"
             ],
             [
              1,
              "#f0f921"
             ]
            ],
            "type": "histogram2d"
           }
          ],
          "histogram2dcontour": [
           {
            "colorbar": {
             "outlinewidth": 0,
             "ticks": ""
            },
            "colorscale": [
             [
              0,
              "#0d0887"
             ],
             [
              0.1111111111111111,
              "#46039f"
             ],
             [
              0.2222222222222222,
              "#7201a8"
             ],
             [
              0.3333333333333333,
              "#9c179e"
             ],
             [
              0.4444444444444444,
              "#bd3786"
             ],
             [
              0.5555555555555556,
              "#d8576b"
             ],
             [
              0.6666666666666666,
              "#ed7953"
             ],
             [
              0.7777777777777778,
              "#fb9f3a"
             ],
             [
              0.8888888888888888,
              "#fdca26"
             ],
             [
              1,
              "#f0f921"
             ]
            ],
            "type": "histogram2dcontour"
           }
          ],
          "mesh3d": [
           {
            "colorbar": {
             "outlinewidth": 0,
             "ticks": ""
            },
            "type": "mesh3d"
           }
          ],
          "parcoords": [
           {
            "line": {
             "colorbar": {
              "outlinewidth": 0,
              "ticks": ""
             }
            },
            "type": "parcoords"
           }
          ],
          "pie": [
           {
            "automargin": true,
            "type": "pie"
           }
          ],
          "scatter": [
           {
            "fillpattern": {
             "fillmode": "overlay",
             "size": 10,
             "solidity": 0.2
            },
            "type": "scatter"
           }
          ],
          "scatter3d": [
           {
            "line": {
             "colorbar": {
              "outlinewidth": 0,
              "ticks": ""
             }
            },
            "marker": {
             "colorbar": {
              "outlinewidth": 0,
              "ticks": ""
             }
            },
            "type": "scatter3d"
           }
          ],
          "scattercarpet": [
           {
            "marker": {
             "colorbar": {
              "outlinewidth": 0,
              "ticks": ""
             }
            },
            "type": "scattercarpet"
           }
          ],
          "scattergeo": [
           {
            "marker": {
             "colorbar": {
              "outlinewidth": 0,
              "ticks": ""
             }
            },
            "type": "scattergeo"
           }
          ],
          "scattergl": [
           {
            "marker": {
             "colorbar": {
              "outlinewidth": 0,
              "ticks": ""
             }
            },
            "type": "scattergl"
           }
          ],
          "scattermap": [
           {
            "marker": {
             "colorbar": {
              "outlinewidth": 0,
              "ticks": ""
             }
            },
            "type": "scattermap"
           }
          ],
          "scattermapbox": [
           {
            "marker": {
             "colorbar": {
              "outlinewidth": 0,
              "ticks": ""
             }
            },
            "type": "scattermapbox"
           }
          ],
          "scatterpolar": [
           {
            "marker": {
             "colorbar": {
              "outlinewidth": 0,
              "ticks": ""
             }
            },
            "type": "scatterpolar"
           }
          ],
          "scatterpolargl": [
           {
            "marker": {
             "colorbar": {
              "outlinewidth": 0,
              "ticks": ""
             }
            },
            "type": "scatterpolargl"
           }
          ],
          "scatterternary": [
           {
            "marker": {
             "colorbar": {
              "outlinewidth": 0,
              "ticks": ""
             }
            },
            "type": "scatterternary"
           }
          ],
          "surface": [
           {
            "colorbar": {
             "outlinewidth": 0,
             "ticks": ""
            },
            "colorscale": [
             [
              0,
              "#0d0887"
             ],
             [
              0.1111111111111111,
              "#46039f"
             ],
             [
              0.2222222222222222,
              "#7201a8"
             ],
             [
              0.3333333333333333,
              "#9c179e"
             ],
             [
              0.4444444444444444,
              "#bd3786"
             ],
             [
              0.5555555555555556,
              "#d8576b"
             ],
             [
              0.6666666666666666,
              "#ed7953"
             ],
             [
              0.7777777777777778,
              "#fb9f3a"
             ],
             [
              0.8888888888888888,
              "#fdca26"
             ],
             [
              1,
              "#f0f921"
             ]
            ],
            "type": "surface"
           }
          ],
          "table": [
           {
            "cells": {
             "fill": {
              "color": "#EBF0F8"
             },
             "line": {
              "color": "white"
             }
            },
            "header": {
             "fill": {
              "color": "#C8D4E3"
             },
             "line": {
              "color": "white"
             }
            },
            "type": "table"
           }
          ]
         },
         "layout": {
          "annotationdefaults": {
           "arrowcolor": "#2a3f5f",
           "arrowhead": 0,
           "arrowwidth": 1
          },
          "autotypenumbers": "strict",
          "coloraxis": {
           "colorbar": {
            "outlinewidth": 0,
            "ticks": ""
           }
          },
          "colorscale": {
           "diverging": [
            [
             0,
             "#8e0152"
            ],
            [
             0.1,
             "#c51b7d"
            ],
            [
             0.2,
             "#de77ae"
            ],
            [
             0.3,
             "#f1b6da"
            ],
            [
             0.4,
             "#fde0ef"
            ],
            [
             0.5,
             "#f7f7f7"
            ],
            [
             0.6,
             "#e6f5d0"
            ],
            [
             0.7,
             "#b8e186"
            ],
            [
             0.8,
             "#7fbc41"
            ],
            [
             0.9,
             "#4d9221"
            ],
            [
             1,
             "#276419"
            ]
           ],
           "sequential": [
            [
             0,
             "#0d0887"
            ],
            [
             0.1111111111111111,
             "#46039f"
            ],
            [
             0.2222222222222222,
             "#7201a8"
            ],
            [
             0.3333333333333333,
             "#9c179e"
            ],
            [
             0.4444444444444444,
             "#bd3786"
            ],
            [
             0.5555555555555556,
             "#d8576b"
            ],
            [
             0.6666666666666666,
             "#ed7953"
            ],
            [
             0.7777777777777778,
             "#fb9f3a"
            ],
            [
             0.8888888888888888,
             "#fdca26"
            ],
            [
             1,
             "#f0f921"
            ]
           ],
           "sequentialminus": [
            [
             0,
             "#0d0887"
            ],
            [
             0.1111111111111111,
             "#46039f"
            ],
            [
             0.2222222222222222,
             "#7201a8"
            ],
            [
             0.3333333333333333,
             "#9c179e"
            ],
            [
             0.4444444444444444,
             "#bd3786"
            ],
            [
             0.5555555555555556,
             "#d8576b"
            ],
            [
             0.6666666666666666,
             "#ed7953"
            ],
            [
             0.7777777777777778,
             "#fb9f3a"
            ],
            [
             0.8888888888888888,
             "#fdca26"
            ],
            [
             1,
             "#f0f921"
            ]
           ]
          },
          "colorway": [
           "#636efa",
           "#EF553B",
           "#00cc96",
           "#ab63fa",
           "#FFA15A",
           "#19d3f3",
           "#FF6692",
           "#B6E880",
           "#FF97FF",
           "#FECB52"
          ],
          "font": {
           "color": "#2a3f5f"
          },
          "geo": {
           "bgcolor": "white",
           "lakecolor": "white",
           "landcolor": "#E5ECF6",
           "showlakes": true,
           "showland": true,
           "subunitcolor": "white"
          },
          "hoverlabel": {
           "align": "left"
          },
          "hovermode": "closest",
          "mapbox": {
           "style": "light"
          },
          "paper_bgcolor": "white",
          "plot_bgcolor": "#E5ECF6",
          "polar": {
           "angularaxis": {
            "gridcolor": "white",
            "linecolor": "white",
            "ticks": ""
           },
           "bgcolor": "#E5ECF6",
           "radialaxis": {
            "gridcolor": "white",
            "linecolor": "white",
            "ticks": ""
           }
          },
          "scene": {
           "xaxis": {
            "backgroundcolor": "#E5ECF6",
            "gridcolor": "white",
            "gridwidth": 2,
            "linecolor": "white",
            "showbackground": true,
            "ticks": "",
            "zerolinecolor": "white"
           },
           "yaxis": {
            "backgroundcolor": "#E5ECF6",
            "gridcolor": "white",
            "gridwidth": 2,
            "linecolor": "white",
            "showbackground": true,
            "ticks": "",
            "zerolinecolor": "white"
           },
           "zaxis": {
            "backgroundcolor": "#E5ECF6",
            "gridcolor": "white",
            "gridwidth": 2,
            "linecolor": "white",
            "showbackground": true,
            "ticks": "",
            "zerolinecolor": "white"
           }
          },
          "shapedefaults": {
           "line": {
            "color": "#2a3f5f"
           }
          },
          "ternary": {
           "aaxis": {
            "gridcolor": "white",
            "linecolor": "white",
            "ticks": ""
           },
           "baxis": {
            "gridcolor": "white",
            "linecolor": "white",
            "ticks": ""
           },
           "bgcolor": "#E5ECF6",
           "caxis": {
            "gridcolor": "white",
            "linecolor": "white",
            "ticks": ""
           }
          },
          "title": {
           "x": 0.05
          },
          "xaxis": {
           "automargin": true,
           "gridcolor": "white",
           "linecolor": "white",
           "ticks": "",
           "title": {
            "standoff": 15
           },
           "zerolinecolor": "white",
           "zerolinewidth": 2
          },
          "yaxis": {
           "automargin": true,
           "gridcolor": "white",
           "linecolor": "white",
           "ticks": "",
           "title": {
            "standoff": 15
           },
           "zerolinecolor": "white",
           "zerolinewidth": 2
          }
         }
        },
        "title": {
         "text": "Views for @apralky"
        },
        "xaxis": {
         "anchor": "y",
         "domain": [
          0,
          1
         ],
         "nticks": 10,
         "tickmode": "auto",
         "title": {
          "text": "createdAt"
         }
        },
        "yaxis": {
         "anchor": "x",
         "domain": [
          0,
          1
         ],
         "title": {
          "text": "viewCount"
         },
         "type": "log"
        }
       }
      }
     },
     "metadata": {},
     "output_type": "display_data"
    }
   ],
   "source": [
    "# is labels\n",
    "format_string = \"%a %b %d %H:%M:%S %z %Y\"\n",
    "\n",
    "df_formatted = df_tmini.copy()\n",
    "df_formatted['createdAt'] = pd.to_datetime(df_formatted['createdAt'], format=format_string)\n",
    "\n",
    "# Wrap text at 30 characters and replace newlines with HTML breaks\n",
    "df_formatted['text'] = df_formatted['text'].str.wrap(50)\n",
    "df_formatted['text'] = df_formatted['text'].apply(lambda x: x.replace('\\n', '<br>'))\n",
    "\n",
    "# truncate set\n",
    "# df_formatted = df_formatted.head(100)\n",
    "\n",
    "fig = px.scatter(\n",
    "    df_formatted, \n",
    "    y='viewCount', \n",
    "    x='createdAt',\n",
    "    color='isReply',\n",
    "    hover_data=['text'],\n",
    "    log_y=True,\n",
    ")\n",
    "\n",
    "# Format x-axis to show only year-month\n",
    "fig.update_layout(\n",
    "    title=f'Views for @{USERNAME}',\n",
    "    height=600,\n",
    "    xaxis=dict(\n",
    "        tickmode='auto',\n",
    "        nticks=10,  # Limit number of ticks\n",
    "    )\n",
    ")\n",
    "\n",
    "fig.show()\n"
   ]
  },
  {
   "cell_type": "markdown",
   "id": "6ee32a80",
   "metadata": {},
   "source": [
    "## Research\n",
    "- Correlation heatmap to understand average engagements and total engagement\n",
    "- Scatter plot to understand correlation BY GROUP\n",
    "\n",
    "### Research conclusion. \n",
    "(You may run cells below to confirm the research again)\n",
    "\n",
    "With a sample of 200, 1000 tweets:\n",
    "- 200 tweet samples is good enough to understand an account\n",
    "- 1000 tweet samples is more than enough. \n",
    "- AVG engagement per account is as good as total engagement\n",
    "- You NEED MORE samples if an account really likes writing threads. (Threads screw up the analytics. MAKE SURE you exclude self in analysis)\n",
    "\n",
    "To find a high elo account:\n",
    "- check a user's top replied accounts >50% of cumulative replies. Group them as \"T1\"\n",
    "- Instead of using cumulative replies, you may use cumulative \"total engagement\" (like + quote + bookmark)\n",
    "- check any other user that generates more engagement that the average of \"T1\" of tested user. This is another source of high elo account. (could be a lucky celebrity hit tho)\n",
    "\n",
    "With enough runs for 100 different accounts:\n",
    "- An account that appears in T1 for multiple different account is high elo. \n"
   ]
  },
  {
   "cell_type": "code",
   "execution_count": 15,
   "id": "d4e9faca",
   "metadata": {},
   "outputs": [
    {
     "name": "stdout",
     "output_type": "stream",
     "text": [
      "No username found in text: what will likely happen is that internet people will arrive at the revealed preference of self-organizing in an academia style model from first principles... you can help them out as an entrepreneur\n",
      "No username found in text: or you can just let shoe on head run your discourse, this is the infodemocratic alternative\n",
      "No username found in text: https://t.co/vT0mwjV9OY\n",
      "No username found in text: there's simply no such thing as wholesome capitalism\n",
      "No username found in text: populism is obviously a transition phase, it is by its nature unsustainable... you promise people low inflation low borrowing low taxes low unemployment, obviously fail to deliver it, and we move on to the next stage (state capitalism or communism)\n",
      "No username found in text: I want to write more about why seemingly everyone contending with the question of where unchecked capitalism eventually ends up in the 20th century concluded that it's either hyper-authoritarian state capitalism or communism but I haven't had the time yet\n",
      "No username found in text: this omega-midwit gave it \"a crack\" and vomited the worst slop you can imagine and STILL got catapulted to stardom because the demand function for this is just so pent up https://t.co/kE2Ox190H2\n",
      "No username found in text: it's pretty funny that a generally successful &amp; wholesome campaign against class is just obviously directly leading to its being replaced with a much more brutal dystopian biomass-coded set of selection mechanisms\n",
      "No username found in text: you expect cognitive horsepower to be broadly generalizable across domains, but it just isn't -- I can't intuit exactly why, but empirically you can't help but notice\n",
      "\n",
      "as more people pick up on this it may erode aforementioned paradigm and move us back to class based models\n",
      "No username found in text: yes daddy https://t.co/FZAUN2Pjmz\n",
      "No username found in text: &gt; it's real\n",
      "&gt; it's from an entry wherein he's authorityposting about how bored he's gotten after learning the matter inside and out\n",
      "\n",
      "kill me https://t.co/bwV6JIHapd\n",
      "No username found in text: your technocratic bald millennial blogosphere neo-overclass sir\n",
      "No username found in text: he just casually onboarded sentences such as \"the 10 year treasury yield fell by 15 percent points today\", and not once did that tamper with any of his intuitions\n",
      "No username found in text: it's over for yall when bill ackman finally learns how to read\n",
      "No username found in text: obviously maga just snapped him up from the heritage foundation, but the heritage foundation clearly did the reaching\n",
      "No username found in text: they're reaching into universities the names of which you can't even pronounce https://t.co/VAFToTwRq6\n",
      "No username found in text: and of course I'm just speculating here, I haven't actually looked inside econ departments, I'm a practitioner, but I trust my intuitions and you can too if you'd like\n",
      "No username found in text: do you understand how insanely hard MAGA has to look to find schizos like Navarro or EJ Antoni to staff their jr seats... this is an incredibly supply constrained labour market (loyal heterodox schizophrenic economists).. it's all yours for the taking\n",
      "No username found in text: for those interested, it seems obvious that the latest **real academia** to lose ground will be economics departments, who were still clouted prior to the current American admin, but given the current American admin is basically heterodox, they will be deferring to you (schizos)\n",
      "No username found in text: lex fridman was right all along truther\n",
      "No username found in text: (I share both the Bay Area rationalists' concern about existential risk and the Christian missionaries' concern about hell)\n",
      "No username found in text: Doesn't have to be this way for much longer anon, really doesn't, we can be friends again...\n",
      "No username found in text: the goodness of any technology is best appraised by the extent to which it angers Marjorie Taylor Greene\n",
      "No username found in text: type of shit the gates foundation would back and act all coy when confronted\n",
      "No username found in text: https://t.co/TGzMBEwq8X\n",
      "No username found in text: being told this certain dapper fellow may already be on it https://t.co/YABeht82xk\n",
      "No username found in text: anti populist misanthropic christian neo deep statism\n",
      "No username found in text: still think palantir were the bad guys?\n",
      "No username found in text: got the entire norwood 6 millennial industrial complex coming after me it's unbelievable.. https://t.co/dFOd3qSsLF\n",
      "No username found in text: palantir social credit score in the stratosphere rn\n",
      "No username found in text: this is very short and kind of a test of reception... I will write a few more in depth about **the protocol** and then we can actually start building the world models.\n",
      "No username found in text: https://t.co/H4JNxA75Fh\n",
      "No username found in text: ChatGPT are you SURE you're getting the numbers right\n",
      "No username found in text: 10 GPT prompts just to broadly signal \"h-hey.. I can k-kinda do s-statistics... too.?\"\n",
      "No username found in text: this is partly why cremieux has been a complete nuke on the ideological ecosystem, it's also something the rationalists figured out early on\n",
      "No username found in text: sounds true and runs somewhat contrary to common wisdom of finding balance and so on\n",
      "No username found in text: this is true to such an extent that in many ways it's impossible to lie to an online audience, it is a hyperefficient info market at a certain size, so you must indeed become honest early on, and somehow later on decide to snap back to evilmaxxing as your honest self, a quandry\n",
      "No username found in text: this is obviously because having many thousands, millions of people scrutinize you in an IQ selected smooth information cluster is way way way different than your constant rotation of 10 midwitted friends &amp; colleagues\n",
      "No username found in text: pre-internet trve machiavellians don't understand how much more efficient internet ecosystems are, i.e. how much harder you need to feign honesty in the early game post-internet than pre-internet, so they start slimemaxxing too early and drop like flies (common in millennials)\n",
      "No username found in text: this is of course in many ways a delusion, Continental Europe stargazes to America, and the Chinese are too busy learning English\n",
      "No username found in text: https://t.co/18aZKr6YP4\n",
      "No username found in text: we have to somehow find a tiktok cluster in a &lt;5k GDP per capita country willing to onboard and mercilessly algo-shill a san francisco rationalist worldview\n",
      "No username found in text: a kind commenter pointed out that Bryan Johnson executed this playbook perfectly -- a \"vampmaxxer\" at the brink of persona-death revived by a tasteful dose of \"jestermaxxing\"\n",
      "No username found in text: he gave zuck sound advice, it worked, it may be wise to apply it at home\n",
      "No username found in text: just lose the ego and deliver a poaster or two out of neetdom\n",
      "No username found in text: actually I have decided to pass value judgement, it is on net a good chart\n",
      "No username found in text: not passing any value judgement on the chart itself btw, it's easy to misinterpret but also directionally correct about a hard to compress, important paradigm... has staying power\n",
      "No username found in text: obviously these trends are overdetermined, and one can reasonably expect a bunch of them to have held just as consistently during ZIRP... but is monterary policy an under-understood, complex, and profound contributor? surely...\n",
      "No username found in text: yup\n",
      "No username found in text: https://t.co/8c5j2PrrlT\n",
      "No username found in text: if you think the golds are gauche and provincial, and that's the main thing you note about the rebrand... idk what to tell you you're an idiot (all of boomerslop is on this wavelength btw)\n",
      "No username found in text: consult for more https://t.co/4Wde3bEmWO\n",
      "No username found in text: https://t.co/Yy34JDJYOA\n",
      "No username found in text: palantir/CIA/a16z podcast\n",
      "No username found in text: as usual can we make sure he sees this guys\n",
      "No username found in text: yarvin, BAP, yudkowsky, scott alexander... = early manifestations of overclass posters in the anglosphere\n",
      "No username found in text: Steve Jobs, a classic high tier yellow quadrant type, had to go through like a 0.0001% probability path to be discovered... system used to be very rigged against this type\n",
      "No username found in text: yea everyone should definitely be reading your 20 paragraph LLM generated setup for a conclusion in which you paraphrase a random goodreads quote from camille paglia, this is what true intellectual endeavour looks like, to hell with this perverse world\n",
      "No username found in text: if Karp/Thiel were shape rotators where do you palantir would be right now\n",
      "No username found in text: evidently pivoted from rascalmaxxing to vampmaxxing shortly https://t.co/sgF4YQlbBK\n",
      "No username found in text: which way western man https://t.co/Kh2tF80uul\n",
      "No username found in text: applies to countries too btw\n",
      "No username found in text: someone suggested in DMs he may actually be upstream of me here and is innkeepermaxxing for populist arc... somethint to think about... he may pull up in overalls and a jug of mead or some other bubbly mysteryslop (pictured below) at the next claude code demo https://t.co/biHy3U8HqN\n",
      "No username found in text: https://t.co/scU880Y05q\n",
      "No username found in text: anthropic pivots mission statement from mosquito nets in kenya to excavating agartha https://t.co/KRN2VeHPg1\n",
      "No username found in text: https://t.co/aUa07j2KW2\n",
      "No username found in text: we saw this happen previously when henry kissinger fell off because everybody became wholesomepilled and elected reagan, then you needed to run smthn like a bill clinton build\n",
      "\n",
      "thiel's build will get buffed again in the dystopia arc tho (2030+)\n",
      "No username found in text: ways to lean into it for example: \n",
      "&gt; go on a podcast and start eating a random pastry that you seemingly carried back with you\n",
      "&gt; wear denim overalls\n",
      "&gt; DO NOT TAKE OZEMPIC\n",
      "etc. https://t.co/EHVD55EOuQ\n",
      "No username found in text: As you can see, German industrial production is not dying. Fair to say growth has slowed, but it's holding steady. https://t.co/hmm8lqyvce\n",
      "No username found in text: final boss of esoteric pdfs https://t.co/I44usVrZXA\n",
      "No username found in text: evergreen https://t.co/0Z438BgWX5\n",
      "No username found in text: https://t.co/Xmzw8GzZoq https://t.co/87qLUklsqX\n",
      "No username found in text: Henry Kissinger's looney tunes bloodboy archetype\n",
      "No username found in text: globalism final boss\n",
      "No username found in text: how do we navigate the fact that he's irish chat?\n",
      "No username found in text: btw how is this so good wow! I want the drone swarms playing this during the holy war https://t.co/wP3CNIsArl\n",
      "No username found in text: instead you end up getting anti-establishment RWs building cases like \"we need to cancel central banks because powell worships satan &amp; keeps printing money for his friends\" poisoning the discourse forever as crankism and ironically ensuring nothing is done\n",
      "No username found in text: Keir Starmer tried to cut 5bn of welfare spending (pocket change) back in late June and got btfod by his own party lol\n",
      "\n",
      "similar stuff will happen in the US as MAGA popularity erodes\n",
      "No username found in text: in terms of fiscal gridlock+populism causing massive government factionalization and de facto paralysis the UK is downstream of certain continental jurisdictions (eg France) and the US is downstream of the UK, so we kind of know how this stage plays out\n",
      "No username found in text: for these 3 years you need to lock in on powermaxxing anon, lock in, lockinmaxxing\n",
      "No username found in text: can we make sure he sees this?\n",
      "No username found in text: 2025 Steve Jobs would have been a gigadoomscroller\n",
      "No username found in text: first guy to say it must have felt like Fleming at the discovery of penicillin\n",
      "No username found in text: we wanted flying cars instead we got an oddly entropy-condensing suffix\n",
      "No username found in text: in any domain where I have no expertise I would expect a similar level of consensus from high status users to be almost certainly true... here it's blatantly wrong\n",
      "No username found in text: don't get me wrong I'm basically unequivocally an enjoyer of decentralized anonymous underpoliced info ecosystems... but I simply observe that the lack of the system's ability to arbitrate the case above really surprised me and threatened my priors\n",
      "No username found in text: this is how dirty the ecosystem can get btw, this example genuinely surprised me (I'm often a perpetrator and frequently stray outside my purview with undue confidence)\n",
      "https://t.co/AJ9RKuOxtR\n",
      "No username found in text: i mean to claim that any market view is demonstrably shallow in outright terms is incredibly difficult because you'd have to first disprove the EMH... so this kind of thing is best reasoned through conditionals or existing resolutions: practitioners outperform with very notable margins in questions like \"what will happen to X if Y\", which obviously doesn't have to be market beating if the party is not accurately predicting Y -- it's a clean test of domain viability because you don't have to prove that either of these guys are beating the market -- just that if you provided both of them with \"meta-outcomes\" the IQ100 domain expert would beat the IQ130 layperson\n",
      "\n",
      "by \"existing resolutions\" I mean attempts at estimating consensus, which is also not necessarily market beating:\n",
      "\"what do most participants think about X\"\n",
      "\"without looking, what is the market price of X\"\n",
      "\n",
      "it's a \"blind test\", you take out the market price and put the IQ100 practitioner vs IQ130 layperson in a hypothetical, in this hypothetical the IQ100 wins probably overwhelmingly\n",
      "No username found in text: you will also notice this if you get an intern who's e.g. a brainmaxxed engineer from a great university and yet completely intellectually powerless in the domain until they've practiced it for like 6-9 months\n",
      "No username found in text: example: \"if the economic data is strong tomorrow, will it be good or bad for the equity index\" is basically an impossible question to answer from first principles but is the kind of question many practitioners will be tackling within a few seconds of thought-chain\n",
      "No username found in text: obviously this isn't their fault, most relevant questions just aren't practically solvable from first principles... \"is this car going fast enough to hit me if I cross this road\"\n",
      "\n",
      "an 11 year old can answer that if they've crossed enough roads but good luck doing the math\n",
      "No username found in text: my timeline has infinity IQ130+ tech ppl recently interested in macro/rates and their takes are genuinely orders of magnitude shallower than those of a IQ100 broker after 6 pints at lunch\n",
      "No username found in text: how do I get a research seat at OAI post more\n",
      "been a prominent one\n",
      "No username found in text: AOC drop for the girlies im not like these other guys\n",
      "No username found in text: you see this a lot in small third world countries, internal power structures are extremely byzantine and intractable, people spend generations moving up one rank, but some guy goes gets a US education and gets implanted by the CIA with like 1/1000000 the effort of doing it inside\n",
      "No username found in text: i mean in general if you want to oneshot power structures you really can't do it without being \"metasystemic\" about it and leaving the hierarchy to influence it from outside... if Soros/Thiel engaged the hierarchies (same stats &amp; effort) they would have utterly failed\n",
      "No username found in text: maybe love isn't even a strong enough word\n",
      "No username found in text: needless to say we still love our tattooed provincial egirls unequivocally\n",
      "No username found in text: this is partly why you need to be consciously settling on a set of precise worldmodels that u will want to upload into your children's brains with early age psyops... \"talking them through it\" is a neoliberal meme\n",
      "No username found in text: these people would have been calling 50 y/o newton a 2std cause he stopped doing math\n",
      "No username found in text: the left wing is cut off because we don't really interact with &lt;IQ90 on a daily basis due to selection effects so you can kind of just condition on that at all times\n",
      "No username found in text: so much of existing advice on this is boomered out it's incredible, idk how the lindy info market can be this inefficient \"you must work hard son\" bro work hard on what??? sweatshops are working hard\n",
      "No username found in text: which is obviously the aim of this profile\n",
      "No username found in text: and also without exception the post has a gazillion likes and not a single soul pointing and laughing at the imbecile... this tells you all you need to know about the EPISTEMIC WORTH of twater consensus\n",
      "No username found in text: the chamath classic\n",
      "No username found in text: \"ew he's so kitsch bro... where but queens am i right :p\" https://t.co/FgO5hQWdSy\n",
      "No username found in text: christian NDS to be clear\n",
      "No username found in text: fwiw this is obviously based but I'm against it because I'm a NDS (neodeepstatist)\n",
      "https://t.co/C07NI1RfeI\n",
      "No username found in text: you innocent, poor soul... https://t.co/HyNMD4XUlC\n",
      "No username found in text: if we had IQ140+ prediction markets we could have fun questions like \"when will be the first date at which a US head of state wears a crown\" but unfortunately we only have IQ90 prediction markets (polymkt/kalshi) &amp; IQ120 prediction markets (manifold/metaculus)\n",
      "No username found in text: hence\n",
      "No username found in text: your deepstate guys are boomers now and worship satan? ermm ok then get up there and show them how it's done!\n",
      "No username found in text: if you're mad at your deepstate guys the noble ambition is to become a better deepstate guy yourself, certainly not to abolish the deepstate altogether..\n",
      "No username found in text: the katechon’s immanentization will not be televised\n",
      "No username found in text: https://t.co/XalVMHMpLW\n",
      "No username found in text: this is btw how the establishment right should be aiming to subvert Nick Fuentes, who is obviously an increasingly weighty phenomenon -- not through secular means and figures (as they have been trying) but by astroturfing a genuine catholic authority figure in the public sphere\n",
      "No username found in text: decade of the top left quadrant aristocratic speculator https://t.co/nCM8oDKhbz\n",
      "No username found in text: if wordcel/shaperotator was tokenized btw (as I assume it soon will be) the relative price chart would be quite striking... those sorts of vague speculations will be institutionally monetizable in systems of near future\n",
      "No username found in text: throat cancer or keep getting ratioed by 300 follower groypers.. your choice compadre\n",
      "No username found in text: it's like if this guy suddenly pulled up looksmaxxed af.. his vibe reels would fall off real quick https://t.co/UTnM13hmnk\n",
      "No username found in text: for clarity I'm not secular I'm Christian which provides an alternative source of immunity from these sorts of fetishes\n",
      "No username found in text: for every unit of support for the utility function I'll be donating a dollar to your charity of choice\n",
      "No username found in text: the French are so lucky they don't have the internet yet\n",
      "No username found in text: I know that many allegedly smart millennials especially in america still think that \"real thinking\" is being done in random boomer congregations like \"École Normale Supérieure\" in \"France\" but come on man... surely we aren't this stupid..\n",
      "No username found in text: by \"contemporary intellectual paradigm\" i mean online discourse of course, which is all that matters now\n",
      "No username found in text: when u optimizemaxx even if destiny wants to reward you you're not letting it.........\n",
      "No username found in text: if Thiel's fund didn't fail where would he be now? unclear but the odds that he would still be a worldhistoric figure is ~0% (obviously the probabilistic intuition here is that extremely rare outputs are very sensitive to input variables and if u tinker u revert to the mean)\n",
      "No username found in text: (you can't optimize for complex functions but u can certainly antioptimize for them by voluntarily minimizing randomness in your life...)\n",
      "No username found in text: this is basically the cognitive equivalent of cardi B WAP discourse\n",
      "No username found in text: can you imagine a random high performer from University of Buenos Aires debating a random Stanford startupmaxxer on some serious matter that they get a month to research... filters tell us the latter should eat the former for breakfast but the opposite will surely transpire!\n",
      "No username found in text: like genuinely you end up in a state where a completely IQ unfiltered philosophy major at a LATAM university is probably going to run circles around your elite human capital in a language not even their own... a debate set up like this would be a complete slaughter no doubt\n",
      "No username found in text: so you keep getting this repeat episode of a random layperson trying to explain on a public channel why what he's doing is economically sound, accidentally scaring the market, and getting replaced by another random layperson... example: the truss/kwarteng budget in the UK\n",
      "No username found in text: everyone else, including sophisticated &amp; gigafinancialized states like the UK, has kept their head in the sand about the fact that as a government these days you're largely presenting your case to the bond market not to an electorate...\n",
      "No username found in text: power games are generally so much better for cognitive retention than moneygames... because powergames are never postscarcity -- if trump or bibi let up the gas pedal they have an existential threat waiting for them which is insane to think abt. if vinod lets up he has 10bn\n",
      "No username found in text: this guy is 5 years older than vinod khosla and 15 years older than paul graham lol... and trump is nearly half a decade older than him\n",
      "\n",
      "\"there's levels to this game\"\n",
      "No username found in text: genuine age oneshots like biden are rare... if u go post-scarcity as a 25 year old u will notice this happen before u step in, the pace of degradation is pretty insane.. this is how all normies are perma walking around after a decade of 9-5\n",
      "No username found in text: looksmatch in the 70s btw\n",
      "No username found in text: honey, I've immanentized the katechon\n",
      "No username found in text: or... the tshirt was straussian all along\n",
      "No username found in text: and my upstream redpill is of course that we do need to be immanentizing the katechon loud and proud\n",
      "No username found in text: i often wonder if we're headed back to this structure in the west\n",
      "No username found in text: this is why elon sleeps at his factory btw... not because it makes him more productive obviously\n",
      "No username found in text: btw Hannibal is probably one of the most understudied powermaxxers... the things he pulled off are literally mind blowing Elon-squared anti probable\n",
      "No username found in text: &gt; baited so hard the boomer church of Mammon has set their hellhounds on me\n",
      "&gt; I can hear the infernal snarl by my window https://t.co/J1jw2Ckkzb\n",
      "No username found in text: I have never met anyone over the age of 30 who understands contemporary global macro btw\n",
      "No username found in text: they shunned the prophet for he spoke truth https://t.co/qnAHiRnY7a\n",
      "No username found in text: just like everyone would have called you insane in late  20th century if you suggested that a majority of new companies would be launched by the college aged cohort within a decade or two, they have been calling me crazy for insisting on this inevitability for 3 yrs straight now\n",
      "No username found in text: i have a live twitter feed on my bloomberg terminal where I used to have my minimap in league and I have like a 50/50 hitrate of getting major news before the headline pops up\n",
      "No username found in text: in many ways the marathon runner is running to his chickens who yearn for him 🙏\n",
      "No username found in text: hence why the provincial type is most prone to the marathon bug and the travel bug... they should really be at home making cheese with grandma or something\n",
      "No username found in text: when one lacks the spiritual faculty, one interprets all yearning as a physical shove to move, \"get after it\", move to the big city, fly to cambodia, run around the city, etc\n",
      "No username found in text: this is btw the same phenomenon as the travel bug... an entire generation thinking they lack purpose because they need to be elsewhere... when all along ------ the answer lie within\n",
      "No username found in text: it is such a rare instance in history for capital to be near exclusively deployed from the downstream... as it is currently\n",
      "No username found in text: in not too long this inefficiency will equilibriate by capital climbing upstream as it always does, with zoomers eventually managing most of global investments\n",
      "\n",
      "social norms are strong, but they're not stronger than capital, capital yearns to be in zoomer hands, yearns for growth\n",
      "No username found in text: big fan of Disneyland as well\n",
      "No username found in text: I just realized that you can basically take any poststructuralist reading of hollywood and retrofit it on modern capital markets, endless well of content... stay tuned\n",
      "No username found in text: needless to say Marc I'm your biggest fan, I contend with Jean here\n",
      "No username found in text: as a heuristic \n",
      "if you want to know what the future holds, just plot a distribution curve over scifi settings https://t.co/K5PONVWwrw\n",
      "No username found in text: this is why Elon should elect this particular protocol https://t.co/N86IpL0yim\n",
      "No username found in text: with this in mind if you're still counting on populism and democracy being around for much longer idk what to tell you\n",
      "No username found in text: if Soros knew any better he'd also pick a pet primitive which would have elevated him above popper (who to be fair is a near-primitive but not quite enough)\n",
      "No username found in text: the boomer advice they're given instead is that yes, the tough spot will always be a massive nerf but they should try anyway, and live with much lower baseline odds of success than their luckier peers, which is a completely demotivating thing to  say to a young person\n",
      "No username found in text: I once again point out that this is the idea that must be elucidated to any ambitious young person who feels like they are starting in a tough spot -- that the success rate of people starting in seemingly tough spots indicates that the tough spots are actually helpful\n",
      "No username found in text: anyone wanna opine on how berkson's paradox comes in here https://t.co/YGzklNuI5T\n",
      "No username found in text: this creates many seeming paradoxes, for example Tyson Fury who became the best boxer in the world at a point as an overweight and aging semi-retired former drug addict alcoholic and so on -- were these traits helpful or complementary? https://t.co/kpZ0x7LlNb\n",
      "No username found in text: there's fairly high reputation people in the replies of the dunk also acting like \"the 2y yield is the expected fed funds rate over two years\" is an unbelievably ridiculous statement, honestly incredible levels of intellectual integrity lmao\n",
      "No username found in text: intuitively optimal is probably like 2-3 days of ~45mins exercise a week, as long as u have normal walking habits and so on\n",
      "No username found in text: applies in a massive way to the people early to AI, who are also our friends\n",
      "No username found in text: henry talks about this https://t.co/nzt0BZO4bE\n",
      "No username found in text: yet despite roughly similar dollar cost, advertising agencies and propaganda machines continue to focus on downstream normie cultural engineering.. why? because they are r worded\n",
      "No username found in text: therefore the math tells us that influencing 1 upstream schizo is equal to influencing 8bn/5k = 1.6mn normie\n",
      "No username found in text: just imagine an average 40 y/o or whatever trying to navigate the world in 10 yrs from now when this is the kind of stuff 99% of communal signal channels are transmitting. zoomers can't read but they can read this. boomers can't read this but they can at least read https://t.co/lwLLs3nAKj\n",
      "No username found in text: if you're a metropolitan office worker the only millennials you talk to are heavily selected. try to seek out a median and report back, it is worrisome. they are flailing around like schizophrenics, ask them about anything important and usually you think they're on heavy drugs\n",
      "No username found in text: we will definitely need UBI for these guys\n",
      "No username found in text: this is literally the mainstream language now btw among these pundits. we have let them hedge and hedge and this is the endstate. happy now? should have called out little old larry with me back when he was still stuck at the 40/60\n",
      "No username found in text: it makes me seethe that the ~5 guys on lookism that upstreamed all of modern macroculture will get nothing for it... no recognition or accolades or galas or grants or anything, they'll just rot and it's all because they were quite unfairly forced into anonymity\n",
      "No username found in text: we are approaching\n",
      "\n",
      "\"slightly better targetted ads is the existential risk\"\n",
      "No username found in text: if we actually consensus gigaplateau it will be such an incredible relative aura transfer from blogmaxxed hype-mongering dysgenic EA zoomers to us rascalmaxxed lindymaxxed dionysian jungian tastemaxxed zoomers\n",
      "No username found in text: SF bros, would you agree that the consensus timeline has been sigmoided away? am I free to think about geostrategy and the such again? long term macroeconomics? so forth?\n",
      "No username found in text: by the way, \n",
      "\"yes your prospects will suffer from lack of teenage success but whatever, suck it up and still push for it\" \n",
      "is the biggest detrimental midwit advice you can give to a young striver\n",
      "\n",
      "nobody is motivated by the admission that they're working with a handicap, if the kid is statistically minded they will just assume they have 0% odds of making it big conditioned on the handicap, given all the people without the handicap and equal ability they'll have to outcompete \n",
      "\n",
      "and they'll just give up\n",
      "No username found in text: this is why immigrants do so well among other things, they are the case study in question:\n",
      "\n",
      "controlled for the confounders (they did badly early for reasons other than their innate ability) and have the motivation boost from doing badly early\n",
      "No username found in text: can a mid-20s urbanite grow a mustache without turning bisexual?\n",
      "No username found in text: meta https://t.co/R7SWZLR6sD\n",
      "No username found in text: arguably the most successful businesses of our time were all built by a well known compulsive liar (Elon)\n",
      "No username found in text: arguably the most successful corporation of all time was delivered in no small part thanks to the compulsive lying done by the guy at the top (Apple)\n",
      "No username found in text: think of a leader you admire, one that delivered consistently good outcomes -- would it have been better if his rallies were \"yeah so guys there's a 50/50 chance this strategy works but I'm thinking we lean toward it still? let's give it a shot and iterate here, I'm not sure\"\n",
      "No username found in text: I can't spend more time in normie psychic realm guys you have to free me from this audience capture im going insane\n",
      "No username found in text: some other obvious examples I didn't include given too politically incorrect\n",
      "No username found in text: it is just such an insult to independent passion driven inquiry to posit that the median secondary source skimmer at a midtier university that bangs out his homework at C+ to go get vodka drunk on a wednesday night by default has more of a claim to the intellectual high ground than a dayjob cognitive labourer who goes through the effort of parsing the tomes of the greats on his own in full earnesty\n",
      "No username found in text: oh you are in your second yr of undergrad at a humanities program with a 80% acceptance rate and would like me to stop opining on Hegel? ok, guess I'll stop then\n",
      "No username found in text: also we need to get serious about intelligence priors lol -- being upper %ile in a selective field vs being median at a not so selective one should put one at a significant advantage as a starting point in whose thought should be taken seriously on a high horsepower matter\n",
      "No username found in text: and as usual:\n",
      "\n",
      "1. this is why secular boomers/genxers/millennials don't get Trump\n",
      "2. Nietzsche talks about this\n",
      "No username found in text: to \"add insult to the injury\", \n",
      "the most interesting resolution to the probability distribution is usually going to be different from the ones we actually end up drawing\n",
      "(just by simple statistics: there exists only one such resolution, most of the time you get the others)\n",
      "\n",
      "so almost by probabilistic necessity the most gripping stories must be fake, hence mythology rarely draws from reality, and this is BY DESIGN!\n",
      "No username found in text: Best,\n",
      "Peter\n",
      "\n",
      "pure aurafarm\n",
      "No username found in text: it's just genx and millennials that are hate qrting and replying to my anti-normie posts\n",
      "\n",
      "which obviously makes your case even stronger with new gens who hate the debt riding oldheads\n",
      "\n",
      "also zoomers generally take post-irony very well\n",
      "No username found in text: Zizek talks abt how Vance won't be a populist, but rather something of the sort I describe above -- uniformed war guy (as someone below commented, he will be strong contender)\n",
      "No username found in text: will ship a quick writeup on this in a few hrs\n",
      "No username found in text: pace around your room anon\n",
      "strategize! https://t.co/7iOSi7QI74\n",
      "No username found in text: if some1 was a rates PM in H1 2025 he either had the steepener on and made money or he didn't and he didn't\n",
      "\n",
      "100 hours of research a week, 10 minutes of research a week, same outcomes!\n",
      "No username found in text: you must imagine the price of a top researcher on a chart, pre-zuck it was like OOMs lower and zuck bid it up and it never fell, he discovered a fair value that's orders of magnitude above the prior one in a fairly liquid and highly intelligent marketplace, insane\n",
      "No username found in text: there's many ways to argue against Sam's thesis here, but to act like it's obviously and blatantly wrong in order to farm 5 likes is very cringe and pathetic, I don't want to imagine what that person would compromise for actual nontrivial gain, village traitor archetype\n",
      "No username found in text: never beating the cult allegations\n",
      "No username found in text: I like to get quite intimate with annotations, as with many things\n",
      "No username found in text: and then, there's the ascendant https://t.co/EmXe1AIxcP\n",
      "No username found in text: beyond many similarities, the Trump admin switches a key tenet of the Nixon admin:\n",
      "\n",
      "Nixon admin: \n",
      "statusmaxxing prez. + powermaxxing secretary of state &amp; natl security advisor \n",
      "\n",
      "Trump admin: vice versa.\n",
      "No username found in text: common pitfall:\n",
      "\"but they will know that I'm flattering! not being honest!\"\n",
      "\n",
      "often yeah.\n",
      "doesn't matter, still works\n",
      "No username found in text: JUST IN-- dear friend astutely points out: \n",
      "the modern \"technological right wing\", given their adolescent tendencies, have fallen for the meme of teasing cute girls in journalism? why so? it's not a winning strategy!\n",
      "pls fix. https://t.co/2fH7IsvtJO\n",
      "No username found in text: it's called we do a little kissingermaxxing https://t.co/q8sr1Z1q10\n",
      "No username found in text: normie test: who do you think mogs at a real life dinner table anon? https://t.co/RL27rbKkKf\n",
      "No username found in text: bessent is his tom mueller\n",
      "No username found in text: back then, every attempt to ask an upper normie to explain this obviously false belief resulted in one being confronted with the notorious upper normie stare https://t.co/GNasPph4zq\n",
      "No username found in text: this is OBVIOUSLY one of the most upstream macrocultural functions of the current zeitgeist\n",
      "No username found in text: it is still viable with some modifications, but severe modifications\n",
      "\n",
      "what I like to call \"naive machiavellianism\" is a dead build\n",
      "No username found in text: I say this as someone with an annotated copy of the prince on my shelf, unfortunately the build is no longer viable\n",
      "No username found in text: obviously there's the riff that has infiltrated even the normies that machiavellianism became viable once we all became metropolitans instead of village dwellers, because reputation systems became less sticky\n",
      "\n",
      "well the internet re-stickies those systems, global village\n",
      "No username found in text: \"thousands of years of evolution\" \n",
      "well technically...\n",
      "No username found in text: in normie world getting quote tweeted on some wrong prediction from 5 years ago is a cancellable offence\n",
      "No username found in text: needless to say, it's a lot more meritocratic &amp; democratic if a random poster in faraway land can become close friends with a capital allocator in san francisco than if not\n",
      "\n",
      "yet another victory for blessed internet theory\n",
      "No username found in text: (of course I know why, this is rhetorical and a critique)\n",
      "No username found in text: \"i'm generally unsympathetic to people born 4 standard deviations below mean height, but sometimes they do have it tough\"\n",
      "No username found in text: this is such an important and often misunderstood point of powermaxxing it deserves longform article\n",
      "No username found in text: \"in the new era, the algo king becomes the true king, so I must algomaxx with my YC startup\" \n",
      "\n",
      "is the equivalent of \n",
      "\n",
      "\"in the new era, nuclear bombs are The Ring, so study nuclear science to powermaxx\"\n",
      "\n",
      "no, powermaxxing is still a metagame, forget downstream domains\n",
      "No username found in text: it's strange that we still have to use cash capital as proxy for power/status, at this point thousands of startups should be vying to deliver the one true status metric\n",
      "No username found in text: alternatively dweebmaxxing\n",
      "No username found in text: if you're on the spectrum (like me) but aren't handsome (unlike me) this will be difficult, you'll have to resort to jestermaxxing\n"
     ]
    }
   ],
   "source": [
    "reply_tweets = df_tmini[df_tmini['isReply'] == True].copy()\n",
    "reply_tweets['inReplyToUsername'] = reply_tweets['text'].apply(extract_first_username, custom_message=USERNAME)\n",
    "reply_tweets['bvi'] = round(reply_tweets['bookmarkCount'] / reply_tweets['viewCount'] * 1000, 4)\n",
    "reply_tweets['bli'] = round(reply_tweets['bookmarkCount'] / reply_tweets['likeCount'] * 100, 4)\n",
    "\n",
    "# Create comprehensive engagement stats\n",
    "engagement_stats = reply_tweets.groupby('inReplyToUsername').agg({\n",
    "    'id': 'count',                    # Number of replies\n",
    "    'retweetCount': ['sum', 'mean'],  # Total and average retweets\n",
    "    'likeCount': ['sum', 'mean'],     # Total and average likes\n",
    "    'replyCount': ['sum', 'mean'],    # Total and average replies\n",
    "    'quoteCount': ['sum', 'mean'],    # Total and average quotes\n",
    "    'viewCount': ['sum', 'mean'],     # Total and average views\n",
    "    'bookmarkCount': ['sum', 'mean'],  # Total and average bookmarks\n",
    "    'bvi': ['mean'],  # Total and average bvi\n",
    "    'bli': ['mean'],  # Total and average bli\n",
    "}).round(2)\n",
    "\n",
    "# flatten column names\n",
    "engagement_stats.columns = [\n",
    "    'reply_count', \n",
    "    'total_retweets', 'avg_retweets', \n",
    "    'total_likes', 'avg_likes',\n",
    "    'total_replies', 'avg_replies', \n",
    "    'total_quotes', 'avg_quotes',\n",
    "    'total_views', 'avg_views', \n",
    "    'total_bookmarks', 'avg_bookmarks',\n",
    "    'avg_bvi', \n",
    "    'avg_bli'\n",
    "]\n",
    "engagement_stats.reset_index(inplace=True)"
   ]
  },
  {
   "cell_type": "code",
   "execution_count": 16,
   "id": "2055ebbc",
   "metadata": {},
   "outputs": [
    {
     "data": {
      "text/html": [
       "<div>\n",
       "<style scoped>\n",
       "    .dataframe tbody tr th:only-of-type {\n",
       "        vertical-align: middle;\n",
       "    }\n",
       "\n",
       "    .dataframe tbody tr th {\n",
       "        vertical-align: top;\n",
       "    }\n",
       "\n",
       "    .dataframe thead th {\n",
       "        text-align: right;\n",
       "    }\n",
       "</style>\n",
       "<table border=\"1\" class=\"dataframe\">\n",
       "  <thead>\n",
       "    <tr style=\"text-align: right;\">\n",
       "      <th></th>\n",
       "      <th>inReplyToUsername</th>\n",
       "      <th>reply_count</th>\n",
       "      <th>total_retweets</th>\n",
       "      <th>avg_retweets</th>\n",
       "      <th>total_likes</th>\n",
       "      <th>avg_likes</th>\n",
       "      <th>total_replies</th>\n",
       "      <th>avg_replies</th>\n",
       "      <th>total_quotes</th>\n",
       "      <th>avg_quotes</th>\n",
       "      <th>total_views</th>\n",
       "      <th>avg_views</th>\n",
       "      <th>total_bookmarks</th>\n",
       "      <th>avg_bookmarks</th>\n",
       "      <th>avg_bvi</th>\n",
       "      <th>avg_bli</th>\n",
       "    </tr>\n",
       "  </thead>\n",
       "  <tbody>\n",
       "    <tr>\n",
       "      <th>0</th>\n",
       "      <td>0x49fa98</td>\n",
       "      <td>3</td>\n",
       "      <td>0</td>\n",
       "      <td>0.0</td>\n",
       "      <td>65</td>\n",
       "      <td>21.67</td>\n",
       "      <td>2</td>\n",
       "      <td>0.67</td>\n",
       "      <td>0</td>\n",
       "      <td>0.0</td>\n",
       "      <td>2013</td>\n",
       "      <td>671.00</td>\n",
       "      <td>5</td>\n",
       "      <td>1.67</td>\n",
       "      <td>2.58</td>\n",
       "      <td>9.57</td>\n",
       "    </tr>\n",
       "    <tr>\n",
       "      <th>1</th>\n",
       "      <td>0xPajke</td>\n",
       "      <td>2</td>\n",
       "      <td>0</td>\n",
       "      <td>0.0</td>\n",
       "      <td>26</td>\n",
       "      <td>13.00</td>\n",
       "      <td>1</td>\n",
       "      <td>0.50</td>\n",
       "      <td>0</td>\n",
       "      <td>0.0</td>\n",
       "      <td>1747</td>\n",
       "      <td>873.50</td>\n",
       "      <td>5</td>\n",
       "      <td>2.50</td>\n",
       "      <td>3.29</td>\n",
       "      <td>24.17</td>\n",
       "    </tr>\n",
       "    <tr>\n",
       "      <th>2</th>\n",
       "      <td>0xUnihax0r</td>\n",
       "      <td>1</td>\n",
       "      <td>0</td>\n",
       "      <td>0.0</td>\n",
       "      <td>58</td>\n",
       "      <td>58.00</td>\n",
       "      <td>2</td>\n",
       "      <td>2.00</td>\n",
       "      <td>0</td>\n",
       "      <td>0.0</td>\n",
       "      <td>3992</td>\n",
       "      <td>3992.00</td>\n",
       "      <td>9</td>\n",
       "      <td>9.00</td>\n",
       "      <td>2.25</td>\n",
       "      <td>15.52</td>\n",
       "    </tr>\n",
       "    <tr>\n",
       "      <th>3</th>\n",
       "      <td>1bharadvaja</td>\n",
       "      <td>4</td>\n",
       "      <td>0</td>\n",
       "      <td>0.0</td>\n",
       "      <td>26</td>\n",
       "      <td>6.50</td>\n",
       "      <td>1</td>\n",
       "      <td>0.25</td>\n",
       "      <td>0</td>\n",
       "      <td>0.0</td>\n",
       "      <td>2257</td>\n",
       "      <td>564.25</td>\n",
       "      <td>4</td>\n",
       "      <td>1.00</td>\n",
       "      <td>3.97</td>\n",
       "      <td>23.59</td>\n",
       "    </tr>\n",
       "    <tr>\n",
       "      <th>4</th>\n",
       "      <td>250bpmrape</td>\n",
       "      <td>1</td>\n",
       "      <td>0</td>\n",
       "      <td>0.0</td>\n",
       "      <td>48</td>\n",
       "      <td>48.00</td>\n",
       "      <td>3</td>\n",
       "      <td>3.00</td>\n",
       "      <td>0</td>\n",
       "      <td>0.0</td>\n",
       "      <td>2264</td>\n",
       "      <td>2264.00</td>\n",
       "      <td>4</td>\n",
       "      <td>4.00</td>\n",
       "      <td>1.77</td>\n",
       "      <td>8.33</td>\n",
       "    </tr>\n",
       "    <tr>\n",
       "      <th>...</th>\n",
       "      <td>...</td>\n",
       "      <td>...</td>\n",
       "      <td>...</td>\n",
       "      <td>...</td>\n",
       "      <td>...</td>\n",
       "      <td>...</td>\n",
       "      <td>...</td>\n",
       "      <td>...</td>\n",
       "      <td>...</td>\n",
       "      <td>...</td>\n",
       "      <td>...</td>\n",
       "      <td>...</td>\n",
       "      <td>...</td>\n",
       "      <td>...</td>\n",
       "      <td>...</td>\n",
       "      <td>...</td>\n",
       "    </tr>\n",
       "    <tr>\n",
       "      <th>279</th>\n",
       "      <td>youngtroon</td>\n",
       "      <td>2</td>\n",
       "      <td>0</td>\n",
       "      <td>0.0</td>\n",
       "      <td>14</td>\n",
       "      <td>7.00</td>\n",
       "      <td>3</td>\n",
       "      <td>1.50</td>\n",
       "      <td>0</td>\n",
       "      <td>0.0</td>\n",
       "      <td>930</td>\n",
       "      <td>465.00</td>\n",
       "      <td>3</td>\n",
       "      <td>1.50</td>\n",
       "      <td>3.14</td>\n",
       "      <td>20.83</td>\n",
       "    </tr>\n",
       "    <tr>\n",
       "      <th>280</th>\n",
       "      <td>zaitoonx</td>\n",
       "      <td>1</td>\n",
       "      <td>0</td>\n",
       "      <td>0.0</td>\n",
       "      <td>3</td>\n",
       "      <td>3.00</td>\n",
       "      <td>1</td>\n",
       "      <td>1.00</td>\n",
       "      <td>0</td>\n",
       "      <td>0.0</td>\n",
       "      <td>252</td>\n",
       "      <td>252.00</td>\n",
       "      <td>1</td>\n",
       "      <td>1.00</td>\n",
       "      <td>3.97</td>\n",
       "      <td>33.33</td>\n",
       "    </tr>\n",
       "    <tr>\n",
       "      <th>281</th>\n",
       "      <td>zephyr_z9</td>\n",
       "      <td>10</td>\n",
       "      <td>1</td>\n",
       "      <td>0.1</td>\n",
       "      <td>60</td>\n",
       "      <td>6.00</td>\n",
       "      <td>5</td>\n",
       "      <td>0.50</td>\n",
       "      <td>1</td>\n",
       "      <td>0.1</td>\n",
       "      <td>3845</td>\n",
       "      <td>384.50</td>\n",
       "      <td>31</td>\n",
       "      <td>3.10</td>\n",
       "      <td>7.27</td>\n",
       "      <td>48.13</td>\n",
       "    </tr>\n",
       "    <tr>\n",
       "      <th>282</th>\n",
       "      <td>zeynebnkaya</td>\n",
       "      <td>1</td>\n",
       "      <td>0</td>\n",
       "      <td>0.0</td>\n",
       "      <td>29</td>\n",
       "      <td>29.00</td>\n",
       "      <td>2</td>\n",
       "      <td>2.00</td>\n",
       "      <td>0</td>\n",
       "      <td>0.0</td>\n",
       "      <td>1668</td>\n",
       "      <td>1668.00</td>\n",
       "      <td>44</td>\n",
       "      <td>44.00</td>\n",
       "      <td>26.38</td>\n",
       "      <td>151.72</td>\n",
       "    </tr>\n",
       "    <tr>\n",
       "      <th>283</th>\n",
       "      <td>zmo_zeemo</td>\n",
       "      <td>2</td>\n",
       "      <td>2</td>\n",
       "      <td>1.0</td>\n",
       "      <td>236</td>\n",
       "      <td>118.00</td>\n",
       "      <td>11</td>\n",
       "      <td>5.50</td>\n",
       "      <td>1</td>\n",
       "      <td>0.5</td>\n",
       "      <td>8442</td>\n",
       "      <td>4221.00</td>\n",
       "      <td>8</td>\n",
       "      <td>4.00</td>\n",
       "      <td>0.97</td>\n",
       "      <td>3.58</td>\n",
       "    </tr>\n",
       "  </tbody>\n",
       "</table>\n",
       "<p>284 rows × 16 columns</p>\n",
       "</div>"
      ],
      "text/plain": [
       "    inReplyToUsername  reply_count  total_retweets  avg_retweets  total_likes  \\\n",
       "0            0x49fa98            3               0           0.0           65   \n",
       "1             0xPajke            2               0           0.0           26   \n",
       "2          0xUnihax0r            1               0           0.0           58   \n",
       "3         1bharadvaja            4               0           0.0           26   \n",
       "4          250bpmrape            1               0           0.0           48   \n",
       "..                ...          ...             ...           ...          ...   \n",
       "279        youngtroon            2               0           0.0           14   \n",
       "280          zaitoonx            1               0           0.0            3   \n",
       "281         zephyr_z9           10               1           0.1           60   \n",
       "282       zeynebnkaya            1               0           0.0           29   \n",
       "283         zmo_zeemo            2               2           1.0          236   \n",
       "\n",
       "     avg_likes  total_replies  avg_replies  total_quotes  avg_quotes  \\\n",
       "0        21.67              2         0.67             0         0.0   \n",
       "1        13.00              1         0.50             0         0.0   \n",
       "2        58.00              2         2.00             0         0.0   \n",
       "3         6.50              1         0.25             0         0.0   \n",
       "4        48.00              3         3.00             0         0.0   \n",
       "..         ...            ...          ...           ...         ...   \n",
       "279       7.00              3         1.50             0         0.0   \n",
       "280       3.00              1         1.00             0         0.0   \n",
       "281       6.00              5         0.50             1         0.1   \n",
       "282      29.00              2         2.00             0         0.0   \n",
       "283     118.00             11         5.50             1         0.5   \n",
       "\n",
       "     total_views  avg_views  total_bookmarks  avg_bookmarks  avg_bvi  avg_bli  \n",
       "0           2013     671.00                5           1.67     2.58     9.57  \n",
       "1           1747     873.50                5           2.50     3.29    24.17  \n",
       "2           3992    3992.00                9           9.00     2.25    15.52  \n",
       "3           2257     564.25                4           1.00     3.97    23.59  \n",
       "4           2264    2264.00                4           4.00     1.77     8.33  \n",
       "..           ...        ...              ...            ...      ...      ...  \n",
       "279          930     465.00                3           1.50     3.14    20.83  \n",
       "280          252     252.00                1           1.00     3.97    33.33  \n",
       "281         3845     384.50               31           3.10     7.27    48.13  \n",
       "282         1668    1668.00               44          44.00    26.38   151.72  \n",
       "283         8442    4221.00                8           4.00     0.97     3.58  \n",
       "\n",
       "[284 rows x 16 columns]"
      ]
     },
     "execution_count": 16,
     "metadata": {},
     "output_type": "execute_result"
    }
   ],
   "source": [
    "engagement_stats"
   ]
  },
  {
   "cell_type": "code",
   "execution_count": 42,
   "id": "f64ebf33",
   "metadata": {},
   "outputs": [
    {
     "data": {
      "text/plain": [
       "reply_count\n",
       "32     2\n",
       "9      2\n",
       "37     1\n",
       "226    1\n",
       "11     1\n",
       "10     1\n",
       "8      1\n",
       "6      1\n",
       "Name: count, dtype: int64"
      ]
     },
     "execution_count": 42,
     "metadata": {},
     "output_type": "execute_result"
    }
   ],
   "source": [
    "engagement_stats.sort_values(by='reply_count', ascending=False, inplace=True)\n",
    "engagement_stats.query('reply_count > 1').head(10)['reply_count'].value_counts()"
   ]
  },
  {
   "cell_type": "code",
   "execution_count": 18,
   "id": "385b0a72",
   "metadata": {},
   "outputs": [],
   "source": [
    "numeric_cols = engagement_stats.select_dtypes(include=[np.number]).columns"
   ]
  },
  {
   "cell_type": "code",
   "execution_count": 19,
   "id": "f666d1c6",
   "metadata": {},
   "outputs": [],
   "source": [
    "# px.imshow(\n",
    "#     engagement_stats[numeric_cols].query('reply_count < 2').corr(),\n",
    "#     color_continuous_scale='RdBu',\n",
    "#     zmin=-1,\n",
    "#     zmax=1\n",
    "# ).update_layout(\n",
    "#     height=800,\n",
    "#     width=1400,\n",
    "#     title='Engagement, single reply'\n",
    "# )\n"
   ]
  },
  {
   "cell_type": "code",
   "execution_count": 20,
   "id": "f924db28",
   "metadata": {},
   "outputs": [],
   "source": [
    "# px.imshow(\n",
    "#     engagement_stats.query('reply_count > 1')[numeric_cols].corr(),\n",
    "#     color_continuous_scale='RdBu',\n",
    "#     zmin=-1,\n",
    "#     zmax=1\n",
    "# ).update_layout(\n",
    "#     height=800,\n",
    "#     width=1400,\n",
    "#     title='Engagement, >1 reply, including self'\n",
    "# )"
   ]
  },
  {
   "cell_type": "code",
   "execution_count": 21,
   "id": "a8600817",
   "metadata": {},
   "outputs": [],
   "source": [
    "# px.imshow(\n",
    "#     engagement_stats.query('reply_count > 1').query(f'inReplyToUsername != \"{USERNAME}\"')[numeric_cols].corr(),\n",
    "#     color_continuous_scale='RdBu',\n",
    "#     zmin=-1,\n",
    "#     zmax=1\n",
    "# ).update_layout(\n",
    "#     height=800,\n",
    "#     width=1400,\n",
    "#     title='Engagement, >1 reply, excluding self'\n",
    "# )"
   ]
  },
  {
   "cell_type": "code",
   "execution_count": 69,
   "id": "2b275d24",
   "metadata": {},
   "outputs": [],
   "source": [
    "metrics = [\n",
    "    'reply_count',\n",
    "    'total_retweets',\n",
    "    'total_likes',\n",
    "    'total_replies',\n",
    "    'total_quotes',\n",
    "    'total_views',\n",
    "    'total_bookmarks',\n",
    "    # 'avg_retweets',\n",
    "    # 'avg_likes',\n",
    "    # 'avg_replies',\n",
    "    # 'avg_quotes',\n",
    "    # 'avg_views',\n",
    "    # 'avg_bookmarks',\n",
    "    # 'avg_bvi',\n",
    "    # 'avg_bli',\n",
    "]\n",
    "temp = engagement_stats.query('reply_count > 1')\n",
    "\n",
    "moots = [\n",
    "    'AashishReddy',\n",
    "    'Abel_summation',\n",
    "    'oxbquant',\n",
    "    'TenreiroDaniel',\n",
    "    'zephyr_z9',\n",
    "    'thermo2ndlaw',\n",
    "    'teortaxesTex',\n",
    "    'LandsharkRides',\n",
    "    'jacobrintamaki',\n",
    "]\n",
    "\n",
    "# Fix the syntax error - use .isin() for the \"not in\" condition\n",
    "conditions = [\n",
    "    (temp['inReplyToUsername'] == USERNAME),\n",
    "    (temp['inReplyToUsername'].isin(moots)),\n",
    "    (temp['inReplyToUsername'] != USERNAME) & (~temp['inReplyToUsername'].isin(moots)),  # Fixed: ~ instead of \"not in\"\n",
    "]\n",
    "\n",
    "values = ['Author', 'Moot', 'Other']\n",
    "temp['user_category'] = np.select(conditions, values, default='Unknown')\n",
    "\n",
    "target_col = 'total_views' "
   ]
  },
  {
   "cell_type": "code",
   "execution_count": 70,
   "id": "3415678b",
   "metadata": {},
   "outputs": [],
   "source": [
    "# for col in metrics:\n",
    "#     if col == target_col:\n",
    "#         continue\n",
    "#     fig = px.scatter(\n",
    "#         temp,\n",
    "#         x=col,\n",
    "#         y=target_col,\n",
    "#         color='user_category',\n",
    "#         hover_data=['inReplyToUsername'],\n",
    "#         trendline='ols',\n",
    "#         # log_x=True,\n",
    "#         log_y=True,\n",
    "#     )\n",
    "#     fig.update_layout(\n",
    "#         height=800,\n",
    "#         # width=400\n",
    "#     )\n",
    "#     fig.show()"
   ]
  },
  {
   "cell_type": "code",
   "execution_count": 71,
   "id": "d43ba48a",
   "metadata": {},
   "outputs": [],
   "source": [
    "def classify_by_cumsum_auto(df, username_col, target_col, n_categories=4):\n",
    "    \"\"\"\n",
    "    Automatically classify users by cumulative sum with smart percentiles.\n",
    "    \n",
    "    Parameters:\n",
    "    - df: DataFrame with engagement stats\n",
    "    - username_col: Column name for usernames\n",
    "    - target_col: Column name for engagement metric to classify by\n",
    "    - n_categories: Number of categories to create\n",
    "    \"\"\"\n",
    "    # Sort by target column in descending order\n",
    "    df_sorted = df.sort_values(target_col, ascending=False).copy()\n",
    "    \n",
    "    # Calculate cumulative sum and percentage\n",
    "    df_sorted['cumsum'] = df_sorted[target_col].cumsum()\n",
    "    total_sum = df_sorted[target_col].sum()\n",
    "    df_sorted['cumsum_percent'] = df_sorted['cumsum'] / total_sum\n",
    "    \n",
    "    # Find natural breakpoints (where cumulative percentage changes significantly)\n",
    "    if n_categories == 3:\n",
    "        percentiles = [0.5, 0.8, 1.0]  # Top 50%, 50-80%, 80-100%\n",
    "    elif n_categories == 4:\n",
    "        percentiles = [0.2, 0.5, 0.8, 1.0]  # Top 20%, 20-50%, 50-80%, 80-100%\n",
    "    elif n_categories == 5:\n",
    "        percentiles = [0.1, 0.3, 0.6, 0.85, 1.0]  # Top 10%, 10-30%, 30-60%, 60-85%, 85-100%\n",
    "    else:\n",
    "        # Create evenly spaced percentiles\n",
    "        percentiles = [i/n_categories for i in range(1, n_categories+1)]\n",
    "    \n",
    "    # Create conditions and labels\n",
    "    conditions = []\n",
    "    labels = []\n",
    "    \n",
    "    for i, percentile in enumerate(percentiles):\n",
    "        if i == 0:\n",
    "            conditions.append(df_sorted['cumsum_percent'] <= percentile)\n",
    "            labels.append(f'Top-{int(percentile*100)}%')\n",
    "        else:\n",
    "            prev_percentile = percentiles[i-1]\n",
    "            conditions.append(\n",
    "                (df_sorted['cumsum_percent'] > prev_percentile) & \n",
    "                (df_sorted['cumsum_percent'] <= percentile)\n",
    "            )\n",
    "            labels.append(f'{int(prev_percentile*100)}%-{int(percentile*100)}%')\n",
    "    \n",
    "    # Apply classification\n",
    "    df_sorted[f'{target_col}_category'] = np.select(conditions, labels, default='Bottom')\n",
    "    \n",
    "    return df_sorted"
   ]
  },
  {
   "cell_type": "code",
   "execution_count": 83,
   "id": "c57d707b",
   "metadata": {},
   "outputs": [],
   "source": [
    "target_col = 'total_views' \n",
    "quantile_col = 'reply_count'"
   ]
  },
  {
   "cell_type": "code",
   "execution_count": 89,
   "id": "8bdcbc90",
   "metadata": {},
   "outputs": [],
   "source": [
    "# Usage:\n",
    "t2 = classify_by_cumsum_auto(\n",
    "    engagement_stats.query(f'inReplyToUsername != \"{USERNAME}\"').query(f'{quantile_col} > 1'), \n",
    "    'inReplyToUsername', \n",
    "    quantile_col,\n",
    "    n_categories=5\n",
    ")"
   ]
  },
  {
   "cell_type": "code",
   "execution_count": 90,
   "id": "0869e970",
   "metadata": {},
   "outputs": [
    {
     "data": {
      "text/html": [
       "<div>\n",
       "<style scoped>\n",
       "    .dataframe tbody tr th:only-of-type {\n",
       "        vertical-align: middle;\n",
       "    }\n",
       "\n",
       "    .dataframe tbody tr th {\n",
       "        vertical-align: top;\n",
       "    }\n",
       "\n",
       "    .dataframe thead th {\n",
       "        text-align: right;\n",
       "    }\n",
       "</style>\n",
       "<table border=\"1\" class=\"dataframe\">\n",
       "  <thead>\n",
       "    <tr style=\"text-align: right;\">\n",
       "      <th></th>\n",
       "      <th>inReplyToUsername</th>\n",
       "      <th>reply_count</th>\n",
       "      <th>total_retweets</th>\n",
       "      <th>avg_retweets</th>\n",
       "      <th>total_likes</th>\n",
       "      <th>avg_likes</th>\n",
       "      <th>total_replies</th>\n",
       "      <th>avg_replies</th>\n",
       "      <th>total_quotes</th>\n",
       "      <th>avg_quotes</th>\n",
       "      <th>total_views</th>\n",
       "      <th>avg_views</th>\n",
       "      <th>total_bookmarks</th>\n",
       "      <th>avg_bookmarks</th>\n",
       "      <th>avg_bvi</th>\n",
       "      <th>avg_bli</th>\n",
       "      <th>cumsum</th>\n",
       "      <th>cumsum_percent</th>\n",
       "      <th>reply_count_category</th>\n",
       "    </tr>\n",
       "  </thead>\n",
       "  <tbody>\n",
       "    <tr>\n",
       "      <th>94</th>\n",
       "      <td>_AashishReddy</td>\n",
       "      <td>37</td>\n",
       "      <td>3</td>\n",
       "      <td>0.08</td>\n",
       "      <td>501</td>\n",
       "      <td>13.54</td>\n",
       "      <td>42</td>\n",
       "      <td>1.14</td>\n",
       "      <td>3</td>\n",
       "      <td>0.08</td>\n",
       "      <td>59327</td>\n",
       "      <td>1603.43</td>\n",
       "      <td>79</td>\n",
       "      <td>2.14</td>\n",
       "      <td>4.71</td>\n",
       "      <td>25.85</td>\n",
       "      <td>37</td>\n",
       "      <td>0.0925</td>\n",
       "      <td>Top-10%</td>\n",
       "    </tr>\n",
       "    <tr>\n",
       "      <th>10</th>\n",
       "      <td>Abel_summation</td>\n",
       "      <td>32</td>\n",
       "      <td>0</td>\n",
       "      <td>0.00</td>\n",
       "      <td>341</td>\n",
       "      <td>10.66</td>\n",
       "      <td>25</td>\n",
       "      <td>0.78</td>\n",
       "      <td>0</td>\n",
       "      <td>0.00</td>\n",
       "      <td>36056</td>\n",
       "      <td>1126.75</td>\n",
       "      <td>78</td>\n",
       "      <td>2.44</td>\n",
       "      <td>4.40</td>\n",
       "      <td>33.07</td>\n",
       "      <td>69</td>\n",
       "      <td>0.1725</td>\n",
       "      <td>10%-30%</td>\n",
       "    </tr>\n",
       "    <tr>\n",
       "      <th>208</th>\n",
       "      <td>oxbquant</td>\n",
       "      <td>32</td>\n",
       "      <td>1</td>\n",
       "      <td>0.03</td>\n",
       "      <td>224</td>\n",
       "      <td>7.00</td>\n",
       "      <td>12</td>\n",
       "      <td>0.38</td>\n",
       "      <td>1</td>\n",
       "      <td>0.03</td>\n",
       "      <td>29458</td>\n",
       "      <td>920.56</td>\n",
       "      <td>61</td>\n",
       "      <td>1.91</td>\n",
       "      <td>2.99</td>\n",
       "      <td>33.57</td>\n",
       "      <td>101</td>\n",
       "      <td>0.2525</td>\n",
       "      <td>10%-30%</td>\n",
       "    </tr>\n",
       "    <tr>\n",
       "      <th>77</th>\n",
       "      <td>TenreiroDaniel</td>\n",
       "      <td>11</td>\n",
       "      <td>1</td>\n",
       "      <td>0.09</td>\n",
       "      <td>135</td>\n",
       "      <td>12.27</td>\n",
       "      <td>3</td>\n",
       "      <td>0.27</td>\n",
       "      <td>0</td>\n",
       "      <td>0.00</td>\n",
       "      <td>14913</td>\n",
       "      <td>1355.73</td>\n",
       "      <td>29</td>\n",
       "      <td>2.64</td>\n",
       "      <td>4.59</td>\n",
       "      <td>35.79</td>\n",
       "      <td>112</td>\n",
       "      <td>0.2800</td>\n",
       "      <td>10%-30%</td>\n",
       "    </tr>\n",
       "    <tr>\n",
       "      <th>281</th>\n",
       "      <td>zephyr_z9</td>\n",
       "      <td>10</td>\n",
       "      <td>1</td>\n",
       "      <td>0.10</td>\n",
       "      <td>60</td>\n",
       "      <td>6.00</td>\n",
       "      <td>5</td>\n",
       "      <td>0.50</td>\n",
       "      <td>1</td>\n",
       "      <td>0.10</td>\n",
       "      <td>3845</td>\n",
       "      <td>384.50</td>\n",
       "      <td>31</td>\n",
       "      <td>3.10</td>\n",
       "      <td>7.27</td>\n",
       "      <td>48.13</td>\n",
       "      <td>122</td>\n",
       "      <td>0.3050</td>\n",
       "      <td>30%-60%</td>\n",
       "    </tr>\n",
       "    <tr>\n",
       "      <th>...</th>\n",
       "      <td>...</td>\n",
       "      <td>...</td>\n",
       "      <td>...</td>\n",
       "      <td>...</td>\n",
       "      <td>...</td>\n",
       "      <td>...</td>\n",
       "      <td>...</td>\n",
       "      <td>...</td>\n",
       "      <td>...</td>\n",
       "      <td>...</td>\n",
       "      <td>...</td>\n",
       "      <td>...</td>\n",
       "      <td>...</td>\n",
       "      <td>...</td>\n",
       "      <td>...</td>\n",
       "      <td>...</td>\n",
       "      <td>...</td>\n",
       "      <td>...</td>\n",
       "      <td>...</td>\n",
       "    </tr>\n",
       "    <tr>\n",
       "      <th>245</th>\n",
       "      <td>supersnowxbt</td>\n",
       "      <td>2</td>\n",
       "      <td>1</td>\n",
       "      <td>0.50</td>\n",
       "      <td>69</td>\n",
       "      <td>34.50</td>\n",
       "      <td>1</td>\n",
       "      <td>0.50</td>\n",
       "      <td>0</td>\n",
       "      <td>0.00</td>\n",
       "      <td>5793</td>\n",
       "      <td>2896.50</td>\n",
       "      <td>5</td>\n",
       "      <td>2.50</td>\n",
       "      <td>0.86</td>\n",
       "      <td>7.94</td>\n",
       "      <td>392</td>\n",
       "      <td>0.9800</td>\n",
       "      <td>85%-100%</td>\n",
       "    </tr>\n",
       "    <tr>\n",
       "      <th>279</th>\n",
       "      <td>youngtroon</td>\n",
       "      <td>2</td>\n",
       "      <td>0</td>\n",
       "      <td>0.00</td>\n",
       "      <td>14</td>\n",
       "      <td>7.00</td>\n",
       "      <td>3</td>\n",
       "      <td>1.50</td>\n",
       "      <td>0</td>\n",
       "      <td>0.00</td>\n",
       "      <td>930</td>\n",
       "      <td>465.00</td>\n",
       "      <td>3</td>\n",
       "      <td>1.50</td>\n",
       "      <td>3.14</td>\n",
       "      <td>20.83</td>\n",
       "      <td>394</td>\n",
       "      <td>0.9850</td>\n",
       "      <td>85%-100%</td>\n",
       "    </tr>\n",
       "    <tr>\n",
       "      <th>283</th>\n",
       "      <td>zmo_zeemo</td>\n",
       "      <td>2</td>\n",
       "      <td>2</td>\n",
       "      <td>1.00</td>\n",
       "      <td>236</td>\n",
       "      <td>118.00</td>\n",
       "      <td>11</td>\n",
       "      <td>5.50</td>\n",
       "      <td>1</td>\n",
       "      <td>0.50</td>\n",
       "      <td>8442</td>\n",
       "      <td>4221.00</td>\n",
       "      <td>8</td>\n",
       "      <td>4.00</td>\n",
       "      <td>0.97</td>\n",
       "      <td>3.58</td>\n",
       "      <td>396</td>\n",
       "      <td>0.9900</td>\n",
       "      <td>85%-100%</td>\n",
       "    </tr>\n",
       "    <tr>\n",
       "      <th>275</th>\n",
       "      <td>xlr8harder</td>\n",
       "      <td>2</td>\n",
       "      <td>1</td>\n",
       "      <td>0.50</td>\n",
       "      <td>147</td>\n",
       "      <td>73.50</td>\n",
       "      <td>2</td>\n",
       "      <td>1.00</td>\n",
       "      <td>0</td>\n",
       "      <td>0.00</td>\n",
       "      <td>49871</td>\n",
       "      <td>24935.50</td>\n",
       "      <td>10</td>\n",
       "      <td>5.00</td>\n",
       "      <td>0.40</td>\n",
       "      <td>6.22</td>\n",
       "      <td>398</td>\n",
       "      <td>0.9950</td>\n",
       "      <td>85%-100%</td>\n",
       "    </tr>\n",
       "    <tr>\n",
       "      <th>251</th>\n",
       "      <td>teodor_io</td>\n",
       "      <td>2</td>\n",
       "      <td>0</td>\n",
       "      <td>0.00</td>\n",
       "      <td>12</td>\n",
       "      <td>6.00</td>\n",
       "      <td>0</td>\n",
       "      <td>0.00</td>\n",
       "      <td>0</td>\n",
       "      <td>0.00</td>\n",
       "      <td>698</td>\n",
       "      <td>349.00</td>\n",
       "      <td>3</td>\n",
       "      <td>1.50</td>\n",
       "      <td>5.65</td>\n",
       "      <td>27.14</td>\n",
       "      <td>400</td>\n",
       "      <td>1.0000</td>\n",
       "      <td>85%-100%</td>\n",
       "    </tr>\n",
       "  </tbody>\n",
       "</table>\n",
       "<p>99 rows × 19 columns</p>\n",
       "</div>"
      ],
      "text/plain": [
       "    inReplyToUsername  reply_count  total_retweets  avg_retweets  total_likes  \\\n",
       "94      _AashishReddy           37               3          0.08          501   \n",
       "10     Abel_summation           32               0          0.00          341   \n",
       "208          oxbquant           32               1          0.03          224   \n",
       "77     TenreiroDaniel           11               1          0.09          135   \n",
       "281         zephyr_z9           10               1          0.10           60   \n",
       "..                ...          ...             ...           ...          ...   \n",
       "245      supersnowxbt            2               1          0.50           69   \n",
       "279        youngtroon            2               0          0.00           14   \n",
       "283         zmo_zeemo            2               2          1.00          236   \n",
       "275        xlr8harder            2               1          0.50          147   \n",
       "251         teodor_io            2               0          0.00           12   \n",
       "\n",
       "     avg_likes  total_replies  avg_replies  total_quotes  avg_quotes  \\\n",
       "94       13.54             42         1.14             3        0.08   \n",
       "10       10.66             25         0.78             0        0.00   \n",
       "208       7.00             12         0.38             1        0.03   \n",
       "77       12.27              3         0.27             0        0.00   \n",
       "281       6.00              5         0.50             1        0.10   \n",
       "..         ...            ...          ...           ...         ...   \n",
       "245      34.50              1         0.50             0        0.00   \n",
       "279       7.00              3         1.50             0        0.00   \n",
       "283     118.00             11         5.50             1        0.50   \n",
       "275      73.50              2         1.00             0        0.00   \n",
       "251       6.00              0         0.00             0        0.00   \n",
       "\n",
       "     total_views  avg_views  total_bookmarks  avg_bookmarks  avg_bvi  avg_bli  \\\n",
       "94         59327    1603.43               79           2.14     4.71    25.85   \n",
       "10         36056    1126.75               78           2.44     4.40    33.07   \n",
       "208        29458     920.56               61           1.91     2.99    33.57   \n",
       "77         14913    1355.73               29           2.64     4.59    35.79   \n",
       "281         3845     384.50               31           3.10     7.27    48.13   \n",
       "..           ...        ...              ...            ...      ...      ...   \n",
       "245         5793    2896.50                5           2.50     0.86     7.94   \n",
       "279          930     465.00                3           1.50     3.14    20.83   \n",
       "283         8442    4221.00                8           4.00     0.97     3.58   \n",
       "275        49871   24935.50               10           5.00     0.40     6.22   \n",
       "251          698     349.00                3           1.50     5.65    27.14   \n",
       "\n",
       "     cumsum  cumsum_percent reply_count_category  \n",
       "94       37          0.0925              Top-10%  \n",
       "10       69          0.1725              10%-30%  \n",
       "208     101          0.2525              10%-30%  \n",
       "77      112          0.2800              10%-30%  \n",
       "281     122          0.3050              30%-60%  \n",
       "..      ...             ...                  ...  \n",
       "245     392          0.9800             85%-100%  \n",
       "279     394          0.9850             85%-100%  \n",
       "283     396          0.9900             85%-100%  \n",
       "275     398          0.9950             85%-100%  \n",
       "251     400          1.0000             85%-100%  \n",
       "\n",
       "[99 rows x 19 columns]"
      ]
     },
     "execution_count": 90,
     "metadata": {},
     "output_type": "execute_result"
    }
   ],
   "source": [
    "t2"
   ]
  },
  {
   "cell_type": "code",
   "execution_count": 91,
   "id": "d43714b8",
   "metadata": {},
   "outputs": [
    {
     "data": {
      "application/vnd.plotly.v1+json": {
       "config": {
        "plotlyServerURL": "https://plot.ly"
       },
       "data": [
        {
         "customdata": [
          [
           "_AashishReddy"
          ]
         ],
         "hovertemplate": "reply_count_category=Top-10%<br>reply_count=%{x}<br>total_views=%{y}<br>inReplyToUsername=%{customdata[0]}<extra></extra>",
         "legendgroup": "Top-10%",
         "marker": {
          "color": "#636efa",
          "symbol": "circle"
         },
         "mode": "markers",
         "name": "Top-10%",
         "orientation": "v",
         "showlegend": true,
         "type": "scatter",
         "x": {
          "bdata": "JQ==",
          "dtype": "i1"
         },
         "xaxis": "x",
         "y": {
          "bdata": "v+cAAA==",
          "dtype": "i4"
         },
         "yaxis": "y"
        },
        {
         "hovertemplate": "reply_count_category=Top-10%<extra></extra>",
         "legendgroup": "Top-10%",
         "marker": {
          "color": "#636efa",
          "symbol": "circle"
         },
         "mode": "lines",
         "name": "Top-10%",
         "showlegend": false,
         "type": "scatter",
         "xaxis": "x",
         "yaxis": "y"
        },
        {
         "customdata": [
          [
           "Abel_summation"
          ],
          [
           "oxbquant"
          ],
          [
           "TenreiroDaniel"
          ]
         ],
         "hovertemplate": "reply_count_category=10%-30%<br>reply_count=%{x}<br>total_views=%{y}<br>inReplyToUsername=%{customdata[0]}<extra></extra>",
         "legendgroup": "10%-30%",
         "marker": {
          "color": "#EF553B",
          "symbol": "circle"
         },
         "mode": "markers",
         "name": "10%-30%",
         "orientation": "v",
         "showlegend": true,
         "type": "scatter",
         "x": {
          "bdata": "ICAL",
          "dtype": "i1"
         },
         "xaxis": "x",
         "y": {
          "bdata": "2IwAABJzAABBOgAA",
          "dtype": "i4"
         },
         "yaxis": "y"
        },
        {
         "hovertemplate": "<b>OLS trendline</b><br>total_views = 849.714 * reply_count + 5566.14<br>R<sup>2</sup>=0.906995<br><br>reply_count_category=10%-30%<br>reply_count=%{x}<br>total_views=%{y} <b>(trend)</b><extra></extra>",
         "legendgroup": "10%-30%",
         "marker": {
          "color": "#EF553B",
          "symbol": "circle"
         },
         "mode": "lines",
         "name": "10%-30%",
         "showlegend": false,
         "type": "scatter",
         "x": {
          "bdata": "CyAg",
          "dtype": "i1"
         },
         "xaxis": "x",
         "y": {
          "bdata": "BgAAAIAgzUACAAAAQP3fQAIAAABA/d9A",
          "dtype": "f8"
         },
         "yaxis": "y"
        },
        {
         "customdata": [
          [
           "zephyr_z9"
          ],
          [
           "thermo2ndlaw"
          ],
          [
           "teortaxesTex"
          ],
          [
           "LandsharkRides"
          ],
          [
           "jacobrintamaki"
          ],
          [
           "BasedBeffJezos"
          ],
          [
           "norpadon"
          ],
          [
           "scheminglunatic"
          ],
          [
           "4confusedemoji"
          ],
          [
           "TrustInFutures"
          ],
          [
           "W98AB"
          ],
          [
           "bubblebabyboi"
          ],
          [
           "halogen1048576"
          ],
          [
           "brickroad7"
          ],
          [
           "riversposting"
          ],
          [
           "mikeofpol"
          ],
          [
           "lanadunhamcel"
          ],
          [
           "lucky_strikes_x"
          ],
          [
           "matthew_pines"
          ],
          [
           "goodalexander"
          ],
          [
           "abcampbell"
          ],
          [
           "f4talStrategies"
          ],
          [
           "TheStalwart"
          ],
          [
           "1bharadvaja"
          ]
         ],
         "hovertemplate": "reply_count_category=30%-60%<br>reply_count=%{x}<br>total_views=%{y}<br>inReplyToUsername=%{customdata[0]}<extra></extra>",
         "legendgroup": "30%-60%",
         "marker": {
          "color": "#00cc96",
          "symbol": "circle"
         },
         "mode": "markers",
         "name": "30%-60%",
         "orientation": "v",
         "showlegend": true,
         "type": "scatter",
         "x": {
          "bdata": "CgkJCAYGBQUFBQUFBQUEBAQEBAQEBAQE",
          "dtype": "i1"
         },
         "xaxis": "x",
         "y": {
          "bdata": "BQ8AAM0aAACUKQAA/hEAAEUHAACTVgEAGQMAAE4FAACuCAAA9B4CAHYoAABrjwAAdw8AAD0NAAAGBgAA7AIAABwGAAD7CAAAgwUAAMQ6AQD/CAAAgA8AAMEYAADRCAAA",
          "dtype": "i4"
         },
         "yaxis": "y"
        },
        {
         "hovertemplate": "<b>OLS trendline</b><br>total_views = -652.535 * reply_count + 20826.6<br>R<sup>2</sup>=0.001144<br><br>reply_count_category=30%-60%<br>reply_count=%{x}<br>total_views=%{y} <b>(trend)</b><extra></extra>",
         "legendgroup": "30%-60%",
         "marker": {
          "color": "#00cc96",
          "symbol": "circle"
         },
         "mode": "lines",
         "name": "30%-60%",
         "showlegend": false,
         "type": "scatter",
         "x": {
          "bdata": "BAQEBAQEBAQEBAUFBQUFBQUFBgYICQkK",
          "dtype": "i1"
         },
         "xaxis": "x",
         "y": {
          "bdata": "ipWeWiDK0UCKlZ5aIMrRQIqVnlogytFAipWeWiDK0UCKlZ5aIMrRQIqVnlogytFAipWeWiDK0UCKlZ5aIMrRQIqVnlogytFAipWeWiDK0UBlpacW/ibRQGWlpxb+JtFAZaWnFv4m0UBlpacW/ibRQGWlpxb+JtFAZaWnFv4m0UBlpacW/ibRQGWlpxb+JtFAQbWw0tuD0EBBtbDS24PQQO+phZUue85ApsmXDeo0zUCmyZcN6jTNQF3pqYWl7stA",
          "dtype": "f8"
         },
         "yaxis": "y"
        },
        {
         "customdata": [
          [
           "30SergioMisal"
          ],
          [
           "trollshevik88"
          ],
          [
           "SebastianShemi"
          ],
          [
           "SamoBurja"
          ],
          [
           "PancakesKing1"
          ],
          [
           "OPRXBT"
          ],
          [
           "MazenJalloul"
          ],
          [
           "StewartalsopIII"
          ],
          [
           "elocinationn"
          ],
          [
           "ssphinxe"
          ],
          [
           "DaniloMenshikov"
          ],
          [
           "markvalorian"
          ],
          [
           "hhoho_haha81464"
          ],
          [
           "helscom"
          ],
          [
           "hallerite"
          ],
          [
           "springofarete"
          ],
          [
           "0x49fa98"
          ],
          [
           "thiccyth0t"
          ],
          [
           "Johnny2Fingersz"
          ],
          [
           "brunellaism"
          ],
          [
           "e_virdfr"
          ],
          [
           "dystopiangf"
          ],
          [
           "JamesSurowiecki"
          ],
          [
           "RokoMijic"
          ],
          [
           "Jacob_Hornstein"
          ],
          [
           "tszzl"
          ],
          [
           "Soul0Engineer"
          ],
          [
           "7uomoki"
          ],
          [
           "AnglesonNorman"
          ],
          [
           "AndreiCroitor"
          ],
          [
           "2raiseto00"
          ],
          [
           "awake62978576"
          ],
          [
           "KinderheimRune"
          ],
          [
           "lucian___11"
          ],
          [
           "nelvOfficial"
          ],
          [
           "panickssery"
          ],
          [
           "redaction"
          ],
          [
           "schisofrenia"
          ],
          [
           "radshaan"
          ],
          [
           "BayesedThinker"
          ],
          [
           "Bonecondor"
          ]
         ],
         "hovertemplate": "reply_count_category=60%-85%<br>reply_count=%{x}<br>total_views=%{y}<br>inReplyToUsername=%{customdata[0]}<extra></extra>",
         "legendgroup": "60%-85%",
         "marker": {
          "color": "#ab63fa",
          "symbol": "circle"
         },
         "mode": "markers",
         "name": "60%-85%",
         "orientation": "v",
         "showlegend": true,
         "type": "scatter",
         "x": {
          "bdata": "AwMDAwMDAwMDAwMDAwMDAwMDAgICAgICAgICAgICAgICAgICAgICAgI=",
          "dtype": "i1"
         },
         "xaxis": "x",
         "y": {
          "bdata": "GwkAAJkIAADxAwAAjhEAAJkBAADzBAAASwkAANsAAACsAwAA6BIAAIAQAABHEAAApeABANsPAABOCQAAkxAAAN0HAAAqEgAAWQoAAMMNAACXBgAAHQoAAGsDAADsqQAAaQEAADUGAAAfCAAAhgEAAFUIAAAjEQAAfQ4AAKcEAABcDgAATBAAAKcFAACnCAAAXgsAAJgDAABBAQAAOgEAALAHAAA=",
          "dtype": "i4"
         },
         "yaxis": "y"
        },
        {
         "hovertemplate": "<b>OLS trendline</b><br>total_views = 5529.39 * reply_count + -7206.38<br>R<sup>2</sup>=0.019655<br><br>reply_count_category=60%-85%<br>reply_count=%{x}<br>total_views=%{y} <b>(trend)</b><extra></extra>",
         "legendgroup": "60%-85%",
         "marker": {
          "color": "#ab63fa",
          "symbol": "circle"
         },
         "mode": "lines",
         "name": "60%-85%",
         "showlegend": false,
         "type": "scatter",
         "x": {
          "bdata": "AgICAgICAgICAgICAgICAgICAgICAgIDAwMDAwMDAwMDAwMDAwMDAwM=",
          "dtype": "i1"
         },
         "xaxis": "x",
         "y": {
          "bdata": "ZiELWcgYrkBmIQtZyBiuQGYhC1nIGK5AZiELWcgYrkBmIQtZyBiuQGYhC1nIGK5AZiELWcgYrkBmIQtZyBiuQGYhC1nIGK5AZiELWcgYrkBmIQtZyBiuQGYhC1nIGK5AZiELWcgYrkBmIQtZyBiuQGYhC1nIGK5AZiELWcgYrkBmIQtZyBiuQGYhC1nIGK5AZiELWcgYrkBmIQtZyBiuQGYhC1nIGK5AZiELWcgYrkBmIQtZyBiuQI7jOI7jUsJAjuM4juNSwkCO4ziO41LCQI7jOI7jUsJAjuM4juNSwkCO4ziO41LCQI7jOI7jUsJAjuM4juNSwkCO4ziO41LCQI7jOI7jUsJAjuM4juNSwkCO4ziO41LCQI7jOI7jUsJAjuM4juNSwkCO4ziO41LCQI7jOI7jUsJAjuM4juNSwkCO4ziO41LCQA==",
          "dtype": "f8"
         },
         "yaxis": "y"
        },
        {
         "customdata": [
          [
           "theojaffee"
          ],
          [
           "tafphorisms"
          ],
          [
           "Antonio86170786"
          ],
          [
           "BackPedaling112"
          ],
          [
           "skipthedeck"
          ],
          [
           "rudbytorector"
          ],
          [
           "gettyimagepsyop"
          ],
          [
           "gentle_class7"
          ],
          [
           "hibiscuslotus25"
          ],
          [
           "ilfascisto"
          ],
          [
           "presentlyMihai"
          ],
          [
           "providenceluvr"
          ],
          [
           "joshqharris"
          ],
          [
           "ErgodicTrace"
          ],
          [
           "_vonarchimboldi"
          ],
          [
           "based16z"
          ],
          [
           "bayeslord"
          ],
          [
           "basedcone"
          ],
          [
           "Xilo_K"
          ],
          [
           "andocracy"
          ],
          [
           "VictoryOdes"
          ],
          [
           "0xPajke"
          ],
          [
           "grok"
          ],
          [
           "larrystavrogin"
          ],
          [
           "ClosedFormJest"
          ],
          [
           "supersnowxbt"
          ],
          [
           "youngtroon"
          ],
          [
           "zmo_zeemo"
          ],
          [
           "xlr8harder"
          ],
          [
           "teodor_io"
          ]
         ],
         "hovertemplate": "reply_count_category=85%-100%<br>reply_count=%{x}<br>total_views=%{y}<br>inReplyToUsername=%{customdata[0]}<extra></extra>",
         "legendgroup": "85%-100%",
         "marker": {
          "color": "#FFA15A",
          "symbol": "circle"
         },
         "mode": "markers",
         "name": "85%-100%",
         "orientation": "v",
         "showlegend": true,
         "type": "scatter",
         "x": {
          "bdata": "AgICAgICAgICAgICAgICAgICAgICAgICAgICAgIC",
          "dtype": "i1"
         },
         "xaxis": "x",
         "y": {
          "bdata": "gxcAAIgXAAALrAAADFkAAB8KAABJAQAACgcAAGwAAAD0AQAAKV8AAHIYAACMAgAAHgwAAGwSAACyAAAAcgYAAF4HAABtCQAAdgAAAP8lAABvBAAA0wYAADsEAAD1AAAAmgEAAKEWAACiAwAA+iAAAM/CAAC6AgAA",
          "dtype": "i4"
         },
         "yaxis": "y"
        },
        {
         "hovertemplate": "<b>OLS trendline</b><br>total_views = 3493.78<br>R<sup>2</sup>=-0.000000<br><br>reply_count_category=85%-100%<br>reply_count=%{x}<br>total_views=%{y} <b>(trend)</b><extra></extra>",
         "legendgroup": "85%-100%",
         "marker": {
          "color": "#FFA15A",
          "symbol": "circle"
         },
         "mode": "lines",
         "name": "85%-100%",
         "showlegend": false,
         "type": "scatter",
         "x": {
          "bdata": "AgICAgICAgICAgICAgICAgICAgICAgICAgICAgIC",
          "dtype": "i1"
         },
         "xaxis": "x",
         "y": {
          "bdata": "EhEREZFLu0ASERERkUu7QBIRERGRS7tAEhEREZFLu0ASERERkUu7QBIRERGRS7tAEhEREZFLu0ASERERkUu7QBIRERGRS7tAEhEREZFLu0ASERERkUu7QBIRERGRS7tAEhEREZFLu0ASERERkUu7QBIRERGRS7tAEhEREZFLu0ASERERkUu7QBIRERGRS7tAEhEREZFLu0ASERERkUu7QBIRERGRS7tAEhEREZFLu0ASERERkUu7QBIRERGRS7tAEhEREZFLu0ASERERkUu7QBIRERGRS7tAEhEREZFLu0ASERERkUu7QBIRERGRS7tA",
          "dtype": "f8"
         },
         "yaxis": "y"
        }
       ],
       "layout": {
        "height": 800,
        "legend": {
         "title": {
          "text": "reply_count_category"
         },
         "tracegroupgap": 0
        },
        "margin": {
         "t": 60
        },
        "template": {
         "data": {
          "bar": [
           {
            "error_x": {
             "color": "#2a3f5f"
            },
            "error_y": {
             "color": "#2a3f5f"
            },
            "marker": {
             "line": {
              "color": "#E5ECF6",
              "width": 0.5
             },
             "pattern": {
              "fillmode": "overlay",
              "size": 10,
              "solidity": 0.2
             }
            },
            "type": "bar"
           }
          ],
          "barpolar": [
           {
            "marker": {
             "line": {
              "color": "#E5ECF6",
              "width": 0.5
             },
             "pattern": {
              "fillmode": "overlay",
              "size": 10,
              "solidity": 0.2
             }
            },
            "type": "barpolar"
           }
          ],
          "carpet": [
           {
            "aaxis": {
             "endlinecolor": "#2a3f5f",
             "gridcolor": "white",
             "linecolor": "white",
             "minorgridcolor": "white",
             "startlinecolor": "#2a3f5f"
            },
            "baxis": {
             "endlinecolor": "#2a3f5f",
             "gridcolor": "white",
             "linecolor": "white",
             "minorgridcolor": "white",
             "startlinecolor": "#2a3f5f"
            },
            "type": "carpet"
           }
          ],
          "choropleth": [
           {
            "colorbar": {
             "outlinewidth": 0,
             "ticks": ""
            },
            "type": "choropleth"
           }
          ],
          "contour": [
           {
            "colorbar": {
             "outlinewidth": 0,
             "ticks": ""
            },
            "colorscale": [
             [
              0,
              "#0d0887"
             ],
             [
              0.1111111111111111,
              "#46039f"
             ],
             [
              0.2222222222222222,
              "#7201a8"
             ],
             [
              0.3333333333333333,
              "#9c179e"
             ],
             [
              0.4444444444444444,
              "#bd3786"
             ],
             [
              0.5555555555555556,
              "#d8576b"
             ],
             [
              0.6666666666666666,
              "#ed7953"
             ],
             [
              0.7777777777777778,
              "#fb9f3a"
             ],
             [
              0.8888888888888888,
              "#fdca26"
             ],
             [
              1,
              "#f0f921"
             ]
            ],
            "type": "contour"
           }
          ],
          "contourcarpet": [
           {
            "colorbar": {
             "outlinewidth": 0,
             "ticks": ""
            },
            "type": "contourcarpet"
           }
          ],
          "heatmap": [
           {
            "colorbar": {
             "outlinewidth": 0,
             "ticks": ""
            },
            "colorscale": [
             [
              0,
              "#0d0887"
             ],
             [
              0.1111111111111111,
              "#46039f"
             ],
             [
              0.2222222222222222,
              "#7201a8"
             ],
             [
              0.3333333333333333,
              "#9c179e"
             ],
             [
              0.4444444444444444,
              "#bd3786"
             ],
             [
              0.5555555555555556,
              "#d8576b"
             ],
             [
              0.6666666666666666,
              "#ed7953"
             ],
             [
              0.7777777777777778,
              "#fb9f3a"
             ],
             [
              0.8888888888888888,
              "#fdca26"
             ],
             [
              1,
              "#f0f921"
             ]
            ],
            "type": "heatmap"
           }
          ],
          "histogram": [
           {
            "marker": {
             "pattern": {
              "fillmode": "overlay",
              "size": 10,
              "solidity": 0.2
             }
            },
            "type": "histogram"
           }
          ],
          "histogram2d": [
           {
            "colorbar": {
             "outlinewidth": 0,
             "ticks": ""
            },
            "colorscale": [
             [
              0,
              "#0d0887"
             ],
             [
              0.1111111111111111,
              "#46039f"
             ],
             [
              0.2222222222222222,
              "#7201a8"
             ],
             [
              0.3333333333333333,
              "#9c179e"
             ],
             [
              0.4444444444444444,
              "#bd3786"
             ],
             [
              0.5555555555555556,
              "#d8576b"
             ],
             [
              0.6666666666666666,
              "#ed7953"
             ],
             [
              0.7777777777777778,
              "#fb9f3a"
             ],
             [
              0.8888888888888888,
              "#fdca26"
             ],
             [
              1,
              "#f0f921"
             ]
            ],
            "type": "histogram2d"
           }
          ],
          "histogram2dcontour": [
           {
            "colorbar": {
             "outlinewidth": 0,
             "ticks": ""
            },
            "colorscale": [
             [
              0,
              "#0d0887"
             ],
             [
              0.1111111111111111,
              "#46039f"
             ],
             [
              0.2222222222222222,
              "#7201a8"
             ],
             [
              0.3333333333333333,
              "#9c179e"
             ],
             [
              0.4444444444444444,
              "#bd3786"
             ],
             [
              0.5555555555555556,
              "#d8576b"
             ],
             [
              0.6666666666666666,
              "#ed7953"
             ],
             [
              0.7777777777777778,
              "#fb9f3a"
             ],
             [
              0.8888888888888888,
              "#fdca26"
             ],
             [
              1,
              "#f0f921"
             ]
            ],
            "type": "histogram2dcontour"
           }
          ],
          "mesh3d": [
           {
            "colorbar": {
             "outlinewidth": 0,
             "ticks": ""
            },
            "type": "mesh3d"
           }
          ],
          "parcoords": [
           {
            "line": {
             "colorbar": {
              "outlinewidth": 0,
              "ticks": ""
             }
            },
            "type": "parcoords"
           }
          ],
          "pie": [
           {
            "automargin": true,
            "type": "pie"
           }
          ],
          "scatter": [
           {
            "fillpattern": {
             "fillmode": "overlay",
             "size": 10,
             "solidity": 0.2
            },
            "type": "scatter"
           }
          ],
          "scatter3d": [
           {
            "line": {
             "colorbar": {
              "outlinewidth": 0,
              "ticks": ""
             }
            },
            "marker": {
             "colorbar": {
              "outlinewidth": 0,
              "ticks": ""
             }
            },
            "type": "scatter3d"
           }
          ],
          "scattercarpet": [
           {
            "marker": {
             "colorbar": {
              "outlinewidth": 0,
              "ticks": ""
             }
            },
            "type": "scattercarpet"
           }
          ],
          "scattergeo": [
           {
            "marker": {
             "colorbar": {
              "outlinewidth": 0,
              "ticks": ""
             }
            },
            "type": "scattergeo"
           }
          ],
          "scattergl": [
           {
            "marker": {
             "colorbar": {
              "outlinewidth": 0,
              "ticks": ""
             }
            },
            "type": "scattergl"
           }
          ],
          "scattermap": [
           {
            "marker": {
             "colorbar": {
              "outlinewidth": 0,
              "ticks": ""
             }
            },
            "type": "scattermap"
           }
          ],
          "scattermapbox": [
           {
            "marker": {
             "colorbar": {
              "outlinewidth": 0,
              "ticks": ""
             }
            },
            "type": "scattermapbox"
           }
          ],
          "scatterpolar": [
           {
            "marker": {
             "colorbar": {
              "outlinewidth": 0,
              "ticks": ""
             }
            },
            "type": "scatterpolar"
           }
          ],
          "scatterpolargl": [
           {
            "marker": {
             "colorbar": {
              "outlinewidth": 0,
              "ticks": ""
             }
            },
            "type": "scatterpolargl"
           }
          ],
          "scatterternary": [
           {
            "marker": {
             "colorbar": {
              "outlinewidth": 0,
              "ticks": ""
             }
            },
            "type": "scatterternary"
           }
          ],
          "surface": [
           {
            "colorbar": {
             "outlinewidth": 0,
             "ticks": ""
            },
            "colorscale": [
             [
              0,
              "#0d0887"
             ],
             [
              0.1111111111111111,
              "#46039f"
             ],
             [
              0.2222222222222222,
              "#7201a8"
             ],
             [
              0.3333333333333333,
              "#9c179e"
             ],
             [
              0.4444444444444444,
              "#bd3786"
             ],
             [
              0.5555555555555556,
              "#d8576b"
             ],
             [
              0.6666666666666666,
              "#ed7953"
             ],
             [
              0.7777777777777778,
              "#fb9f3a"
             ],
             [
              0.8888888888888888,
              "#fdca26"
             ],
             [
              1,
              "#f0f921"
             ]
            ],
            "type": "surface"
           }
          ],
          "table": [
           {
            "cells": {
             "fill": {
              "color": "#EBF0F8"
             },
             "line": {
              "color": "white"
             }
            },
            "header": {
             "fill": {
              "color": "#C8D4E3"
             },
             "line": {
              "color": "white"
             }
            },
            "type": "table"
           }
          ]
         },
         "layout": {
          "annotationdefaults": {
           "arrowcolor": "#2a3f5f",
           "arrowhead": 0,
           "arrowwidth": 1
          },
          "autotypenumbers": "strict",
          "coloraxis": {
           "colorbar": {
            "outlinewidth": 0,
            "ticks": ""
           }
          },
          "colorscale": {
           "diverging": [
            [
             0,
             "#8e0152"
            ],
            [
             0.1,
             "#c51b7d"
            ],
            [
             0.2,
             "#de77ae"
            ],
            [
             0.3,
             "#f1b6da"
            ],
            [
             0.4,
             "#fde0ef"
            ],
            [
             0.5,
             "#f7f7f7"
            ],
            [
             0.6,
             "#e6f5d0"
            ],
            [
             0.7,
             "#b8e186"
            ],
            [
             0.8,
             "#7fbc41"
            ],
            [
             0.9,
             "#4d9221"
            ],
            [
             1,
             "#276419"
            ]
           ],
           "sequential": [
            [
             0,
             "#0d0887"
            ],
            [
             0.1111111111111111,
             "#46039f"
            ],
            [
             0.2222222222222222,
             "#7201a8"
            ],
            [
             0.3333333333333333,
             "#9c179e"
            ],
            [
             0.4444444444444444,
             "#bd3786"
            ],
            [
             0.5555555555555556,
             "#d8576b"
            ],
            [
             0.6666666666666666,
             "#ed7953"
            ],
            [
             0.7777777777777778,
             "#fb9f3a"
            ],
            [
             0.8888888888888888,
             "#fdca26"
            ],
            [
             1,
             "#f0f921"
            ]
           ],
           "sequentialminus": [
            [
             0,
             "#0d0887"
            ],
            [
             0.1111111111111111,
             "#46039f"
            ],
            [
             0.2222222222222222,
             "#7201a8"
            ],
            [
             0.3333333333333333,
             "#9c179e"
            ],
            [
             0.4444444444444444,
             "#bd3786"
            ],
            [
             0.5555555555555556,
             "#d8576b"
            ],
            [
             0.6666666666666666,
             "#ed7953"
            ],
            [
             0.7777777777777778,
             "#fb9f3a"
            ],
            [
             0.8888888888888888,
             "#fdca26"
            ],
            [
             1,
             "#f0f921"
            ]
           ]
          },
          "colorway": [
           "#636efa",
           "#EF553B",
           "#00cc96",
           "#ab63fa",
           "#FFA15A",
           "#19d3f3",
           "#FF6692",
           "#B6E880",
           "#FF97FF",
           "#FECB52"
          ],
          "font": {
           "color": "#2a3f5f"
          },
          "geo": {
           "bgcolor": "white",
           "lakecolor": "white",
           "landcolor": "#E5ECF6",
           "showlakes": true,
           "showland": true,
           "subunitcolor": "white"
          },
          "hoverlabel": {
           "align": "left"
          },
          "hovermode": "closest",
          "mapbox": {
           "style": "light"
          },
          "paper_bgcolor": "white",
          "plot_bgcolor": "#E5ECF6",
          "polar": {
           "angularaxis": {
            "gridcolor": "white",
            "linecolor": "white",
            "ticks": ""
           },
           "bgcolor": "#E5ECF6",
           "radialaxis": {
            "gridcolor": "white",
            "linecolor": "white",
            "ticks": ""
           }
          },
          "scene": {
           "xaxis": {
            "backgroundcolor": "#E5ECF6",
            "gridcolor": "white",
            "gridwidth": 2,
            "linecolor": "white",
            "showbackground": true,
            "ticks": "",
            "zerolinecolor": "white"
           },
           "yaxis": {
            "backgroundcolor": "#E5ECF6",
            "gridcolor": "white",
            "gridwidth": 2,
            "linecolor": "white",
            "showbackground": true,
            "ticks": "",
            "zerolinecolor": "white"
           },
           "zaxis": {
            "backgroundcolor": "#E5ECF6",
            "gridcolor": "white",
            "gridwidth": 2,
            "linecolor": "white",
            "showbackground": true,
            "ticks": "",
            "zerolinecolor": "white"
           }
          },
          "shapedefaults": {
           "line": {
            "color": "#2a3f5f"
           }
          },
          "ternary": {
           "aaxis": {
            "gridcolor": "white",
            "linecolor": "white",
            "ticks": ""
           },
           "baxis": {
            "gridcolor": "white",
            "linecolor": "white",
            "ticks": ""
           },
           "bgcolor": "#E5ECF6",
           "caxis": {
            "gridcolor": "white",
            "linecolor": "white",
            "ticks": ""
           }
          },
          "title": {
           "x": 0.05
          },
          "xaxis": {
           "automargin": true,
           "gridcolor": "white",
           "linecolor": "white",
           "ticks": "",
           "title": {
            "standoff": 15
           },
           "zerolinecolor": "white",
           "zerolinewidth": 2
          },
          "yaxis": {
           "automargin": true,
           "gridcolor": "white",
           "linecolor": "white",
           "ticks": "",
           "title": {
            "standoff": 15
           },
           "zerolinecolor": "white",
           "zerolinewidth": 2
          }
         }
        },
        "xaxis": {
         "anchor": "y",
         "domain": [
          0,
          1
         ],
         "title": {
          "text": "reply_count"
         }
        },
        "yaxis": {
         "anchor": "x",
         "domain": [
          0,
          1
         ],
         "title": {
          "text": "total_views"
         },
         "type": "log"
        }
       }
      }
     },
     "metadata": {},
     "output_type": "display_data"
    },
    {
     "data": {
      "application/vnd.plotly.v1+json": {
       "config": {
        "plotlyServerURL": "https://plot.ly"
       },
       "data": [
        {
         "customdata": [
          [
           "_AashishReddy",
           37
          ]
         ],
         "hovertemplate": "reply_count_category=Top-10%<br>total_retweets=%{x}<br>total_views=%{y}<br>inReplyToUsername=%{customdata[0]}<br>reply_count=%{customdata[1]}<extra></extra>",
         "legendgroup": "Top-10%",
         "marker": {
          "color": "#636efa",
          "symbol": "circle"
         },
         "mode": "markers",
         "name": "Top-10%",
         "orientation": "v",
         "showlegend": true,
         "type": "scatter",
         "x": {
          "bdata": "Aw==",
          "dtype": "i1"
         },
         "xaxis": "x",
         "y": {
          "bdata": "v+cAAA==",
          "dtype": "i4"
         },
         "yaxis": "y"
        },
        {
         "hovertemplate": "reply_count_category=Top-10%<extra></extra>",
         "legendgroup": "Top-10%",
         "marker": {
          "color": "#636efa",
          "symbol": "circle"
         },
         "mode": "lines",
         "name": "Top-10%",
         "showlegend": false,
         "type": "scatter",
         "xaxis": "x",
         "yaxis": "y"
        },
        {
         "customdata": [
          [
           "Abel_summation",
           32
          ],
          [
           "oxbquant",
           32
          ],
          [
           "TenreiroDaniel",
           11
          ]
         ],
         "hovertemplate": "reply_count_category=10%-30%<br>total_retweets=%{x}<br>total_views=%{y}<br>inReplyToUsername=%{customdata[0]}<br>reply_count=%{customdata[1]}<extra></extra>",
         "legendgroup": "10%-30%",
         "marker": {
          "color": "#EF553B",
          "symbol": "circle"
         },
         "mode": "markers",
         "name": "10%-30%",
         "orientation": "v",
         "showlegend": true,
         "type": "scatter",
         "x": {
          "bdata": "AAEB",
          "dtype": "i1"
         },
         "xaxis": "x",
         "y": {
          "bdata": "2IwAABJzAABBOgAA",
          "dtype": "i4"
         },
         "yaxis": "y"
        },
        {
         "hovertemplate": "<b>OLS trendline</b><br>total_views = -13870.5 * total_retweets + 36056<br>R<sup>2</sup>=0.548030<br><br>reply_count_category=10%-30%<br>total_retweets=%{x}<br>total_views=%{y} <b>(trend)</b><extra></extra>",
         "legendgroup": "10%-30%",
         "marker": {
          "color": "#EF553B",
          "symbol": "circle"
         },
         "mode": "lines",
         "name": "10%-30%",
         "showlegend": false,
         "type": "scatter",
         "x": {
          "bdata": "AAEB",
          "dtype": "i1"
         },
         "xaxis": "x",
         "y": {
          "bdata": "AAAAAACb4UAAAAAAYKrVQAAAAABgqtVA",
          "dtype": "f8"
         },
         "yaxis": "y"
        },
        {
         "customdata": [
          [
           "zephyr_z9",
           10
          ],
          [
           "thermo2ndlaw",
           9
          ],
          [
           "teortaxesTex",
           9
          ],
          [
           "LandsharkRides",
           8
          ],
          [
           "jacobrintamaki",
           6
          ],
          [
           "BasedBeffJezos",
           6
          ],
          [
           "norpadon",
           5
          ],
          [
           "scheminglunatic",
           5
          ],
          [
           "4confusedemoji",
           5
          ],
          [
           "TrustInFutures",
           5
          ],
          [
           "W98AB",
           5
          ],
          [
           "bubblebabyboi",
           5
          ],
          [
           "halogen1048576",
           5
          ],
          [
           "brickroad7",
           5
          ],
          [
           "riversposting",
           4
          ],
          [
           "mikeofpol",
           4
          ],
          [
           "lanadunhamcel",
           4
          ],
          [
           "lucky_strikes_x",
           4
          ],
          [
           "matthew_pines",
           4
          ],
          [
           "goodalexander",
           4
          ],
          [
           "abcampbell",
           4
          ],
          [
           "f4talStrategies",
           4
          ],
          [
           "TheStalwart",
           4
          ],
          [
           "1bharadvaja",
           4
          ]
         ],
         "hovertemplate": "reply_count_category=30%-60%<br>total_retweets=%{x}<br>total_views=%{y}<br>inReplyToUsername=%{customdata[0]}<br>reply_count=%{customdata[1]}<extra></extra>",
         "legendgroup": "30%-60%",
         "marker": {
          "color": "#00cc96",
          "symbol": "circle"
         },
         "mode": "markers",
         "name": "30%-60%",
         "orientation": "v",
         "showlegend": true,
         "type": "scatter",
         "x": {
          "bdata": "AQABAAABAAAABQICAQAAAAAAAAIAAQAA",
          "dtype": "i1"
         },
         "xaxis": "x",
         "y": {
          "bdata": "BQ8AAM0aAACUKQAA/hEAAEUHAACTVgEAGQMAAE4FAACuCAAA9B4CAHYoAABrjwAAdw8AAD0NAAAGBgAA7AIAABwGAAD7CAAAgwUAAMQ6AQD/CAAAgA8AAMEYAADRCAAA",
          "dtype": "i4"
         },
         "yaxis": "y"
        },
        {
         "hovertemplate": "<b>OLS trendline</b><br>total_views = 24984.8 * total_retweets + 689.912<br>R<sup>2</sup>=0.697281<br><br>reply_count_category=30%-60%<br>total_retweets=%{x}<br>total_views=%{y} <b>(trend)</b><extra></extra>",
         "legendgroup": "30%-60%",
         "marker": {
          "color": "#00cc96",
          "symbol": "circle"
         },
         "mode": "lines",
         "name": "30%-60%",
         "showlegend": false,
         "type": "scatter",
         "x": {
          "bdata": "AAAAAAAAAAAAAAAAAAAAAQEBAQECAgIF",
          "dtype": "i1"
         },
         "xaxis": "x",
         "y": {
          "bdata": "kJhcQUyPhUCQmFxBTI+FQJCYXEFMj4VAkJhcQUyPhUCQmFxBTI+FQJCYXEFMj4VAkJhcQUyPhUCQmFxBTI+FQJCYXEFMj4VAkJhcQUyPhUCQmFxBTI+FQJCYXEFMj4VAkJhcQUyPhUCQmFxBTI+FQJCYXEFMj4VAmo36zq4S2UCajfrOrhLZQJqN+s6uEtlAmo36zq4S2UCajfrOrhLZQDgb9Z1xvOhAOBv1nXG86EA4G/WdcbzoQD1MriDgqv5A",
          "dtype": "f8"
         },
         "yaxis": "y"
        },
        {
         "customdata": [
          [
           "30SergioMisal",
           3
          ],
          [
           "trollshevik88",
           3
          ],
          [
           "SebastianShemi",
           3
          ],
          [
           "SamoBurja",
           3
          ],
          [
           "PancakesKing1",
           3
          ],
          [
           "OPRXBT",
           3
          ],
          [
           "MazenJalloul",
           3
          ],
          [
           "StewartalsopIII",
           3
          ],
          [
           "elocinationn",
           3
          ],
          [
           "ssphinxe",
           3
          ],
          [
           "DaniloMenshikov",
           3
          ],
          [
           "markvalorian",
           3
          ],
          [
           "hhoho_haha81464",
           3
          ],
          [
           "helscom",
           3
          ],
          [
           "hallerite",
           3
          ],
          [
           "springofarete",
           3
          ],
          [
           "0x49fa98",
           3
          ],
          [
           "thiccyth0t",
           3
          ],
          [
           "Johnny2Fingersz",
           2
          ],
          [
           "brunellaism",
           2
          ],
          [
           "e_virdfr",
           2
          ],
          [
           "dystopiangf",
           2
          ],
          [
           "JamesSurowiecki",
           2
          ],
          [
           "RokoMijic",
           2
          ],
          [
           "Jacob_Hornstein",
           2
          ],
          [
           "tszzl",
           2
          ],
          [
           "Soul0Engineer",
           2
          ],
          [
           "7uomoki",
           2
          ],
          [
           "AnglesonNorman",
           2
          ],
          [
           "AndreiCroitor",
           2
          ],
          [
           "2raiseto00",
           2
          ],
          [
           "awake62978576",
           2
          ],
          [
           "KinderheimRune",
           2
          ],
          [
           "lucian___11",
           2
          ],
          [
           "nelvOfficial",
           2
          ],
          [
           "panickssery",
           2
          ],
          [
           "redaction",
           2
          ],
          [
           "schisofrenia",
           2
          ],
          [
           "radshaan",
           2
          ],
          [
           "BayesedThinker",
           2
          ],
          [
           "Bonecondor",
           2
          ]
         ],
         "hovertemplate": "reply_count_category=60%-85%<br>total_retweets=%{x}<br>total_views=%{y}<br>inReplyToUsername=%{customdata[0]}<br>reply_count=%{customdata[1]}<extra></extra>",
         "legendgroup": "60%-85%",
         "marker": {
          "color": "#ab63fa",
          "symbol": "circle"
         },
         "mode": "markers",
         "name": "60%-85%",
         "orientation": "v",
         "showlegend": true,
         "type": "scatter",
         "x": {
          "bdata": "AAAAAAACAAAAAAMALQIAAAAAAAAAAAEDAAABAAEBAAACAAAAAQAAAAA=",
          "dtype": "i1"
         },
         "xaxis": "x",
         "y": {
          "bdata": "GwkAAJkIAADxAwAAjhEAAJkBAADzBAAASwkAANsAAACsAwAA6BIAAIAQAABHEAAApeABANsPAABOCQAAkxAAAN0HAAAqEgAAWQoAAMMNAACXBgAAHQoAAGsDAADsqQAAaQEAADUGAAAfCAAAhgEAAFUIAAAjEQAAfQ4AAKcEAABcDgAATBAAAKcFAACnCAAAXgsAAJgDAABBAQAAOgEAALAHAAA=",
          "dtype": "i4"
         },
         "yaxis": "y"
        },
        {
         "hovertemplate": "<b>OLS trendline</b><br>total_views = 2706.29 * total_retweets + 2187.49<br>R<sup>2</sup>=0.916848<br><br>reply_count_category=60%-85%<br>total_retweets=%{x}<br>total_views=%{y} <b>(trend)</b><extra></extra>",
         "legendgroup": "60%-85%",
         "marker": {
          "color": "#ab63fa",
          "symbol": "circle"
         },
         "mode": "lines",
         "name": "60%-85%",
         "showlegend": false,
         "type": "scatter",
         "x": {
          "bdata": "AAAAAAAAAAAAAAAAAAAAAAAAAAAAAAAAAAAAAAAAAQEBAQECAgIDAy0=",
          "dtype": "i1"
         },
         "xaxis": "x",
         "y": {
          "bdata": "abc8svgWoUBptzyy+BahQGm3PLL4FqFAabc8svgWoUBptzyy+BahQGm3PLL4FqFAabc8svgWoUBptzyy+BahQGm3PLL4FqFAabc8svgWoUBptzyy+BahQGm3PLL4FqFAabc8svgWoUBptzyy+BahQGm3PLL4FqFAabc8svgWoUBptzyy+BahQGm3PLL4FqFAabc8svgWoUBptzyy+BahQGm3PLL4FqFAabc8svgWoUBptzyy+BahQGm3PLL4FqFAabc8svgWoUBptzyy+BahQGm3PLL4FqFAabc8svgWoUBptzyy+BahQGm3PLL4FqFAF0BpBccds0AXQGkFxx2zQBdAaQXHHbNAF0BpBccds0AXQGkFxx2zQHoktLERsL1AeiS0sRGwvUB6JLSxEbC9QG6E/y4uIcRAboT/Li4hxEAQiCTKKUT+QA==",
          "dtype": "f8"
         },
         "yaxis": "y"
        },
        {
         "customdata": [
          [
           "theojaffee",
           2
          ],
          [
           "tafphorisms",
           2
          ],
          [
           "Antonio86170786",
           2
          ],
          [
           "BackPedaling112",
           2
          ],
          [
           "skipthedeck",
           2
          ],
          [
           "rudbytorector",
           2
          ],
          [
           "gettyimagepsyop",
           2
          ],
          [
           "gentle_class7",
           2
          ],
          [
           "hibiscuslotus25",
           2
          ],
          [
           "ilfascisto",
           2
          ],
          [
           "presentlyMihai",
           2
          ],
          [
           "providenceluvr",
           2
          ],
          [
           "joshqharris",
           2
          ],
          [
           "ErgodicTrace",
           2
          ],
          [
           "_vonarchimboldi",
           2
          ],
          [
           "based16z",
           2
          ],
          [
           "bayeslord",
           2
          ],
          [
           "basedcone",
           2
          ],
          [
           "Xilo_K",
           2
          ],
          [
           "andocracy",
           2
          ],
          [
           "VictoryOdes",
           2
          ],
          [
           "0xPajke",
           2
          ],
          [
           "grok",
           2
          ],
          [
           "larrystavrogin",
           2
          ],
          [
           "ClosedFormJest",
           2
          ],
          [
           "supersnowxbt",
           2
          ],
          [
           "youngtroon",
           2
          ],
          [
           "zmo_zeemo",
           2
          ],
          [
           "xlr8harder",
           2
          ],
          [
           "teodor_io",
           2
          ]
         ],
         "hovertemplate": "reply_count_category=85%-100%<br>total_retweets=%{x}<br>total_views=%{y}<br>inReplyToUsername=%{customdata[0]}<br>reply_count=%{customdata[1]}<extra></extra>",
         "legendgroup": "85%-100%",
         "marker": {
          "color": "#FFA15A",
          "symbol": "circle"
         },
         "mode": "markers",
         "name": "85%-100%",
         "orientation": "v",
         "showlegend": true,
         "type": "scatter",
         "x": {
          "bdata": "AgEBAAAAAAAAAgEAAAUAAQAAAAAAAAAAAAEAAgEA",
          "dtype": "i1"
         },
         "xaxis": "x",
         "y": {
          "bdata": "gxcAAIgXAAALrAAADFkAAB8KAABJAQAACgcAAGwAAAD0AQAAKV8AAHIYAACMAgAAHgwAAGwSAACyAAAAcgYAAF4HAABtCQAAdgAAAP8lAABvBAAA0wYAADsEAAD1AAAAmgEAAKEWAACiAwAA+iAAAM/CAAC6AgAA",
          "dtype": "i4"
         },
         "yaxis": "y"
        },
        {
         "hovertemplate": "<b>OLS trendline</b><br>total_views = 2879.35 * total_retweets + 5355.93<br>R<sup>2</sup>=0.062189<br><br>reply_count_category=85%-100%<br>total_retweets=%{x}<br>total_views=%{y} <b>(trend)</b><extra></extra>",
         "legendgroup": "85%-100%",
         "marker": {
          "color": "#FFA15A",
          "symbol": "circle"
         },
         "mode": "lines",
         "name": "85%-100%",
         "showlegend": false,
         "type": "scatter",
         "x": {
          "bdata": "AAAAAAAAAAAAAAAAAAAAAAAAAAABAQEBAQECAgIF",
          "dtype": "i1"
         },
         "xaxis": "x",
         "y": {
          "bdata": "H+/xHu/rtEAf7/Ee7+u0QB/v8R7v67RAH+/xHu/rtEAf7/Ee7+u0QB/v8R7v67RAH+/xHu/rtEAf7/Ee7+u0QB/v8R7v67RAH+/xHu/rtEAf7/Ee7+u0QB/v8R7v67RAH+/xHu/rtEAf7/Ee7+u0QB/v8R7v67RAH+/xHu/rtEAf7/Ee7+u0QB/v8R7v67RAH+/xHu/rtEAf7/Ee7+u0QJIkSZKkFcBAkiRJkqQVwECSJEmSpBXAQJIkSZKkFcBAkiRJkqQVwECSJEmSpBXAQJVRGZVRtcVAlVEZlVG1xUCVURmVUbXFQE/sxE4sStNA",
          "dtype": "f8"
         },
         "yaxis": "y"
        }
       ],
       "layout": {
        "height": 800,
        "legend": {
         "title": {
          "text": "reply_count_category"
         },
         "tracegroupgap": 0
        },
        "margin": {
         "t": 60
        },
        "template": {
         "data": {
          "bar": [
           {
            "error_x": {
             "color": "#2a3f5f"
            },
            "error_y": {
             "color": "#2a3f5f"
            },
            "marker": {
             "line": {
              "color": "#E5ECF6",
              "width": 0.5
             },
             "pattern": {
              "fillmode": "overlay",
              "size": 10,
              "solidity": 0.2
             }
            },
            "type": "bar"
           }
          ],
          "barpolar": [
           {
            "marker": {
             "line": {
              "color": "#E5ECF6",
              "width": 0.5
             },
             "pattern": {
              "fillmode": "overlay",
              "size": 10,
              "solidity": 0.2
             }
            },
            "type": "barpolar"
           }
          ],
          "carpet": [
           {
            "aaxis": {
             "endlinecolor": "#2a3f5f",
             "gridcolor": "white",
             "linecolor": "white",
             "minorgridcolor": "white",
             "startlinecolor": "#2a3f5f"
            },
            "baxis": {
             "endlinecolor": "#2a3f5f",
             "gridcolor": "white",
             "linecolor": "white",
             "minorgridcolor": "white",
             "startlinecolor": "#2a3f5f"
            },
            "type": "carpet"
           }
          ],
          "choropleth": [
           {
            "colorbar": {
             "outlinewidth": 0,
             "ticks": ""
            },
            "type": "choropleth"
           }
          ],
          "contour": [
           {
            "colorbar": {
             "outlinewidth": 0,
             "ticks": ""
            },
            "colorscale": [
             [
              0,
              "#0d0887"
             ],
             [
              0.1111111111111111,
              "#46039f"
             ],
             [
              0.2222222222222222,
              "#7201a8"
             ],
             [
              0.3333333333333333,
              "#9c179e"
             ],
             [
              0.4444444444444444,
              "#bd3786"
             ],
             [
              0.5555555555555556,
              "#d8576b"
             ],
             [
              0.6666666666666666,
              "#ed7953"
             ],
             [
              0.7777777777777778,
              "#fb9f3a"
             ],
             [
              0.8888888888888888,
              "#fdca26"
             ],
             [
              1,
              "#f0f921"
             ]
            ],
            "type": "contour"
           }
          ],
          "contourcarpet": [
           {
            "colorbar": {
             "outlinewidth": 0,
             "ticks": ""
            },
            "type": "contourcarpet"
           }
          ],
          "heatmap": [
           {
            "colorbar": {
             "outlinewidth": 0,
             "ticks": ""
            },
            "colorscale": [
             [
              0,
              "#0d0887"
             ],
             [
              0.1111111111111111,
              "#46039f"
             ],
             [
              0.2222222222222222,
              "#7201a8"
             ],
             [
              0.3333333333333333,
              "#9c179e"
             ],
             [
              0.4444444444444444,
              "#bd3786"
             ],
             [
              0.5555555555555556,
              "#d8576b"
             ],
             [
              0.6666666666666666,
              "#ed7953"
             ],
             [
              0.7777777777777778,
              "#fb9f3a"
             ],
             [
              0.8888888888888888,
              "#fdca26"
             ],
             [
              1,
              "#f0f921"
             ]
            ],
            "type": "heatmap"
           }
          ],
          "histogram": [
           {
            "marker": {
             "pattern": {
              "fillmode": "overlay",
              "size": 10,
              "solidity": 0.2
             }
            },
            "type": "histogram"
           }
          ],
          "histogram2d": [
           {
            "colorbar": {
             "outlinewidth": 0,
             "ticks": ""
            },
            "colorscale": [
             [
              0,
              "#0d0887"
             ],
             [
              0.1111111111111111,
              "#46039f"
             ],
             [
              0.2222222222222222,
              "#7201a8"
             ],
             [
              0.3333333333333333,
              "#9c179e"
             ],
             [
              0.4444444444444444,
              "#bd3786"
             ],
             [
              0.5555555555555556,
              "#d8576b"
             ],
             [
              0.6666666666666666,
              "#ed7953"
             ],
             [
              0.7777777777777778,
              "#fb9f3a"
             ],
             [
              0.8888888888888888,
              "#fdca26"
             ],
             [
              1,
              "#f0f921"
             ]
            ],
            "type": "histogram2d"
           }
          ],
          "histogram2dcontour": [
           {
            "colorbar": {
             "outlinewidth": 0,
             "ticks": ""
            },
            "colorscale": [
             [
              0,
              "#0d0887"
             ],
             [
              0.1111111111111111,
              "#46039f"
             ],
             [
              0.2222222222222222,
              "#7201a8"
             ],
             [
              0.3333333333333333,
              "#9c179e"
             ],
             [
              0.4444444444444444,
              "#bd3786"
             ],
             [
              0.5555555555555556,
              "#d8576b"
             ],
             [
              0.6666666666666666,
              "#ed7953"
             ],
             [
              0.7777777777777778,
              "#fb9f3a"
             ],
             [
              0.8888888888888888,
              "#fdca26"
             ],
             [
              1,
              "#f0f921"
             ]
            ],
            "type": "histogram2dcontour"
           }
          ],
          "mesh3d": [
           {
            "colorbar": {
             "outlinewidth": 0,
             "ticks": ""
            },
            "type": "mesh3d"
           }
          ],
          "parcoords": [
           {
            "line": {
             "colorbar": {
              "outlinewidth": 0,
              "ticks": ""
             }
            },
            "type": "parcoords"
           }
          ],
          "pie": [
           {
            "automargin": true,
            "type": "pie"
           }
          ],
          "scatter": [
           {
            "fillpattern": {
             "fillmode": "overlay",
             "size": 10,
             "solidity": 0.2
            },
            "type": "scatter"
           }
          ],
          "scatter3d": [
           {
            "line": {
             "colorbar": {
              "outlinewidth": 0,
              "ticks": ""
             }
            },
            "marker": {
             "colorbar": {
              "outlinewidth": 0,
              "ticks": ""
             }
            },
            "type": "scatter3d"
           }
          ],
          "scattercarpet": [
           {
            "marker": {
             "colorbar": {
              "outlinewidth": 0,
              "ticks": ""
             }
            },
            "type": "scattercarpet"
           }
          ],
          "scattergeo": [
           {
            "marker": {
             "colorbar": {
              "outlinewidth": 0,
              "ticks": ""
             }
            },
            "type": "scattergeo"
           }
          ],
          "scattergl": [
           {
            "marker": {
             "colorbar": {
              "outlinewidth": 0,
              "ticks": ""
             }
            },
            "type": "scattergl"
           }
          ],
          "scattermap": [
           {
            "marker": {
             "colorbar": {
              "outlinewidth": 0,
              "ticks": ""
             }
            },
            "type": "scattermap"
           }
          ],
          "scattermapbox": [
           {
            "marker": {
             "colorbar": {
              "outlinewidth": 0,
              "ticks": ""
             }
            },
            "type": "scattermapbox"
           }
          ],
          "scatterpolar": [
           {
            "marker": {
             "colorbar": {
              "outlinewidth": 0,
              "ticks": ""
             }
            },
            "type": "scatterpolar"
           }
          ],
          "scatterpolargl": [
           {
            "marker": {
             "colorbar": {
              "outlinewidth": 0,
              "ticks": ""
             }
            },
            "type": "scatterpolargl"
           }
          ],
          "scatterternary": [
           {
            "marker": {
             "colorbar": {
              "outlinewidth": 0,
              "ticks": ""
             }
            },
            "type": "scatterternary"
           }
          ],
          "surface": [
           {
            "colorbar": {
             "outlinewidth": 0,
             "ticks": ""
            },
            "colorscale": [
             [
              0,
              "#0d0887"
             ],
             [
              0.1111111111111111,
              "#46039f"
             ],
             [
              0.2222222222222222,
              "#7201a8"
             ],
             [
              0.3333333333333333,
              "#9c179e"
             ],
             [
              0.4444444444444444,
              "#bd3786"
             ],
             [
              0.5555555555555556,
              "#d8576b"
             ],
             [
              0.6666666666666666,
              "#ed7953"
             ],
             [
              0.7777777777777778,
              "#fb9f3a"
             ],
             [
              0.8888888888888888,
              "#fdca26"
             ],
             [
              1,
              "#f0f921"
             ]
            ],
            "type": "surface"
           }
          ],
          "table": [
           {
            "cells": {
             "fill": {
              "color": "#EBF0F8"
             },
             "line": {
              "color": "white"
             }
            },
            "header": {
             "fill": {
              "color": "#C8D4E3"
             },
             "line": {
              "color": "white"
             }
            },
            "type": "table"
           }
          ]
         },
         "layout": {
          "annotationdefaults": {
           "arrowcolor": "#2a3f5f",
           "arrowhead": 0,
           "arrowwidth": 1
          },
          "autotypenumbers": "strict",
          "coloraxis": {
           "colorbar": {
            "outlinewidth": 0,
            "ticks": ""
           }
          },
          "colorscale": {
           "diverging": [
            [
             0,
             "#8e0152"
            ],
            [
             0.1,
             "#c51b7d"
            ],
            [
             0.2,
             "#de77ae"
            ],
            [
             0.3,
             "#f1b6da"
            ],
            [
             0.4,
             "#fde0ef"
            ],
            [
             0.5,
             "#f7f7f7"
            ],
            [
             0.6,
             "#e6f5d0"
            ],
            [
             0.7,
             "#b8e186"
            ],
            [
             0.8,
             "#7fbc41"
            ],
            [
             0.9,
             "#4d9221"
            ],
            [
             1,
             "#276419"
            ]
           ],
           "sequential": [
            [
             0,
             "#0d0887"
            ],
            [
             0.1111111111111111,
             "#46039f"
            ],
            [
             0.2222222222222222,
             "#7201a8"
            ],
            [
             0.3333333333333333,
             "#9c179e"
            ],
            [
             0.4444444444444444,
             "#bd3786"
            ],
            [
             0.5555555555555556,
             "#d8576b"
            ],
            [
             0.6666666666666666,
             "#ed7953"
            ],
            [
             0.7777777777777778,
             "#fb9f3a"
            ],
            [
             0.8888888888888888,
             "#fdca26"
            ],
            [
             1,
             "#f0f921"
            ]
           ],
           "sequentialminus": [
            [
             0,
             "#0d0887"
            ],
            [
             0.1111111111111111,
             "#46039f"
            ],
            [
             0.2222222222222222,
             "#7201a8"
            ],
            [
             0.3333333333333333,
             "#9c179e"
            ],
            [
             0.4444444444444444,
             "#bd3786"
            ],
            [
             0.5555555555555556,
             "#d8576b"
            ],
            [
             0.6666666666666666,
             "#ed7953"
            ],
            [
             0.7777777777777778,
             "#fb9f3a"
            ],
            [
             0.8888888888888888,
             "#fdca26"
            ],
            [
             1,
             "#f0f921"
            ]
           ]
          },
          "colorway": [
           "#636efa",
           "#EF553B",
           "#00cc96",
           "#ab63fa",
           "#FFA15A",
           "#19d3f3",
           "#FF6692",
           "#B6E880",
           "#FF97FF",
           "#FECB52"
          ],
          "font": {
           "color": "#2a3f5f"
          },
          "geo": {
           "bgcolor": "white",
           "lakecolor": "white",
           "landcolor": "#E5ECF6",
           "showlakes": true,
           "showland": true,
           "subunitcolor": "white"
          },
          "hoverlabel": {
           "align": "left"
          },
          "hovermode": "closest",
          "mapbox": {
           "style": "light"
          },
          "paper_bgcolor": "white",
          "plot_bgcolor": "#E5ECF6",
          "polar": {
           "angularaxis": {
            "gridcolor": "white",
            "linecolor": "white",
            "ticks": ""
           },
           "bgcolor": "#E5ECF6",
           "radialaxis": {
            "gridcolor": "white",
            "linecolor": "white",
            "ticks": ""
           }
          },
          "scene": {
           "xaxis": {
            "backgroundcolor": "#E5ECF6",
            "gridcolor": "white",
            "gridwidth": 2,
            "linecolor": "white",
            "showbackground": true,
            "ticks": "",
            "zerolinecolor": "white"
           },
           "yaxis": {
            "backgroundcolor": "#E5ECF6",
            "gridcolor": "white",
            "gridwidth": 2,
            "linecolor": "white",
            "showbackground": true,
            "ticks": "",
            "zerolinecolor": "white"
           },
           "zaxis": {
            "backgroundcolor": "#E5ECF6",
            "gridcolor": "white",
            "gridwidth": 2,
            "linecolor": "white",
            "showbackground": true,
            "ticks": "",
            "zerolinecolor": "white"
           }
          },
          "shapedefaults": {
           "line": {
            "color": "#2a3f5f"
           }
          },
          "ternary": {
           "aaxis": {
            "gridcolor": "white",
            "linecolor": "white",
            "ticks": ""
           },
           "baxis": {
            "gridcolor": "white",
            "linecolor": "white",
            "ticks": ""
           },
           "bgcolor": "#E5ECF6",
           "caxis": {
            "gridcolor": "white",
            "linecolor": "white",
            "ticks": ""
           }
          },
          "title": {
           "x": 0.05
          },
          "xaxis": {
           "automargin": true,
           "gridcolor": "white",
           "linecolor": "white",
           "ticks": "",
           "title": {
            "standoff": 15
           },
           "zerolinecolor": "white",
           "zerolinewidth": 2
          },
          "yaxis": {
           "automargin": true,
           "gridcolor": "white",
           "linecolor": "white",
           "ticks": "",
           "title": {
            "standoff": 15
           },
           "zerolinecolor": "white",
           "zerolinewidth": 2
          }
         }
        },
        "xaxis": {
         "anchor": "y",
         "domain": [
          0,
          1
         ],
         "title": {
          "text": "total_retweets"
         }
        },
        "yaxis": {
         "anchor": "x",
         "domain": [
          0,
          1
         ],
         "title": {
          "text": "total_views"
         },
         "type": "log"
        }
       }
      }
     },
     "metadata": {},
     "output_type": "display_data"
    },
    {
     "data": {
      "application/vnd.plotly.v1+json": {
       "config": {
        "plotlyServerURL": "https://plot.ly"
       },
       "data": [
        {
         "customdata": [
          [
           "_AashishReddy",
           37
          ]
         ],
         "hovertemplate": "reply_count_category=Top-10%<br>total_likes=%{x}<br>total_views=%{y}<br>inReplyToUsername=%{customdata[0]}<br>reply_count=%{customdata[1]}<extra></extra>",
         "legendgroup": "Top-10%",
         "marker": {
          "color": "#636efa",
          "symbol": "circle"
         },
         "mode": "markers",
         "name": "Top-10%",
         "orientation": "v",
         "showlegend": true,
         "type": "scatter",
         "x": {
          "bdata": "9QE=",
          "dtype": "i2"
         },
         "xaxis": "x",
         "y": {
          "bdata": "v+cAAA==",
          "dtype": "i4"
         },
         "yaxis": "y"
        },
        {
         "hovertemplate": "reply_count_category=Top-10%<extra></extra>",
         "legendgroup": "Top-10%",
         "marker": {
          "color": "#636efa",
          "symbol": "circle"
         },
         "mode": "lines",
         "name": "Top-10%",
         "showlegend": false,
         "type": "scatter",
         "xaxis": "x",
         "yaxis": "y"
        },
        {
         "customdata": [
          [
           "Abel_summation",
           32
          ],
          [
           "oxbquant",
           32
          ],
          [
           "TenreiroDaniel",
           11
          ]
         ],
         "hovertemplate": "reply_count_category=10%-30%<br>total_likes=%{x}<br>total_views=%{y}<br>inReplyToUsername=%{customdata[0]}<br>reply_count=%{customdata[1]}<extra></extra>",
         "legendgroup": "10%-30%",
         "marker": {
          "color": "#EF553B",
          "symbol": "circle"
         },
         "mode": "markers",
         "name": "10%-30%",
         "orientation": "v",
         "showlegend": true,
         "type": "scatter",
         "x": {
          "bdata": "VQHgAIcA",
          "dtype": "i2"
         },
         "xaxis": "x",
         "y": {
          "bdata": "2IwAABJzAABBOgAA",
          "dtype": "i4"
         },
         "yaxis": "y"
        },
        {
         "hovertemplate": "<b>OLS trendline</b><br>total_views = 100.271 * total_likes + 3412.53<br>R<sup>2</sup>=0.917127<br><br>reply_count_category=10%-30%<br>total_likes=%{x}<br>total_views=%{y} <b>(trend)</b><extra></extra>",
         "legendgroup": "10%-30%",
         "marker": {
          "color": "#EF553B",
          "symbol": "circle"
         },
         "mode": "lines",
         "name": "10%-30%",
         "showlegend": false,
         "type": "scatter",
         "x": {
          "bdata": "hwDgAFUB",
          "dtype": "i2"
         },
         "xaxis": "x",
         "y": {
          "bdata": "ZppJ30ON0ED3yqULSUTZQFBNiIqZXOJA",
          "dtype": "f8"
         },
         "yaxis": "y"
        },
        {
         "customdata": [
          [
           "zephyr_z9",
           10
          ],
          [
           "thermo2ndlaw",
           9
          ],
          [
           "teortaxesTex",
           9
          ],
          [
           "LandsharkRides",
           8
          ],
          [
           "jacobrintamaki",
           6
          ],
          [
           "BasedBeffJezos",
           6
          ],
          [
           "norpadon",
           5
          ],
          [
           "scheminglunatic",
           5
          ],
          [
           "4confusedemoji",
           5
          ],
          [
           "TrustInFutures",
           5
          ],
          [
           "W98AB",
           5
          ],
          [
           "bubblebabyboi",
           5
          ],
          [
           "halogen1048576",
           5
          ],
          [
           "brickroad7",
           5
          ],
          [
           "riversposting",
           4
          ],
          [
           "mikeofpol",
           4
          ],
          [
           "lanadunhamcel",
           4
          ],
          [
           "lucky_strikes_x",
           4
          ],
          [
           "matthew_pines",
           4
          ],
          [
           "goodalexander",
           4
          ],
          [
           "abcampbell",
           4
          ],
          [
           "f4talStrategies",
           4
          ],
          [
           "TheStalwart",
           4
          ],
          [
           "1bharadvaja",
           4
          ]
         ],
         "hovertemplate": "reply_count_category=30%-60%<br>total_likes=%{x}<br>total_views=%{y}<br>inReplyToUsername=%{customdata[0]}<br>reply_count=%{customdata[1]}<extra></extra>",
         "legendgroup": "30%-60%",
         "marker": {
          "color": "#00cc96",
          "symbol": "circle"
         },
         "mode": "markers",
         "name": "30%-60%",
         "orientation": "v",
         "showlegend": true,
         "type": "scatter",
         "x": {
          "bdata": "PAAgALsAUgAbAGgADgATABUA1gGIAJAAQAAwAB0AEAAeAB0ACwDiARwAQgAiABoA",
          "dtype": "i2"
         },
         "xaxis": "x",
         "y": {
          "bdata": "BQ8AAM0aAACUKQAA/hEAAEUHAACTVgEAGQMAAE4FAACuCAAA9B4CAHYoAABrjwAAdw8AAD0NAAAGBgAA7AIAABwGAAD7CAAAgwUAAMQ6AQD/CAAAgA8AAMEYAADRCAAA",
          "dtype": "i4"
         },
         "yaxis": "y"
        },
        {
         "hovertemplate": "<b>OLS trendline</b><br>total_views = 232.141 * total_likes + -3536.52<br>R<sup>2</sup>=0.717392<br><br>reply_count_category=30%-60%<br>total_likes=%{x}<br>total_views=%{y} <b>(trend)</b><extra></extra>",
         "legendgroup": "30%-60%",
         "marker": {
          "color": "#00cc96",
          "symbol": "circle"
         },
         "mode": "lines",
         "name": "30%-60%",
         "showlegend": false,
         "type": "scatter",
         "x": {
          "bdata": "CwAOABAAEwAVABoAGwAcAB0AHQAeACAAIgAwADwAQABCAFIAaACIAJAAuwDWAeIB",
          "dtype": "i2"
         },
         "xaxis": "x",
         "y": {
          "bdata": "TKwGQNK3jsCw6hei5OhxwCC9bI42N2ZAOOaVki1Ri0BwhZ7DtumUQJy5t1pDhqNAMJ5MWYtWpUDGguFX0yanQFpndlYb96hAWmd2Vhv3qEDuSwtVY8eqQBYVNVLzZ65AH2+vp0EEsUAtr8GdOba9QFSFn8r0S8RA6Gk0yTwcxkAy3H7IYATHQIRu0sKARc5A2auCXYYf1EAqPtZXpmDbQL4ia1buMN1Arrdlpzh440BVoScHGcb5QA13nwY0dPpA",
          "dtype": "f8"
         },
         "yaxis": "y"
        },
        {
         "customdata": [
          [
           "30SergioMisal",
           3
          ],
          [
           "trollshevik88",
           3
          ],
          [
           "SebastianShemi",
           3
          ],
          [
           "SamoBurja",
           3
          ],
          [
           "PancakesKing1",
           3
          ],
          [
           "OPRXBT",
           3
          ],
          [
           "MazenJalloul",
           3
          ],
          [
           "StewartalsopIII",
           3
          ],
          [
           "elocinationn",
           3
          ],
          [
           "ssphinxe",
           3
          ],
          [
           "DaniloMenshikov",
           3
          ],
          [
           "markvalorian",
           3
          ],
          [
           "hhoho_haha81464",
           3
          ],
          [
           "helscom",
           3
          ],
          [
           "hallerite",
           3
          ],
          [
           "springofarete",
           3
          ],
          [
           "0x49fa98",
           3
          ],
          [
           "thiccyth0t",
           3
          ],
          [
           "Johnny2Fingersz",
           2
          ],
          [
           "brunellaism",
           2
          ],
          [
           "e_virdfr",
           2
          ],
          [
           "dystopiangf",
           2
          ],
          [
           "JamesSurowiecki",
           2
          ],
          [
           "RokoMijic",
           2
          ],
          [
           "Jacob_Hornstein",
           2
          ],
          [
           "tszzl",
           2
          ],
          [
           "Soul0Engineer",
           2
          ],
          [
           "7uomoki",
           2
          ],
          [
           "AnglesonNorman",
           2
          ],
          [
           "AndreiCroitor",
           2
          ],
          [
           "2raiseto00",
           2
          ],
          [
           "awake62978576",
           2
          ],
          [
           "KinderheimRune",
           2
          ],
          [
           "lucian___11",
           2
          ],
          [
           "nelvOfficial",
           2
          ],
          [
           "panickssery",
           2
          ],
          [
           "redaction",
           2
          ],
          [
           "schisofrenia",
           2
          ],
          [
           "radshaan",
           2
          ],
          [
           "BayesedThinker",
           2
          ],
          [
           "Bonecondor",
           2
          ]
         ],
         "hovertemplate": "reply_count_category=60%-85%<br>total_likes=%{x}<br>total_views=%{y}<br>inReplyToUsername=%{customdata[0]}<br>reply_count=%{customdata[1]}<extra></extra>",
         "legendgroup": "60%-85%",
         "marker": {
          "color": "#ab63fa",
          "symbol": "circle"
         },
         "mode": "markers",
         "name": "60%-85%",
         "orientation": "v",
         "showlegend": true,
         "type": "scatter",
         "x": {
          "bdata": "FgAnAA8APQAIABgADgAFAA8AQABHABwAQA0+ACYAJABBACMAOwATABoAKQAaAM0BBwAMABoACQAoALkAGQAKAEkALQAOACYANwAZAAQACQAsAA==",
          "dtype": "i2"
         },
         "xaxis": "x",
         "y": {
          "bdata": "GwkAAJkIAADxAwAAjhEAAJkBAADzBAAASwkAANsAAACsAwAA6BIAAIAQAABHEAAApeABANsPAABOCQAAkxAAAN0HAAAqEgAAWQoAAMMNAACXBgAAHQoAAGsDAADsqQAAaQEAADUGAAAfCAAAhgEAAFUIAAAjEQAAfQ4AAKcEAABcDgAATBAAAKcFAACnCAAAXgsAAJgDAABBAQAAOgEAALAHAAA=",
          "dtype": "i4"
         },
         "yaxis": "y"
        },
        {
         "hovertemplate": "<b>OLS trendline</b><br>total_views = 36.7144 * total_likes + 1581.37<br>R<sup>2</sup>=0.955575<br><br>reply_count_category=60%-85%<br>total_likes=%{x}<br>total_views=%{y} <b>(trend)</b><extra></extra>",
         "legendgroup": "60%-85%",
         "marker": {
          "color": "#ab63fa",
          "symbol": "circle"
         },
         "mode": "lines",
         "name": "60%-85%",
         "showlegend": false,
         "type": "scatter",
         "x": {
          "bdata": "BAAFAAcACAAJAAkACgAMAA4ADgAPAA8AEwAWABgAGQAZABoAGgAaABwAIwAkACYAJgAnACgAKQAsAC0ANwA7AD0APgBAAEEARwBJALkAzQFADQ==",
          "dtype": "i2"
         },
         "xaxis": "x",
         "y": {
          "bdata": "0kICje0Am0DqP6kiyZObQBo6902AuZxAMjee41tMnUBKNEV5N9+dQEo0RXk3351AYjHsDhNynkCSKzo6ypefQOESxLLAXqBA4RLEssBeoEBtkZd9LqigQG2Rl30uqKBAnYvlqOXNoUBBB2AJL6qiQFgEB58KPaNA5ILaaXiGo0DkgtppeIajQHABrjTmz6NAcAGuNObPo0BwAa405s+jQIj+VMrBYqRAXHQdVsJkpkDo8vAgMK6mQADwl7YLQadAAPCXtgtBp0CMbmuBeYqnQBjtPkzn06dApGsSF1UdqEBI54x3nvmoQNRlYEIMQ6lATFejLlYhrEB8UfFZDUetQJROmO/o2a1AIM1rulYjrkA4yhJQMrauQMRI5hqg/65ABqDtbRlcsECSHsE4h6WwQJlmgsvFWsBAKsFBu64S0kAw/2v4S8r+QA==",
          "dtype": "f8"
         },
         "yaxis": "y"
        },
        {
         "customdata": [
          [
           "theojaffee",
           2
          ],
          [
           "tafphorisms",
           2
          ],
          [
           "Antonio86170786",
           2
          ],
          [
           "BackPedaling112",
           2
          ],
          [
           "skipthedeck",
           2
          ],
          [
           "rudbytorector",
           2
          ],
          [
           "gettyimagepsyop",
           2
          ],
          [
           "gentle_class7",
           2
          ],
          [
           "hibiscuslotus25",
           2
          ],
          [
           "ilfascisto",
           2
          ],
          [
           "presentlyMihai",
           2
          ],
          [
           "providenceluvr",
           2
          ],
          [
           "joshqharris",
           2
          ],
          [
           "ErgodicTrace",
           2
          ],
          [
           "_vonarchimboldi",
           2
          ],
          [
           "based16z",
           2
          ],
          [
           "bayeslord",
           2
          ],
          [
           "basedcone",
           2
          ],
          [
           "Xilo_K",
           2
          ],
          [
           "andocracy",
           2
          ],
          [
           "VictoryOdes",
           2
          ],
          [
           "0xPajke",
           2
          ],
          [
           "grok",
           2
          ],
          [
           "larrystavrogin",
           2
          ],
          [
           "ClosedFormJest",
           2
          ],
          [
           "supersnowxbt",
           2
          ],
          [
           "youngtroon",
           2
          ],
          [
           "zmo_zeemo",
           2
          ],
          [
           "xlr8harder",
           2
          ],
          [
           "teodor_io",
           2
          ]
         ],
         "hovertemplate": "reply_count_category=85%-100%<br>total_likes=%{x}<br>total_views=%{y}<br>inReplyToUsername=%{customdata[0]}<br>reply_count=%{customdata[1]}<extra></extra>",
         "legendgroup": "85%-100%",
         "marker": {
          "color": "#FFA15A",
          "symbol": "circle"
         },
         "mode": "markers",
         "name": "85%-100%",
         "orientation": "v",
         "showlegend": true,
         "type": "scatter",
         "x": {
          "bdata": "dQAtADkCZwAtAAgABwADAAkALQGwAAQAFQBeAAQAEAAiABgABAAmAQsAGgARAAEACABFAA4A7ACTAAwA",
          "dtype": "i2"
         },
         "xaxis": "x",
         "y": {
          "bdata": "gxcAAIgXAAALrAAADFkAAB8KAABJAQAACgcAAGwAAAD0AQAAKV8AAHIYAACMAgAAHgwAAGwSAACyAAAAcgYAAF4HAABtCQAAdgAAAP8lAABvBAAA0wYAADsEAAD1AAAAmgEAAKEWAACiAwAA+iAAAM/CAAC6AgAA",
          "dtype": "i4"
         },
         "yaxis": "y"
        },
        {
         "hovertemplate": "<b>OLS trendline</b><br>total_views = 72.5781 * total_likes + 1135.36<br>R<sup>2</sup>=0.544901<br><br>reply_count_category=85%-100%<br>total_likes=%{x}<br>total_views=%{y} <b>(trend)</b><extra></extra>",
         "legendgroup": "85%-100%",
         "marker": {
          "color": "#FFA15A",
          "symbol": "circle"
         },
         "mode": "lines",
         "name": "85%-100%",
         "showlegend": false,
         "type": "scatter",
         "x": {
          "bdata": "AQADAAQABAAEAAcACAAIAAkACwAMAA4AEAARABUAGAAaACIALQAtAEUAXgBnAHUAkwCwAOwAJgEtATkC",
          "dtype": "i2"
         },
         "xaxis": "x",
         "y": {
          "bdata": "XeDF/LvfkkDrLEfcWySVQDLTB8yrRpZAMtMHzKtGlkAy0wfMq0aWQAjGSZubrZlAT2wKi+vPmkBPbAqL68+aQJYSy3o78ptAJF9MWts2nkBsBQ1KK1mfQP0ox5TlzqBARM+HhDXxoUBoImh8XYKiQPZu6Vv9xqRAYGiKQ3V6pkCoDkszxZynQMSnTfIEJqxAJp14TF4xsUAmnXhMXjGxQNCC/Oo9/7dADJJwhbEVv0AWBHGwctHAQBMnApR+zcJAnpYUVyoOx0Bg8S4cjCrLQDroKdHx1dFA/EJEllPy1UC7iyiPVnHWQHK2gb8IuORA",
          "dtype": "f8"
         },
         "yaxis": "y"
        }
       ],
       "layout": {
        "height": 800,
        "legend": {
         "title": {
          "text": "reply_count_category"
         },
         "tracegroupgap": 0
        },
        "margin": {
         "t": 60
        },
        "template": {
         "data": {
          "bar": [
           {
            "error_x": {
             "color": "#2a3f5f"
            },
            "error_y": {
             "color": "#2a3f5f"
            },
            "marker": {
             "line": {
              "color": "#E5ECF6",
              "width": 0.5
             },
             "pattern": {
              "fillmode": "overlay",
              "size": 10,
              "solidity": 0.2
             }
            },
            "type": "bar"
           }
          ],
          "barpolar": [
           {
            "marker": {
             "line": {
              "color": "#E5ECF6",
              "width": 0.5
             },
             "pattern": {
              "fillmode": "overlay",
              "size": 10,
              "solidity": 0.2
             }
            },
            "type": "barpolar"
           }
          ],
          "carpet": [
           {
            "aaxis": {
             "endlinecolor": "#2a3f5f",
             "gridcolor": "white",
             "linecolor": "white",
             "minorgridcolor": "white",
             "startlinecolor": "#2a3f5f"
            },
            "baxis": {
             "endlinecolor": "#2a3f5f",
             "gridcolor": "white",
             "linecolor": "white",
             "minorgridcolor": "white",
             "startlinecolor": "#2a3f5f"
            },
            "type": "carpet"
           }
          ],
          "choropleth": [
           {
            "colorbar": {
             "outlinewidth": 0,
             "ticks": ""
            },
            "type": "choropleth"
           }
          ],
          "contour": [
           {
            "colorbar": {
             "outlinewidth": 0,
             "ticks": ""
            },
            "colorscale": [
             [
              0,
              "#0d0887"
             ],
             [
              0.1111111111111111,
              "#46039f"
             ],
             [
              0.2222222222222222,
              "#7201a8"
             ],
             [
              0.3333333333333333,
              "#9c179e"
             ],
             [
              0.4444444444444444,
              "#bd3786"
             ],
             [
              0.5555555555555556,
              "#d8576b"
             ],
             [
              0.6666666666666666,
              "#ed7953"
             ],
             [
              0.7777777777777778,
              "#fb9f3a"
             ],
             [
              0.8888888888888888,
              "#fdca26"
             ],
             [
              1,
              "#f0f921"
             ]
            ],
            "type": "contour"
           }
          ],
          "contourcarpet": [
           {
            "colorbar": {
             "outlinewidth": 0,
             "ticks": ""
            },
            "type": "contourcarpet"
           }
          ],
          "heatmap": [
           {
            "colorbar": {
             "outlinewidth": 0,
             "ticks": ""
            },
            "colorscale": [
             [
              0,
              "#0d0887"
             ],
             [
              0.1111111111111111,
              "#46039f"
             ],
             [
              0.2222222222222222,
              "#7201a8"
             ],
             [
              0.3333333333333333,
              "#9c179e"
             ],
             [
              0.4444444444444444,
              "#bd3786"
             ],
             [
              0.5555555555555556,
              "#d8576b"
             ],
             [
              0.6666666666666666,
              "#ed7953"
             ],
             [
              0.7777777777777778,
              "#fb9f3a"
             ],
             [
              0.8888888888888888,
              "#fdca26"
             ],
             [
              1,
              "#f0f921"
             ]
            ],
            "type": "heatmap"
           }
          ],
          "histogram": [
           {
            "marker": {
             "pattern": {
              "fillmode": "overlay",
              "size": 10,
              "solidity": 0.2
             }
            },
            "type": "histogram"
           }
          ],
          "histogram2d": [
           {
            "colorbar": {
             "outlinewidth": 0,
             "ticks": ""
            },
            "colorscale": [
             [
              0,
              "#0d0887"
             ],
             [
              0.1111111111111111,
              "#46039f"
             ],
             [
              0.2222222222222222,
              "#7201a8"
             ],
             [
              0.3333333333333333,
              "#9c179e"
             ],
             [
              0.4444444444444444,
              "#bd3786"
             ],
             [
              0.5555555555555556,
              "#d8576b"
             ],
             [
              0.6666666666666666,
              "#ed7953"
             ],
             [
              0.7777777777777778,
              "#fb9f3a"
             ],
             [
              0.8888888888888888,
              "#fdca26"
             ],
             [
              1,
              "#f0f921"
             ]
            ],
            "type": "histogram2d"
           }
          ],
          "histogram2dcontour": [
           {
            "colorbar": {
             "outlinewidth": 0,
             "ticks": ""
            },
            "colorscale": [
             [
              0,
              "#0d0887"
             ],
             [
              0.1111111111111111,
              "#46039f"
             ],
             [
              0.2222222222222222,
              "#7201a8"
             ],
             [
              0.3333333333333333,
              "#9c179e"
             ],
             [
              0.4444444444444444,
              "#bd3786"
             ],
             [
              0.5555555555555556,
              "#d8576b"
             ],
             [
              0.6666666666666666,
              "#ed7953"
             ],
             [
              0.7777777777777778,
              "#fb9f3a"
             ],
             [
              0.8888888888888888,
              "#fdca26"
             ],
             [
              1,
              "#f0f921"
             ]
            ],
            "type": "histogram2dcontour"
           }
          ],
          "mesh3d": [
           {
            "colorbar": {
             "outlinewidth": 0,
             "ticks": ""
            },
            "type": "mesh3d"
           }
          ],
          "parcoords": [
           {
            "line": {
             "colorbar": {
              "outlinewidth": 0,
              "ticks": ""
             }
            },
            "type": "parcoords"
           }
          ],
          "pie": [
           {
            "automargin": true,
            "type": "pie"
           }
          ],
          "scatter": [
           {
            "fillpattern": {
             "fillmode": "overlay",
             "size": 10,
             "solidity": 0.2
            },
            "type": "scatter"
           }
          ],
          "scatter3d": [
           {
            "line": {
             "colorbar": {
              "outlinewidth": 0,
              "ticks": ""
             }
            },
            "marker": {
             "colorbar": {
              "outlinewidth": 0,
              "ticks": ""
             }
            },
            "type": "scatter3d"
           }
          ],
          "scattercarpet": [
           {
            "marker": {
             "colorbar": {
              "outlinewidth": 0,
              "ticks": ""
             }
            },
            "type": "scattercarpet"
           }
          ],
          "scattergeo": [
           {
            "marker": {
             "colorbar": {
              "outlinewidth": 0,
              "ticks": ""
             }
            },
            "type": "scattergeo"
           }
          ],
          "scattergl": [
           {
            "marker": {
             "colorbar": {
              "outlinewidth": 0,
              "ticks": ""
             }
            },
            "type": "scattergl"
           }
          ],
          "scattermap": [
           {
            "marker": {
             "colorbar": {
              "outlinewidth": 0,
              "ticks": ""
             }
            },
            "type": "scattermap"
           }
          ],
          "scattermapbox": [
           {
            "marker": {
             "colorbar": {
              "outlinewidth": 0,
              "ticks": ""
             }
            },
            "type": "scattermapbox"
           }
          ],
          "scatterpolar": [
           {
            "marker": {
             "colorbar": {
              "outlinewidth": 0,
              "ticks": ""
             }
            },
            "type": "scatterpolar"
           }
          ],
          "scatterpolargl": [
           {
            "marker": {
             "colorbar": {
              "outlinewidth": 0,
              "ticks": ""
             }
            },
            "type": "scatterpolargl"
           }
          ],
          "scatterternary": [
           {
            "marker": {
             "colorbar": {
              "outlinewidth": 0,
              "ticks": ""
             }
            },
            "type": "scatterternary"
           }
          ],
          "surface": [
           {
            "colorbar": {
             "outlinewidth": 0,
             "ticks": ""
            },
            "colorscale": [
             [
              0,
              "#0d0887"
             ],
             [
              0.1111111111111111,
              "#46039f"
             ],
             [
              0.2222222222222222,
              "#7201a8"
             ],
             [
              0.3333333333333333,
              "#9c179e"
             ],
             [
              0.4444444444444444,
              "#bd3786"
             ],
             [
              0.5555555555555556,
              "#d8576b"
             ],
             [
              0.6666666666666666,
              "#ed7953"
             ],
             [
              0.7777777777777778,
              "#fb9f3a"
             ],
             [
              0.8888888888888888,
              "#fdca26"
             ],
             [
              1,
              "#f0f921"
             ]
            ],
            "type": "surface"
           }
          ],
          "table": [
           {
            "cells": {
             "fill": {
              "color": "#EBF0F8"
             },
             "line": {
              "color": "white"
             }
            },
            "header": {
             "fill": {
              "color": "#C8D4E3"
             },
             "line": {
              "color": "white"
             }
            },
            "type": "table"
           }
          ]
         },
         "layout": {
          "annotationdefaults": {
           "arrowcolor": "#2a3f5f",
           "arrowhead": 0,
           "arrowwidth": 1
          },
          "autotypenumbers": "strict",
          "coloraxis": {
           "colorbar": {
            "outlinewidth": 0,
            "ticks": ""
           }
          },
          "colorscale": {
           "diverging": [
            [
             0,
             "#8e0152"
            ],
            [
             0.1,
             "#c51b7d"
            ],
            [
             0.2,
             "#de77ae"
            ],
            [
             0.3,
             "#f1b6da"
            ],
            [
             0.4,
             "#fde0ef"
            ],
            [
             0.5,
             "#f7f7f7"
            ],
            [
             0.6,
             "#e6f5d0"
            ],
            [
             0.7,
             "#b8e186"
            ],
            [
             0.8,
             "#7fbc41"
            ],
            [
             0.9,
             "#4d9221"
            ],
            [
             1,
             "#276419"
            ]
           ],
           "sequential": [
            [
             0,
             "#0d0887"
            ],
            [
             0.1111111111111111,
             "#46039f"
            ],
            [
             0.2222222222222222,
             "#7201a8"
            ],
            [
             0.3333333333333333,
             "#9c179e"
            ],
            [
             0.4444444444444444,
             "#bd3786"
            ],
            [
             0.5555555555555556,
             "#d8576b"
            ],
            [
             0.6666666666666666,
             "#ed7953"
            ],
            [
             0.7777777777777778,
             "#fb9f3a"
            ],
            [
             0.8888888888888888,
             "#fdca26"
            ],
            [
             1,
             "#f0f921"
            ]
           ],
           "sequentialminus": [
            [
             0,
             "#0d0887"
            ],
            [
             0.1111111111111111,
             "#46039f"
            ],
            [
             0.2222222222222222,
             "#7201a8"
            ],
            [
             0.3333333333333333,
             "#9c179e"
            ],
            [
             0.4444444444444444,
             "#bd3786"
            ],
            [
             0.5555555555555556,
             "#d8576b"
            ],
            [
             0.6666666666666666,
             "#ed7953"
            ],
            [
             0.7777777777777778,
             "#fb9f3a"
            ],
            [
             0.8888888888888888,
             "#fdca26"
            ],
            [
             1,
             "#f0f921"
            ]
           ]
          },
          "colorway": [
           "#636efa",
           "#EF553B",
           "#00cc96",
           "#ab63fa",
           "#FFA15A",
           "#19d3f3",
           "#FF6692",
           "#B6E880",
           "#FF97FF",
           "#FECB52"
          ],
          "font": {
           "color": "#2a3f5f"
          },
          "geo": {
           "bgcolor": "white",
           "lakecolor": "white",
           "landcolor": "#E5ECF6",
           "showlakes": true,
           "showland": true,
           "subunitcolor": "white"
          },
          "hoverlabel": {
           "align": "left"
          },
          "hovermode": "closest",
          "mapbox": {
           "style": "light"
          },
          "paper_bgcolor": "white",
          "plot_bgcolor": "#E5ECF6",
          "polar": {
           "angularaxis": {
            "gridcolor": "white",
            "linecolor": "white",
            "ticks": ""
           },
           "bgcolor": "#E5ECF6",
           "radialaxis": {
            "gridcolor": "white",
            "linecolor": "white",
            "ticks": ""
           }
          },
          "scene": {
           "xaxis": {
            "backgroundcolor": "#E5ECF6",
            "gridcolor": "white",
            "gridwidth": 2,
            "linecolor": "white",
            "showbackground": true,
            "ticks": "",
            "zerolinecolor": "white"
           },
           "yaxis": {
            "backgroundcolor": "#E5ECF6",
            "gridcolor": "white",
            "gridwidth": 2,
            "linecolor": "white",
            "showbackground": true,
            "ticks": "",
            "zerolinecolor": "white"
           },
           "zaxis": {
            "backgroundcolor": "#E5ECF6",
            "gridcolor": "white",
            "gridwidth": 2,
            "linecolor": "white",
            "showbackground": true,
            "ticks": "",
            "zerolinecolor": "white"
           }
          },
          "shapedefaults": {
           "line": {
            "color": "#2a3f5f"
           }
          },
          "ternary": {
           "aaxis": {
            "gridcolor": "white",
            "linecolor": "white",
            "ticks": ""
           },
           "baxis": {
            "gridcolor": "white",
            "linecolor": "white",
            "ticks": ""
           },
           "bgcolor": "#E5ECF6",
           "caxis": {
            "gridcolor": "white",
            "linecolor": "white",
            "ticks": ""
           }
          },
          "title": {
           "x": 0.05
          },
          "xaxis": {
           "automargin": true,
           "gridcolor": "white",
           "linecolor": "white",
           "ticks": "",
           "title": {
            "standoff": 15
           },
           "zerolinecolor": "white",
           "zerolinewidth": 2
          },
          "yaxis": {
           "automargin": true,
           "gridcolor": "white",
           "linecolor": "white",
           "ticks": "",
           "title": {
            "standoff": 15
           },
           "zerolinecolor": "white",
           "zerolinewidth": 2
          }
         }
        },
        "xaxis": {
         "anchor": "y",
         "domain": [
          0,
          1
         ],
         "title": {
          "text": "total_likes"
         }
        },
        "yaxis": {
         "anchor": "x",
         "domain": [
          0,
          1
         ],
         "title": {
          "text": "total_views"
         },
         "type": "log"
        }
       }
      }
     },
     "metadata": {},
     "output_type": "display_data"
    },
    {
     "data": {
      "application/vnd.plotly.v1+json": {
       "config": {
        "plotlyServerURL": "https://plot.ly"
       },
       "data": [
        {
         "customdata": [
          [
           "_AashishReddy",
           37
          ]
         ],
         "hovertemplate": "reply_count_category=Top-10%<br>total_replies=%{x}<br>total_views=%{y}<br>inReplyToUsername=%{customdata[0]}<br>reply_count=%{customdata[1]}<extra></extra>",
         "legendgroup": "Top-10%",
         "marker": {
          "color": "#636efa",
          "symbol": "circle"
         },
         "mode": "markers",
         "name": "Top-10%",
         "orientation": "v",
         "showlegend": true,
         "type": "scatter",
         "x": {
          "bdata": "Kg==",
          "dtype": "i1"
         },
         "xaxis": "x",
         "y": {
          "bdata": "v+cAAA==",
          "dtype": "i4"
         },
         "yaxis": "y"
        },
        {
         "hovertemplate": "reply_count_category=Top-10%<extra></extra>",
         "legendgroup": "Top-10%",
         "marker": {
          "color": "#636efa",
          "symbol": "circle"
         },
         "mode": "lines",
         "name": "Top-10%",
         "showlegend": false,
         "type": "scatter",
         "xaxis": "x",
         "yaxis": "y"
        },
        {
         "customdata": [
          [
           "Abel_summation",
           32
          ],
          [
           "oxbquant",
           32
          ],
          [
           "TenreiroDaniel",
           11
          ]
         ],
         "hovertemplate": "reply_count_category=10%-30%<br>total_replies=%{x}<br>total_views=%{y}<br>inReplyToUsername=%{customdata[0]}<br>reply_count=%{customdata[1]}<extra></extra>",
         "legendgroup": "10%-30%",
         "marker": {
          "color": "#EF553B",
          "symbol": "circle"
         },
         "mode": "markers",
         "name": "10%-30%",
         "orientation": "v",
         "showlegend": true,
         "type": "scatter",
         "x": {
          "bdata": "GQwD",
          "dtype": "i1"
         },
         "xaxis": "x",
         "y": {
          "bdata": "2IwAABJzAABBOgAA",
          "dtype": "i4"
         },
         "yaxis": "y"
        },
        {
         "hovertemplate": "<b>OLS trendline</b><br>total_views = 928.917 * total_replies + 14423.4<br>R<sup>2</sup>=0.902070<br><br>reply_count_category=10%-30%<br>total_replies=%{x}<br>total_views=%{y} <b>(trend)</b><extra></extra>",
         "legendgroup": "10%-30%",
         "marker": {
          "color": "#EF553B",
          "symbol": "circle"
         },
         "mode": "lines",
         "name": "10%-30%",
         "showlegend": false,
         "type": "scatter",
         "x": {
          "bdata": "AwwZ",
          "dtype": "i1"
         },
         "xaxis": "x",
         "y": {
          "bdata": "YsxVS4zO0ECqQ9FsnPjYQPt37KPLYeJA",
          "dtype": "f8"
         },
         "yaxis": "y"
        },
        {
         "customdata": [
          [
           "zephyr_z9",
           10
          ],
          [
           "thermo2ndlaw",
           9
          ],
          [
           "teortaxesTex",
           9
          ],
          [
           "LandsharkRides",
           8
          ],
          [
           "jacobrintamaki",
           6
          ],
          [
           "BasedBeffJezos",
           6
          ],
          [
           "norpadon",
           5
          ],
          [
           "scheminglunatic",
           5
          ],
          [
           "4confusedemoji",
           5
          ],
          [
           "TrustInFutures",
           5
          ],
          [
           "W98AB",
           5
          ],
          [
           "bubblebabyboi",
           5
          ],
          [
           "halogen1048576",
           5
          ],
          [
           "brickroad7",
           5
          ],
          [
           "riversposting",
           4
          ],
          [
           "mikeofpol",
           4
          ],
          [
           "lanadunhamcel",
           4
          ],
          [
           "lucky_strikes_x",
           4
          ],
          [
           "matthew_pines",
           4
          ],
          [
           "goodalexander",
           4
          ],
          [
           "abcampbell",
           4
          ],
          [
           "f4talStrategies",
           4
          ],
          [
           "TheStalwart",
           4
          ],
          [
           "1bharadvaja",
           4
          ]
         ],
         "hovertemplate": "reply_count_category=30%-60%<br>total_replies=%{x}<br>total_views=%{y}<br>inReplyToUsername=%{customdata[0]}<br>reply_count=%{customdata[1]}<extra></extra>",
         "legendgroup": "30%-60%",
         "marker": {
          "color": "#00cc96",
          "symbol": "circle"
         },
         "mode": "markers",
         "name": "30%-60%",
         "orientation": "v",
         "showlegend": true,
         "type": "scatter",
         "x": {
          "bdata": "BQUFBgEIBAcJDgYDAgICBAMCBwQBAAEB",
          "dtype": "i1"
         },
         "xaxis": "x",
         "y": {
          "bdata": "BQ8AAM0aAACUKQAA/hEAAEUHAACTVgEAGQMAAE4FAACuCAAA9B4CAHYoAABrjwAAdw8AAD0NAAAGBgAA7AIAABwGAAD7CAAAgwUAAMQ6AQD/CAAAgA8AAMEYAADRCAAA",
          "dtype": "i4"
         },
         "yaxis": "y"
        },
        {
         "hovertemplate": "<b>OLS trendline</b><br>total_views = 6677.44 * total_replies + -11032.7<br>R<sup>2</sup>=0.379103<br><br>reply_count_category=30%-60%<br>total_replies=%{x}<br>total_views=%{y} <b>(trend)</b><extra></extra>",
         "legendgroup": "30%-60%",
         "marker": {
          "color": "#00cc96",
          "symbol": "circle"
         },
         "mode": "lines",
         "name": "30%-60%",
         "showlegend": false,
         "type": "scatter",
         "x": {
          "bdata": "AAEBAQECAgICAwMEBAQFBQUGBgcHCAkO",
          "dtype": "i1"
         },
         "xaxis": "x",
         "y": {
          "bdata": "vpyMQlSMxcB4rncVOAOxwHiudxU4A7HAeK53FTgDscB4rncVOAOxwBi5U7RwJKJAGLlTtHAkokAYuVO0cCSiQBi5U7RwJKJAyLPlZNSTwUDIs+Vk1JPBQEp5tpyMns5ASnm2nIyezkBKebacjJ7OQGWfQ2qi1NVAZZ9DaqLU1UBln0NqotTVQCcCLIb+WdxAJwIshv5Z3EB0MgpRrW/hQHQyClGtb+FA1GP+Xluy5EA0lfJsCfXnQAzGW9k3IfRA",
          "dtype": "f8"
         },
         "yaxis": "y"
        },
        {
         "customdata": [
          [
           "30SergioMisal",
           3
          ],
          [
           "trollshevik88",
           3
          ],
          [
           "SebastianShemi",
           3
          ],
          [
           "SamoBurja",
           3
          ],
          [
           "PancakesKing1",
           3
          ],
          [
           "OPRXBT",
           3
          ],
          [
           "MazenJalloul",
           3
          ],
          [
           "StewartalsopIII",
           3
          ],
          [
           "elocinationn",
           3
          ],
          [
           "ssphinxe",
           3
          ],
          [
           "DaniloMenshikov",
           3
          ],
          [
           "markvalorian",
           3
          ],
          [
           "hhoho_haha81464",
           3
          ],
          [
           "helscom",
           3
          ],
          [
           "hallerite",
           3
          ],
          [
           "springofarete",
           3
          ],
          [
           "0x49fa98",
           3
          ],
          [
           "thiccyth0t",
           3
          ],
          [
           "Johnny2Fingersz",
           2
          ],
          [
           "brunellaism",
           2
          ],
          [
           "e_virdfr",
           2
          ],
          [
           "dystopiangf",
           2
          ],
          [
           "JamesSurowiecki",
           2
          ],
          [
           "RokoMijic",
           2
          ],
          [
           "Jacob_Hornstein",
           2
          ],
          [
           "tszzl",
           2
          ],
          [
           "Soul0Engineer",
           2
          ],
          [
           "7uomoki",
           2
          ],
          [
           "AnglesonNorman",
           2
          ],
          [
           "AndreiCroitor",
           2
          ],
          [
           "2raiseto00",
           2
          ],
          [
           "awake62978576",
           2
          ],
          [
           "KinderheimRune",
           2
          ],
          [
           "lucian___11",
           2
          ],
          [
           "nelvOfficial",
           2
          ],
          [
           "panickssery",
           2
          ],
          [
           "redaction",
           2
          ],
          [
           "schisofrenia",
           2
          ],
          [
           "radshaan",
           2
          ],
          [
           "BayesedThinker",
           2
          ],
          [
           "Bonecondor",
           2
          ]
         ],
         "hovertemplate": "reply_count_category=60%-85%<br>total_replies=%{x}<br>total_views=%{y}<br>inReplyToUsername=%{customdata[0]}<br>reply_count=%{customdata[1]}<extra></extra>",
         "legendgroup": "60%-85%",
         "marker": {
          "color": "#ab63fa",
          "symbol": "circle"
         },
         "mode": "markers",
         "name": "60%-85%",
         "orientation": "v",
         "showlegend": true,
         "type": "scatter",
         "x": {
          "bdata": "AgICBgMBBgIBAwIEeAMDAAIAAwMCAAEUAQECAQMIAQIAAwAEAwABAAM=",
          "dtype": "i1"
         },
         "xaxis": "x",
         "y": {
          "bdata": "GwkAAJkIAADxAwAAjhEAAJkBAADzBAAASwkAANsAAACsAwAA6BIAAIAQAABHEAAApeABANsPAABOCQAAkxAAAN0HAAAqEgAAWQoAAMMNAACXBgAAHQoAAGsDAADsqQAAaQEAADUGAAAfCAAAhgEAAFUIAAAjEQAAfQ4AAKcEAABcDgAATBAAAKcFAACnCAAAXgsAAJgDAABBAQAAOgEAALAHAAA=",
          "dtype": "i4"
         },
         "yaxis": "y"
        },
        {
         "hovertemplate": "<b>OLS trendline</b><br>total_views = 1042 * total_replies + 587.059<br>R<sup>2</sup>=0.959351<br><br>reply_count_category=60%-85%<br>total_replies=%{x}<br>total_views=%{y} <b>(trend)</b><extra></extra>",
         "legendgroup": "60%-85%",
         "marker": {
          "color": "#ab63fa",
          "symbol": "circle"
         },
         "mode": "lines",
         "name": "60%-85%",
         "showlegend": false,
         "type": "scatter",
         "x": {
          "bdata": "AAAAAAAAAAEBAQEBAQEBAgICAgICAgICAwMDAwMDAwMDAwQEBgYIFHg=",
          "dtype": "i1"
         },
         "xaxis": "x",
         "y": {
          "bdata": "eUg3znhYgkB5SDfOeFiCQHlIN854WIJAeUg3znhYgkB5SDfOeFiCQHlIN854WIJAeUg3znhYgkAu3mB9OnSZQC7eYH06dJlALt5gfTp0mUAu3mB9OnSZQC7eYH06dJlALt5gfTp0mUAu3mB9OnSZQC7eYH06dJlAEAzTSRzepEAQDNNJHN6kQBAM00kc3qRAEAzTSRzepEAQDNNJHN6kQBAM00kc3qRAEAzTSRzepEAQDNNJHN6kQBAM00kc3qRACan1VBsCrUAJqfVUGwKtQAmp9VQbAq1ACan1VBsCrUAJqfVUGwKtQAmp9VQbAq1ACan1VBsCrUAJqfVUGwKtQAmp9VQbAq1ACan1VBsCrUABIwwwDZOyQAEjDDANk7JA+r8uOwy3ukD6vy47DLe6QHquKKOFbcFAskJIYsHs1EA3O15brav+QA==",
          "dtype": "f8"
         },
         "yaxis": "y"
        },
        {
         "customdata": [
          [
           "theojaffee",
           2
          ],
          [
           "tafphorisms",
           2
          ],
          [
           "Antonio86170786",
           2
          ],
          [
           "BackPedaling112",
           2
          ],
          [
           "skipthedeck",
           2
          ],
          [
           "rudbytorector",
           2
          ],
          [
           "gettyimagepsyop",
           2
          ],
          [
           "gentle_class7",
           2
          ],
          [
           "hibiscuslotus25",
           2
          ],
          [
           "ilfascisto",
           2
          ],
          [
           "presentlyMihai",
           2
          ],
          [
           "providenceluvr",
           2
          ],
          [
           "joshqharris",
           2
          ],
          [
           "ErgodicTrace",
           2
          ],
          [
           "_vonarchimboldi",
           2
          ],
          [
           "based16z",
           2
          ],
          [
           "bayeslord",
           2
          ],
          [
           "basedcone",
           2
          ],
          [
           "Xilo_K",
           2
          ],
          [
           "andocracy",
           2
          ],
          [
           "VictoryOdes",
           2
          ],
          [
           "0xPajke",
           2
          ],
          [
           "grok",
           2
          ],
          [
           "larrystavrogin",
           2
          ],
          [
           "ClosedFormJest",
           2
          ],
          [
           "supersnowxbt",
           2
          ],
          [
           "youngtroon",
           2
          ],
          [
           "zmo_zeemo",
           2
          ],
          [
           "xlr8harder",
           2
          ],
          [
           "teodor_io",
           2
          ]
         ],
         "hovertemplate": "reply_count_category=85%-100%<br>total_replies=%{x}<br>total_views=%{y}<br>inReplyToUsername=%{customdata[0]}<br>reply_count=%{customdata[1]}<extra></extra>",
         "legendgroup": "85%-100%",
         "marker": {
          "color": "#FFA15A",
          "symbol": "circle"
         },
         "mode": "markers",
         "name": "85%-100%",
         "orientation": "v",
         "showlegend": true,
         "type": "scatter",
         "x": {
          "bdata": "BAICBAQBAQICBwwBAgYBAAICAQgBAQMAAgEDCwIA",
          "dtype": "i1"
         },
         "xaxis": "x",
         "y": {
          "bdata": "gxcAAIgXAAALrAAADFkAAB8KAABJAQAACgcAAGwAAAD0AQAAKV8AAHIYAACMAgAAHgwAAGwSAACyAAAAcgYAAF4HAABtCQAAdgAAAP8lAABvBAAA0wYAADsEAAD1AAAAmgEAAKEWAACiAwAA+iAAAM/CAAC6AgAA",
          "dtype": "i4"
         },
         "yaxis": "y"
        },
        {
         "hovertemplate": "<b>OLS trendline</b><br>total_views = 713.975 * total_replies + 4893.24<br>R<sup>2</sup>=0.030468<br><br>reply_count_category=85%-100%<br>total_replies=%{x}<br>total_views=%{y} <b>(trend)</b><extra></extra>",
         "legendgroup": "85%-100%",
         "marker": {
          "color": "#FFA15A",
          "symbol": "circle"
         },
         "mode": "lines",
         "name": "85%-100%",
         "showlegend": false,
         "type": "scatter",
         "x": {
          "bdata": "AAAAAQEBAQEBAQECAgICAgICAgIDAwQEBAYHCAsM",
          "dtype": "i1"
         },
         "xaxis": "x",
         "y": {
          "bdata": "Cu8Zfz0ds0AK7xl/PR2zQArvGX89HbNA0XTFEzfntUDRdMUTN+e1QNF0xRM357VA0XTFEzfntUDRdMUTN+e1QNF0xRM357VA0XTFEzfntUDRdMUTN+e1QJj6cKgwsbhAmPpwqDCxuECY+nCoMLG4QJj6cKgwsbhAmPpwqDCxuECY+nCoMLG4QJj6cKgwsbhAmPpwqDCxuECY+nCoMLG4QF6AHD0qe7tAXoAcPSp7u0AmBsjRI0W+QCYGyNEjRb5AJgbI0SNFvkDaiI99i+zBQL1L5UeIUcNAoA47EoW2xEBLVzxxe+XIQC4akjt4SspA",
          "dtype": "f8"
         },
         "yaxis": "y"
        }
       ],
       "layout": {
        "height": 800,
        "legend": {
         "title": {
          "text": "reply_count_category"
         },
         "tracegroupgap": 0
        },
        "margin": {
         "t": 60
        },
        "template": {
         "data": {
          "bar": [
           {
            "error_x": {
             "color": "#2a3f5f"
            },
            "error_y": {
             "color": "#2a3f5f"
            },
            "marker": {
             "line": {
              "color": "#E5ECF6",
              "width": 0.5
             },
             "pattern": {
              "fillmode": "overlay",
              "size": 10,
              "solidity": 0.2
             }
            },
            "type": "bar"
           }
          ],
          "barpolar": [
           {
            "marker": {
             "line": {
              "color": "#E5ECF6",
              "width": 0.5
             },
             "pattern": {
              "fillmode": "overlay",
              "size": 10,
              "solidity": 0.2
             }
            },
            "type": "barpolar"
           }
          ],
          "carpet": [
           {
            "aaxis": {
             "endlinecolor": "#2a3f5f",
             "gridcolor": "white",
             "linecolor": "white",
             "minorgridcolor": "white",
             "startlinecolor": "#2a3f5f"
            },
            "baxis": {
             "endlinecolor": "#2a3f5f",
             "gridcolor": "white",
             "linecolor": "white",
             "minorgridcolor": "white",
             "startlinecolor": "#2a3f5f"
            },
            "type": "carpet"
           }
          ],
          "choropleth": [
           {
            "colorbar": {
             "outlinewidth": 0,
             "ticks": ""
            },
            "type": "choropleth"
           }
          ],
          "contour": [
           {
            "colorbar": {
             "outlinewidth": 0,
             "ticks": ""
            },
            "colorscale": [
             [
              0,
              "#0d0887"
             ],
             [
              0.1111111111111111,
              "#46039f"
             ],
             [
              0.2222222222222222,
              "#7201a8"
             ],
             [
              0.3333333333333333,
              "#9c179e"
             ],
             [
              0.4444444444444444,
              "#bd3786"
             ],
             [
              0.5555555555555556,
              "#d8576b"
             ],
             [
              0.6666666666666666,
              "#ed7953"
             ],
             [
              0.7777777777777778,
              "#fb9f3a"
             ],
             [
              0.8888888888888888,
              "#fdca26"
             ],
             [
              1,
              "#f0f921"
             ]
            ],
            "type": "contour"
           }
          ],
          "contourcarpet": [
           {
            "colorbar": {
             "outlinewidth": 0,
             "ticks": ""
            },
            "type": "contourcarpet"
           }
          ],
          "heatmap": [
           {
            "colorbar": {
             "outlinewidth": 0,
             "ticks": ""
            },
            "colorscale": [
             [
              0,
              "#0d0887"
             ],
             [
              0.1111111111111111,
              "#46039f"
             ],
             [
              0.2222222222222222,
              "#7201a8"
             ],
             [
              0.3333333333333333,
              "#9c179e"
             ],
             [
              0.4444444444444444,
              "#bd3786"
             ],
             [
              0.5555555555555556,
              "#d8576b"
             ],
             [
              0.6666666666666666,
              "#ed7953"
             ],
             [
              0.7777777777777778,
              "#fb9f3a"
             ],
             [
              0.8888888888888888,
              "#fdca26"
             ],
             [
              1,
              "#f0f921"
             ]
            ],
            "type": "heatmap"
           }
          ],
          "histogram": [
           {
            "marker": {
             "pattern": {
              "fillmode": "overlay",
              "size": 10,
              "solidity": 0.2
             }
            },
            "type": "histogram"
           }
          ],
          "histogram2d": [
           {
            "colorbar": {
             "outlinewidth": 0,
             "ticks": ""
            },
            "colorscale": [
             [
              0,
              "#0d0887"
             ],
             [
              0.1111111111111111,
              "#46039f"
             ],
             [
              0.2222222222222222,
              "#7201a8"
             ],
             [
              0.3333333333333333,
              "#9c179e"
             ],
             [
              0.4444444444444444,
              "#bd3786"
             ],
             [
              0.5555555555555556,
              "#d8576b"
             ],
             [
              0.6666666666666666,
              "#ed7953"
             ],
             [
              0.7777777777777778,
              "#fb9f3a"
             ],
             [
              0.8888888888888888,
              "#fdca26"
             ],
             [
              1,
              "#f0f921"
             ]
            ],
            "type": "histogram2d"
           }
          ],
          "histogram2dcontour": [
           {
            "colorbar": {
             "outlinewidth": 0,
             "ticks": ""
            },
            "colorscale": [
             [
              0,
              "#0d0887"
             ],
             [
              0.1111111111111111,
              "#46039f"
             ],
             [
              0.2222222222222222,
              "#7201a8"
             ],
             [
              0.3333333333333333,
              "#9c179e"
             ],
             [
              0.4444444444444444,
              "#bd3786"
             ],
             [
              0.5555555555555556,
              "#d8576b"
             ],
             [
              0.6666666666666666,
              "#ed7953"
             ],
             [
              0.7777777777777778,
              "#fb9f3a"
             ],
             [
              0.8888888888888888,
              "#fdca26"
             ],
             [
              1,
              "#f0f921"
             ]
            ],
            "type": "histogram2dcontour"
           }
          ],
          "mesh3d": [
           {
            "colorbar": {
             "outlinewidth": 0,
             "ticks": ""
            },
            "type": "mesh3d"
           }
          ],
          "parcoords": [
           {
            "line": {
             "colorbar": {
              "outlinewidth": 0,
              "ticks": ""
             }
            },
            "type": "parcoords"
           }
          ],
          "pie": [
           {
            "automargin": true,
            "type": "pie"
           }
          ],
          "scatter": [
           {
            "fillpattern": {
             "fillmode": "overlay",
             "size": 10,
             "solidity": 0.2
            },
            "type": "scatter"
           }
          ],
          "scatter3d": [
           {
            "line": {
             "colorbar": {
              "outlinewidth": 0,
              "ticks": ""
             }
            },
            "marker": {
             "colorbar": {
              "outlinewidth": 0,
              "ticks": ""
             }
            },
            "type": "scatter3d"
           }
          ],
          "scattercarpet": [
           {
            "marker": {
             "colorbar": {
              "outlinewidth": 0,
              "ticks": ""
             }
            },
            "type": "scattercarpet"
           }
          ],
          "scattergeo": [
           {
            "marker": {
             "colorbar": {
              "outlinewidth": 0,
              "ticks": ""
             }
            },
            "type": "scattergeo"
           }
          ],
          "scattergl": [
           {
            "marker": {
             "colorbar": {
              "outlinewidth": 0,
              "ticks": ""
             }
            },
            "type": "scattergl"
           }
          ],
          "scattermap": [
           {
            "marker": {
             "colorbar": {
              "outlinewidth": 0,
              "ticks": ""
             }
            },
            "type": "scattermap"
           }
          ],
          "scattermapbox": [
           {
            "marker": {
             "colorbar": {
              "outlinewidth": 0,
              "ticks": ""
             }
            },
            "type": "scattermapbox"
           }
          ],
          "scatterpolar": [
           {
            "marker": {
             "colorbar": {
              "outlinewidth": 0,
              "ticks": ""
             }
            },
            "type": "scatterpolar"
           }
          ],
          "scatterpolargl": [
           {
            "marker": {
             "colorbar": {
              "outlinewidth": 0,
              "ticks": ""
             }
            },
            "type": "scatterpolargl"
           }
          ],
          "scatterternary": [
           {
            "marker": {
             "colorbar": {
              "outlinewidth": 0,
              "ticks": ""
             }
            },
            "type": "scatterternary"
           }
          ],
          "surface": [
           {
            "colorbar": {
             "outlinewidth": 0,
             "ticks": ""
            },
            "colorscale": [
             [
              0,
              "#0d0887"
             ],
             [
              0.1111111111111111,
              "#46039f"
             ],
             [
              0.2222222222222222,
              "#7201a8"
             ],
             [
              0.3333333333333333,
              "#9c179e"
             ],
             [
              0.4444444444444444,
              "#bd3786"
             ],
             [
              0.5555555555555556,
              "#d8576b"
             ],
             [
              0.6666666666666666,
              "#ed7953"
             ],
             [
              0.7777777777777778,
              "#fb9f3a"
             ],
             [
              0.8888888888888888,
              "#fdca26"
             ],
             [
              1,
              "#f0f921"
             ]
            ],
            "type": "surface"
           }
          ],
          "table": [
           {
            "cells": {
             "fill": {
              "color": "#EBF0F8"
             },
             "line": {
              "color": "white"
             }
            },
            "header": {
             "fill": {
              "color": "#C8D4E3"
             },
             "line": {
              "color": "white"
             }
            },
            "type": "table"
           }
          ]
         },
         "layout": {
          "annotationdefaults": {
           "arrowcolor": "#2a3f5f",
           "arrowhead": 0,
           "arrowwidth": 1
          },
          "autotypenumbers": "strict",
          "coloraxis": {
           "colorbar": {
            "outlinewidth": 0,
            "ticks": ""
           }
          },
          "colorscale": {
           "diverging": [
            [
             0,
             "#8e0152"
            ],
            [
             0.1,
             "#c51b7d"
            ],
            [
             0.2,
             "#de77ae"
            ],
            [
             0.3,
             "#f1b6da"
            ],
            [
             0.4,
             "#fde0ef"
            ],
            [
             0.5,
             "#f7f7f7"
            ],
            [
             0.6,
             "#e6f5d0"
            ],
            [
             0.7,
             "#b8e186"
            ],
            [
             0.8,
             "#7fbc41"
            ],
            [
             0.9,
             "#4d9221"
            ],
            [
             1,
             "#276419"
            ]
           ],
           "sequential": [
            [
             0,
             "#0d0887"
            ],
            [
             0.1111111111111111,
             "#46039f"
            ],
            [
             0.2222222222222222,
             "#7201a8"
            ],
            [
             0.3333333333333333,
             "#9c179e"
            ],
            [
             0.4444444444444444,
             "#bd3786"
            ],
            [
             0.5555555555555556,
             "#d8576b"
            ],
            [
             0.6666666666666666,
             "#ed7953"
            ],
            [
             0.7777777777777778,
             "#fb9f3a"
            ],
            [
             0.8888888888888888,
             "#fdca26"
            ],
            [
             1,
             "#f0f921"
            ]
           ],
           "sequentialminus": [
            [
             0,
             "#0d0887"
            ],
            [
             0.1111111111111111,
             "#46039f"
            ],
            [
             0.2222222222222222,
             "#7201a8"
            ],
            [
             0.3333333333333333,
             "#9c179e"
            ],
            [
             0.4444444444444444,
             "#bd3786"
            ],
            [
             0.5555555555555556,
             "#d8576b"
            ],
            [
             0.6666666666666666,
             "#ed7953"
            ],
            [
             0.7777777777777778,
             "#fb9f3a"
            ],
            [
             0.8888888888888888,
             "#fdca26"
            ],
            [
             1,
             "#f0f921"
            ]
           ]
          },
          "colorway": [
           "#636efa",
           "#EF553B",
           "#00cc96",
           "#ab63fa",
           "#FFA15A",
           "#19d3f3",
           "#FF6692",
           "#B6E880",
           "#FF97FF",
           "#FECB52"
          ],
          "font": {
           "color": "#2a3f5f"
          },
          "geo": {
           "bgcolor": "white",
           "lakecolor": "white",
           "landcolor": "#E5ECF6",
           "showlakes": true,
           "showland": true,
           "subunitcolor": "white"
          },
          "hoverlabel": {
           "align": "left"
          },
          "hovermode": "closest",
          "mapbox": {
           "style": "light"
          },
          "paper_bgcolor": "white",
          "plot_bgcolor": "#E5ECF6",
          "polar": {
           "angularaxis": {
            "gridcolor": "white",
            "linecolor": "white",
            "ticks": ""
           },
           "bgcolor": "#E5ECF6",
           "radialaxis": {
            "gridcolor": "white",
            "linecolor": "white",
            "ticks": ""
           }
          },
          "scene": {
           "xaxis": {
            "backgroundcolor": "#E5ECF6",
            "gridcolor": "white",
            "gridwidth": 2,
            "linecolor": "white",
            "showbackground": true,
            "ticks": "",
            "zerolinecolor": "white"
           },
           "yaxis": {
            "backgroundcolor": "#E5ECF6",
            "gridcolor": "white",
            "gridwidth": 2,
            "linecolor": "white",
            "showbackground": true,
            "ticks": "",
            "zerolinecolor": "white"
           },
           "zaxis": {
            "backgroundcolor": "#E5ECF6",
            "gridcolor": "white",
            "gridwidth": 2,
            "linecolor": "white",
            "showbackground": true,
            "ticks": "",
            "zerolinecolor": "white"
           }
          },
          "shapedefaults": {
           "line": {
            "color": "#2a3f5f"
           }
          },
          "ternary": {
           "aaxis": {
            "gridcolor": "white",
            "linecolor": "white",
            "ticks": ""
           },
           "baxis": {
            "gridcolor": "white",
            "linecolor": "white",
            "ticks": ""
           },
           "bgcolor": "#E5ECF6",
           "caxis": {
            "gridcolor": "white",
            "linecolor": "white",
            "ticks": ""
           }
          },
          "title": {
           "x": 0.05
          },
          "xaxis": {
           "automargin": true,
           "gridcolor": "white",
           "linecolor": "white",
           "ticks": "",
           "title": {
            "standoff": 15
           },
           "zerolinecolor": "white",
           "zerolinewidth": 2
          },
          "yaxis": {
           "automargin": true,
           "gridcolor": "white",
           "linecolor": "white",
           "ticks": "",
           "title": {
            "standoff": 15
           },
           "zerolinecolor": "white",
           "zerolinewidth": 2
          }
         }
        },
        "xaxis": {
         "anchor": "y",
         "domain": [
          0,
          1
         ],
         "title": {
          "text": "total_replies"
         }
        },
        "yaxis": {
         "anchor": "x",
         "domain": [
          0,
          1
         ],
         "title": {
          "text": "total_views"
         },
         "type": "log"
        }
       }
      }
     },
     "metadata": {},
     "output_type": "display_data"
    },
    {
     "data": {
      "application/vnd.plotly.v1+json": {
       "config": {
        "plotlyServerURL": "https://plot.ly"
       },
       "data": [
        {
         "customdata": [
          [
           "_AashishReddy",
           37
          ]
         ],
         "hovertemplate": "reply_count_category=Top-10%<br>total_quotes=%{x}<br>total_views=%{y}<br>inReplyToUsername=%{customdata[0]}<br>reply_count=%{customdata[1]}<extra></extra>",
         "legendgroup": "Top-10%",
         "marker": {
          "color": "#636efa",
          "symbol": "circle"
         },
         "mode": "markers",
         "name": "Top-10%",
         "orientation": "v",
         "showlegend": true,
         "type": "scatter",
         "x": {
          "bdata": "Aw==",
          "dtype": "i1"
         },
         "xaxis": "x",
         "y": {
          "bdata": "v+cAAA==",
          "dtype": "i4"
         },
         "yaxis": "y"
        },
        {
         "hovertemplate": "reply_count_category=Top-10%<extra></extra>",
         "legendgroup": "Top-10%",
         "marker": {
          "color": "#636efa",
          "symbol": "circle"
         },
         "mode": "lines",
         "name": "Top-10%",
         "showlegend": false,
         "type": "scatter",
         "xaxis": "x",
         "yaxis": "y"
        },
        {
         "customdata": [
          [
           "Abel_summation",
           32
          ],
          [
           "oxbquant",
           32
          ],
          [
           "TenreiroDaniel",
           11
          ]
         ],
         "hovertemplate": "reply_count_category=10%-30%<br>total_quotes=%{x}<br>total_views=%{y}<br>inReplyToUsername=%{customdata[0]}<br>reply_count=%{customdata[1]}<extra></extra>",
         "legendgroup": "10%-30%",
         "marker": {
          "color": "#EF553B",
          "symbol": "circle"
         },
         "mode": "markers",
         "name": "10%-30%",
         "orientation": "v",
         "showlegend": true,
         "type": "scatter",
         "x": {
          "bdata": "AAEA",
          "dtype": "i1"
         },
         "xaxis": "x",
         "y": {
          "bdata": "2IwAABJzAABBOgAA",
          "dtype": "i4"
         },
         "yaxis": "y"
        },
        {
         "hovertemplate": "<b>OLS trendline</b><br>total_views = 3973.5 * total_quotes + 25484.5<br>R<sup>2</sup>=0.044975<br><br>reply_count_category=10%-30%<br>total_quotes=%{x}<br>total_views=%{y} <b>(trend)</b><extra></extra>",
         "legendgroup": "10%-30%",
         "marker": {
          "color": "#EF553B",
          "symbol": "circle"
         },
         "mode": "lines",
         "name": "10%-30%",
         "showlegend": false,
         "type": "scatter",
         "x": {
          "bdata": "AAAB",
          "dtype": "i1"
         },
         "xaxis": "x",
         "y": {
          "bdata": "AAAAACDj2EAAAAAAIOPYQAIAAACAxNxA",
          "dtype": "f8"
         },
         "yaxis": "y"
        },
        {
         "customdata": [
          [
           "zephyr_z9",
           10
          ],
          [
           "thermo2ndlaw",
           9
          ],
          [
           "teortaxesTex",
           9
          ],
          [
           "LandsharkRides",
           8
          ],
          [
           "jacobrintamaki",
           6
          ],
          [
           "BasedBeffJezos",
           6
          ],
          [
           "norpadon",
           5
          ],
          [
           "scheminglunatic",
           5
          ],
          [
           "4confusedemoji",
           5
          ],
          [
           "TrustInFutures",
           5
          ],
          [
           "W98AB",
           5
          ],
          [
           "bubblebabyboi",
           5
          ],
          [
           "halogen1048576",
           5
          ],
          [
           "brickroad7",
           5
          ],
          [
           "riversposting",
           4
          ],
          [
           "mikeofpol",
           4
          ],
          [
           "lanadunhamcel",
           4
          ],
          [
           "lucky_strikes_x",
           4
          ],
          [
           "matthew_pines",
           4
          ],
          [
           "goodalexander",
           4
          ],
          [
           "abcampbell",
           4
          ],
          [
           "f4talStrategies",
           4
          ],
          [
           "TheStalwart",
           4
          ],
          [
           "1bharadvaja",
           4
          ]
         ],
         "hovertemplate": "reply_count_category=30%-60%<br>total_quotes=%{x}<br>total_views=%{y}<br>inReplyToUsername=%{customdata[0]}<br>reply_count=%{customdata[1]}<extra></extra>",
         "legendgroup": "30%-60%",
         "marker": {
          "color": "#00cc96",
          "symbol": "circle"
         },
         "mode": "markers",
         "name": "30%-60%",
         "orientation": "v",
         "showlegend": true,
         "type": "scatter",
         "x": {
          "bdata": "AQAAAAAAAAEBAgIAAAAAAAEAAAIAAAAA",
          "dtype": "i1"
         },
         "xaxis": "x",
         "y": {
          "bdata": "BQ8AAM0aAACUKQAA/hEAAEUHAACTVgEAGQMAAE4FAACuCAAA9B4CAHYoAABrjwAAdw8AAD0NAAAGBgAA7AIAABwGAAD7CAAAgwUAAMQ6AQD/CAAAgA8AAMEYAADRCAAA",
          "dtype": "i4"
         },
         "yaxis": "y"
        },
        {
         "hovertemplate": "<b>OLS trendline</b><br>total_views = 24962.7 * total_quotes + 6945.32<br>R<sup>2</sup>=0.262870<br><br>reply_count_category=30%-60%<br>total_quotes=%{x}<br>total_views=%{y} <b>(trend)</b><extra></extra>",
         "legendgroup": "30%-60%",
         "marker": {
          "color": "#00cc96",
          "symbol": "circle"
         },
         "mode": "lines",
         "name": "30%-60%",
         "showlegend": false,
         "type": "scatter",
         "x": {
          "bdata": "AAAAAAAAAAAAAAAAAAAAAAABAQEBAgIC",
          "dtype": "i1"
         },
         "xaxis": "x",
         "y": {
          "bdata": "VGFzIFEhu0BUYXMgUSG7QFRhcyBRIbtAVGFzIFEhu0BUYXMgUSG7QFRhcyBRIbtAVGFzIFEhu0BUYXMgUSG7QFRhcyBRIbtAVGFzIFEhu0BUYXMgUSG7QFRhcyBRIbtAVGFzIFEhu0BUYXMgUSG7QFRhcyBRIbtAVGFzIFEhu0BUYXMgUSG7QCHRCpsDKd9AIdEKmwMp30Ah0QqbAynfQCHRCpsDKd9A9mT8dtnE60D2ZPx22cTrQPZk/HbZxOtA",
          "dtype": "f8"
         },
         "yaxis": "y"
        },
        {
         "customdata": [
          [
           "30SergioMisal",
           3
          ],
          [
           "trollshevik88",
           3
          ],
          [
           "SebastianShemi",
           3
          ],
          [
           "SamoBurja",
           3
          ],
          [
           "PancakesKing1",
           3
          ],
          [
           "OPRXBT",
           3
          ],
          [
           "MazenJalloul",
           3
          ],
          [
           "StewartalsopIII",
           3
          ],
          [
           "elocinationn",
           3
          ],
          [
           "ssphinxe",
           3
          ],
          [
           "DaniloMenshikov",
           3
          ],
          [
           "markvalorian",
           3
          ],
          [
           "hhoho_haha81464",
           3
          ],
          [
           "helscom",
           3
          ],
          [
           "hallerite",
           3
          ],
          [
           "springofarete",
           3
          ],
          [
           "0x49fa98",
           3
          ],
          [
           "thiccyth0t",
           3
          ],
          [
           "Johnny2Fingersz",
           2
          ],
          [
           "brunellaism",
           2
          ],
          [
           "e_virdfr",
           2
          ],
          [
           "dystopiangf",
           2
          ],
          [
           "JamesSurowiecki",
           2
          ],
          [
           "RokoMijic",
           2
          ],
          [
           "Jacob_Hornstein",
           2
          ],
          [
           "tszzl",
           2
          ],
          [
           "Soul0Engineer",
           2
          ],
          [
           "7uomoki",
           2
          ],
          [
           "AnglesonNorman",
           2
          ],
          [
           "AndreiCroitor",
           2
          ],
          [
           "2raiseto00",
           2
          ],
          [
           "awake62978576",
           2
          ],
          [
           "KinderheimRune",
           2
          ],
          [
           "lucian___11",
           2
          ],
          [
           "nelvOfficial",
           2
          ],
          [
           "panickssery",
           2
          ],
          [
           "redaction",
           2
          ],
          [
           "schisofrenia",
           2
          ],
          [
           "radshaan",
           2
          ],
          [
           "BayesedThinker",
           2
          ],
          [
           "Bonecondor",
           2
          ]
         ],
         "hovertemplate": "reply_count_category=60%-85%<br>total_quotes=%{x}<br>total_views=%{y}<br>inReplyToUsername=%{customdata[0]}<br>reply_count=%{customdata[1]}<extra></extra>",
         "legendgroup": "60%-85%",
         "marker": {
          "color": "#ab63fa",
          "symbol": "circle"
         },
         "mode": "markers",
         "name": "60%-85%",
         "orientation": "v",
         "showlegend": true,
         "type": "scatter",
         "x": {
          "bdata": "AAAAAAAAAAAAAQAACwAAAAAAAAAAAAAAAAAAAAABAAAAAAAAAAAAAAA=",
          "dtype": "i1"
         },
         "xaxis": "x",
         "y": {
          "bdata": "GwkAAJkIAADxAwAAjhEAAJkBAADzBAAASwkAANsAAACsAwAA6BIAAIAQAABHEAAApeABANsPAABOCQAAkxAAAN0HAAAqEgAAWQoAAMMNAACXBgAAHQoAAGsDAADsqQAAaQEAADUGAAAfCAAAhgEAAFUIAAAjEQAAfQ4AAKcEAABcDgAATBAAAKcFAACnCAAAXgsAAJgDAABBAQAAOgEAALAHAAA=",
          "dtype": "i4"
         },
         "yaxis": "y"
        },
        {
         "hovertemplate": "<b>OLS trendline</b><br>total_views = 10776.4 * total_quotes + 2863<br>R<sup>2</sup>=0.878949<br><br>reply_count_category=60%-85%<br>total_quotes=%{x}<br>total_views=%{y} <b>(trend)</b><extra></extra>",
         "legendgroup": "60%-85%",
         "marker": {
          "color": "#ab63fa",
          "symbol": "circle"
         },
         "mode": "lines",
         "name": "60%-85%",
         "showlegend": false,
         "type": "scatter",
         "x": {
          "bdata": "AAAAAAAAAAAAAAAAAAAAAAAAAAAAAAAAAAAAAAAAAAAAAAAAAAABAQs=",
          "dtype": "i1"
         },
         "xaxis": "x",
         "y": {
          "bdata": "1JGEagJepkDUkYRqAl6mQNSRhGoCXqZA1JGEagJepkDUkYRqAl6mQNSRhGoCXqZA1JGEagJepkDUkYRqAl6mQNSRhGoCXqZA1JGEagJepkDUkYRqAl6mQNSRhGoCXqZA1JGEagJepkDUkYRqAl6mQNSRhGoCXqZA1JGEagJepkDUkYRqAl6mQNSRhGoCXqZA1JGEagJepkDUkYRqAl6mQNSRhGoCXqZA1JGEagJepkDUkYRqAl6mQNSRhGoCXqZA1JGEagJepkDUkYRqAl6mQNSRhGoCXqZA1JGEagJepkDUkYRqAl6mQNSRhGoCXqZA1JGEagJepkDUkYRqAl6mQNSRhGoCXqZA1JGEagJepkDUkYRqAl6mQNSRhGoCXqZA1JGEagJepkDUkYRqAl6mQJHspMa5o8pAkeykxrmjykC1V9mvvqP9QA==",
          "dtype": "f8"
         },
         "yaxis": "y"
        },
        {
         "customdata": [
          [
           "theojaffee",
           2
          ],
          [
           "tafphorisms",
           2
          ],
          [
           "Antonio86170786",
           2
          ],
          [
           "BackPedaling112",
           2
          ],
          [
           "skipthedeck",
           2
          ],
          [
           "rudbytorector",
           2
          ],
          [
           "gettyimagepsyop",
           2
          ],
          [
           "gentle_class7",
           2
          ],
          [
           "hibiscuslotus25",
           2
          ],
          [
           "ilfascisto",
           2
          ],
          [
           "presentlyMihai",
           2
          ],
          [
           "providenceluvr",
           2
          ],
          [
           "joshqharris",
           2
          ],
          [
           "ErgodicTrace",
           2
          ],
          [
           "_vonarchimboldi",
           2
          ],
          [
           "based16z",
           2
          ],
          [
           "bayeslord",
           2
          ],
          [
           "basedcone",
           2
          ],
          [
           "Xilo_K",
           2
          ],
          [
           "andocracy",
           2
          ],
          [
           "VictoryOdes",
           2
          ],
          [
           "0xPajke",
           2
          ],
          [
           "grok",
           2
          ],
          [
           "larrystavrogin",
           2
          ],
          [
           "ClosedFormJest",
           2
          ],
          [
           "supersnowxbt",
           2
          ],
          [
           "youngtroon",
           2
          ],
          [
           "zmo_zeemo",
           2
          ],
          [
           "xlr8harder",
           2
          ],
          [
           "teodor_io",
           2
          ]
         ],
         "hovertemplate": "reply_count_category=85%-100%<br>total_quotes=%{x}<br>total_views=%{y}<br>inReplyToUsername=%{customdata[0]}<br>reply_count=%{customdata[1]}<extra></extra>",
         "legendgroup": "85%-100%",
         "marker": {
          "color": "#FFA15A",
          "symbol": "circle"
         },
         "mode": "markers",
         "name": "85%-100%",
         "orientation": "v",
         "showlegend": true,
         "type": "scatter",
         "x": {
          "bdata": "AAEAAAAAAAAAAAAAAAAAAAAAAAAAAAAAAAAAAQAA",
          "dtype": "i1"
         },
         "xaxis": "x",
         "y": {
          "bdata": "gxcAAIgXAAALrAAADFkAAB8KAABJAQAACgcAAGwAAAD0AQAAKV8AAHIYAACMAgAAHgwAAGwSAACyAAAAcgYAAF4HAABtCQAAdgAAAP8lAABvBAAA0wYAADsEAAD1AAAAmgEAAKEWAACiAwAA+iAAAM/CAAC6AgAA",
          "dtype": "i4"
         },
         "yaxis": "y"
        },
        {
         "hovertemplate": "<b>OLS trendline</b><br>total_views = 262.964 * total_quotes + 6970.04<br>R<sup>2</sup>=0.000029<br><br>reply_count_category=85%-100%<br>total_quotes=%{x}<br>total_views=%{y} <b>(trend)</b><extra></extra>",
         "legendgroup": "85%-100%",
         "marker": {
          "color": "#FFA15A",
          "symbol": "circle"
         },
         "mode": "lines",
         "name": "85%-100%",
         "showlegend": false,
         "type": "scatter",
         "x": {
          "bdata": "AAAAAAAAAAAAAAAAAAAAAAAAAAAAAAAAAAAAAAEB",
          "dtype": "i1"
         },
         "xaxis": "x",
         "y": {
          "bdata": "JkmSJAk6u0AmSZIkCTq7QCZJkiQJOrtAJkmSJAk6u0AmSZIkCTq7QCZJkiQJOrtAJkmSJAk6u0AmSZIkCTq7QCZJkiQJOrtAJkmSJAk6u0AmSZIkCTq7QCZJkiQJOrtAJkmSJAk6u0AmSZIkCTq7QCZJkiQJOrtAJkmSJAk6u0AmSZIkCTq7QCZJkiQJOrtAJkmSJAk6u0AmSZIkCTq7QCZJkiQJOrtAJkmSJAk6u0AmSZIkCTq7QCZJkiQJOrtAJkmSJAk6u0AmSZIkCTq7QCZJkiQJOrtAJkmSJAk6u0D7/////0C8QPv/////QLxA",
          "dtype": "f8"
         },
         "yaxis": "y"
        }
       ],
       "layout": {
        "height": 800,
        "legend": {
         "title": {
          "text": "reply_count_category"
         },
         "tracegroupgap": 0
        },
        "margin": {
         "t": 60
        },
        "template": {
         "data": {
          "bar": [
           {
            "error_x": {
             "color": "#2a3f5f"
            },
            "error_y": {
             "color": "#2a3f5f"
            },
            "marker": {
             "line": {
              "color": "#E5ECF6",
              "width": 0.5
             },
             "pattern": {
              "fillmode": "overlay",
              "size": 10,
              "solidity": 0.2
             }
            },
            "type": "bar"
           }
          ],
          "barpolar": [
           {
            "marker": {
             "line": {
              "color": "#E5ECF6",
              "width": 0.5
             },
             "pattern": {
              "fillmode": "overlay",
              "size": 10,
              "solidity": 0.2
             }
            },
            "type": "barpolar"
           }
          ],
          "carpet": [
           {
            "aaxis": {
             "endlinecolor": "#2a3f5f",
             "gridcolor": "white",
             "linecolor": "white",
             "minorgridcolor": "white",
             "startlinecolor": "#2a3f5f"
            },
            "baxis": {
             "endlinecolor": "#2a3f5f",
             "gridcolor": "white",
             "linecolor": "white",
             "minorgridcolor": "white",
             "startlinecolor": "#2a3f5f"
            },
            "type": "carpet"
           }
          ],
          "choropleth": [
           {
            "colorbar": {
             "outlinewidth": 0,
             "ticks": ""
            },
            "type": "choropleth"
           }
          ],
          "contour": [
           {
            "colorbar": {
             "outlinewidth": 0,
             "ticks": ""
            },
            "colorscale": [
             [
              0,
              "#0d0887"
             ],
             [
              0.1111111111111111,
              "#46039f"
             ],
             [
              0.2222222222222222,
              "#7201a8"
             ],
             [
              0.3333333333333333,
              "#9c179e"
             ],
             [
              0.4444444444444444,
              "#bd3786"
             ],
             [
              0.5555555555555556,
              "#d8576b"
             ],
             [
              0.6666666666666666,
              "#ed7953"
             ],
             [
              0.7777777777777778,
              "#fb9f3a"
             ],
             [
              0.8888888888888888,
              "#fdca26"
             ],
             [
              1,
              "#f0f921"
             ]
            ],
            "type": "contour"
           }
          ],
          "contourcarpet": [
           {
            "colorbar": {
             "outlinewidth": 0,
             "ticks": ""
            },
            "type": "contourcarpet"
           }
          ],
          "heatmap": [
           {
            "colorbar": {
             "outlinewidth": 0,
             "ticks": ""
            },
            "colorscale": [
             [
              0,
              "#0d0887"
             ],
             [
              0.1111111111111111,
              "#46039f"
             ],
             [
              0.2222222222222222,
              "#7201a8"
             ],
             [
              0.3333333333333333,
              "#9c179e"
             ],
             [
              0.4444444444444444,
              "#bd3786"
             ],
             [
              0.5555555555555556,
              "#d8576b"
             ],
             [
              0.6666666666666666,
              "#ed7953"
             ],
             [
              0.7777777777777778,
              "#fb9f3a"
             ],
             [
              0.8888888888888888,
              "#fdca26"
             ],
             [
              1,
              "#f0f921"
             ]
            ],
            "type": "heatmap"
           }
          ],
          "histogram": [
           {
            "marker": {
             "pattern": {
              "fillmode": "overlay",
              "size": 10,
              "solidity": 0.2
             }
            },
            "type": "histogram"
           }
          ],
          "histogram2d": [
           {
            "colorbar": {
             "outlinewidth": 0,
             "ticks": ""
            },
            "colorscale": [
             [
              0,
              "#0d0887"
             ],
             [
              0.1111111111111111,
              "#46039f"
             ],
             [
              0.2222222222222222,
              "#7201a8"
             ],
             [
              0.3333333333333333,
              "#9c179e"
             ],
             [
              0.4444444444444444,
              "#bd3786"
             ],
             [
              0.5555555555555556,
              "#d8576b"
             ],
             [
              0.6666666666666666,
              "#ed7953"
             ],
             [
              0.7777777777777778,
              "#fb9f3a"
             ],
             [
              0.8888888888888888,
              "#fdca26"
             ],
             [
              1,
              "#f0f921"
             ]
            ],
            "type": "histogram2d"
           }
          ],
          "histogram2dcontour": [
           {
            "colorbar": {
             "outlinewidth": 0,
             "ticks": ""
            },
            "colorscale": [
             [
              0,
              "#0d0887"
             ],
             [
              0.1111111111111111,
              "#46039f"
             ],
             [
              0.2222222222222222,
              "#7201a8"
             ],
             [
              0.3333333333333333,
              "#9c179e"
             ],
             [
              0.4444444444444444,
              "#bd3786"
             ],
             [
              0.5555555555555556,
              "#d8576b"
             ],
             [
              0.6666666666666666,
              "#ed7953"
             ],
             [
              0.7777777777777778,
              "#fb9f3a"
             ],
             [
              0.8888888888888888,
              "#fdca26"
             ],
             [
              1,
              "#f0f921"
             ]
            ],
            "type": "histogram2dcontour"
           }
          ],
          "mesh3d": [
           {
            "colorbar": {
             "outlinewidth": 0,
             "ticks": ""
            },
            "type": "mesh3d"
           }
          ],
          "parcoords": [
           {
            "line": {
             "colorbar": {
              "outlinewidth": 0,
              "ticks": ""
             }
            },
            "type": "parcoords"
           }
          ],
          "pie": [
           {
            "automargin": true,
            "type": "pie"
           }
          ],
          "scatter": [
           {
            "fillpattern": {
             "fillmode": "overlay",
             "size": 10,
             "solidity": 0.2
            },
            "type": "scatter"
           }
          ],
          "scatter3d": [
           {
            "line": {
             "colorbar": {
              "outlinewidth": 0,
              "ticks": ""
             }
            },
            "marker": {
             "colorbar": {
              "outlinewidth": 0,
              "ticks": ""
             }
            },
            "type": "scatter3d"
           }
          ],
          "scattercarpet": [
           {
            "marker": {
             "colorbar": {
              "outlinewidth": 0,
              "ticks": ""
             }
            },
            "type": "scattercarpet"
           }
          ],
          "scattergeo": [
           {
            "marker": {
             "colorbar": {
              "outlinewidth": 0,
              "ticks": ""
             }
            },
            "type": "scattergeo"
           }
          ],
          "scattergl": [
           {
            "marker": {
             "colorbar": {
              "outlinewidth": 0,
              "ticks": ""
             }
            },
            "type": "scattergl"
           }
          ],
          "scattermap": [
           {
            "marker": {
             "colorbar": {
              "outlinewidth": 0,
              "ticks": ""
             }
            },
            "type": "scattermap"
           }
          ],
          "scattermapbox": [
           {
            "marker": {
             "colorbar": {
              "outlinewidth": 0,
              "ticks": ""
             }
            },
            "type": "scattermapbox"
           }
          ],
          "scatterpolar": [
           {
            "marker": {
             "colorbar": {
              "outlinewidth": 0,
              "ticks": ""
             }
            },
            "type": "scatterpolar"
           }
          ],
          "scatterpolargl": [
           {
            "marker": {
             "colorbar": {
              "outlinewidth": 0,
              "ticks": ""
             }
            },
            "type": "scatterpolargl"
           }
          ],
          "scatterternary": [
           {
            "marker": {
             "colorbar": {
              "outlinewidth": 0,
              "ticks": ""
             }
            },
            "type": "scatterternary"
           }
          ],
          "surface": [
           {
            "colorbar": {
             "outlinewidth": 0,
             "ticks": ""
            },
            "colorscale": [
             [
              0,
              "#0d0887"
             ],
             [
              0.1111111111111111,
              "#46039f"
             ],
             [
              0.2222222222222222,
              "#7201a8"
             ],
             [
              0.3333333333333333,
              "#9c179e"
             ],
             [
              0.4444444444444444,
              "#bd3786"
             ],
             [
              0.5555555555555556,
              "#d8576b"
             ],
             [
              0.6666666666666666,
              "#ed7953"
             ],
             [
              0.7777777777777778,
              "#fb9f3a"
             ],
             [
              0.8888888888888888,
              "#fdca26"
             ],
             [
              1,
              "#f0f921"
             ]
            ],
            "type": "surface"
           }
          ],
          "table": [
           {
            "cells": {
             "fill": {
              "color": "#EBF0F8"
             },
             "line": {
              "color": "white"
             }
            },
            "header": {
             "fill": {
              "color": "#C8D4E3"
             },
             "line": {
              "color": "white"
             }
            },
            "type": "table"
           }
          ]
         },
         "layout": {
          "annotationdefaults": {
           "arrowcolor": "#2a3f5f",
           "arrowhead": 0,
           "arrowwidth": 1
          },
          "autotypenumbers": "strict",
          "coloraxis": {
           "colorbar": {
            "outlinewidth": 0,
            "ticks": ""
           }
          },
          "colorscale": {
           "diverging": [
            [
             0,
             "#8e0152"
            ],
            [
             0.1,
             "#c51b7d"
            ],
            [
             0.2,
             "#de77ae"
            ],
            [
             0.3,
             "#f1b6da"
            ],
            [
             0.4,
             "#fde0ef"
            ],
            [
             0.5,
             "#f7f7f7"
            ],
            [
             0.6,
             "#e6f5d0"
            ],
            [
             0.7,
             "#b8e186"
            ],
            [
             0.8,
             "#7fbc41"
            ],
            [
             0.9,
             "#4d9221"
            ],
            [
             1,
             "#276419"
            ]
           ],
           "sequential": [
            [
             0,
             "#0d0887"
            ],
            [
             0.1111111111111111,
             "#46039f"
            ],
            [
             0.2222222222222222,
             "#7201a8"
            ],
            [
             0.3333333333333333,
             "#9c179e"
            ],
            [
             0.4444444444444444,
             "#bd3786"
            ],
            [
             0.5555555555555556,
             "#d8576b"
            ],
            [
             0.6666666666666666,
             "#ed7953"
            ],
            [
             0.7777777777777778,
             "#fb9f3a"
            ],
            [
             0.8888888888888888,
             "#fdca26"
            ],
            [
             1,
             "#f0f921"
            ]
           ],
           "sequentialminus": [
            [
             0,
             "#0d0887"
            ],
            [
             0.1111111111111111,
             "#46039f"
            ],
            [
             0.2222222222222222,
             "#7201a8"
            ],
            [
             0.3333333333333333,
             "#9c179e"
            ],
            [
             0.4444444444444444,
             "#bd3786"
            ],
            [
             0.5555555555555556,
             "#d8576b"
            ],
            [
             0.6666666666666666,
             "#ed7953"
            ],
            [
             0.7777777777777778,
             "#fb9f3a"
            ],
            [
             0.8888888888888888,
             "#fdca26"
            ],
            [
             1,
             "#f0f921"
            ]
           ]
          },
          "colorway": [
           "#636efa",
           "#EF553B",
           "#00cc96",
           "#ab63fa",
           "#FFA15A",
           "#19d3f3",
           "#FF6692",
           "#B6E880",
           "#FF97FF",
           "#FECB52"
          ],
          "font": {
           "color": "#2a3f5f"
          },
          "geo": {
           "bgcolor": "white",
           "lakecolor": "white",
           "landcolor": "#E5ECF6",
           "showlakes": true,
           "showland": true,
           "subunitcolor": "white"
          },
          "hoverlabel": {
           "align": "left"
          },
          "hovermode": "closest",
          "mapbox": {
           "style": "light"
          },
          "paper_bgcolor": "white",
          "plot_bgcolor": "#E5ECF6",
          "polar": {
           "angularaxis": {
            "gridcolor": "white",
            "linecolor": "white",
            "ticks": ""
           },
           "bgcolor": "#E5ECF6",
           "radialaxis": {
            "gridcolor": "white",
            "linecolor": "white",
            "ticks": ""
           }
          },
          "scene": {
           "xaxis": {
            "backgroundcolor": "#E5ECF6",
            "gridcolor": "white",
            "gridwidth": 2,
            "linecolor": "white",
            "showbackground": true,
            "ticks": "",
            "zerolinecolor": "white"
           },
           "yaxis": {
            "backgroundcolor": "#E5ECF6",
            "gridcolor": "white",
            "gridwidth": 2,
            "linecolor": "white",
            "showbackground": true,
            "ticks": "",
            "zerolinecolor": "white"
           },
           "zaxis": {
            "backgroundcolor": "#E5ECF6",
            "gridcolor": "white",
            "gridwidth": 2,
            "linecolor": "white",
            "showbackground": true,
            "ticks": "",
            "zerolinecolor": "white"
           }
          },
          "shapedefaults": {
           "line": {
            "color": "#2a3f5f"
           }
          },
          "ternary": {
           "aaxis": {
            "gridcolor": "white",
            "linecolor": "white",
            "ticks": ""
           },
           "baxis": {
            "gridcolor": "white",
            "linecolor": "white",
            "ticks": ""
           },
           "bgcolor": "#E5ECF6",
           "caxis": {
            "gridcolor": "white",
            "linecolor": "white",
            "ticks": ""
           }
          },
          "title": {
           "x": 0.05
          },
          "xaxis": {
           "automargin": true,
           "gridcolor": "white",
           "linecolor": "white",
           "ticks": "",
           "title": {
            "standoff": 15
           },
           "zerolinecolor": "white",
           "zerolinewidth": 2
          },
          "yaxis": {
           "automargin": true,
           "gridcolor": "white",
           "linecolor": "white",
           "ticks": "",
           "title": {
            "standoff": 15
           },
           "zerolinecolor": "white",
           "zerolinewidth": 2
          }
         }
        },
        "xaxis": {
         "anchor": "y",
         "domain": [
          0,
          1
         ],
         "title": {
          "text": "total_quotes"
         }
        },
        "yaxis": {
         "anchor": "x",
         "domain": [
          0,
          1
         ],
         "title": {
          "text": "total_views"
         },
         "type": "log"
        }
       }
      }
     },
     "metadata": {},
     "output_type": "display_data"
    },
    {
     "data": {
      "application/vnd.plotly.v1+json": {
       "config": {
        "plotlyServerURL": "https://plot.ly"
       },
       "data": [
        {
         "customdata": [
          [
           "_AashishReddy",
           37
          ]
         ],
         "hovertemplate": "reply_count_category=Top-10%<br>total_bookmarks=%{x}<br>total_views=%{y}<br>inReplyToUsername=%{customdata[0]}<br>reply_count=%{customdata[1]}<extra></extra>",
         "legendgroup": "Top-10%",
         "marker": {
          "color": "#636efa",
          "symbol": "circle"
         },
         "mode": "markers",
         "name": "Top-10%",
         "orientation": "v",
         "showlegend": true,
         "type": "scatter",
         "x": {
          "bdata": "Tw==",
          "dtype": "i1"
         },
         "xaxis": "x",
         "y": {
          "bdata": "v+cAAA==",
          "dtype": "i4"
         },
         "yaxis": "y"
        },
        {
         "hovertemplate": "reply_count_category=Top-10%<extra></extra>",
         "legendgroup": "Top-10%",
         "marker": {
          "color": "#636efa",
          "symbol": "circle"
         },
         "mode": "lines",
         "name": "Top-10%",
         "showlegend": false,
         "type": "scatter",
         "xaxis": "x",
         "yaxis": "y"
        },
        {
         "customdata": [
          [
           "Abel_summation",
           32
          ],
          [
           "oxbquant",
           32
          ],
          [
           "TenreiroDaniel",
           11
          ]
         ],
         "hovertemplate": "reply_count_category=10%-30%<br>total_bookmarks=%{x}<br>total_views=%{y}<br>inReplyToUsername=%{customdata[0]}<br>reply_count=%{customdata[1]}<extra></extra>",
         "legendgroup": "10%-30%",
         "marker": {
          "color": "#EF553B",
          "symbol": "circle"
         },
         "mode": "markers",
         "name": "10%-30%",
         "orientation": "v",
         "showlegend": true,
         "type": "scatter",
         "x": {
          "bdata": "Tj0d",
          "dtype": "i1"
         },
         "xaxis": "x",
         "y": {
          "bdata": "2IwAABJzAABBOgAA",
          "dtype": "i4"
         },
         "yaxis": "y"
        },
        {
         "hovertemplate": "<b>OLS trendline</b><br>total_views = 434.468 * total_bookmarks + 2478.81<br>R<sup>2</sup>=0.998498<br><br>reply_count_category=10%-30%<br>total_bookmarks=%{x}<br>total_views=%{y} <b>(trend)</b><extra></extra>",
         "legendgroup": "10%-30%",
         "marker": {
          "color": "#EF553B",
          "symbol": "circle"
         },
         "mode": "lines",
         "name": "10%-30%",
         "showlegend": false,
         "type": "scatter",
         "x": {
          "bdata": "HT1O",
          "dtype": "i1"
         },
         "xaxis": "x",
         "y": {
          "bdata": "wTX6qS9zzUBGdiapVU3cQGo37kDpweFA",
          "dtype": "f8"
         },
         "yaxis": "y"
        },
        {
         "customdata": [
          [
           "zephyr_z9",
           10
          ],
          [
           "thermo2ndlaw",
           9
          ],
          [
           "teortaxesTex",
           9
          ],
          [
           "LandsharkRides",
           8
          ],
          [
           "jacobrintamaki",
           6
          ],
          [
           "BasedBeffJezos",
           6
          ],
          [
           "norpadon",
           5
          ],
          [
           "scheminglunatic",
           5
          ],
          [
           "4confusedemoji",
           5
          ],
          [
           "TrustInFutures",
           5
          ],
          [
           "W98AB",
           5
          ],
          [
           "bubblebabyboi",
           5
          ],
          [
           "halogen1048576",
           5
          ],
          [
           "brickroad7",
           5
          ],
          [
           "riversposting",
           4
          ],
          [
           "mikeofpol",
           4
          ],
          [
           "lanadunhamcel",
           4
          ],
          [
           "lucky_strikes_x",
           4
          ],
          [
           "matthew_pines",
           4
          ],
          [
           "goodalexander",
           4
          ],
          [
           "abcampbell",
           4
          ],
          [
           "f4talStrategies",
           4
          ],
          [
           "TheStalwart",
           4
          ],
          [
           "1bharadvaja",
           4
          ]
         ],
         "hovertemplate": "reply_count_category=30%-60%<br>total_bookmarks=%{x}<br>total_views=%{y}<br>inReplyToUsername=%{customdata[0]}<br>reply_count=%{customdata[1]}<extra></extra>",
         "legendgroup": "30%-60%",
         "marker": {
          "color": "#00cc96",
          "symbol": "circle"
         },
         "mode": "markers",
         "name": "30%-60%",
         "orientation": "v",
         "showlegend": true,
         "type": "scatter",
         "x": {
          "bdata": "HwoQCAgPBQUHGBYMBgYEBQYFBRgGBQkE",
          "dtype": "i1"
         },
         "xaxis": "x",
         "y": {
          "bdata": "BQ8AAM0aAACUKQAA/hEAAEUHAACTVgEAGQMAAE4FAACuCAAA9B4CAHYoAABrjwAAdw8AAD0NAAAGBgAA7AIAABwGAAD7CAAAgwUAAMQ6AQD/CAAAgA8AAMEYAADRCAAA",
          "dtype": "i4"
         },
         "yaxis": "y"
        },
        {
         "hovertemplate": "<b>OLS trendline</b><br>total_views = 2657.3 * total_bookmarks + -10112.4<br>R<sup>2</sup>=0.338155<br><br>reply_count_category=30%-60%<br>total_bookmarks=%{x}<br>total_views=%{y} <b>(trend)</b><extra></extra>",
         "legendgroup": "30%-60%",
         "marker": {
          "color": "#00cc96",
          "symbol": "circle"
         },
         "mode": "lines",
         "name": "30%-60%",
         "showlegend": false,
         "type": "scatter",
         "x": {
          "bdata": "BAQFBQUFBQUGBgYGBwgICQoMDxAWGBgf",
          "dtype": "i1"
         },
         "xaxis": "x",
         "y": {
          "bdata": "gH5Fw+EmgECAfkXD4SaAQJA15pRUzKhAkDXmlFTMqECQNeaUVMyoQJA15pRUzKhAkDXmlFTMqECQNeaUVMyoQMKFfVx4x7ZAwoV9XHjHtkDChX1ceMe2QMKFfVx4x7ZAXvhDN2OUwEDaLUlACsXFQNotSUAKxcVAVmNOSbH1ykBpzCkpLBPQQOYBLzLTQ9VAIdK2v80M3UDfbDlEIaXfQKqGpC+Lm+dAaCEntN4z6kBoISe03jPqQIEf+IGBpPFA",
          "dtype": "f8"
         },
         "yaxis": "y"
        },
        {
         "customdata": [
          [
           "30SergioMisal",
           3
          ],
          [
           "trollshevik88",
           3
          ],
          [
           "SebastianShemi",
           3
          ],
          [
           "SamoBurja",
           3
          ],
          [
           "PancakesKing1",
           3
          ],
          [
           "OPRXBT",
           3
          ],
          [
           "MazenJalloul",
           3
          ],
          [
           "StewartalsopIII",
           3
          ],
          [
           "elocinationn",
           3
          ],
          [
           "ssphinxe",
           3
          ],
          [
           "DaniloMenshikov",
           3
          ],
          [
           "markvalorian",
           3
          ],
          [
           "hhoho_haha81464",
           3
          ],
          [
           "helscom",
           3
          ],
          [
           "hallerite",
           3
          ],
          [
           "springofarete",
           3
          ],
          [
           "0x49fa98",
           3
          ],
          [
           "thiccyth0t",
           3
          ],
          [
           "Johnny2Fingersz",
           2
          ],
          [
           "brunellaism",
           2
          ],
          [
           "e_virdfr",
           2
          ],
          [
           "dystopiangf",
           2
          ],
          [
           "JamesSurowiecki",
           2
          ],
          [
           "RokoMijic",
           2
          ],
          [
           "Jacob_Hornstein",
           2
          ],
          [
           "tszzl",
           2
          ],
          [
           "Soul0Engineer",
           2
          ],
          [
           "7uomoki",
           2
          ],
          [
           "AnglesonNorman",
           2
          ],
          [
           "AndreiCroitor",
           2
          ],
          [
           "2raiseto00",
           2
          ],
          [
           "awake62978576",
           2
          ],
          [
           "KinderheimRune",
           2
          ],
          [
           "lucian___11",
           2
          ],
          [
           "nelvOfficial",
           2
          ],
          [
           "panickssery",
           2
          ],
          [
           "redaction",
           2
          ],
          [
           "schisofrenia",
           2
          ],
          [
           "radshaan",
           2
          ],
          [
           "BayesedThinker",
           2
          ],
          [
           "Bonecondor",
           2
          ]
         ],
         "hovertemplate": "reply_count_category=60%-85%<br>total_bookmarks=%{x}<br>total_views=%{y}<br>inReplyToUsername=%{customdata[0]}<br>reply_count=%{customdata[1]}<extra></extra>",
         "legendgroup": "60%-85%",
         "marker": {
          "color": "#ab63fa",
          "symbol": "circle"
         },
         "mode": "markers",
         "name": "60%-85%",
         "orientation": "v",
         "showlegend": true,
         "type": "scatter",
         "x": {
          "bdata": "AgQDCAUCAwIHCAgGQgYHAwUGBAQCBgVNAQIEAgYFAgIIBwIGBwMCAgI=",
          "dtype": "i1"
         },
         "xaxis": "x",
         "y": {
          "bdata": "GwkAAJkIAADxAwAAjhEAAJkBAADzBAAASwkAANsAAACsAwAA6BIAAIAQAABHEAAApeABANsPAABOCQAAkxAAAN0HAAAqEgAAWQoAAMMNAACXBgAAHQoAAGsDAADsqQAAaQEAADUGAAAfCAAAhgEAAFUIAAAjEQAAfQ4AAKcEAABcDgAATBAAAKcFAACnCAAAXgsAAJgDAABBAQAAOgEAALAHAAA=",
          "dtype": "i4"
         },
         "yaxis": "y"
        },
        {
         "hovertemplate": "<b>OLS trendline</b><br>total_views = 1130.5 * total_bookmarks + -2322.94<br>R<sup>2</sup>=0.718300<br><br>reply_count_category=60%-85%<br>total_bookmarks=%{x}<br>total_views=%{y} <b>(trend)</b><extra></extra>",
         "legendgroup": "60%-85%",
         "marker": {
          "color": "#ab63fa",
          "symbol": "circle"
         },
         "mode": "lines",
         "name": "60%-85%",
         "showlegend": false,
         "type": "scatter",
         "x": {
          "bdata": "AQICAgICAgICAgICAgMDAwMEBAQEBQUFBQYGBgYGBgcHBwcICAgIQk0=",
          "dtype": "i1"
         },
         "xaxis": "x",
         "y": {
          "bdata": "/+VDMruhksDACEW5z/ZOwMAIRbnP9k7AwAhFuc/2TsDACEW5z/ZOwMAIRbnP9k7AwAhFuc/2TsDACEW5z/ZOwMAIRbnP9k7AwAhFuc/2TsDACEW5z/ZOwMAIRbnP9k7AwAhFuc/2TsB0la82TrKQQHSVrzZOspBAdJWvNk6ykEB0la82TrKQQJaplHUpLqFAlqmUdSkuoUCWqZR1KS6hQJaplHUpLqFAcojRzysDqkByiNHPKwOqQHKI0c8rA6pAcojRzysDqkCoMwcVF2yxQKgzBxUXbLFAqDMHFRdssUCoMwcVF2yxQKgzBxUXbLFAqDMHFRdssUAWoyVCmNa1QBajJUKY1rVAFqMlQpjWtUAWoyVCmNa1QIQSRG8ZQbpAhBJEbxlBukCEEkRvGUG6QIQSRG8ZQbpAGJWC2iWm8UC0gYepXq/0QA==",
          "dtype": "f8"
         },
         "yaxis": "y"
        },
        {
         "customdata": [
          [
           "theojaffee",
           2
          ],
          [
           "tafphorisms",
           2
          ],
          [
           "Antonio86170786",
           2
          ],
          [
           "BackPedaling112",
           2
          ],
          [
           "skipthedeck",
           2
          ],
          [
           "rudbytorector",
           2
          ],
          [
           "gettyimagepsyop",
           2
          ],
          [
           "gentle_class7",
           2
          ],
          [
           "hibiscuslotus25",
           2
          ],
          [
           "ilfascisto",
           2
          ],
          [
           "presentlyMihai",
           2
          ],
          [
           "providenceluvr",
           2
          ],
          [
           "joshqharris",
           2
          ],
          [
           "ErgodicTrace",
           2
          ],
          [
           "_vonarchimboldi",
           2
          ],
          [
           "based16z",
           2
          ],
          [
           "bayeslord",
           2
          ],
          [
           "basedcone",
           2
          ],
          [
           "Xilo_K",
           2
          ],
          [
           "andocracy",
           2
          ],
          [
           "VictoryOdes",
           2
          ],
          [
           "0xPajke",
           2
          ],
          [
           "grok",
           2
          ],
          [
           "larrystavrogin",
           2
          ],
          [
           "ClosedFormJest",
           2
          ],
          [
           "supersnowxbt",
           2
          ],
          [
           "youngtroon",
           2
          ],
          [
           "zmo_zeemo",
           2
          ],
          [
           "xlr8harder",
           2
          ],
          [
           "teodor_io",
           2
          ]
         ],
         "hovertemplate": "reply_count_category=85%-100%<br>total_bookmarks=%{x}<br>total_views=%{y}<br>inReplyToUsername=%{customdata[0]}<br>reply_count=%{customdata[1]}<extra></extra>",
         "legendgroup": "85%-100%",
         "marker": {
          "color": "#FFA15A",
          "symbol": "circle"
         },
         "mode": "markers",
         "name": "85%-100%",
         "orientation": "v",
         "showlegend": true,
         "type": "scatter",
         "x": {
          "bdata": "HAMMEAMCAgIEGQQDBSgEAwMCAgYBBQIBAwUDCAoD",
          "dtype": "i1"
         },
         "xaxis": "x",
         "y": {
          "bdata": "gxcAAIgXAAALrAAADFkAAB8KAABJAQAACgcAAGwAAAD0AQAAKV8AAHIYAACMAgAAHgwAAGwSAACyAAAAcgYAAF4HAABtCQAAdgAAAP8lAABvBAAA0wYAADsEAAD1AAAAmgEAAKEWAACiAwAA+iAAAM/CAAC6AgAA",
          "dtype": "i4"
         },
         "yaxis": "y"
        },
        {
         "hovertemplate": "<b>OLS trendline</b><br>total_views = 489.505 * total_bookmarks + 3561.03<br>R<sup>2</sup>=0.127128<br><br>reply_count_category=85%-100%<br>total_bookmarks=%{x}<br>total_views=%{y} <b>(trend)</b><extra></extra>",
         "legendgroup": "85%-100%",
         "marker": {
          "color": "#FFA15A",
          "symbol": "circle"
         },
         "mode": "lines",
         "name": "85%-100%",
         "showlegend": false,
         "type": "scatter",
         "x": {
          "bdata": "AQECAgICAgIDAwMDAwMDAwQEBAUFBQYICgwQGRwo",
          "dtype": "i1"
         },
         "xaxis": "x",
         "y": {
          "bdata": "x3mP0BOlr0DHeY/QE6WvQECgvhkLvLFAQKC+GQu8sUBAoL4ZC7yxQECgvhkLvLFAQKC+GQu8sUBAoL4ZC7yxQJ6DNUuMpbNAnoM1S4yls0CegzVLjKWzQJ6DNUuMpbNAnoM1S4yls0CegzVLjKWzQJ6DNUuMpbNAnoM1S4yls0D6Zqx8DY+1QPpmrHwNj7VA+masfA2PtUBYSiOujni3QFhKI66OeLdAWEojro54t0C0LZrfD2K5QG70h0ISNb1AlN26UgqEwEDxwDGEi23CQKuHH+eNQMZAzYa2RVPbzkDtbfSHytzQQAQYWRxOmdZA",
          "dtype": "f8"
         },
         "yaxis": "y"
        }
       ],
       "layout": {
        "height": 800,
        "legend": {
         "title": {
          "text": "reply_count_category"
         },
         "tracegroupgap": 0
        },
        "margin": {
         "t": 60
        },
        "template": {
         "data": {
          "bar": [
           {
            "error_x": {
             "color": "#2a3f5f"
            },
            "error_y": {
             "color": "#2a3f5f"
            },
            "marker": {
             "line": {
              "color": "#E5ECF6",
              "width": 0.5
             },
             "pattern": {
              "fillmode": "overlay",
              "size": 10,
              "solidity": 0.2
             }
            },
            "type": "bar"
           }
          ],
          "barpolar": [
           {
            "marker": {
             "line": {
              "color": "#E5ECF6",
              "width": 0.5
             },
             "pattern": {
              "fillmode": "overlay",
              "size": 10,
              "solidity": 0.2
             }
            },
            "type": "barpolar"
           }
          ],
          "carpet": [
           {
            "aaxis": {
             "endlinecolor": "#2a3f5f",
             "gridcolor": "white",
             "linecolor": "white",
             "minorgridcolor": "white",
             "startlinecolor": "#2a3f5f"
            },
            "baxis": {
             "endlinecolor": "#2a3f5f",
             "gridcolor": "white",
             "linecolor": "white",
             "minorgridcolor": "white",
             "startlinecolor": "#2a3f5f"
            },
            "type": "carpet"
           }
          ],
          "choropleth": [
           {
            "colorbar": {
             "outlinewidth": 0,
             "ticks": ""
            },
            "type": "choropleth"
           }
          ],
          "contour": [
           {
            "colorbar": {
             "outlinewidth": 0,
             "ticks": ""
            },
            "colorscale": [
             [
              0,
              "#0d0887"
             ],
             [
              0.1111111111111111,
              "#46039f"
             ],
             [
              0.2222222222222222,
              "#7201a8"
             ],
             [
              0.3333333333333333,
              "#9c179e"
             ],
             [
              0.4444444444444444,
              "#bd3786"
             ],
             [
              0.5555555555555556,
              "#d8576b"
             ],
             [
              0.6666666666666666,
              "#ed7953"
             ],
             [
              0.7777777777777778,
              "#fb9f3a"
             ],
             [
              0.8888888888888888,
              "#fdca26"
             ],
             [
              1,
              "#f0f921"
             ]
            ],
            "type": "contour"
           }
          ],
          "contourcarpet": [
           {
            "colorbar": {
             "outlinewidth": 0,
             "ticks": ""
            },
            "type": "contourcarpet"
           }
          ],
          "heatmap": [
           {
            "colorbar": {
             "outlinewidth": 0,
             "ticks": ""
            },
            "colorscale": [
             [
              0,
              "#0d0887"
             ],
             [
              0.1111111111111111,
              "#46039f"
             ],
             [
              0.2222222222222222,
              "#7201a8"
             ],
             [
              0.3333333333333333,
              "#9c179e"
             ],
             [
              0.4444444444444444,
              "#bd3786"
             ],
             [
              0.5555555555555556,
              "#d8576b"
             ],
             [
              0.6666666666666666,
              "#ed7953"
             ],
             [
              0.7777777777777778,
              "#fb9f3a"
             ],
             [
              0.8888888888888888,
              "#fdca26"
             ],
             [
              1,
              "#f0f921"
             ]
            ],
            "type": "heatmap"
           }
          ],
          "histogram": [
           {
            "marker": {
             "pattern": {
              "fillmode": "overlay",
              "size": 10,
              "solidity": 0.2
             }
            },
            "type": "histogram"
           }
          ],
          "histogram2d": [
           {
            "colorbar": {
             "outlinewidth": 0,
             "ticks": ""
            },
            "colorscale": [
             [
              0,
              "#0d0887"
             ],
             [
              0.1111111111111111,
              "#46039f"
             ],
             [
              0.2222222222222222,
              "#7201a8"
             ],
             [
              0.3333333333333333,
              "#9c179e"
             ],
             [
              0.4444444444444444,
              "#bd3786"
             ],
             [
              0.5555555555555556,
              "#d8576b"
             ],
             [
              0.6666666666666666,
              "#ed7953"
             ],
             [
              0.7777777777777778,
              "#fb9f3a"
             ],
             [
              0.8888888888888888,
              "#fdca26"
             ],
             [
              1,
              "#f0f921"
             ]
            ],
            "type": "histogram2d"
           }
          ],
          "histogram2dcontour": [
           {
            "colorbar": {
             "outlinewidth": 0,
             "ticks": ""
            },
            "colorscale": [
             [
              0,
              "#0d0887"
             ],
             [
              0.1111111111111111,
              "#46039f"
             ],
             [
              0.2222222222222222,
              "#7201a8"
             ],
             [
              0.3333333333333333,
              "#9c179e"
             ],
             [
              0.4444444444444444,
              "#bd3786"
             ],
             [
              0.5555555555555556,
              "#d8576b"
             ],
             [
              0.6666666666666666,
              "#ed7953"
             ],
             [
              0.7777777777777778,
              "#fb9f3a"
             ],
             [
              0.8888888888888888,
              "#fdca26"
             ],
             [
              1,
              "#f0f921"
             ]
            ],
            "type": "histogram2dcontour"
           }
          ],
          "mesh3d": [
           {
            "colorbar": {
             "outlinewidth": 0,
             "ticks": ""
            },
            "type": "mesh3d"
           }
          ],
          "parcoords": [
           {
            "line": {
             "colorbar": {
              "outlinewidth": 0,
              "ticks": ""
             }
            },
            "type": "parcoords"
           }
          ],
          "pie": [
           {
            "automargin": true,
            "type": "pie"
           }
          ],
          "scatter": [
           {
            "fillpattern": {
             "fillmode": "overlay",
             "size": 10,
             "solidity": 0.2
            },
            "type": "scatter"
           }
          ],
          "scatter3d": [
           {
            "line": {
             "colorbar": {
              "outlinewidth": 0,
              "ticks": ""
             }
            },
            "marker": {
             "colorbar": {
              "outlinewidth": 0,
              "ticks": ""
             }
            },
            "type": "scatter3d"
           }
          ],
          "scattercarpet": [
           {
            "marker": {
             "colorbar": {
              "outlinewidth": 0,
              "ticks": ""
             }
            },
            "type": "scattercarpet"
           }
          ],
          "scattergeo": [
           {
            "marker": {
             "colorbar": {
              "outlinewidth": 0,
              "ticks": ""
             }
            },
            "type": "scattergeo"
           }
          ],
          "scattergl": [
           {
            "marker": {
             "colorbar": {
              "outlinewidth": 0,
              "ticks": ""
             }
            },
            "type": "scattergl"
           }
          ],
          "scattermap": [
           {
            "marker": {
             "colorbar": {
              "outlinewidth": 0,
              "ticks": ""
             }
            },
            "type": "scattermap"
           }
          ],
          "scattermapbox": [
           {
            "marker": {
             "colorbar": {
              "outlinewidth": 0,
              "ticks": ""
             }
            },
            "type": "scattermapbox"
           }
          ],
          "scatterpolar": [
           {
            "marker": {
             "colorbar": {
              "outlinewidth": 0,
              "ticks": ""
             }
            },
            "type": "scatterpolar"
           }
          ],
          "scatterpolargl": [
           {
            "marker": {
             "colorbar": {
              "outlinewidth": 0,
              "ticks": ""
             }
            },
            "type": "scatterpolargl"
           }
          ],
          "scatterternary": [
           {
            "marker": {
             "colorbar": {
              "outlinewidth": 0,
              "ticks": ""
             }
            },
            "type": "scatterternary"
           }
          ],
          "surface": [
           {
            "colorbar": {
             "outlinewidth": 0,
             "ticks": ""
            },
            "colorscale": [
             [
              0,
              "#0d0887"
             ],
             [
              0.1111111111111111,
              "#46039f"
             ],
             [
              0.2222222222222222,
              "#7201a8"
             ],
             [
              0.3333333333333333,
              "#9c179e"
             ],
             [
              0.4444444444444444,
              "#bd3786"
             ],
             [
              0.5555555555555556,
              "#d8576b"
             ],
             [
              0.6666666666666666,
              "#ed7953"
             ],
             [
              0.7777777777777778,
              "#fb9f3a"
             ],
             [
              0.8888888888888888,
              "#fdca26"
             ],
             [
              1,
              "#f0f921"
             ]
            ],
            "type": "surface"
           }
          ],
          "table": [
           {
            "cells": {
             "fill": {
              "color": "#EBF0F8"
             },
             "line": {
              "color": "white"
             }
            },
            "header": {
             "fill": {
              "color": "#C8D4E3"
             },
             "line": {
              "color": "white"
             }
            },
            "type": "table"
           }
          ]
         },
         "layout": {
          "annotationdefaults": {
           "arrowcolor": "#2a3f5f",
           "arrowhead": 0,
           "arrowwidth": 1
          },
          "autotypenumbers": "strict",
          "coloraxis": {
           "colorbar": {
            "outlinewidth": 0,
            "ticks": ""
           }
          },
          "colorscale": {
           "diverging": [
            [
             0,
             "#8e0152"
            ],
            [
             0.1,
             "#c51b7d"
            ],
            [
             0.2,
             "#de77ae"
            ],
            [
             0.3,
             "#f1b6da"
            ],
            [
             0.4,
             "#fde0ef"
            ],
            [
             0.5,
             "#f7f7f7"
            ],
            [
             0.6,
             "#e6f5d0"
            ],
            [
             0.7,
             "#b8e186"
            ],
            [
             0.8,
             "#7fbc41"
            ],
            [
             0.9,
             "#4d9221"
            ],
            [
             1,
             "#276419"
            ]
           ],
           "sequential": [
            [
             0,
             "#0d0887"
            ],
            [
             0.1111111111111111,
             "#46039f"
            ],
            [
             0.2222222222222222,
             "#7201a8"
            ],
            [
             0.3333333333333333,
             "#9c179e"
            ],
            [
             0.4444444444444444,
             "#bd3786"
            ],
            [
             0.5555555555555556,
             "#d8576b"
            ],
            [
             0.6666666666666666,
             "#ed7953"
            ],
            [
             0.7777777777777778,
             "#fb9f3a"
            ],
            [
             0.8888888888888888,
             "#fdca26"
            ],
            [
             1,
             "#f0f921"
            ]
           ],
           "sequentialminus": [
            [
             0,
             "#0d0887"
            ],
            [
             0.1111111111111111,
             "#46039f"
            ],
            [
             0.2222222222222222,
             "#7201a8"
            ],
            [
             0.3333333333333333,
             "#9c179e"
            ],
            [
             0.4444444444444444,
             "#bd3786"
            ],
            [
             0.5555555555555556,
             "#d8576b"
            ],
            [
             0.6666666666666666,
             "#ed7953"
            ],
            [
             0.7777777777777778,
             "#fb9f3a"
            ],
            [
             0.8888888888888888,
             "#fdca26"
            ],
            [
             1,
             "#f0f921"
            ]
           ]
          },
          "colorway": [
           "#636efa",
           "#EF553B",
           "#00cc96",
           "#ab63fa",
           "#FFA15A",
           "#19d3f3",
           "#FF6692",
           "#B6E880",
           "#FF97FF",
           "#FECB52"
          ],
          "font": {
           "color": "#2a3f5f"
          },
          "geo": {
           "bgcolor": "white",
           "lakecolor": "white",
           "landcolor": "#E5ECF6",
           "showlakes": true,
           "showland": true,
           "subunitcolor": "white"
          },
          "hoverlabel": {
           "align": "left"
          },
          "hovermode": "closest",
          "mapbox": {
           "style": "light"
          },
          "paper_bgcolor": "white",
          "plot_bgcolor": "#E5ECF6",
          "polar": {
           "angularaxis": {
            "gridcolor": "white",
            "linecolor": "white",
            "ticks": ""
           },
           "bgcolor": "#E5ECF6",
           "radialaxis": {
            "gridcolor": "white",
            "linecolor": "white",
            "ticks": ""
           }
          },
          "scene": {
           "xaxis": {
            "backgroundcolor": "#E5ECF6",
            "gridcolor": "white",
            "gridwidth": 2,
            "linecolor": "white",
            "showbackground": true,
            "ticks": "",
            "zerolinecolor": "white"
           },
           "yaxis": {
            "backgroundcolor": "#E5ECF6",
            "gridcolor": "white",
            "gridwidth": 2,
            "linecolor": "white",
            "showbackground": true,
            "ticks": "",
            "zerolinecolor": "white"
           },
           "zaxis": {
            "backgroundcolor": "#E5ECF6",
            "gridcolor": "white",
            "gridwidth": 2,
            "linecolor": "white",
            "showbackground": true,
            "ticks": "",
            "zerolinecolor": "white"
           }
          },
          "shapedefaults": {
           "line": {
            "color": "#2a3f5f"
           }
          },
          "ternary": {
           "aaxis": {
            "gridcolor": "white",
            "linecolor": "white",
            "ticks": ""
           },
           "baxis": {
            "gridcolor": "white",
            "linecolor": "white",
            "ticks": ""
           },
           "bgcolor": "#E5ECF6",
           "caxis": {
            "gridcolor": "white",
            "linecolor": "white",
            "ticks": ""
           }
          },
          "title": {
           "x": 0.05
          },
          "xaxis": {
           "automargin": true,
           "gridcolor": "white",
           "linecolor": "white",
           "ticks": "",
           "title": {
            "standoff": 15
           },
           "zerolinecolor": "white",
           "zerolinewidth": 2
          },
          "yaxis": {
           "automargin": true,
           "gridcolor": "white",
           "linecolor": "white",
           "ticks": "",
           "title": {
            "standoff": 15
           },
           "zerolinecolor": "white",
           "zerolinewidth": 2
          }
         }
        },
        "xaxis": {
         "anchor": "y",
         "domain": [
          0,
          1
         ],
         "title": {
          "text": "total_bookmarks"
         }
        },
        "yaxis": {
         "anchor": "x",
         "domain": [
          0,
          1
         ],
         "title": {
          "text": "total_views"
         },
         "type": "log"
        }
       }
      }
     },
     "metadata": {},
     "output_type": "display_data"
    }
   ],
   "source": [
    "for col in metrics:\n",
    "    if col == target_col:\n",
    "        continue\n",
    "    fig = px.scatter(\n",
    "        t2,\n",
    "        x=col,\n",
    "        y=target_col,\n",
    "        color=f'{quantile_col}_category',\n",
    "        hover_data=['inReplyToUsername', quantile_col, target_col],\n",
    "        trendline='ols',\n",
    "        # log_x=True,\n",
    "        log_y=True,\n",
    "    )\n",
    "    fig.update_layout(\n",
    "        height=800,\n",
    "        # width=400\n",
    "    )\n",
    "    fig.show()"
   ]
  },
  {
   "cell_type": "code",
   "execution_count": null,
   "id": "31a57bc3",
   "metadata": {},
   "outputs": [],
   "source": []
  }
 ],
 "metadata": {
  "kernelspec": {
   "display_name": ".venv",
   "language": "python",
   "name": "python3"
  },
  "language_info": {
   "codemirror_mode": {
    "name": "ipython",
    "version": 3
   },
   "file_extension": ".py",
   "mimetype": "text/x-python",
   "name": "python",
   "nbconvert_exporter": "python",
   "pygments_lexer": "ipython3",
   "version": "3.11.13"
  }
 },
 "nbformat": 4,
 "nbformat_minor": 5
}
